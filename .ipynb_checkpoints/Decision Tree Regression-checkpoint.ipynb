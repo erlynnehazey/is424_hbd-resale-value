{
 "cells": [
  {
   "cell_type": "code",
   "execution_count": 69,
   "id": "5e9b154a",
   "metadata": {},
   "outputs": [],
   "source": [
    "# import packages\n",
    "import numpy as np\n",
    "import pandas as pd\n",
    "\n",
    "from sklearn.model_selection import train_test_split \n",
    "from sklearn.linear_model import LogisticRegression\n",
    "from sklearn.tree import DecisionTreeClassifier\n",
    "\n",
    "from sklearn import metrics\n",
    "from sklearn.metrics import accuracy_score\n",
    "\n",
    "import matplotlib.pyplot as plt\n",
    "import seaborn as sns"
   ]
  },
  {
   "cell_type": "code",
   "execution_count": 70,
   "id": "5b16abf0",
   "metadata": {},
   "outputs": [
    {
     "data": {
      "text/html": [
       "<div>\n",
       "<style scoped>\n",
       "    .dataframe tbody tr th:only-of-type {\n",
       "        vertical-align: middle;\n",
       "    }\n",
       "\n",
       "    .dataframe tbody tr th {\n",
       "        vertical-align: top;\n",
       "    }\n",
       "\n",
       "    .dataframe thead th {\n",
       "        text-align: right;\n",
       "    }\n",
       "</style>\n",
       "<table border=\"1\" class=\"dataframe\">\n",
       "  <thead>\n",
       "    <tr style=\"text-align: right;\">\n",
       "      <th></th>\n",
       "      <th>storey_range</th>\n",
       "      <th>floor_area_sqm</th>\n",
       "      <th>no.of bto</th>\n",
       "      <th>resale application</th>\n",
       "      <th>remaining_lease_months</th>\n",
       "      <th>Distance to nearest MRT</th>\n",
       "      <th>Distance to CBD</th>\n",
       "      <th>isMatureEstate</th>\n",
       "      <th>cpi_adjusted_price_per_sqm</th>\n",
       "    </tr>\n",
       "  </thead>\n",
       "  <tbody>\n",
       "    <tr>\n",
       "      <th>0</th>\n",
       "      <td>0.0625</td>\n",
       "      <td>0.114583</td>\n",
       "      <td>0.0</td>\n",
       "      <td>0.0</td>\n",
       "      <td>0.229833</td>\n",
       "      <td>0.242702</td>\n",
       "      <td>0.377101</td>\n",
       "      <td>1.0</td>\n",
       "      <td>0.113027</td>\n",
       "    </tr>\n",
       "    <tr>\n",
       "      <th>1</th>\n",
       "      <td>0.3750</td>\n",
       "      <td>0.098958</td>\n",
       "      <td>0.0</td>\n",
       "      <td>0.0</td>\n",
       "      <td>0.888889</td>\n",
       "      <td>0.181339</td>\n",
       "      <td>0.376605</td>\n",
       "      <td>1.0</td>\n",
       "      <td>0.339299</td>\n",
       "    </tr>\n",
       "    <tr>\n",
       "      <th>2</th>\n",
       "      <td>0.0000</td>\n",
       "      <td>0.114583</td>\n",
       "      <td>0.0</td>\n",
       "      <td>0.0</td>\n",
       "      <td>0.243531</td>\n",
       "      <td>0.153615</td>\n",
       "      <td>0.373691</td>\n",
       "      <td>1.0</td>\n",
       "      <td>0.077851</td>\n",
       "    </tr>\n",
       "    <tr>\n",
       "      <th>3</th>\n",
       "      <td>0.0625</td>\n",
       "      <td>0.114583</td>\n",
       "      <td>0.0</td>\n",
       "      <td>0.0</td>\n",
       "      <td>0.223744</td>\n",
       "      <td>0.212727</td>\n",
       "      <td>0.381423</td>\n",
       "      <td>1.0</td>\n",
       "      <td>0.128102</td>\n",
       "    </tr>\n",
       "    <tr>\n",
       "      <th>4</th>\n",
       "      <td>0.1250</td>\n",
       "      <td>0.088542</td>\n",
       "      <td>0.0</td>\n",
       "      <td>0.0</td>\n",
       "      <td>0.292237</td>\n",
       "      <td>0.247779</td>\n",
       "      <td>0.408523</td>\n",
       "      <td>1.0</td>\n",
       "      <td>0.084059</td>\n",
       "    </tr>\n",
       "  </tbody>\n",
       "</table>\n",
       "</div>"
      ],
      "text/plain": [
       "   storey_range  floor_area_sqm  no.of bto  resale application  \\\n",
       "0        0.0625        0.114583        0.0                 0.0   \n",
       "1        0.3750        0.098958        0.0                 0.0   \n",
       "2        0.0000        0.114583        0.0                 0.0   \n",
       "3        0.0625        0.114583        0.0                 0.0   \n",
       "4        0.1250        0.088542        0.0                 0.0   \n",
       "\n",
       "   remaining_lease_months  Distance to nearest MRT  Distance to CBD  \\\n",
       "0                0.229833                 0.242702         0.377101   \n",
       "1                0.888889                 0.181339         0.376605   \n",
       "2                0.243531                 0.153615         0.373691   \n",
       "3                0.223744                 0.212727         0.381423   \n",
       "4                0.292237                 0.247779         0.408523   \n",
       "\n",
       "   isMatureEstate  cpi_adjusted_price_per_sqm  \n",
       "0             1.0                    0.113027  \n",
       "1             1.0                    0.339299  \n",
       "2             1.0                    0.077851  \n",
       "3             1.0                    0.128102  \n",
       "4             1.0                    0.084059  "
      ]
     },
     "execution_count": 70,
     "metadata": {},
     "output_type": "execute_result"
    }
   ],
   "source": [
    "# import data\n",
    "df = pd.read_csv(\"hdb_model_data.csv\")\n",
    "df.head()"
   ]
  },
  {
   "cell_type": "code",
   "execution_count": 71,
   "id": "c7678401",
   "metadata": {},
   "outputs": [
    {
     "data": {
      "text/plain": [
       "(77834, 9)"
      ]
     },
     "execution_count": 71,
     "metadata": {},
     "output_type": "execute_result"
    }
   ],
   "source": [
    "df.shape"
   ]
  },
  {
   "cell_type": "code",
   "execution_count": 72,
   "id": "f759bf20",
   "metadata": {},
   "outputs": [],
   "source": [
    "X = df.iloc[:,0:8]\n",
    "y = df.iloc[:,-1]"
   ]
  },
  {
   "cell_type": "code",
   "execution_count": 73,
   "id": "f6fea29c",
   "metadata": {},
   "outputs": [],
   "source": [
    "# split into training and test set\n",
    "X_train, X_test, y_train, y_test = train_test_split(X, y, test_size=0.3, random_state=100)"
   ]
  },
  {
   "cell_type": "code",
   "execution_count": 74,
   "id": "f476823b",
   "metadata": {},
   "outputs": [
    {
     "data": {
      "text/plain": [
       "DecisionTreeRegressor(max_depth=15, max_features=8, random_state=0)"
      ]
     },
     "execution_count": 74,
     "metadata": {},
     "output_type": "execute_result"
    }
   ],
   "source": [
    "# Decision Tree Regressor\n",
    "\n",
    "#3 Fitting the Decision Tree Regression Model to the dataset\n",
    "# Create the Decision Tree regressor object here\n",
    "from sklearn.tree import DecisionTreeRegressor\n",
    "\n",
    "#DecisionTreeRegressor class has many parameters. Input only #random_state=0 or 42.\n",
    "regressor = DecisionTreeRegressor(max_depth = 15,\n",
    "                                  max_features = 8,\n",
    "                                  min_samples_split = 2,\n",
    "                                  random_state=0)\n",
    "\n",
    "# Fit the regressor object to the dataset.\n",
    "regressor.fit(X_train,y_train)"
   ]
  },
  {
   "cell_type": "code",
   "execution_count": 75,
   "id": "93092f8d",
   "metadata": {},
   "outputs": [
    {
     "data": {
      "text/html": [
       "<div>\n",
       "<style scoped>\n",
       "    .dataframe tbody tr th:only-of-type {\n",
       "        vertical-align: middle;\n",
       "    }\n",
       "\n",
       "    .dataframe tbody tr th {\n",
       "        vertical-align: top;\n",
       "    }\n",
       "\n",
       "    .dataframe thead th {\n",
       "        text-align: right;\n",
       "    }\n",
       "</style>\n",
       "<table border=\"1\" class=\"dataframe\">\n",
       "  <thead>\n",
       "    <tr style=\"text-align: right;\">\n",
       "      <th></th>\n",
       "      <th>Actual</th>\n",
       "      <th>Predicted</th>\n",
       "    </tr>\n",
       "  </thead>\n",
       "  <tbody>\n",
       "    <tr>\n",
       "      <th>35380</th>\n",
       "      <td>0.218627</td>\n",
       "      <td>0.204906</td>\n",
       "    </tr>\n",
       "    <tr>\n",
       "      <th>47843</th>\n",
       "      <td>0.333479</td>\n",
       "      <td>0.286528</td>\n",
       "    </tr>\n",
       "    <tr>\n",
       "      <th>3989</th>\n",
       "      <td>0.118394</td>\n",
       "      <td>0.103215</td>\n",
       "    </tr>\n",
       "    <tr>\n",
       "      <th>323</th>\n",
       "      <td>0.618637</td>\n",
       "      <td>0.602688</td>\n",
       "    </tr>\n",
       "    <tr>\n",
       "      <th>19131</th>\n",
       "      <td>0.097130</td>\n",
       "      <td>0.092359</td>\n",
       "    </tr>\n",
       "    <tr>\n",
       "      <th>61567</th>\n",
       "      <td>0.227471</td>\n",
       "      <td>0.235354</td>\n",
       "    </tr>\n",
       "    <tr>\n",
       "      <th>48423</th>\n",
       "      <td>0.150527</td>\n",
       "      <td>0.188435</td>\n",
       "    </tr>\n",
       "    <tr>\n",
       "      <th>56938</th>\n",
       "      <td>0.255397</td>\n",
       "      <td>0.251972</td>\n",
       "    </tr>\n",
       "    <tr>\n",
       "      <th>58361</th>\n",
       "      <td>0.452925</td>\n",
       "      <td>0.446421</td>\n",
       "    </tr>\n",
       "    <tr>\n",
       "      <th>3141</th>\n",
       "      <td>0.293600</td>\n",
       "      <td>0.256247</td>\n",
       "    </tr>\n",
       "  </tbody>\n",
       "</table>\n",
       "</div>"
      ],
      "text/plain": [
       "         Actual  Predicted\n",
       "35380  0.218627   0.204906\n",
       "47843  0.333479   0.286528\n",
       "3989   0.118394   0.103215\n",
       "323    0.618637   0.602688\n",
       "19131  0.097130   0.092359\n",
       "61567  0.227471   0.235354\n",
       "48423  0.150527   0.188435\n",
       "56938  0.255397   0.251972\n",
       "58361  0.452925   0.446421\n",
       "3141   0.293600   0.256247"
      ]
     },
     "execution_count": 75,
     "metadata": {},
     "output_type": "execute_result"
    }
   ],
   "source": [
    "# predictions\n",
    "pred = regressor.predict(X_test)\n",
    "results_df = pd.DataFrame({'Actual': y_test, 'Predicted': pred})\n",
    "results_df.sample(10)"
   ]
  },
  {
   "cell_type": "code",
   "execution_count": 76,
   "id": "4c50b586",
   "metadata": {},
   "outputs": [],
   "source": [
    "# # Classification Metrics\n",
    "\n",
    "# # Accuracy\n",
    "# accuracy = accuracy_score(y_test,pred)\n",
    "# print(\"Accuracy:\",accuracy)\n",
    "# # Precision and Recall\n",
    "# precision = metrics.precision_score(y_test, pred)\n",
    "# recall = metrics.recall_score(y_test, pred)\n",
    "# f_measure = metrics.f1_score(y_test, pred)\n",
    "# print(\"Precision:\",precision)\n",
    "# print(\"Recall:\",recall)\n",
    "# print(\"F-measure:\",f_measure)"
   ]
  },
  {
   "cell_type": "code",
   "execution_count": 77,
   "id": "d531017f",
   "metadata": {},
   "outputs": [
    {
     "name": "stdout",
     "output_type": "stream",
     "text": [
      "R-squared score:  0.91\n",
      "Mean Squared Error (R2):  0.0010360488742202738\n",
      "Root Mean Squared Error:  0.032187713093978484\n",
      "Adjusted R2:  0.9087553315281034\n"
     ]
    }
   ],
   "source": [
    "# Regression Metrics\n",
    "from sklearn.metrics import mean_squared_error\n",
    "import math\n",
    "\n",
    "y_pred_train = regressor.predict(X_train)  \n",
    "y_pred_test = regressor.predict(X_test)  \n",
    "\n",
    "\n",
    "# coefficient of determindation (r-squared)\n",
    "r2 = metrics.r2_score(y_test, y_pred_test)\n",
    "print(\"R-squared score: \", r2.round(2))\n",
    "\n",
    "# mse\n",
    "mse = mean_squared_error(y_test,y_pred_test)\n",
    "print(\"Mean Squared Error (R2): \", mse)\n",
    "\n",
    "# rmse\n",
    "rmse = math.sqrt(mse)  \n",
    "print(\"Root Mean Squared Error: \", rmse)\n",
    "\n",
    "# adjusted r-sqaured (idk if this formula correct)\n",
    "adj_r2 = 1 - (1-r2)*(len(y_test)-1)/(len(y_test)-X_test.shape[1]-1)\n",
    "print(\"Adjusted R2: \", adj_r2)"
   ]
  }
 ],
 "metadata": {
  "kernelspec": {
   "display_name": "Python 3 (ipykernel)",
   "language": "python",
   "name": "python3"
  },
  "language_info": {
   "codemirror_mode": {
    "name": "ipython",
    "version": 3
   },
   "file_extension": ".py",
   "mimetype": "text/x-python",
   "name": "python",
   "nbconvert_exporter": "python",
   "pygments_lexer": "ipython3",
   "version": "3.9.13"
  }
 },
 "nbformat": 4,
 "nbformat_minor": 5
}
