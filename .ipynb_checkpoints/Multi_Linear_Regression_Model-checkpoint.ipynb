{
 "cells": [
  {
   "cell_type": "code",
   "execution_count": 4,
   "metadata": {},
   "outputs": [],
   "source": [
    "import pandas as pd\n",
    "import numpy as np\n",
    "import seaborn as sns\n",
    "import matplotlib.pyplot as plt\n",
    "# import folium \n",
    "import requests\n",
    "import json\n",
    "from geopy.distance import geodesic\n",
    "\n",
    "\n",
    "final_hdb_resale_prices = pd.read_csv(\"hdb_model_data_regression.csv\")"
   ]
  },
  {
   "cell_type": "code",
   "execution_count": 5,
   "metadata": {},
   "outputs": [
    {
     "data": {
      "text/html": [
       "<div>\n",
       "<style scoped>\n",
       "    .dataframe tbody tr th:only-of-type {\n",
       "        vertical-align: middle;\n",
       "    }\n",
       "\n",
       "    .dataframe tbody tr th {\n",
       "        vertical-align: top;\n",
       "    }\n",
       "\n",
       "    .dataframe thead th {\n",
       "        text-align: right;\n",
       "    }\n",
       "</style>\n",
       "<table border=\"1\" class=\"dataframe\">\n",
       "  <thead>\n",
       "    <tr style=\"text-align: right;\">\n",
       "      <th></th>\n",
       "      <th>storey_range</th>\n",
       "      <th>floor_area_sqm</th>\n",
       "      <th>no.of bto</th>\n",
       "      <th>resale application</th>\n",
       "      <th>remaining_lease_months</th>\n",
       "      <th>Distance to nearest MRT</th>\n",
       "      <th>Distance to CBD</th>\n",
       "      <th>isMatureEstate</th>\n",
       "      <th>cpi_adjusted_price_per_sqm</th>\n",
       "    </tr>\n",
       "  </thead>\n",
       "  <tbody>\n",
       "    <tr>\n",
       "      <th>77829</th>\n",
       "      <td>8</td>\n",
       "      <td>146.0</td>\n",
       "      <td>20064</td>\n",
       "      <td>30370.0</td>\n",
       "      <td>780</td>\n",
       "      <td>1182.415251</td>\n",
       "      <td>15623.76672</td>\n",
       "      <td>0</td>\n",
       "      <td>6158.429452</td>\n",
       "    </tr>\n",
       "    <tr>\n",
       "      <th>77830</th>\n",
       "      <td>8</td>\n",
       "      <td>142.0</td>\n",
       "      <td>20064</td>\n",
       "      <td>30370.0</td>\n",
       "      <td>766</td>\n",
       "      <td>661.035324</td>\n",
       "      <td>15234.07761</td>\n",
       "      <td>0</td>\n",
       "      <td>5859.823380</td>\n",
       "    </tr>\n",
       "    <tr>\n",
       "      <th>77831</th>\n",
       "      <td>8</td>\n",
       "      <td>142.0</td>\n",
       "      <td>20064</td>\n",
       "      <td>30370.0</td>\n",
       "      <td>766</td>\n",
       "      <td>661.035324</td>\n",
       "      <td>15234.07761</td>\n",
       "      <td>0</td>\n",
       "      <td>5776.556939</td>\n",
       "    </tr>\n",
       "    <tr>\n",
       "      <th>77832</th>\n",
       "      <td>11</td>\n",
       "      <td>146.0</td>\n",
       "      <td>20064</td>\n",
       "      <td>30370.0</td>\n",
       "      <td>768</td>\n",
       "      <td>573.471701</td>\n",
       "      <td>15246.85376</td>\n",
       "      <td>0</td>\n",
       "      <td>5743.008767</td>\n",
       "    </tr>\n",
       "    <tr>\n",
       "      <th>77833</th>\n",
       "      <td>5</td>\n",
       "      <td>142.0</td>\n",
       "      <td>20064</td>\n",
       "      <td>30370.0</td>\n",
       "      <td>768</td>\n",
       "      <td>573.471701</td>\n",
       "      <td>15246.85376</td>\n",
       "      <td>0</td>\n",
       "      <td>5545.101408</td>\n",
       "    </tr>\n",
       "  </tbody>\n",
       "</table>\n",
       "</div>"
      ],
      "text/plain": [
       "       storey_range  floor_area_sqm  no.of bto  resale application  \\\n",
       "77829             8           146.0      20064             30370.0   \n",
       "77830             8           142.0      20064             30370.0   \n",
       "77831             8           142.0      20064             30370.0   \n",
       "77832            11           146.0      20064             30370.0   \n",
       "77833             5           142.0      20064             30370.0   \n",
       "\n",
       "       remaining_lease_months  Distance to nearest MRT  Distance to CBD  \\\n",
       "77829                     780              1182.415251      15623.76672   \n",
       "77830                     766               661.035324      15234.07761   \n",
       "77831                     766               661.035324      15234.07761   \n",
       "77832                     768               573.471701      15246.85376   \n",
       "77833                     768               573.471701      15246.85376   \n",
       "\n",
       "       isMatureEstate  cpi_adjusted_price_per_sqm  \n",
       "77829               0                 6158.429452  \n",
       "77830               0                 5859.823380  \n",
       "77831               0                 5776.556939  \n",
       "77832               0                 5743.008767  \n",
       "77833               0                 5545.101408  "
      ]
     },
     "execution_count": 5,
     "metadata": {},
     "output_type": "execute_result"
    }
   ],
   "source": [
    "final_hdb_resale_prices.tail()"
   ]
  },
  {
   "cell_type": "code",
   "execution_count": 10,
   "metadata": {},
   "outputs": [],
   "source": [
    "import numpy as np\n",
    "import pandas as pd\n",
    "import datetime\n",
    "import random\n",
    "\n",
    "# Plots\n",
    "import seaborn as sns\n",
    "import matplotlib.pyplot as plt\n",
    "\n",
    "# Models\n",
    "from sklearn.ensemble import RandomForestRegressor, GradientBoostingRegressor, AdaBoostRegressor, BaggingRegressor\n",
    "from sklearn.kernel_ridge import KernelRidge\n",
    "from sklearn.linear_model import Ridge, RidgeCV, RidgeClassifier\n",
    "from sklearn.linear_model import ElasticNet, ElasticNetCV\n",
    "from sklearn.svm import SVR\n",
    "# from mlxtend.regressor import StackingCVRegressor\n",
    "# import lightgbm as lgb\n",
    "# from lightgbm import LGBMRegressor\n",
    "# from xgboost import XGBRegressor\n",
    "\n",
    "# Stats\n",
    "from scipy.stats import skew, norm\n",
    "from scipy.special import boxcox1p\n",
    "from scipy.stats import boxcox_normmax\n",
    "\n",
    "# Misc\n",
    "from sklearn.model_selection import GridSearchCV\n",
    "from sklearn.model_selection import KFold, cross_val_score\n",
    "from sklearn.metrics import mean_squared_error\n",
    "from sklearn.preprocessing import OneHotEncoder\n",
    "from sklearn.preprocessing import LabelEncoder\n",
    "#from sklearn.pipeline import make_pipeline\n",
    "from sklearn.preprocessing import scale\n",
    "from sklearn.preprocessing import StandardScaler\n",
    "from sklearn.preprocessing import RobustScaler\n",
    "from sklearn.decomposition import PCA\n",
    "import numpy as np\n",
    "import pandas as pd\n",
    "\n",
    "\n",
    "\n",
    "# Ignore useless warnings\n",
    "import warnings\n",
    "warnings.filterwarnings(action=\"ignore\")\n",
    "pd.options.display.max_seq_items = 8000\n",
    "pd.options.display.max_rows = 8000"
   ]
  },
  {
   "cell_type": "code",
   "execution_count": 11,
   "metadata": {},
   "outputs": [],
   "source": [
    "from sklearn.model_selection import train_test_split"
   ]
  },
  {
   "cell_type": "code",
   "execution_count": 12,
   "metadata": {},
   "outputs": [],
   "source": [
    "#Linear Regression"
   ]
  },
  {
   "cell_type": "code",
   "execution_count": 13,
   "metadata": {},
   "outputs": [],
   "source": [
    "features = ['storey_range','floor_area_sqm','no.of bto','resale application','remaining_lease_months','Distance to nearest MRT','Distance to CBD','isMatureEstate']\n",
    "X = final_hdb_resale_prices[features]\n",
    "y = final_hdb_resale_prices['cpi_adjusted_price_per_sqm']"
   ]
  },
  {
   "cell_type": "code",
   "execution_count": 14,
   "metadata": {},
   "outputs": [],
   "source": [
    "X_train, X_test, y_train, y_test = train_test_split(X,y ,\n",
    "                                   random_state=104, \n",
    "                                   test_size=0.2, \n",
    "                                   shuffle=True)"
   ]
  },
  {
   "cell_type": "code",
   "execution_count": 15,
   "metadata": {},
   "outputs": [],
   "source": [
    "scaler = StandardScaler()"
   ]
  },
  {
   "cell_type": "code",
   "execution_count": 16,
   "metadata": {},
   "outputs": [
    {
     "data": {
      "text/html": [
       "<div>\n",
       "<style scoped>\n",
       "    .dataframe tbody tr th:only-of-type {\n",
       "        vertical-align: middle;\n",
       "    }\n",
       "\n",
       "    .dataframe tbody tr th {\n",
       "        vertical-align: top;\n",
       "    }\n",
       "\n",
       "    .dataframe thead th {\n",
       "        text-align: right;\n",
       "    }\n",
       "</style>\n",
       "<table border=\"1\" class=\"dataframe\">\n",
       "  <thead>\n",
       "    <tr style=\"text-align: right;\">\n",
       "      <th></th>\n",
       "      <th>storey_range</th>\n",
       "      <th>floor_area_sqm</th>\n",
       "      <th>no.of bto</th>\n",
       "      <th>resale application</th>\n",
       "      <th>remaining_lease_months</th>\n",
       "      <th>Distance to nearest MRT</th>\n",
       "      <th>Distance to CBD</th>\n",
       "      <th>isMatureEstate</th>\n",
       "    </tr>\n",
       "  </thead>\n",
       "  <tbody>\n",
       "    <tr>\n",
       "      <th>30358</th>\n",
       "      <td>5</td>\n",
       "      <td>91.0</td>\n",
       "      <td>13756</td>\n",
       "      <td>26436.0</td>\n",
       "      <td>708</td>\n",
       "      <td>932.069073</td>\n",
       "      <td>15095.75605</td>\n",
       "      <td>0</td>\n",
       "    </tr>\n",
       "    <tr>\n",
       "      <th>59440</th>\n",
       "      <td>8</td>\n",
       "      <td>112.0</td>\n",
       "      <td>20064</td>\n",
       "      <td>30370.0</td>\n",
       "      <td>1119</td>\n",
       "      <td>1200.736904</td>\n",
       "      <td>14855.49179</td>\n",
       "      <td>0</td>\n",
       "    </tr>\n",
       "    <tr>\n",
       "      <th>71088</th>\n",
       "      <td>8</td>\n",
       "      <td>102.0</td>\n",
       "      <td>20064</td>\n",
       "      <td>30370.0</td>\n",
       "      <td>883</td>\n",
       "      <td>1520.261819</td>\n",
       "      <td>12713.89155</td>\n",
       "      <td>1</td>\n",
       "    </tr>\n",
       "    <tr>\n",
       "      <th>46493</th>\n",
       "      <td>5</td>\n",
       "      <td>125.0</td>\n",
       "      <td>13756</td>\n",
       "      <td>26436.0</td>\n",
       "      <td>802</td>\n",
       "      <td>1061.696877</td>\n",
       "      <td>12088.05824</td>\n",
       "      <td>1</td>\n",
       "    </tr>\n",
       "    <tr>\n",
       "      <th>77270</th>\n",
       "      <td>8</td>\n",
       "      <td>149.0</td>\n",
       "      <td>20064</td>\n",
       "      <td>30370.0</td>\n",
       "      <td>828</td>\n",
       "      <td>1750.734973</td>\n",
       "      <td>10049.92302</td>\n",
       "      <td>1</td>\n",
       "    </tr>\n",
       "  </tbody>\n",
       "</table>\n",
       "</div>"
      ],
      "text/plain": [
       "       storey_range  floor_area_sqm  no.of bto  resale application  \\\n",
       "30358             5            91.0      13756             26436.0   \n",
       "59440             8           112.0      20064             30370.0   \n",
       "71088             8           102.0      20064             30370.0   \n",
       "46493             5           125.0      13756             26436.0   \n",
       "77270             8           149.0      20064             30370.0   \n",
       "\n",
       "       remaining_lease_months  Distance to nearest MRT  Distance to CBD  \\\n",
       "30358                     708               932.069073      15095.75605   \n",
       "59440                    1119              1200.736904      14855.49179   \n",
       "71088                     883              1520.261819      12713.89155   \n",
       "46493                     802              1061.696877      12088.05824   \n",
       "77270                     828              1750.734973      10049.92302   \n",
       "\n",
       "       isMatureEstate  \n",
       "30358               0  \n",
       "59440               0  \n",
       "71088               1  \n",
       "46493               1  \n",
       "77270               1  "
      ]
     },
     "execution_count": 16,
     "metadata": {},
     "output_type": "execute_result"
    }
   ],
   "source": [
    "X_train.head()"
   ]
  },
  {
   "cell_type": "code",
   "execution_count": null,
   "metadata": {},
   "outputs": [],
   "source": [
    "#Linear Regression Model"
   ]
  },
  {
   "cell_type": "code",
   "execution_count": null,
   "metadata": {},
   "outputs": [],
   "source": [
    "s_scaler = StandardScaler()\n",
    "X_train = s_scaler.fit_transform(X_train.astype(np.float))\n",
    "X_test = s_scaler.transform(X_test.astype(np.float))"
   ]
  },
  {
   "cell_type": "code",
   "execution_count": 3,
   "metadata": {},
   "outputs": [
    {
     "ename": "NameError",
     "evalue": "name 'final_hdb_resale_prices' is not defined",
     "output_type": "error",
     "traceback": [
      "\u001b[0;31m---------------------------------------------------------------------------\u001b[0m",
      "\u001b[0;31mNameError\u001b[0m                                 Traceback (most recent call last)",
      "\u001b[0;32m/var/folders/bs/n_hvsvyj5x1bnk2gn2z9p9l80000gp/T/ipykernel_90050/3523818081.py\u001b[0m in \u001b[0;36m<module>\u001b[0;34m\u001b[0m\n\u001b[0;32m----> 1\u001b[0;31m \u001b[0mfinal_hdb_resale_prices\u001b[0m\u001b[0;34m\u001b[0m\u001b[0;34m\u001b[0m\u001b[0m\n\u001b[0m",
      "\u001b[0;31mNameError\u001b[0m: name 'final_hdb_resale_prices' is not defined"
     ]
    }
   ],
   "source": [
    "final_hdb_resale_prices"
   ]
  },
  {
   "cell_type": "code",
   "execution_count": 13,
   "metadata": {},
   "outputs": [
    {
     "name": "stdout",
     "output_type": "stream",
     "text": [
      "5367.774490044048\n",
      "[ 360.76495965  -50.84616866  452.72857088  152.66291826  848.11856587\n",
      " -290.5935448  -635.98449107  276.95541926]\n"
     ]
    }
   ],
   "source": [
    "from sklearn.linear_model import LinearRegression\n",
    "regressor = LinearRegression()  \n",
    "regressor.fit(X_train, y_train)\n",
    "#evaluate the model (intercept and slope)\n",
    "print(regressor.intercept_)\n",
    "print(regressor.coef_)\n",
    "#predicting the test set result\n",
    "y_pred = regressor.predict(X_test)\n",
    "#put results as a DataFrame\n",
    "coeff_df = pd.DataFrame(regressor.coef_, X.columns, columns=['Coefficient']) "
   ]
  },
  {
   "cell_type": "code",
   "execution_count": 14,
   "metadata": {},
   "outputs": [
    {
     "data": {
      "text/html": [
       "<div>\n",
       "<style scoped>\n",
       "    .dataframe tbody tr th:only-of-type {\n",
       "        vertical-align: middle;\n",
       "    }\n",
       "\n",
       "    .dataframe tbody tr th {\n",
       "        vertical-align: top;\n",
       "    }\n",
       "\n",
       "    .dataframe thead th {\n",
       "        text-align: right;\n",
       "    }\n",
       "</style>\n",
       "<table border=\"1\" class=\"dataframe\">\n",
       "  <thead>\n",
       "    <tr style=\"text-align: right;\">\n",
       "      <th></th>\n",
       "      <th>Actual</th>\n",
       "      <th>Predicted</th>\n",
       "    </tr>\n",
       "  </thead>\n",
       "  <tbody>\n",
       "    <tr>\n",
       "      <th>75439</th>\n",
       "      <td>5275.212712</td>\n",
       "      <td>5259.001463</td>\n",
       "    </tr>\n",
       "    <tr>\n",
       "      <th>15416</th>\n",
       "      <td>3677.975410</td>\n",
       "      <td>4359.571323</td>\n",
       "    </tr>\n",
       "    <tr>\n",
       "      <th>24537</th>\n",
       "      <td>4813.239130</td>\n",
       "      <td>4544.013243</td>\n",
       "    </tr>\n",
       "    <tr>\n",
       "      <th>33177</th>\n",
       "      <td>4661.833333</td>\n",
       "      <td>4896.537570</td>\n",
       "    </tr>\n",
       "    <tr>\n",
       "      <th>49716</th>\n",
       "      <td>3548.411765</td>\n",
       "      <td>4302.759711</td>\n",
       "    </tr>\n",
       "    <tr>\n",
       "      <th>...</th>\n",
       "      <td>...</td>\n",
       "      <td>...</td>\n",
       "    </tr>\n",
       "    <tr>\n",
       "      <th>7492</th>\n",
       "      <td>4466.356250</td>\n",
       "      <td>3988.814390</td>\n",
       "    </tr>\n",
       "    <tr>\n",
       "      <th>11899</th>\n",
       "      <td>3233.967568</td>\n",
       "      <td>2478.288892</td>\n",
       "    </tr>\n",
       "    <tr>\n",
       "      <th>27046</th>\n",
       "      <td>4923.130435</td>\n",
       "      <td>5580.261874</td>\n",
       "    </tr>\n",
       "    <tr>\n",
       "      <th>56055</th>\n",
       "      <td>7496.786364</td>\n",
       "      <td>6893.880905</td>\n",
       "    </tr>\n",
       "    <tr>\n",
       "      <th>22735</th>\n",
       "      <td>3461.147107</td>\n",
       "      <td>2824.846440</td>\n",
       "    </tr>\n",
       "  </tbody>\n",
       "</table>\n",
       "<p>15567 rows × 2 columns</p>\n",
       "</div>"
      ],
      "text/plain": [
       "            Actual    Predicted\n",
       "75439  5275.212712  5259.001463\n",
       "15416  3677.975410  4359.571323\n",
       "24537  4813.239130  4544.013243\n",
       "33177  4661.833333  4896.537570\n",
       "49716  3548.411765  4302.759711\n",
       "...            ...          ...\n",
       "7492   4466.356250  3988.814390\n",
       "11899  3233.967568  2478.288892\n",
       "27046  4923.130435  5580.261874\n",
       "56055  7496.786364  6893.880905\n",
       "22735  3461.147107  2824.846440\n",
       "\n",
       "[15567 rows x 2 columns]"
      ]
     },
     "execution_count": 14,
     "metadata": {},
     "output_type": "execute_result"
    }
   ],
   "source": [
    "y_pred = regressor.predict(X_test)\n",
    "df = pd.DataFrame({'Actual': y_test, 'Predicted': y_pred})\n",
    "df"
   ]
  },
  {
   "cell_type": "code",
   "execution_count": 15,
   "metadata": {},
   "outputs": [
    {
     "data": {
      "text/plain": [
       "Text(0, 0.5, 'Predictions')"
      ]
     },
     "execution_count": 15,
     "metadata": {},
     "output_type": "execute_result"
    },
    {
     "data": {
      "image/png": "[encoded data removed]",
      "text/plain": [
       "<Figure size 720x360 with 1 Axes>"
      ]
     },
     "metadata": {
      "needs_background": "light"
     },
     "output_type": "display_data"
    }
   ],
   "source": [
    "# Visualizing Our predictions\n",
    "fig = plt.figure(figsize=(10,5))\n",
    "plt.scatter(y_test,y_pred)\n",
    "# Perfect predictions\n",
    "plt.plot(y_test,y_test,'r')\n",
    "plt.xlabel('True Values', fontsize=15)\n",
    "plt.ylabel('Predictions', fontsize=15)"
   ]
  },
  {
   "cell_type": "code",
   "execution_count": 16,
   "metadata": {},
   "outputs": [
    {
     "name": "stdout",
     "output_type": "stream",
     "text": [
      "MAE: 510.3328041720196\n",
      "MSE: 436959.7425496899\n",
      "RMSE: 661.0293053637561\n",
      "VarScore: 0.7976958275092356\n"
     ]
    }
   ],
   "source": [
    "# evaluate the performance of the algorithm (MAE - MSE - RMSE)\n",
    "from sklearn import metrics\n",
    "print('MAE:', metrics.mean_absolute_error(y_test, y_pred))  \n",
    "print('MSE:', metrics.mean_squared_error(y_test, y_pred))  \n",
    "print('RMSE:', np.sqrt(metrics.mean_squared_error(y_test, y_pred)))\n",
    "print('VarScore:',metrics.explained_variance_score(y_test,y_pred))"
   ]
  },
  {
   "cell_type": "code",
   "execution_count": 1,
   "metadata": {},
   "outputs": [
    {
     "ename": "NameError",
     "evalue": "name 'metrics' is not defined",
     "output_type": "error",
     "traceback": [
      "\u001b[0;31m---------------------------------------------------------------------------\u001b[0m",
      "\u001b[0;31mNameError\u001b[0m                                 Traceback (most recent call last)",
      "\u001b[0;32m/var/folders/bs/n_hvsvyj5x1bnk2gn2z9p9l80000gp/T/ipykernel_90050/108636192.py\u001b[0m in \u001b[0;36m<module>\u001b[0;34m\u001b[0m\n\u001b[0;32m----> 1\u001b[0;31m \u001b[0mprint\u001b[0m\u001b[0;34m(\u001b[0m\u001b[0;34m\"Coefficient of determination test(R2): %.2f\"\u001b[0m \u001b[0;34m%\u001b[0m \u001b[0mmetrics\u001b[0m\u001b[0;34m.\u001b[0m\u001b[0mr2_score\u001b[0m\u001b[0;34m(\u001b[0m\u001b[0my_test\u001b[0m\u001b[0;34m,\u001b[0m \u001b[0my_pred\u001b[0m\u001b[0;34m)\u001b[0m\u001b[0;34m.\u001b[0m\u001b[0mround\u001b[0m\u001b[0;34m(\u001b[0m\u001b[0;36m2\u001b[0m\u001b[0;34m)\u001b[0m\u001b[0;34m)\u001b[0m\u001b[0;34m\u001b[0m\u001b[0;34m\u001b[0m\u001b[0m\n\u001b[0m\u001b[1;32m      2\u001b[0m \u001b[0;34m\u001b[0m\u001b[0m\n\u001b[1;32m      3\u001b[0m \u001b[0;31m# adjusted r-sqaured (idk if this formula correct)\u001b[0m\u001b[0;34m\u001b[0m\u001b[0;34m\u001b[0m\u001b[0m\n\u001b[1;32m      4\u001b[0m \u001b[0madj_r2\u001b[0m \u001b[0;34m=\u001b[0m \u001b[0;36m1\u001b[0m \u001b[0;34m-\u001b[0m \u001b[0;34m(\u001b[0m\u001b[0;36m1\u001b[0m\u001b[0;34m-\u001b[0m\u001b[0mr2\u001b[0m\u001b[0;34m)\u001b[0m\u001b[0;34m*\u001b[0m\u001b[0;34m(\u001b[0m\u001b[0mlen\u001b[0m\u001b[0;34m(\u001b[0m\u001b[0my_test\u001b[0m\u001b[0;34m)\u001b[0m\u001b[0;34m-\u001b[0m\u001b[0;36m1\u001b[0m\u001b[0;34m)\u001b[0m\u001b[0;34m/\u001b[0m\u001b[0;34m(\u001b[0m\u001b[0mlen\u001b[0m\u001b[0;34m(\u001b[0m\u001b[0my_test\u001b[0m\u001b[0;34m)\u001b[0m\u001b[0;34m-\u001b[0m\u001b[0mX_test\u001b[0m\u001b[0;34m.\u001b[0m\u001b[0mshape\u001b[0m\u001b[0;34m[\u001b[0m\u001b[0;36m1\u001b[0m\u001b[0;34m]\u001b[0m\u001b[0;34m-\u001b[0m\u001b[0;36m1\u001b[0m\u001b[0;34m)\u001b[0m\u001b[0;34m\u001b[0m\u001b[0;34m\u001b[0m\u001b[0m\n\u001b[1;32m      5\u001b[0m \u001b[0mprint\u001b[0m\u001b[0;34m(\u001b[0m\u001b[0;34m\"Adjusted R2: \"\u001b[0m\u001b[0;34m,\u001b[0m \u001b[0madj_r2\u001b[0m\u001b[0;34m)\u001b[0m\u001b[0;34m\u001b[0m\u001b[0;34m\u001b[0m\u001b[0m\n",
      "\u001b[0;31mNameError\u001b[0m: name 'metrics' is not defined"
     ]
    }
   ],
   "source": [
    "print(\"Coefficient of determination test(R2): %.2f\" % metrics.r2_score(y_test, y_pred).round(2))\n",
    "\n",
    "# adjusted r-sqaured (idk if this formula correct)\n",
    "adj_r2 = 1 - (1-r2)*(len(y_test)-1)/(len(y_test)-X_test.shape[1]-1)\n",
    "print(\"Adjusted R2: \", adj_r2)"
   ]
  },
  {
   "cell_type": "code",
   "execution_count": null,
   "metadata": {},
   "outputs": [],
   "source": []
  }
 ],
 "metadata": {
  "kernelspec": {
   "display_name": "Python 3 (ipykernel)",
   "language": "python",
   "name": "python3"
  },
  "language_info": {
   "codemirror_mode": {
    "name": "ipython",
    "version": 3
   },
   "file_extension": ".py",
   "mimetype": "text/x-python",
   "name": "python",
   "nbconvert_exporter": "python",
   "pygments_lexer": "ipython3",
   "version": "3.9.13"
  }
 },
 "nbformat": 4,
 "nbformat_minor": 4
}
