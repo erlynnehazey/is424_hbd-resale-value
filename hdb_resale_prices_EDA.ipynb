{
 "cells": [
  {
   "cell_type": "code",
   "execution_count": 2,
   "id": "6ad4e59d",
   "metadata": {},
   "outputs": [],
   "source": [
    "import pandas as pd\n",
    "import numpy as np\n",
    "import seaborn as sns\n",
    "import matplotlib.pyplot as plt\n",
    "import folium \n",
    "import requests\n",
    "import json\n",
    "from geopy.distance import geodesic\n",
    "\n",
    "hdb_resale_prices = pd.read_csv(\"final_hdb_resale_prices.csv\")"
   ]
  },
  {
   "cell_type": "markdown",
   "id": "64b04a3b",
   "metadata": {},
   "source": [
    "<h3>Data Preparation</h3>"
   ]
  },
  {
   "cell_type": "code",
   "execution_count": 3,
   "id": "a371c5ef",
   "metadata": {},
   "outputs": [
    {
     "data": {
      "text/html": [
       "<div>\n",
       "<style scoped>\n",
       "    .dataframe tbody tr th:only-of-type {\n",
       "        vertical-align: middle;\n",
       "    }\n",
       "\n",
       "    .dataframe tbody tr th {\n",
       "        vertical-align: top;\n",
       "    }\n",
       "\n",
       "    .dataframe thead th {\n",
       "        text-align: right;\n",
       "    }\n",
       "</style>\n",
       "<table border=\"1\" class=\"dataframe\">\n",
       "  <thead>\n",
       "    <tr style=\"text-align: right;\">\n",
       "      <th></th>\n",
       "      <th>month</th>\n",
       "      <th>town</th>\n",
       "      <th>flat_type</th>\n",
       "      <th>storey_range</th>\n",
       "      <th>floor_area_sqm</th>\n",
       "      <th>flat_model</th>\n",
       "      <th>resale_price</th>\n",
       "      <th>Latitude</th>\n",
       "      <th>Longitude</th>\n",
       "      <th>cpi_multiplier</th>\n",
       "      <th>...</th>\n",
       "      <th>year</th>\n",
       "      <th>no.of bto</th>\n",
       "      <th>resale application</th>\n",
       "      <th>demand ratio</th>\n",
       "      <th>remaining_lease_months</th>\n",
       "      <th>address</th>\n",
       "      <th>Distance to nearest MRT</th>\n",
       "      <th>Distance to CBD</th>\n",
       "      <th>Distance to nearest mall</th>\n",
       "      <th>isMatureEstate</th>\n",
       "    </tr>\n",
       "  </thead>\n",
       "  <tbody>\n",
       "    <tr>\n",
       "      <th>0</th>\n",
       "      <td>2017-01</td>\n",
       "      <td>ANG MO KIO</td>\n",
       "      <td>3 ROOM</td>\n",
       "      <td>2</td>\n",
       "      <td>67.0</td>\n",
       "      <td>New Generation</td>\n",
       "      <td>250000.0</td>\n",
       "      <td>1.370943</td>\n",
       "      <td>103.837975</td>\n",
       "      <td>1.02372</td>\n",
       "      <td>...</td>\n",
       "      <td>2017</td>\n",
       "      <td>14464</td>\n",
       "      <td>20894.0</td>\n",
       "      <td>1.02</td>\n",
       "      <td>727</td>\n",
       "      <td>108 ANG MO KIO AVE 4</td>\n",
       "      <td>166.825954</td>\n",
       "      <td>9696.234644</td>\n",
       "      <td>896.944633</td>\n",
       "      <td>1</td>\n",
       "    </tr>\n",
       "    <tr>\n",
       "      <th>1</th>\n",
       "      <td>2017-01</td>\n",
       "      <td>ANG MO KIO</td>\n",
       "      <td>3 ROOM</td>\n",
       "      <td>2</td>\n",
       "      <td>67.0</td>\n",
       "      <td>New Generation</td>\n",
       "      <td>262000.0</td>\n",
       "      <td>1.380709</td>\n",
       "      <td>103.835368</td>\n",
       "      <td>1.02372</td>\n",
       "      <td>...</td>\n",
       "      <td>2017</td>\n",
       "      <td>14464</td>\n",
       "      <td>20894.0</td>\n",
       "      <td>1.02</td>\n",
       "      <td>749</td>\n",
       "      <td>602 ANG MO KIO AVE 5</td>\n",
       "      <td>532.155055</td>\n",
       "      <td>10808.143550</td>\n",
       "      <td>1527.724531</td>\n",
       "      <td>1</td>\n",
       "    </tr>\n",
       "    <tr>\n",
       "      <th>2</th>\n",
       "      <td>2017-01</td>\n",
       "      <td>ANG MO KIO</td>\n",
       "      <td>3 ROOM</td>\n",
       "      <td>5</td>\n",
       "      <td>68.0</td>\n",
       "      <td>New Generation</td>\n",
       "      <td>265000.0</td>\n",
       "      <td>1.366201</td>\n",
       "      <td>103.857201</td>\n",
       "      <td>1.02372</td>\n",
       "      <td>...</td>\n",
       "      <td>2017</td>\n",
       "      <td>14464</td>\n",
       "      <td>20894.0</td>\n",
       "      <td>1.02</td>\n",
       "      <td>744</td>\n",
       "      <td>465 ANG MO KIO AVE 10</td>\n",
       "      <td>945.375055</td>\n",
       "      <td>9087.920590</td>\n",
       "      <td>880.143181</td>\n",
       "      <td>1</td>\n",
       "    </tr>\n",
       "    <tr>\n",
       "      <th>3</th>\n",
       "      <td>2017-01</td>\n",
       "      <td>ANG MO KIO</td>\n",
       "      <td>3 ROOM</td>\n",
       "      <td>2</td>\n",
       "      <td>67.0</td>\n",
       "      <td>New Generation</td>\n",
       "      <td>265000.0</td>\n",
       "      <td>1.381041</td>\n",
       "      <td>103.835132</td>\n",
       "      <td>1.02372</td>\n",
       "      <td>...</td>\n",
       "      <td>2017</td>\n",
       "      <td>14464</td>\n",
       "      <td>20894.0</td>\n",
       "      <td>1.02</td>\n",
       "      <td>749</td>\n",
       "      <td>601 ANG MO KIO AVE 5</td>\n",
       "      <td>498.419646</td>\n",
       "      <td>10848.697720</td>\n",
       "      <td>1571.446900</td>\n",
       "      <td>1</td>\n",
       "    </tr>\n",
       "    <tr>\n",
       "      <th>4</th>\n",
       "      <td>2017-01</td>\n",
       "      <td>ANG MO KIO</td>\n",
       "      <td>3 ROOM</td>\n",
       "      <td>2</td>\n",
       "      <td>68.0</td>\n",
       "      <td>New Generation</td>\n",
       "      <td>275000.0</td>\n",
       "      <td>1.376807</td>\n",
       "      <td>103.842018</td>\n",
       "      <td>1.02372</td>\n",
       "      <td>...</td>\n",
       "      <td>2017</td>\n",
       "      <td>14464</td>\n",
       "      <td>20894.0</td>\n",
       "      <td>1.02</td>\n",
       "      <td>756</td>\n",
       "      <td>150 ANG MO KIO AVE 5</td>\n",
       "      <td>636.982785</td>\n",
       "      <td>10284.079570</td>\n",
       "      <td>695.573226</td>\n",
       "      <td>1</td>\n",
       "    </tr>\n",
       "  </tbody>\n",
       "</table>\n",
       "<p>5 rows × 21 columns</p>\n",
       "</div>"
      ],
      "text/plain": [
       "     month        town flat_type  storey_range  floor_area_sqm  \\\n",
       "0  2017-01  ANG MO KIO    3 ROOM             2            67.0   \n",
       "1  2017-01  ANG MO KIO    3 ROOM             2            67.0   \n",
       "2  2017-01  ANG MO KIO    3 ROOM             5            68.0   \n",
       "3  2017-01  ANG MO KIO    3 ROOM             2            67.0   \n",
       "4  2017-01  ANG MO KIO    3 ROOM             2            68.0   \n",
       "\n",
       "       flat_model  resale_price  Latitude   Longitude  cpi_multiplier  ...  \\\n",
       "0  New Generation      250000.0  1.370943  103.837975         1.02372  ...   \n",
       "1  New Generation      262000.0  1.380709  103.835368         1.02372  ...   \n",
       "2  New Generation      265000.0  1.366201  103.857201         1.02372  ...   \n",
       "3  New Generation      265000.0  1.381041  103.835132         1.02372  ...   \n",
       "4  New Generation      275000.0  1.376807  103.842018         1.02372  ...   \n",
       "\n",
       "   year  no.of bto  resale application  demand ratio  remaining_lease_months  \\\n",
       "0  2017      14464             20894.0          1.02                     727   \n",
       "1  2017      14464             20894.0          1.02                     749   \n",
       "2  2017      14464             20894.0          1.02                     744   \n",
       "3  2017      14464             20894.0          1.02                     749   \n",
       "4  2017      14464             20894.0          1.02                     756   \n",
       "\n",
       "                 address Distance to nearest MRT  Distance to CBD  \\\n",
       "0   108 ANG MO KIO AVE 4              166.825954      9696.234644   \n",
       "1   602 ANG MO KIO AVE 5              532.155055     10808.143550   \n",
       "2  465 ANG MO KIO AVE 10              945.375055      9087.920590   \n",
       "3   601 ANG MO KIO AVE 5              498.419646     10848.697720   \n",
       "4   150 ANG MO KIO AVE 5              636.982785     10284.079570   \n",
       "\n",
       "   Distance to nearest mall  isMatureEstate  \n",
       "0                896.944633               1  \n",
       "1               1527.724531               1  \n",
       "2                880.143181               1  \n",
       "3               1571.446900               1  \n",
       "4                695.573226               1  \n",
       "\n",
       "[5 rows x 21 columns]"
      ]
     },
     "execution_count": 3,
     "metadata": {},
     "output_type": "execute_result"
    }
   ],
   "source": [
    "# drop the first column of hdb resale prices database\n",
    "hdb_resale_prices.drop(columns=hdb_resale_prices.columns[0], inplace=True)\n",
    "hdb_resale_prices.head()"
   ]
  },
  {
   "cell_type": "markdown",
   "id": "a8be0b49",
   "metadata": {},
   "source": [
    "<h5><b>Checking for Missing Values</b></h5>\n",
    "\n",
    "There are no missing values in the dataset."
   ]
  },
  {
   "cell_type": "code",
   "execution_count": 4,
   "id": "fe17c226",
   "metadata": {},
   "outputs": [
    {
     "data": {
      "text/plain": [
       "month                          0\n",
       "town                           0\n",
       "flat_type                      0\n",
       "storey_range                   0\n",
       "floor_area_sqm                 0\n",
       "flat_model                     0\n",
       "resale_price                   0\n",
       "Latitude                       0\n",
       "Longitude                      0\n",
       "cpi_multiplier                 0\n",
       "cpi_adjusted_price             0\n",
       "year                           0\n",
       "no.of bto                      0\n",
       "resale application          2150\n",
       "demand ratio                2150\n",
       "remaining_lease_months         0\n",
       "address                        0\n",
       "Distance to nearest MRT        0\n",
       "Distance to CBD                0\n",
       "Distance to nearest mall       0\n",
       "isMatureEstate                 0\n",
       "dtype: int64"
      ]
     },
     "execution_count": 4,
     "metadata": {},
     "output_type": "execute_result"
    }
   ],
   "source": [
    "hdb_resale_prices.isnull().sum()"
   ]
  },
  {
   "attachments": {},
   "cell_type": "markdown",
   "id": "12dabad1",
   "metadata": {},
   "source": [
    "<h5><b>Reason for Null Values for Resale Application and Demand Ratio</b></h5>\n",
    "\n",
    "As shown below, the 2150 number of null values for 'resale application' and 'demand ratio' is due to the lack of data for those columns in 2023. There is no data available for the demand for resale flats in 2023. Hence, the resale application and demand ratio is null for 2023."
   ]
  },
  {
   "cell_type": "code",
   "execution_count": 5,
   "id": "6badc0b2",
   "metadata": {},
   "outputs": [
    {
     "data": {
      "text/plain": [
       "month                       2150\n",
       "town                        2150\n",
       "flat_type                   2150\n",
       "storey_range                2150\n",
       "floor_area_sqm              2150\n",
       "flat_model                  2150\n",
       "resale_price                2150\n",
       "Latitude                    2150\n",
       "Longitude                   2150\n",
       "cpi_multiplier              2150\n",
       "cpi_adjusted_price          2150\n",
       "no.of bto                   2150\n",
       "resale application             0\n",
       "demand ratio                   0\n",
       "remaining_lease_months      2150\n",
       "address                     2150\n",
       "Distance to nearest MRT     2150\n",
       "Distance to CBD             2150\n",
       "Distance to nearest mall    2150\n",
       "isMatureEstate              2150\n",
       "Name: 2023, dtype: int64"
      ]
     },
     "execution_count": 5,
     "metadata": {},
     "output_type": "execute_result"
    }
   ],
   "source": [
    "hdb_resale_prices.groupby('year').count().loc[2023]"
   ]
  },
  {
   "cell_type": "code",
   "execution_count": 6,
   "id": "defdf1f6",
   "metadata": {},
   "outputs": [
    {
     "name": "stdout",
     "output_type": "stream",
     "text": [
      "<class 'pandas.core.frame.DataFrame'>\n",
      "RangeIndex: 143259 entries, 0 to 143258\n",
      "Data columns (total 21 columns):\n",
      " #   Column                    Non-Null Count   Dtype  \n",
      "---  ------                    --------------   -----  \n",
      " 0   month                     143259 non-null  object \n",
      " 1   town                      143259 non-null  object \n",
      " 2   flat_type                 143259 non-null  object \n",
      " 3   storey_range              143259 non-null  int64  \n",
      " 4   floor_area_sqm            143259 non-null  float64\n",
      " 5   flat_model                143259 non-null  object \n",
      " 6   resale_price              143259 non-null  float64\n",
      " 7   Latitude                  143259 non-null  float64\n",
      " 8   Longitude                 143259 non-null  float64\n",
      " 9   cpi_multiplier            143259 non-null  float64\n",
      " 10  cpi_adjusted_price        143259 non-null  float64\n",
      " 11  year                      143259 non-null  int64  \n",
      " 12  no.of bto                 143259 non-null  int64  \n",
      " 13  resale application        141109 non-null  float64\n",
      " 14  demand ratio              141109 non-null  float64\n",
      " 15  remaining_lease_months    143259 non-null  int64  \n",
      " 16  address                   143259 non-null  object \n",
      " 17  Distance to nearest MRT   143259 non-null  float64\n",
      " 18  Distance to CBD           143259 non-null  float64\n",
      " 19  Distance to nearest mall  143259 non-null  float64\n",
      " 20  isMatureEstate            143259 non-null  int64  \n",
      "dtypes: float64(11), int64(5), object(5)\n",
      "memory usage: 23.0+ MB\n"
     ]
    }
   ],
   "source": [
    "hdb_resale_prices.info()"
   ]
  },
  {
   "cell_type": "code",
   "execution_count": 7,
   "id": "6e437f73",
   "metadata": {},
   "outputs": [
    {
     "data": {
      "text/html": [
       "<div>\n",
       "<style scoped>\n",
       "    .dataframe tbody tr th:only-of-type {\n",
       "        vertical-align: middle;\n",
       "    }\n",
       "\n",
       "    .dataframe tbody tr th {\n",
       "        vertical-align: top;\n",
       "    }\n",
       "\n",
       "    .dataframe thead th {\n",
       "        text-align: right;\n",
       "    }\n",
       "</style>\n",
       "<table border=\"1\" class=\"dataframe\">\n",
       "  <thead>\n",
       "    <tr style=\"text-align: right;\">\n",
       "      <th></th>\n",
       "      <th>storey_range</th>\n",
       "      <th>floor_area_sqm</th>\n",
       "      <th>resale_price</th>\n",
       "      <th>Latitude</th>\n",
       "      <th>Longitude</th>\n",
       "      <th>cpi_multiplier</th>\n",
       "      <th>cpi_adjusted_price</th>\n",
       "      <th>year</th>\n",
       "      <th>no.of bto</th>\n",
       "      <th>resale application</th>\n",
       "      <th>demand ratio</th>\n",
       "      <th>remaining_lease_months</th>\n",
       "      <th>Distance to nearest MRT</th>\n",
       "      <th>Distance to CBD</th>\n",
       "      <th>Distance to nearest mall</th>\n",
       "      <th>isMatureEstate</th>\n",
       "    </tr>\n",
       "  </thead>\n",
       "  <tbody>\n",
       "    <tr>\n",
       "      <th>count</th>\n",
       "      <td>143259.000000</td>\n",
       "      <td>143259.000000</td>\n",
       "      <td>1.432590e+05</td>\n",
       "      <td>143259.000000</td>\n",
       "      <td>143259.000000</td>\n",
       "      <td>143259.000000</td>\n",
       "      <td>1.432590e+05</td>\n",
       "      <td>143259.000000</td>\n",
       "      <td>143259.000000</td>\n",
       "      <td>141109.000000</td>\n",
       "      <td>141109.000000</td>\n",
       "      <td>143259.000000</td>\n",
       "      <td>143259.000000</td>\n",
       "      <td>143259.000000</td>\n",
       "      <td>143259.000000</td>\n",
       "      <td>143259.000000</td>\n",
       "    </tr>\n",
       "    <tr>\n",
       "      <th>mean</th>\n",
       "      <td>8.752832</td>\n",
       "      <td>98.426986</td>\n",
       "      <td>4.811102e+05</td>\n",
       "      <td>1.367615</td>\n",
       "      <td>103.842061</td>\n",
       "      <td>1.019295</td>\n",
       "      <td>4.912411e+05</td>\n",
       "      <td>2019.738718</td>\n",
       "      <td>14391.102604</td>\n",
       "      <td>25448.035979</td>\n",
       "      <td>1.053241</td>\n",
       "      <td>896.769055</td>\n",
       "      <td>826.874082</td>\n",
       "      <td>12299.141465</td>\n",
       "      <td>655.701838</td>\n",
       "      <td>0.395082</td>\n",
       "    </tr>\n",
       "    <tr>\n",
       "      <th>std</th>\n",
       "      <td>5.953163</td>\n",
       "      <td>23.302954</td>\n",
       "      <td>1.639293e+05</td>\n",
       "      <td>0.042605</td>\n",
       "      <td>0.071205</td>\n",
       "      <td>0.023700</td>\n",
       "      <td>1.705097e+05</td>\n",
       "      <td>1.737609</td>\n",
       "      <td>4090.397156</td>\n",
       "      <td>3114.704168</td>\n",
       "      <td>0.086825</td>\n",
       "      <td>162.275193</td>\n",
       "      <td>465.428696</td>\n",
       "      <td>4402.699264</td>\n",
       "      <td>372.201682</td>\n",
       "      <td>0.488870</td>\n",
       "    </tr>\n",
       "    <tr>\n",
       "      <th>min</th>\n",
       "      <td>2.000000</td>\n",
       "      <td>51.000000</td>\n",
       "      <td>1.400000e+05</td>\n",
       "      <td>1.270380</td>\n",
       "      <td>103.644248</td>\n",
       "      <td>0.997140</td>\n",
       "      <td>1.395996e+05</td>\n",
       "      <td>2017.000000</td>\n",
       "      <td>7314.000000</td>\n",
       "      <td>20894.000000</td>\n",
       "      <td>0.910000</td>\n",
       "      <td>516.000000</td>\n",
       "      <td>31.759538</td>\n",
       "      <td>527.673362</td>\n",
       "      <td>0.000708</td>\n",
       "      <td>0.000000</td>\n",
       "    </tr>\n",
       "    <tr>\n",
       "      <th>25%</th>\n",
       "      <td>5.000000</td>\n",
       "      <td>84.000000</td>\n",
       "      <td>3.600000e+05</td>\n",
       "      <td>1.337020</td>\n",
       "      <td>103.781869</td>\n",
       "      <td>1.000000</td>\n",
       "      <td>3.671007e+05</td>\n",
       "      <td>2018.000000</td>\n",
       "      <td>12114.000000</td>\n",
       "      <td>22005.000000</td>\n",
       "      <td>1.020000</td>\n",
       "      <td>766.000000</td>\n",
       "      <td>469.755281</td>\n",
       "      <td>9580.092801</td>\n",
       "      <td>381.821475</td>\n",
       "      <td>0.000000</td>\n",
       "    </tr>\n",
       "    <tr>\n",
       "      <th>50%</th>\n",
       "      <td>8.000000</td>\n",
       "      <td>95.000000</td>\n",
       "      <td>4.500000e+05</td>\n",
       "      <td>1.367769</td>\n",
       "      <td>103.847231</td>\n",
       "      <td>1.011000</td>\n",
       "      <td>4.575458e+05</td>\n",
       "      <td>2020.000000</td>\n",
       "      <td>13756.000000</td>\n",
       "      <td>26436.000000</td>\n",
       "      <td>1.120000</td>\n",
       "      <td>897.000000</td>\n",
       "      <td>739.025050</td>\n",
       "      <td>13226.217950</td>\n",
       "      <td>586.159628</td>\n",
       "      <td>0.000000</td>\n",
       "    </tr>\n",
       "    <tr>\n",
       "      <th>75%</th>\n",
       "      <td>11.000000</td>\n",
       "      <td>113.000000</td>\n",
       "      <td>5.680000e+05</td>\n",
       "      <td>1.395853</td>\n",
       "      <td>103.899752</td>\n",
       "      <td>1.023720</td>\n",
       "      <td>5.831693e+05</td>\n",
       "      <td>2021.000000</td>\n",
       "      <td>17556.000000</td>\n",
       "      <td>26436.000000</td>\n",
       "      <td>1.130000</td>\n",
       "      <td>1030.000000</td>\n",
       "      <td>1100.184249</td>\n",
       "      <td>15325.212600</td>\n",
       "      <td>863.626024</td>\n",
       "      <td>1.000000</td>\n",
       "    </tr>\n",
       "    <tr>\n",
       "      <th>max</th>\n",
       "      <td>50.000000</td>\n",
       "      <td>249.000000</td>\n",
       "      <td>1.418000e+06</td>\n",
       "      <td>1.457071</td>\n",
       "      <td>103.987463</td>\n",
       "      <td>1.064060</td>\n",
       "      <td>1.508837e+06</td>\n",
       "      <td>2023.000000</td>\n",
       "      <td>20064.000000</td>\n",
       "      <td>30370.000000</td>\n",
       "      <td>1.140000</td>\n",
       "      <td>1173.000000</td>\n",
       "      <td>3646.118783</td>\n",
       "      <td>23064.390350</td>\n",
       "      <td>3999.391261</td>\n",
       "      <td>1.000000</td>\n",
       "    </tr>\n",
       "  </tbody>\n",
       "</table>\n",
       "</div>"
      ],
      "text/plain": [
       "        storey_range  floor_area_sqm  resale_price       Latitude  \\\n",
       "count  143259.000000   143259.000000  1.432590e+05  143259.000000   \n",
       "mean        8.752832       98.426986  4.811102e+05       1.367615   \n",
       "std         5.953163       23.302954  1.639293e+05       0.042605   \n",
       "min         2.000000       51.000000  1.400000e+05       1.270380   \n",
       "25%         5.000000       84.000000  3.600000e+05       1.337020   \n",
       "50%         8.000000       95.000000  4.500000e+05       1.367769   \n",
       "75%        11.000000      113.000000  5.680000e+05       1.395853   \n",
       "max        50.000000      249.000000  1.418000e+06       1.457071   \n",
       "\n",
       "           Longitude  cpi_multiplier  cpi_adjusted_price           year  \\\n",
       "count  143259.000000   143259.000000        1.432590e+05  143259.000000   \n",
       "mean      103.842061        1.019295        4.912411e+05    2019.738718   \n",
       "std         0.071205        0.023700        1.705097e+05       1.737609   \n",
       "min       103.644248        0.997140        1.395996e+05    2017.000000   \n",
       "25%       103.781869        1.000000        3.671007e+05    2018.000000   \n",
       "50%       103.847231        1.011000        4.575458e+05    2020.000000   \n",
       "75%       103.899752        1.023720        5.831693e+05    2021.000000   \n",
       "max       103.987463        1.064060        1.508837e+06    2023.000000   \n",
       "\n",
       "           no.of bto  resale application   demand ratio  \\\n",
       "count  143259.000000       141109.000000  141109.000000   \n",
       "mean    14391.102604        25448.035979       1.053241   \n",
       "std      4090.397156         3114.704168       0.086825   \n",
       "min      7314.000000        20894.000000       0.910000   \n",
       "25%     12114.000000        22005.000000       1.020000   \n",
       "50%     13756.000000        26436.000000       1.120000   \n",
       "75%     17556.000000        26436.000000       1.130000   \n",
       "max     20064.000000        30370.000000       1.140000   \n",
       "\n",
       "       remaining_lease_months  Distance to nearest MRT  Distance to CBD  \\\n",
       "count           143259.000000            143259.000000    143259.000000   \n",
       "mean               896.769055               826.874082     12299.141465   \n",
       "std                162.275193               465.428696      4402.699264   \n",
       "min                516.000000                31.759538       527.673362   \n",
       "25%                766.000000               469.755281      9580.092801   \n",
       "50%                897.000000               739.025050     13226.217950   \n",
       "75%               1030.000000              1100.184249     15325.212600   \n",
       "max               1173.000000              3646.118783     23064.390350   \n",
       "\n",
       "       Distance to nearest mall  isMatureEstate  \n",
       "count             143259.000000   143259.000000  \n",
       "mean                 655.701838        0.395082  \n",
       "std                  372.201682        0.488870  \n",
       "min                    0.000708        0.000000  \n",
       "25%                  381.821475        0.000000  \n",
       "50%                  586.159628        0.000000  \n",
       "75%                  863.626024        1.000000  \n",
       "max                 3999.391261        1.000000  "
      ]
     },
     "execution_count": 7,
     "metadata": {},
     "output_type": "execute_result"
    }
   ],
   "source": [
    "hdb_resale_prices.describe()"
   ]
  },
  {
   "cell_type": "markdown",
   "id": "9e0a6be3",
   "metadata": {},
   "source": [
    "<h1>Exploratory Data Analysis</h1>"
   ]
  },
  {
   "cell_type": "code",
   "execution_count": 13,
   "id": "3398ab93",
   "metadata": {},
   "outputs": [
    {
     "data": {
      "text/plain": [
       "array([[<AxesSubplot:title={'center':'storey_range'}>,\n",
       "        <AxesSubplot:title={'center':'floor_area_sqm'}>,\n",
       "        <AxesSubplot:title={'center':'cpi_adjusted_price'}>],\n",
       "       [<AxesSubplot:title={'center':'no.of bto'}>,\n",
       "        <AxesSubplot:title={'center':'resale application'}>,\n",
       "        <AxesSubplot:title={'center':'demand ratio'}>],\n",
       "       [<AxesSubplot:title={'center':'remaining_lease_months'}>,\n",
       "        <AxesSubplot:title={'center':'Distance to nearest MRT'}>,\n",
       "        <AxesSubplot:title={'center':'Distance to CBD'}>],\n",
       "       [<AxesSubplot:title={'center':'Distance to nearest mall'}>,\n",
       "        <AxesSubplot:>, <AxesSubplot:>]], dtype=object)"
      ]
     },
     "execution_count": 13,
     "metadata": {},
     "output_type": "execute_result"
    },
    {
     "data": {
      "image/png": "[encoded data removed]",
      "text/plain": [
       "<Figure size 1080x1080 with 12 Axes>"
      ]
     },
     "metadata": {
      "needs_background": "light"
     },
     "output_type": "display_data"
    }
   ],
   "source": [
    "numerical = hdb_resale_prices[[\"storey_range\", \"floor_area_sqm\", \"cpi_adjusted_price\", \"no.of bto\", \"resale application\", \"demand ratio\", \"remaining_lease_months\", \"Distance to nearest MRT\", \"Distance to CBD\", \"Distance to nearest mall\"]]\n",
    "numerical.hist(figsize=(15,15))"
   ]
  },
  {
   "cell_type": "code",
   "execution_count": 25,
   "id": "8c63a458",
   "metadata": {},
   "outputs": [
    {
     "data": {
      "image/png": "[encoded data removed]",
      "text/plain": [
       "<Figure size 1080x1080 with 1 Axes>"
      ]
     },
     "metadata": {
      "needs_background": "light"
     },
     "output_type": "display_data"
    },
    {
     "data": {
      "image/png": "[encoded data removed]",
      "text/plain": [
       "<Figure size 864x864 with 1 Axes>"
      ]
     },
     "metadata": {
      "needs_background": "light"
     },
     "output_type": "display_data"
    }
   ],
   "source": [
    "fig, ax = plt.subplots(figsize=(15,15))\n",
    "sns.countplot(data=hdb_resale_prices, x=\"town\", ax=ax)\n",
    "ax.set_title(\"town\")\n",
    "plt.xticks(rotation=45)\n",
    "plt.show()\n",
    "\n",
    "fig, ax = plt.subplots(figsize=(12,12))\n",
    "sns.countplot(data=hdb_resale_prices, x=\"isMatureEstate\", ax=ax)\n",
    "ax.set_title(\"isMatureEstate\")\n",
    "plt.show()"
   ]
  },
  {
   "cell_type": "code",
   "execution_count": null,
   "id": "8c29a06e",
   "metadata": {},
   "outputs": [],
   "source": [
    "hdb_resale_prices.hist(figsize=(20,20))"
   ]
  },
  {
   "cell_type": "markdown",
   "id": "d8067523",
   "metadata": {},
   "source": [
    "### Distribution of Resale Prices\n",
    "<h5><b>Use mean or median resale price?</b></h5>\n",
    "\n",
    "As seen in the plotted histogram for the resale prices from 2017 to 2023, the resale price data is right skewed. Since the price data does not follow a symmetric distribution, we will use the <i><b>median price</b></i> instead of the mean price to represent the average resale price of the flats.\n",
    "\n",
    "The right-skewed KDE plot also suggests that the mean prices are greater than the median."
   ]
  },
  {
   "cell_type": "code",
   "execution_count": null,
   "id": "18948be2",
   "metadata": {},
   "outputs": [],
   "source": [
    "fig, ax = plt.subplots(figsize=(10, 10))\n",
    "sns.boxplot(x=hdb_resale_prices['resale_price'])"
   ]
  },
  {
   "cell_type": "code",
   "execution_count": null,
   "id": "86bed084",
   "metadata": {},
   "outputs": [],
   "source": [
    "fig, ax = plt.subplots(figsize=(10, 10))\n",
    "ax.set_title(\"Distribution of Resale Prices\")\n",
    "\n",
    "sns.histplot(data=hdb_resale_prices, x=\"resale_price\", ax=ax, kde=True)"
   ]
  },
  {
   "attachments": {},
   "cell_type": "markdown",
   "id": "c3d7a83b",
   "metadata": {},
   "source": [
    "<h3>Number of Resale Flats Sold Across the Years</h3>\n"
   ]
  },
  {
   "cell_type": "code",
   "execution_count": null,
   "id": "86fe166e",
   "metadata": {},
   "outputs": [],
   "source": [
    "df_years = hdb_resale_prices.groupby('year').count()\n",
    "df_years"
   ]
  },
  {
   "cell_type": "code",
   "execution_count": null,
   "id": "936fe3e2",
   "metadata": {},
   "outputs": [],
   "source": [
    "fig, ax = plt.subplots(figsize=(10, 10))\n",
    "ax.set_title(\"Number of Resale Flats per Year\")\n",
    "ax.set_ylabel(\"Count\")\n",
    "\n",
    "# plot the data as a line plot\n",
    "sns.lineplot(x=\"year\", y=\"month\", data=df_years, color=\"purple\", ax=ax)\n",
    "\n",
    "# label points on the plot\n",
    "for x, y in zip(df_years.index, df_years[\"month\"]):\n",
    "   # the position of the data label relative to the data point can be adjusted by adding/subtracting a value from the x &/ y coordinates\n",
    "   plt.text(x = x, y = y-150, # y-coordinate position of data label, adjusted to be 150 below the data point\n",
    "   s = \"{:.0f}\".format(y), # data label, formatted to ignore decimals\n",
    "   color = \"purple\") # set colour of line\n",
    "\n",
    "plt.show()"
   ]
  },
  {
   "cell_type": "code",
   "execution_count": null,
   "id": "3fe11bdc",
   "metadata": {},
   "outputs": [],
   "source": [
    "# plot sale of flats across the years\n",
    "fig, ax = plt.subplots(figsize=(10, 10))\n",
    "ax.set_title(\"Number of Resale Flats per Year by Flat Type\")\n",
    "\n",
    "shared_plot = sns.countplot(x=\"year\", hue=\"flat_type\", data=hdb_resale_prices)\n",
    "\n",
    "plt.show()"
   ]
  },
  {
   "cell_type": "markdown",
   "id": "fd894920",
   "metadata": {},
   "source": [
    "<h3>Flat Type Distribution</h3>\n",
    "\n",
    "Based on the plotted bar chart, the majority of the resale flats are 4-room flats and multi-generation flats account for the least number of resale flats."
   ]
  },
  {
   "cell_type": "code",
   "execution_count": null,
   "id": "1286232f",
   "metadata": {},
   "outputs": [],
   "source": [
    "fig, ax = plt.subplots(figsize=(10, 10))\n",
    "sns.countplot(x=hdb_resale_prices['flat_type'], data=hdb_resale_prices)\n",
    "abs_values = hdb_resale_prices['flat_type'].value_counts(ascending=False).values\n",
    "ax.bar_label(container=ax.containers[0], labels=abs_values)\n",
    "ax.set_title('Number of Resale Flats by Flat Type')\n",
    "plt.show()"
   ]
  },
  {
   "attachments": {},
   "cell_type": "markdown",
   "id": "48e42dea",
   "metadata": {},
   "source": [
    "### Resale Price per Year by Flat Type"
   ]
  },
  {
   "cell_type": "code",
   "execution_count": null,
   "id": "65cbe0e5",
   "metadata": {},
   "outputs": [],
   "source": [
    "fig, ax = plt.subplots(figsize=(10, 10))\n",
    "ax.set_title(\"Resale Price per Year by Flat Type\")\n",
    "ax.set_ylabel(\"Resale Price\")\n",
    "\n",
    "# plot the data as a line plot\n",
    "sns.lineplot(x=\"year\", y=\"resale_price\", data=hdb_resale_prices, hue=\"flat_type\")\n",
    "\n",
    "\n",
    "plt.show()"
   ]
  },
  {
   "attachments": {},
   "cell_type": "markdown",
   "id": "68eb50da",
   "metadata": {},
   "source": [
    "### Distribution of Resale Price by Flat Type"
   ]
  },
  {
   "cell_type": "code",
   "execution_count": null,
   "id": "d051e898",
   "metadata": {},
   "outputs": [],
   "source": [
    "# plot distribution of prices against flat type \n",
    "fig, ax = plt.subplots(figsize=(15, 15))\n",
    "\n",
    "# plot boxplot\n",
    "boxplot = sns.boxplot(x=hdb_resale_prices['flat_type'], y=hdb_resale_prices['resale_price'], data=pd.melt(hdb_resale_prices), order=[\"3 ROOM\", \"4 ROOM\", \"5 ROOM\", \"EXECUTIVE\"])\n",
    "\n",
    "# plot stripplot on top of boxplot\n",
    "boxplot = sns.stripplot(x=hdb_resale_prices['flat_type'], y=hdb_resale_prices['resale_price'], data=pd.melt(hdb_resale_prices), marker=\"o\", alpha=0.25, color=\"black\", order=[\"3 ROOM\", \"4 ROOM\", \"5 ROOM\", \"EXECUTIVE\"])\n",
    "\n",
    "# set title and labels\n",
    "boxplot.axes.set_title(\"Distribution of Resale Price by Flat Type\")\n",
    "boxplot.set_xlabel(\"Flat Type\", fontsize=14)\n",
    "boxplot.set_ylabel(\"Resale Price\", fontsize=14)\n",
    "\n",
    "# display median values for each flat type\n",
    "medians = hdb_resale_prices.groupby(['flat_type'])['resale_price'].median()\n",
    "# attach median values to boxplot\n",
    "vertical_offset = hdb_resale_prices['resale_price'].median() * 0.05 # offset from median for display\n",
    "\n",
    "for xtick in boxplot.get_xticks():\n",
    "   boxplot.text(xtick,medians[xtick] + vertical_offset,medians[xtick], horizontalalignment='center',color='w',weight='semibold')\n",
    "\n",
    "plt.show()"
   ]
  },
  {
   "attachments": {},
   "cell_type": "markdown",
   "id": "59474e12",
   "metadata": {},
   "source": [
    "### Identifying Outliers\n",
    "\n",
    "Based on observations of the plotted box plot and strip plot, there seems to be some outliers in 3-room and 4-room flats. To identify the outliers, we will use the <i><b>Interquartile Range (IQR)</b></i> method."
   ]
  },
  {
   "cell_type": "code",
   "execution_count": null,
   "id": "536743fa",
   "metadata": {},
   "outputs": [],
   "source": [
    "df_3room = hdb_resale_prices[hdb_resale_prices['flat_type'] == '3 ROOM']\n",
    "\n",
    "Q1 = df_3room['resale_price'].quantile(0.25)\n",
    "Q3 = df_3room['resale_price'].quantile(0.75)\n",
    "IQR = Q3 - Q1    #IQR is interquartile range. \n",
    "\n",
    "# get low outlier(s)\n",
    "low_3room = df_3room[df_3room['resale_price'] < Q1 - 1.5 * IQR]\n",
    "\n",
    "# get high outlier(s)\n",
    "high_3room = df_3room[df_3room['resale_price'] > Q3 + 1.5 * IQR]"
   ]
  },
  {
   "attachments": {},
   "cell_type": "markdown",
   "id": "af5c8774",
   "metadata": {},
   "source": [
    "### Investigating Low 3 Room Resale Outliers\n",
    "\n",
    "Below shows the outlier 3 room resale flat that has an unusually low resale prie of $140,000, located at Toa Payoh East. Compared to the mean resale price of 3 room flats, the price of this resale flat is 41.97% lower as based on calculations."
   ]
  },
  {
   "cell_type": "code",
   "execution_count": null,
   "id": "04e06161",
   "metadata": {},
   "outputs": [],
   "source": [
    "low_3room"
   ]
  },
  {
   "cell_type": "code",
   "execution_count": null,
   "id": "4bbf1d8a",
   "metadata": {},
   "outputs": [],
   "source": [
    "percentage_diff = 100 - round((df_3room['resale_price'].mean() - low_3room.iloc[0]['resale_price'])/df_3room['resale_price'].mean() * 100, 2)\n",
    "\n",
    "print('Price of low outlier 3 room flat is ' + str(percentage_diff) + \"% lower than the mean price of 3 room flats.\")"
   ]
  },
  {
   "attachments": {},
   "cell_type": "markdown",
   "id": "ddde4eb1",
   "metadata": {},
   "source": [
    "### Investigating High 3 Room Resale Outliers\n",
    "\n",
    "To identify the 7 3-room outliers that are above $1,000,000, we sorted the 3-room resale flats by price in descending order to derive the top 7 records. We observed that all these are located in the Kallang/Whampoa area which is located relatively close to the Central Business District (CBD) of Singapore. Furthermore, they are more premium flat models with a higher floor area. Hence, it is not surprising that these 3-room flats are priced higher than the average 3-room resale flat."
   ]
  },
  {
   "cell_type": "code",
   "execution_count": null,
   "id": "be05bd82",
   "metadata": {},
   "outputs": [],
   "source": [
    "# print shape of high_3room\n",
    "print(high_3room.shape)\n",
    "\n",
    "high_3room.sort_values(by='resale_price', ascending=False).head(7)"
   ]
  },
  {
   "attachments": {},
   "cell_type": "markdown",
   "id": "61748042",
   "metadata": {},
   "source": [
    "### 4 Room Flat Outliers\n",
    "\n",
    "We investigated the 4-room resale flats that have been sold at an unusually high price. Based on the records below, they are located in the central area and relatively close to the CBD and MRT stations like Tanjong Pagar and Outram Park. "
   ]
  },
  {
   "cell_type": "code",
   "execution_count": null,
   "metadata": {},
   "outputs": [],
   "source": [
    "df_4room = hdb_resale_prices[hdb_resale_prices['flat_type'] == '4 ROOM']\n",
    "\n",
    "Q1 = df_4room['resale_price'].quantile(0.25)\n",
    "Q3 = df_4room['resale_price'].quantile(0.75)\n",
    "IQR = Q3 - Q1    #IQR is interquartile range. \n",
    "\n",
    "# get high outlier(s)\n",
    "high_4room = df_4room[df_4room['resale_price'] > Q3 + 1.5 * IQR]\n",
    "\n",
    "# get top 10 highest 4 room resale records\n",
    "high_4room.sort_values(by='resale_price', ascending=False).head(10)"
   ]
  },
  {
   "cell_type": "markdown",
   "id": "5ac072d9",
   "metadata": {},
   "source": [
    "### Investigating the distribution of flat_model"
   ]
  },
  {
   "cell_type": "code",
   "execution_count": null,
   "id": "e15228c6",
   "metadata": {},
   "outputs": [],
   "source": [
    "fig, ax = plt.subplots(figsize=(10, 10))\n",
    "sns.countplot(y='flat_model', data=hdb_resale_prices)\n",
    "abs_values = hdb_resale_prices['flat_model'].value_counts(ascending=False).values\n",
    "ax.bar_label(container=ax.containers[0], labels=abs_values)\n",
    "\n",
    "ax.set_title('Number of Resale Flats by Flat Model')\n",
    "plt.show()"
   ]
  },
  {
   "cell_type": "markdown",
   "id": "50e11553",
   "metadata": {},
   "source": [
    "### Demand for resale\n"
   ]
  },
  {
   "cell_type": "code",
   "execution_count": null,
   "id": "dedcd013",
   "metadata": {},
   "outputs": [],
   "source": [
    "fig, ax = plt.subplots(figsize=(10, 10))\n",
    "sns.countplot(x=hdb_resale_prices['year'], data=hdb_resale_prices)\n",
    "abs_values = hdb_resale_prices['year'].value_counts(ascending=False).values\n",
    "ax.bar_label(container=ax.containers[0], labels=abs_values)\n",
    "ax.set_title('Number of Resale Applications Per Year')\n",
    "plt.show()"
   ]
  },
  {
   "cell_type": "markdown",
   "id": "fa347f36",
   "metadata": {},
   "source": [
    "### Correlation"
   ]
  },
  {
   "cell_type": "code",
   "execution_count": null,
   "id": "944dc616",
   "metadata": {},
   "outputs": [],
   "source": [
    "plt.figure(figsize=(16, 6))\n",
    "corr_df = hdb_resale_prices.corr()\n",
    "hm = sns.heatmap(corr_df, annot=True)"
   ]
  },
  {
   "cell_type": "markdown",
   "id": "6e7caf87",
   "metadata": {},
   "source": [
    "### Investigate if lease is an important factor"
   ]
  },
  {
   "cell_type": "code",
   "execution_count": null,
   "id": "c6f71436",
   "metadata": {},
   "outputs": [],
   "source": [
    "import csv\n",
    "hdb_resale_listings = []\n",
    "\n",
    "with open('final_hdb_resale_prices.csv', newline='', encoding=\"utf8\") as f:\n",
    "    reader = csv.reader(f)\n",
    "    for row in reader:\n",
    "        hdb_resale_listings.append(row)\n",
    "\n",
    "    # Remove header\n",
    "    hdb_resale_listings_headers = hdb_resale_listings[0]\n",
    "    hdb_resale_listings = hdb_resale_listings[1:]\n",
    "    \n",
    "print(hdb_resale_listings[0]) # Print first row of data"
   ]
  },
  {
   "cell_type": "code",
   "execution_count": null,
   "id": "ab9eedb3",
   "metadata": {},
   "outputs": [],
   "source": [
    "average_resale_for_lease_year_remaining = {}\n",
    "for data in hdb_resale_listings:\n",
    "    if round(float(data[16])/12) not in average_resale_for_lease_year_remaining:\n",
    "        average_resale_for_lease_year_remaining[round(float(data[16])/12)] = []\n",
    "        average_resale_for_lease_year_remaining[round(float(data[16])/12)].append(float(data[7]))\n",
    "    else:\n",
    "        average_resale_for_lease_year_remaining[round(float(data[16])/12)].append(float(data[7]))\n",
    "    "
   ]
  },
  {
   "cell_type": "code",
   "execution_count": null,
   "id": "d5706395",
   "metadata": {},
   "outputs": [],
   "source": [
    "for item in average_resale_for_lease_year_remaining:\n",
    "    avg = round(sum(average_resale_for_lease_year_remaining[item])/len(average_resale_for_lease_year_remaining[item]))\n",
    "    average_resale_for_lease_year_remaining[item] = avg"
   ]
  },
  {
   "cell_type": "code",
   "execution_count": null,
   "id": "ed49077e",
   "metadata": {},
   "outputs": [],
   "source": [
    "lease = list(average_resale_for_lease_year_remaining.keys())\n",
    "average_resale_value = list(average_resale_for_lease_year_remaining.values())\n",
    "\n",
    "## Write your code below\n",
    "fig,ax = plt.subplots(figsize=(18,12))\n",
    "ax.plot(lease,average_resale_value,marker='d')\n",
    "ax.set_ylabel('Resale Value')\n",
    "ax.set_xlabel('Lease Remaining')\n",
    "ax.set_title('Average Resale Value for Lease Years Remaining')\n",
    "plt.show()\n"
   ]
  },
  {
   "cell_type": "markdown",
   "id": "4921bfbe",
   "metadata": {},
   "source": [
    "### Investigate how floor area correlate with price"
   ]
  },
  {
   "cell_type": "code",
   "execution_count": null,
   "id": "e6bd6d72",
   "metadata": {},
   "outputs": [],
   "source": [
    "floor_area_sqm = []\n",
    "resale_price = []\n",
    "for data in hdb_resale_listings:\n",
    "    floor_area_sqm.append(float(data[5]))\n",
    "    resale_price.append(float(data[7]))\n",
    "fig,ax = plt.subplots(figsize=(18,12))\n",
    "ax.scatter(floor_area_sqm,resale_price)\n",
    "ax.set_xlabel('Floor Area (in square metres)')\n",
    "ax.set_ylabel('Sale Price (in million SGD)')\n",
    "ax.set_title('Relationship between Floor Area and Resale Price')\n",
    "plt.show()\n"
   ]
  },
  {
   "cell_type": "markdown",
   "id": "1959da99",
   "metadata": {},
   "source": [
    "### Investigating resale counts by town"
   ]
  },
  {
   "cell_type": "code",
   "execution_count": null,
   "id": "ec48f8dd",
   "metadata": {},
   "outputs": [],
   "source": [
    "resale_counts_by_town = {}  # Populate this dictionary with counts\n",
    "\n",
    "import operator\n",
    "## Write your code below\n",
    "\n",
    "for data in hdb_resale_listings:\n",
    "    hdb_town = data[2]\n",
    "    \n",
    "    if hdb_town in resale_counts_by_town:\n",
    "        \n",
    "        resale_counts_by_town[hdb_town] += 1 \n",
    "    \n",
    "    else:\n",
    "        \n",
    "        resale_counts_by_town[hdb_town] = 1\n",
    "\n",
    "    \n",
    "        \n",
    "sorted_resale_counts_by_town = dict(sorted(resale_counts_by_town.items(), key=operator.itemgetter(1),reverse=True))"
   ]
  },
  {
   "cell_type": "code",
   "execution_count": null,
   "id": "85678b3a",
   "metadata": {},
   "outputs": [],
   "source": [
    "resale_counts_sorted_desc = sorted_resale_counts_by_town\n",
    "neighbourhood_listings = list(resale_counts_sorted_desc.keys())\n",
    "num_listings = list(resale_counts_sorted_desc.values())\n",
    "# Import matplotlib library here\n",
    "\n",
    "import matplotlib.pyplot as plt\n",
    "fig,ax = plt.subplots(figsize=(18,12))\n",
    "ax.bar(neighbourhood_listings,num_listings)\n",
    "ax.set_title('Counts of Resale Flats from Jan 2017 to June 2020')\n",
    "ax.set_xticklabels(neighbourhood_listings,rotation = 90)\n",
    "ax.set_ylabel('Number of Resale Flats')\n",
    "ax.set_xlabel('Town')\n",
    "plt.show()"
   ]
  },
  {
   "cell_type": "markdown",
   "id": "4cc95e90",
   "metadata": {},
   "source": [
    "# Folium Clusters"
   ]
  },
  {
   "cell_type": "markdown",
   "id": "1600cc3b",
   "metadata": {},
   "source": [
    "<h3>3 Room</h3>"
   ]
  },
  {
   "cell_type": "code",
   "execution_count": null,
   "id": "54ffd9d0",
   "metadata": {},
   "outputs": [],
   "source": [
    "import folium\n",
    "from folium.plugins import HeatMap\n",
    "lat_long = []\n",
    "## Write your code below\n",
    "for data in hdb_resale_listings:\n",
    "    if data[3] == '3 ROOM':\n",
    "        lat_long.append([data[8],data[9]])\n",
    "map_folium = folium.Map(location=[1.357,103.826], height=350, width=800,zoom_start=11.4)\n",
    "\n",
    "HeatMap(lat_long, radius=8, gradient={0.2:'blue', 0.4:'purple', 0.6:'orange', 1.0:'red'}).add_to(map_folium) \n",
    "\n",
    "display(map_folium)"
   ]
  },
  {
   "cell_type": "code",
   "execution_count": null,
   "id": "4249e106",
   "metadata": {},
   "outputs": [],
   "source": [
    "from folium.plugins import MarkerCluster   \n",
    "## Write your code below (Note: the Folium map output might take a while to load)\n",
    "map_folium = folium.Map(location=[1.357,103.826], height=550, width=900, zoom_start=11.5)\n",
    "\n",
    "marker_cluster = MarkerCluster().add_to(map_folium)\n",
    "for data in hdb_resale_listings:\n",
    "    if data[3] == '3 ROOM':\n",
    "        lat_long_listing = [data[8],data[9]]\n",
    "        pop_display_price = '$' + str(data[6])\n",
    "        tooltipmsg = 'Click to view price'\n",
    "\n",
    "        folium.Marker(lat_long_listing,popup=pop_display_price,tooltip = tooltipmsg).add_to(marker_cluster)\n",
    "\n",
    "display(map_folium)\n"
   ]
  },
  {
   "cell_type": "markdown",
   "id": "1e98d0f9",
   "metadata": {},
   "source": [
    "<h3>4 Room</h3>"
   ]
  },
  {
   "cell_type": "code",
   "execution_count": null,
   "id": "69c3677d",
   "metadata": {},
   "outputs": [],
   "source": [
    "import folium\n",
    "from folium.plugins import HeatMap\n",
    "lat_long = []\n",
    "## Write your code below\n",
    "for data in hdb_resale_listings:\n",
    "    if data[3] == '4 ROOM':\n",
    "        lat_long.append([data[8],data[9]])\n",
    "map_folium = folium.Map(location=[1.357,103.826], height=350, width=800,zoom_start=11.4)\n",
    "\n",
    "HeatMap(lat_long, radius=8, gradient={0.2:'blue', 0.4:'purple', 0.6:'orange', 1.0:'red'}).add_to(map_folium) \n",
    "\n",
    "display(map_folium)\n",
    "\n"
   ]
  },
  {
   "cell_type": "code",
   "execution_count": null,
   "id": "90939983",
   "metadata": {},
   "outputs": [],
   "source": [
    "from folium.plugins import MarkerCluster   \n",
    "## Write your code below (Note: the Folium map output might take a while to load)\n",
    "map_folium = folium.Map(location=[1.357,103.826], height=550, width=900, zoom_start=11.5)\n",
    "\n",
    "marker_cluster = MarkerCluster().add_to(map_folium)\n",
    "for data in hdb_resale_listings:\n",
    "    if data[3] == '4 ROOM':\n",
    "        lat_long_listing = [data[8],data[9]]\n",
    "        pop_display_price = '$' + str(data[6])\n",
    "        tooltipmsg = 'Click to view price'\n",
    "\n",
    "        folium.Marker(lat_long_listing,popup=pop_display_price,tooltip = tooltipmsg).add_to(marker_cluster)\n",
    "\n",
    "display(map_folium)\n"
   ]
  },
  {
   "cell_type": "markdown",
   "id": "6add6ae8",
   "metadata": {},
   "source": [
    "<h3>5 Room</h3>"
   ]
  },
  {
   "cell_type": "code",
   "execution_count": null,
   "id": "43d313f2",
   "metadata": {},
   "outputs": [],
   "source": [
    "import folium\n",
    "from folium.plugins import HeatMap\n",
    "lat_long = []\n",
    "## Write your code below\n",
    "for data in hdb_resale_listings:\n",
    "    if data[3] == '5 ROOM':\n",
    "        lat_long.append([data[8],data[9]])\n",
    "map_folium = folium.Map(location=[1.357,103.826], height=350, width=800,zoom_start=11.4)\n",
    "\n",
    "HeatMap(lat_long, radius=8, gradient={0.2:'blue', 0.4:'purple', 0.6:'orange', 1.0:'red'}).add_to(map_folium) \n",
    "\n",
    "display(map_folium)"
   ]
  },
  {
   "cell_type": "code",
   "execution_count": null,
   "id": "90cbe283",
   "metadata": {},
   "outputs": [],
   "source": [
    "from folium.plugins import MarkerCluster   \n",
    "## Write your code below (Note: the Folium map output might take a while to load)\n",
    "map_folium = folium.Map(location=[1.357,103.826], height=550, width=900, zoom_start=11.5)\n",
    "\n",
    "marker_cluster = MarkerCluster().add_to(map_folium)\n",
    "for data in hdb_resale_listings:\n",
    "    if data[3] == '5 ROOM':\n",
    "        lat_long_listing = [data[8],data[9]]\n",
    "        pop_display_price = '$' + str(data[6])\n",
    "        tooltipmsg = 'Click to view price'\n",
    "\n",
    "        folium.Marker(lat_long_listing,popup=pop_display_price,tooltip = tooltipmsg).add_to(marker_cluster)\n",
    "\n",
    "display(map_folium)"
   ]
  },
  {
   "cell_type": "markdown",
   "id": "30f3f10b",
   "metadata": {},
   "source": [
    "<h3>Executive</h3>"
   ]
  },
  {
   "cell_type": "code",
   "execution_count": null,
   "id": "95aaaf28",
   "metadata": {},
   "outputs": [],
   "source": [
    "import folium\n",
    "from folium.plugins import HeatMap\n",
    "lat_long = []\n",
    "## Write your code below\n",
    "for data in hdb_resale_listings:\n",
    "    if data[3] == 'EXECUTIVE':\n",
    "        lat_long.append([data[8],data[9]])\n",
    "map_folium = folium.Map(location=[1.357,103.826], height=350, width=800,zoom_start=11.4)\n",
    "\n",
    "HeatMap(lat_long, radius=8, gradient={0.2:'blue', 0.4:'purple', 0.6:'orange', 1.0:'red'}).add_to(map_folium) \n",
    "\n",
    "display(map_folium)"
   ]
  },
  {
   "cell_type": "code",
   "execution_count": null,
   "id": "d17d5066",
   "metadata": {},
   "outputs": [],
   "source": [
    "from folium.plugins import MarkerCluster   \n",
    "## Write your code below (Note: the Folium map output might take a while to load)\n",
    "map_folium = folium.Map(location=[1.357,103.826], height=550, width=900, zoom_start=11.5)\n",
    "\n",
    "marker_cluster = MarkerCluster().add_to(map_folium)\n",
    "for data in hdb_resale_listings:\n",
    "    if data[3] == 'EXECUTIVE':\n",
    "        lat_long_listing = [data[8],data[9]]\n",
    "        pop_display_price = '$' + str(data[6])\n",
    "        tooltipmsg = 'Click to view price'\n",
    "\n",
    "        folium.Marker(lat_long_listing,popup=pop_display_price,tooltip = tooltipmsg).add_to(marker_cluster)\n",
    "\n",
    "display(map_folium)"
   ]
  },
  {
   "cell_type": "markdown",
   "id": "88602e9e",
   "metadata": {},
   "source": [
    "# Feature Engineering\n",
    "\n",
    "Based on the studies and analysis performed by other researchers, the following features that have been concluded to be <b>important</b> in determining the prices of HDB resale flats are as follows: \n",
    "- Time Taken to Travel to Central Business District (CBD), Raffles Place\n",
    "- Number of Years Left on Lease\n",
    "- Maturity of Estate\n",
    "<br>\n",
    "\n",
    "We are also considering <b>other factors</b> that have not been explored by other reseearchers. The factors that we have identified are as follows: \n",
    "- Singapore's Inflation Rate\n",
    "- Flat Model\n",
    "- Floor Level\n",
    "- Prices of BTO\n",
    "- Number of BTO Flats Launched that Year\n",
    "- Demand Ratio in Resale Flat\n"
   ]
  },
  {
   "attachments": {},
   "cell_type": "markdown",
   "id": "f6b71019",
   "metadata": {},
   "source": [
    "Before adding these features into our dataset, we will first perform some data cleaning and feature engineering on the existing features in our dataset.\n",
    "\n",
    "- convert the flat condition with quantitative measures\n",
    "- combine the resale prices and the sqm to find the $/sqm (still need to keep sqm to quantify the size!!) \n",
    "- remaining lease should be converted to a ratio \n",
    "- combine the block and street name to obtain the lat,long - from there we can obtain the distance from amentities, distance from public transport, distance from central\n",
    "- using the town --- can also do some quantitative measures to quantify how mature the estate is\n",
    "- average price of the houses of the same category in the area from here we derive the estimated COV\n",
    "- demand-scarcity ratio --- not sure how to quantify this\n",
    "- total sale price of the hdb\n",
    "- there should be a way to convert the storey range to scoring value\n",
    "\n",
    "\n",
    "<b>DISCLAIMER: </b> Some of the feature engineering code can be found in resale_data_processing.ipynb. They have been shifted there for ease of reading and efficiency purposes."
   ]
  },
  {
   "attachments": {},
   "cell_type": "markdown",
   "id": "75d7a518",
   "metadata": {},
   "source": [
    "### Filtering Out Flats That Have Fewer Than 3 Rooms "
   ]
  },
  {
   "attachments": {},
   "cell_type": "markdown",
   "id": "5c56311d",
   "metadata": {},
   "source": [
    "Since the young are more likely to purchase 3,4,5 room and executive flats we decided to drop the records of 1 room, 2room and multi-gen flats."
   ]
  },
  {
   "cell_type": "code",
   "execution_count": null,
   "id": "193348f1",
   "metadata": {},
   "outputs": [],
   "source": [
    "# drop 1room, 2room, and multi-generation flats\n",
    "hdb_resale_prices = hdb_resale_prices[hdb_resale_prices['flat_type'] != '1 ROOM']\n",
    "hdb_resale_prices = hdb_resale_prices[hdb_resale_prices['flat_type'] != '2 ROOM']\n",
    "hdb_resale_prices = hdb_resale_prices[hdb_resale_prices['flat_type'] != 'MULTI-GENERATION']\n",
    "\n",
    "hdb_resale_prices.reset_index(inplace=True)"
   ]
  },
  {
   "cell_type": "code",
   "execution_count": null,
   "id": "4cf26c4d",
   "metadata": {},
   "outputs": [],
   "source": [
    "hdb_resale_prices.head()"
   ]
  },
  {
   "cell_type": "code",
   "execution_count": null,
   "id": "95649ef2",
   "metadata": {},
   "outputs": [],
   "source": [
    "#add year column to dataframe\n",
    "hdb_resale_prices['year'] = pd.DatetimeIndex(hdb_resale_prices['month']).year"
   ]
  },
  {
   "cell_type": "markdown",
   "id": "ded09d36",
   "metadata": {},
   "source": [
    "### Calculating Price Per Square Meter"
   ]
  },
  {
   "cell_type": "code",
   "execution_count": null,
   "id": "fe6da6e7",
   "metadata": {},
   "outputs": [],
   "source": [
    "# add new column to store adjusted resale price \n",
    "hdb_resale_prices['cpi_adjusted_price_per_sqm'] = hdb_resale_prices[\"cpi_adjusted_price\"] / hdb_resale_prices[\"floor_area_sqm\"]\n",
    "hdb_resale_prices.head()"
   ]
  },
  {
   "cell_type": "code",
   "execution_count": null,
   "id": "4d5b6a1f",
   "metadata": {},
   "outputs": [],
   "source": [
    "fig, ax = plt.subplots(figsize=(10, 10))\n",
    "sns.histplot(data=hdb_resale_prices, x=\"cpi_adjusted_price_per_sqm\", ax=ax)\n",
    "\n"
   ]
  },
  {
   "cell_type": "markdown",
   "id": "d205fe32",
   "metadata": {},
   "source": [
    "<h3>IsMature Estate</h3>"
   ]
  },
  {
   "cell_type": "code",
   "execution_count": null,
   "id": "16dee252",
   "metadata": {},
   "outputs": [],
   "source": [
    "# list_mature_estates = [\"ang mo kio\", \n",
    "#                         \"bishan\", \n",
    "#                         \"clementi\",\n",
    "#                         \"bukit merah\",\n",
    "#                         \"bedok\",\n",
    "#                         \"bukit timah\",\n",
    "#                         \"geylang\",\n",
    "#                         \"central\",\n",
    "#                         \"marine parade\",\n",
    "#                         \"queenstown\",\n",
    "#                         \"pasir ris\",\n",
    "#                         \"kallang\" , \"whampoa\", \"marine parade\" , \"serangoon\", \"tampines\", \"toa payoh\"]\n",
    "\n",
    "# for i in range(len(hdb_resale_prices)):\n",
    "#     if hdb_resale_prices.loc[i,'town'].lower() in list_mature_estates:\n",
    "#         hdb_resale_prices.loc[i,'isMatureEstate'] = 1\n",
    "#     else:\n",
    "#         hdb_resale_prices.loc[i,'isMatureEstate'] = 0"
   ]
  },
  {
   "cell_type": "code",
   "execution_count": null,
   "id": "4d69b82a",
   "metadata": {},
   "outputs": [],
   "source": [
    "# hdb_resale_prices.to_csv('final_hdb_resale_prices.csv')"
   ]
  },
  {
   "cell_type": "markdown",
   "id": "4383a719",
   "metadata": {},
   "source": [
    "<h1>Preliminary Models</h1>\n"
   ]
  },
  {
   "cell_type": "code",
   "execution_count": null,
   "id": "0c7b7228",
   "metadata": {},
   "outputs": [],
   "source": [
    "#split training and test data"
   ]
  },
  {
   "cell_type": "code",
   "execution_count": null,
   "id": "6c8cca3f",
   "metadata": {},
   "outputs": [],
   "source": []
  }
 ],
 "metadata": {
  "kernelspec": {
   "display_name": "Python 3 (ipykernel)",
   "language": "python",
   "name": "python3"
  },
  "language_info": {
   "codemirror_mode": {
    "name": "ipython",
    "version": 3
   },
   "file_extension": ".py",
   "mimetype": "text/x-python",
   "name": "python",
   "nbconvert_exporter": "python",
   "pygments_lexer": "ipython3",
   "version": "3.10.4"
  },
  "vscode": {
   "interpreter": {
    "hash": "afb734500600fd355917ca529030176ea0ca205570884b88f2f6f7d791fd3fbe"
   }
  }
 },
 "nbformat": 4,
 "nbformat_minor": 5
}
