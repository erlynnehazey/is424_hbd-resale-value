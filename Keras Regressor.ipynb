{
 "cells": [
  {
   "cell_type": "markdown",
   "id": "6a7b60d9",
   "metadata": {},
   "source": [
    "## CNN"
   ]
  },
  {
   "cell_type": "code",
   "execution_count": 1,
   "id": "5e742ded",
   "metadata": {},
   "outputs": [],
   "source": [
    "import pandas as pd\n",
    "import numpy as np\n",
    "import seaborn as sns"
   ]
  },
  {
   "cell_type": "code",
   "execution_count": 2,
   "id": "eb319ffe",
   "metadata": {},
   "outputs": [],
   "source": [
    "from sklearn import datasets\n",
    "import matplotlib.pyplot as plt\n",
    "import matplotlib.cm as cm\n",
    "from sklearn.metrics import confusion_matrix\n",
    "from sklearn.model_selection import StratifiedKFold as sk\n",
    "from sklearn.tree import DecisionTreeClassifier as dt\n",
    "from sklearn.preprocessing import StandardScaler, scale\n",
    "from sklearn.metrics import accuracy_score as acs\n",
    "from sklearn.metrics import mean_squared_error, r2_score\n",
    "\n",
    "\n",
    "from tensorflow.keras.datasets import mnist\n",
    "from tensorflow.keras.models import Sequential\n",
    "from tensorflow.keras.layers import Conv2D\n",
    "from tensorflow.keras.layers import MaxPool2D\n",
    "from tensorflow.keras.layers import Flatten\n",
    "from tensorflow.keras.layers import Dropout\n",
    "from tensorflow.keras.layers import Dense\n",
    "\n",
    "from tensorflow.keras.models import Sequential\n",
    "from tensorflow.keras.layers import *\n",
    "from tensorflow.keras.losses import MeanSquaredError\n",
    "from tensorflow.keras.metrics import RootMeanSquaredError\n",
    "from tensorflow.keras.optimizers import Adam"
   ]
  },
  {
   "cell_type": "code",
   "execution_count": 3,
   "id": "a3d89476",
   "metadata": {},
   "outputs": [
    {
     "data": {
      "text/html": [
       "<div>\n",
       "<style scoped>\n",
       "    .dataframe tbody tr th:only-of-type {\n",
       "        vertical-align: middle;\n",
       "    }\n",
       "\n",
       "    .dataframe tbody tr th {\n",
       "        vertical-align: top;\n",
       "    }\n",
       "\n",
       "    .dataframe thead th {\n",
       "        text-align: right;\n",
       "    }\n",
       "</style>\n",
       "<table border=\"1\" class=\"dataframe\">\n",
       "  <thead>\n",
       "    <tr style=\"text-align: right;\">\n",
       "      <th></th>\n",
       "      <th>storey_range</th>\n",
       "      <th>floor_area_sqm</th>\n",
       "      <th>no.of bto</th>\n",
       "      <th>resale application</th>\n",
       "      <th>remaining_lease_months</th>\n",
       "      <th>Distance to nearest MRT</th>\n",
       "      <th>Distance to CBD</th>\n",
       "      <th>isMatureEstate</th>\n",
       "      <th>cpi_adjusted_price_per_sqm</th>\n",
       "    </tr>\n",
       "  </thead>\n",
       "  <tbody>\n",
       "    <tr>\n",
       "      <th>0</th>\n",
       "      <td>0.0625</td>\n",
       "      <td>0.114583</td>\n",
       "      <td>0.0</td>\n",
       "      <td>0.0</td>\n",
       "      <td>0.229833</td>\n",
       "      <td>0.242702</td>\n",
       "      <td>0.377101</td>\n",
       "      <td>1.0</td>\n",
       "      <td>0.113027</td>\n",
       "    </tr>\n",
       "    <tr>\n",
       "      <th>1</th>\n",
       "      <td>0.3750</td>\n",
       "      <td>0.098958</td>\n",
       "      <td>0.0</td>\n",
       "      <td>0.0</td>\n",
       "      <td>0.888889</td>\n",
       "      <td>0.181339</td>\n",
       "      <td>0.376605</td>\n",
       "      <td>1.0</td>\n",
       "      <td>0.339299</td>\n",
       "    </tr>\n",
       "    <tr>\n",
       "      <th>2</th>\n",
       "      <td>0.0000</td>\n",
       "      <td>0.114583</td>\n",
       "      <td>0.0</td>\n",
       "      <td>0.0</td>\n",
       "      <td>0.243531</td>\n",
       "      <td>0.153615</td>\n",
       "      <td>0.373691</td>\n",
       "      <td>1.0</td>\n",
       "      <td>0.077851</td>\n",
       "    </tr>\n",
       "    <tr>\n",
       "      <th>3</th>\n",
       "      <td>0.0625</td>\n",
       "      <td>0.114583</td>\n",
       "      <td>0.0</td>\n",
       "      <td>0.0</td>\n",
       "      <td>0.223744</td>\n",
       "      <td>0.212727</td>\n",
       "      <td>0.381423</td>\n",
       "      <td>1.0</td>\n",
       "      <td>0.128102</td>\n",
       "    </tr>\n",
       "    <tr>\n",
       "      <th>4</th>\n",
       "      <td>0.1250</td>\n",
       "      <td>0.088542</td>\n",
       "      <td>0.0</td>\n",
       "      <td>0.0</td>\n",
       "      <td>0.292237</td>\n",
       "      <td>0.247779</td>\n",
       "      <td>0.408523</td>\n",
       "      <td>1.0</td>\n",
       "      <td>0.084059</td>\n",
       "    </tr>\n",
       "  </tbody>\n",
       "</table>\n",
       "</div>"
      ],
      "text/plain": [
       "   storey_range  floor_area_sqm  no.of bto  resale application  \\\n",
       "0        0.0625        0.114583        0.0                 0.0   \n",
       "1        0.3750        0.098958        0.0                 0.0   \n",
       "2        0.0000        0.114583        0.0                 0.0   \n",
       "3        0.0625        0.114583        0.0                 0.0   \n",
       "4        0.1250        0.088542        0.0                 0.0   \n",
       "\n",
       "   remaining_lease_months  Distance to nearest MRT  Distance to CBD  \\\n",
       "0                0.229833                 0.242702         0.377101   \n",
       "1                0.888889                 0.181339         0.376605   \n",
       "2                0.243531                 0.153615         0.373691   \n",
       "3                0.223744                 0.212727         0.381423   \n",
       "4                0.292237                 0.247779         0.408523   \n",
       "\n",
       "   isMatureEstate  cpi_adjusted_price_per_sqm  \n",
       "0             1.0                    0.113027  \n",
       "1             1.0                    0.339299  \n",
       "2             1.0                    0.077851  \n",
       "3             1.0                    0.128102  \n",
       "4             1.0                    0.084059  "
      ]
     },
     "execution_count": 3,
     "metadata": {},
     "output_type": "execute_result"
    }
   ],
   "source": [
    "hdb_model_data = pd.read_csv(\"hdb_model_data.csv\")\n",
    "hdb_model_data.head()"
   ]
  },
  {
   "cell_type": "code",
   "execution_count": 4,
   "id": "480cd702",
   "metadata": {},
   "outputs": [],
   "source": [
    "X = hdb_model_data.iloc[:,0:8]\n",
    "y= hdb_model_data.iloc[:,-1]  \n"
   ]
  },
  {
   "cell_type": "code",
   "execution_count": 5,
   "id": "f5cfc71a",
   "metadata": {},
   "outputs": [],
   "source": [
    "from sklearn.model_selection import train_test_split\n",
    "X_train,X_test,y_train,y_test = train_test_split(X,y,test_size=0.2,random_state=42)"
   ]
  },
  {
   "cell_type": "code",
   "execution_count": 6,
   "id": "c0d2cbe5",
   "metadata": {},
   "outputs": [],
   "source": [
    "model = Sequential()\n",
    "model.add(Dense(64, input_dim=X_train.shape[1], activation='relu'))\n",
    "model.add(Dense(32, activation='relu'))\n",
    "model.add(Dense(1, activation='linear'))\n"
   ]
  },
  {
   "cell_type": "code",
   "execution_count": 7,
   "id": "93a55ab6",
   "metadata": {},
   "outputs": [],
   "source": [
    "model.compile(loss='mean_squared_error', optimizer='adam', metrics=['mean_absolute_error'])"
   ]
  },
  {
   "cell_type": "code",
   "execution_count": 11,
   "id": "09827125",
   "metadata": {},
   "outputs": [
    {
     "name": "stdout",
     "output_type": "stream",
     "text": [
      "Epoch 1/10\n",
      "1946/1946 [==============================] - 3s 1ms/step - loss: 0.0013 - mean_absolute_error: 0.0270\n",
      "Epoch 2/10\n",
      "1946/1946 [==============================] - 3s 1ms/step - loss: 0.0013 - mean_absolute_error: 0.0268\n",
      "Epoch 3/10\n",
      "1946/1946 [==============================] - 3s 1ms/step - loss: 0.0013 - mean_absolute_error: 0.0267\n",
      "Epoch 4/10\n",
      "1946/1946 [==============================] - 3s 1ms/step - loss: 0.0013 - mean_absolute_error: 0.0266\n",
      "Epoch 5/10\n",
      "1946/1946 [==============================] - 3s 1ms/step - loss: 0.0013 - mean_absolute_error: 0.0264\n",
      "Epoch 6/10\n",
      "1946/1946 [==============================] - 3s 1ms/step - loss: 0.0013 - mean_absolute_error: 0.0264\n",
      "Epoch 7/10\n",
      "1946/1946 [==============================] - 3s 1ms/step - loss: 0.0012 - mean_absolute_error: 0.0263\n",
      "Epoch 8/10\n",
      "1946/1946 [==============================] - 3s 1ms/step - loss: 0.0012 - mean_absolute_error: 0.0262\n",
      "Epoch 9/10\n",
      "1946/1946 [==============================] - 4s 2ms/step - loss: 0.0012 - mean_absolute_error: 0.0262\n",
      "Epoch 10/10\n",
      "1946/1946 [==============================] - 3s 2ms/step - loss: 0.0012 - mean_absolute_error: 0.0261\n"
     ]
    }
   ],
   "source": [
    "history = model.fit(X_train, y_train, epochs=10, batch_size=32)\n"
   ]
  },
  {
   "cell_type": "code",
   "execution_count": 10,
   "id": "7c6257f6",
   "metadata": {},
   "outputs": [
    {
     "name": "stdout",
     "output_type": "stream",
     "text": [
      "487/487 [==============================] - 1s 1ms/step\n"
     ]
    }
   ],
   "source": [
    "predictions = model.predict(X_test)"
   ]
  },
  {
   "cell_type": "code",
   "execution_count": 24,
   "id": "84aa5e3e",
   "metadata": {},
   "outputs": [
    {
     "name": "stdout",
     "output_type": "stream",
     "text": [
      "487/487 [==============================] - 1s 1ms/step - loss: 0.0013 - mean_absolute_error: 0.0266\n",
      "Mean Squared Error:0.0012865513563156128\n",
      "Coefficient of determination test(R2): 0.89\n"
     ]
    }
   ],
   "source": [
    "#evaluting the model\n",
    "from sklearn import metrics\n",
    "mse, mae = model.evaluate(X_test, y_test)\n",
    "print(\"Mean Squared Error:\" + str(mse))\n",
    "print(\"Coefficient of determination test(R2): %.2f\" % metrics.r2_score(y_test, predictions).round(2))"
   ]
  },
  {
   "cell_type": "code",
   "execution_count": 14,
   "id": "fb662a1a",
   "metadata": {},
   "outputs": [],
   "source": [
    "# Get training and test loss histories\n",
    "# training_loss = history.history['loss']\n",
    "# test_loss = history.history['val_loss']\n",
    "\n",
    "# # Create count of the number of epochs\n",
    "# epoch_count = range(1, len(training_loss) + 1)\n",
    "\n",
    "# # Visualize loss history\n",
    "# plt.plot(epoch_count, training_loss, 'r--')\n",
    "# plt.plot(epoch_count, test_loss, 'b-')\n",
    "# plt.legend(['Training Loss', 'Test Loss'])\n",
    "# plt.xlabel('Epoch')\n",
    "# plt.ylabel('Loss')\n",
    "# plt.show();"
   ]
  },
  {
   "cell_type": "code",
   "execution_count": 13,
   "id": "1cb0f95a",
   "metadata": {},
   "outputs": [],
   "source": [
    "# plt.plot(history.history['accuracy'], label='accuracy')\n",
    "# plt.plot(history.history['val_accuracy'], label = 'val_accuracy')\n",
    "# plt.xlabel('Epoch')\n",
    "# plt.ylabel('Accuracy')\n",
    "# plt.ylim([0.5, 1])\n",
    "# plt.legend(loc='lower right')\n",
    "\n",
    "# test_loss, test_acc = model.evaluate(X_test, y_test, verbose=2)"
   ]
  },
  {
   "cell_type": "code",
   "execution_count": null,
   "id": "efe49762",
   "metadata": {},
   "outputs": [],
   "source": []
  }
 ],
 "metadata": {
  "kernelspec": {
   "display_name": "Python 3 (ipykernel)",
   "language": "python",
   "name": "python3"
  },
  "language_info": {
   "codemirror_mode": {
    "name": "ipython",
    "version": 3
   },
   "file_extension": ".py",
   "mimetype": "text/x-python",
   "name": "python",
   "nbconvert_exporter": "python",
   "pygments_lexer": "ipython3",
   "version": "3.9.13"
  }
 },
 "nbformat": 4,
 "nbformat_minor": 5
}
