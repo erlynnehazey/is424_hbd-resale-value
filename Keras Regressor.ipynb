{
 "cells": [
  {
   "cell_type": "markdown",
   "id": "6a7b60d9",
   "metadata": {},
   "source": [
    "## Keras Regressor"
   ]
  },
  {
   "cell_type": "code",
   "execution_count": 26,
   "id": "5e742ded",
   "metadata": {},
   "outputs": [],
   "source": [
    "import pandas as pd\n",
    "import numpy as np\n",
    "import seaborn as sns"
   ]
  },
  {
   "cell_type": "code",
   "execution_count": 27,
   "id": "eb319ffe",
   "metadata": {},
   "outputs": [],
   "source": [
    "from sklearn import datasets\n",
    "import matplotlib.pyplot as plt\n",
    "import matplotlib.cm as cm\n",
    "from sklearn.metrics import confusion_matrix\n",
    "from sklearn.model_selection import StratifiedKFold as sk\n",
    "from sklearn.tree import DecisionTreeClassifier as dt\n",
    "from sklearn.preprocessing import StandardScaler, scale\n",
    "from sklearn.metrics import accuracy_score as acs\n",
    "from sklearn.metrics import mean_squared_error, r2_score\n",
    "\n",
    "\n",
    "from tensorflow.keras.datasets import mnist\n",
    "from tensorflow.keras.models import Sequential\n",
    "from tensorflow.keras.layers import Conv2D\n",
    "from tensorflow.keras.layers import MaxPool2D\n",
    "from tensorflow.keras.layers import Flatten\n",
    "from tensorflow.keras.layers import Dropout\n",
    "from tensorflow.keras.layers import Dense\n",
    "\n",
    "from tensorflow.keras.models import Sequential\n",
    "from tensorflow.keras.layers import *\n",
    "from tensorflow.keras.losses import MeanSquaredError\n",
    "from tensorflow.keras.metrics import RootMeanSquaredError\n",
    "from tensorflow.keras.optimizers import Adam"
   ]
  },
  {
   "cell_type": "code",
   "execution_count": 28,
   "id": "a3d89476",
   "metadata": {},
   "outputs": [
    {
     "data": {
      "text/html": [
       "<div>\n",
       "<style scoped>\n",
       "    .dataframe tbody tr th:only-of-type {\n",
       "        vertical-align: middle;\n",
       "    }\n",
       "\n",
       "    .dataframe tbody tr th {\n",
       "        vertical-align: top;\n",
       "    }\n",
       "\n",
       "    .dataframe thead th {\n",
       "        text-align: right;\n",
       "    }\n",
       "</style>\n",
       "<table border=\"1\" class=\"dataframe\">\n",
       "  <thead>\n",
       "    <tr style=\"text-align: right;\">\n",
       "      <th></th>\n",
       "      <th>storey_range</th>\n",
       "      <th>floor_area_sqm</th>\n",
       "      <th>no.of bto</th>\n",
       "      <th>resale application</th>\n",
       "      <th>remaining_lease_months</th>\n",
       "      <th>Distance to nearest MRT</th>\n",
       "      <th>Distance to CBD</th>\n",
       "      <th>isMatureEstate</th>\n",
       "      <th>cpi_adjusted_price_per_sqm</th>\n",
       "    </tr>\n",
       "  </thead>\n",
       "  <tbody>\n",
       "    <tr>\n",
       "      <th>0</th>\n",
       "      <td>5</td>\n",
       "      <td>73.0</td>\n",
       "      <td>7314</td>\n",
       "      <td>26436.0</td>\n",
       "      <td>667</td>\n",
       "      <td>908.970521</td>\n",
       "      <td>9026.295266</td>\n",
       "      <td>1</td>\n",
       "      <td>3619.754795</td>\n",
       "    </tr>\n",
       "    <tr>\n",
       "      <th>1</th>\n",
       "      <td>20</td>\n",
       "      <td>70.0</td>\n",
       "      <td>7314</td>\n",
       "      <td>26436.0</td>\n",
       "      <td>1100</td>\n",
       "      <td>687.185319</td>\n",
       "      <td>9015.122154</td>\n",
       "      <td>1</td>\n",
       "      <td>6695.082857</td>\n",
       "    </tr>\n",
       "    <tr>\n",
       "      <th>2</th>\n",
       "      <td>2</td>\n",
       "      <td>73.0</td>\n",
       "      <td>7314</td>\n",
       "      <td>26436.0</td>\n",
       "      <td>676</td>\n",
       "      <td>586.980690</td>\n",
       "      <td>8949.443986</td>\n",
       "      <td>1</td>\n",
       "      <td>3141.673973</td>\n",
       "    </tr>\n",
       "    <tr>\n",
       "      <th>3</th>\n",
       "      <td>5</td>\n",
       "      <td>73.0</td>\n",
       "      <td>7314</td>\n",
       "      <td>26436.0</td>\n",
       "      <td>663</td>\n",
       "      <td>800.631299</td>\n",
       "      <td>9123.690385</td>\n",
       "      <td>1</td>\n",
       "      <td>3824.646575</td>\n",
       "    </tr>\n",
       "    <tr>\n",
       "      <th>4</th>\n",
       "      <td>8</td>\n",
       "      <td>68.0</td>\n",
       "      <td>7314</td>\n",
       "      <td>26436.0</td>\n",
       "      <td>708</td>\n",
       "      <td>927.322849</td>\n",
       "      <td>9734.443856</td>\n",
       "      <td>1</td>\n",
       "      <td>3226.041176</td>\n",
       "    </tr>\n",
       "  </tbody>\n",
       "</table>\n",
       "</div>"
      ],
      "text/plain": [
       "   storey_range  floor_area_sqm  no.of bto  resale application  \\\n",
       "0             5            73.0       7314             26436.0   \n",
       "1            20            70.0       7314             26436.0   \n",
       "2             2            73.0       7314             26436.0   \n",
       "3             5            73.0       7314             26436.0   \n",
       "4             8            68.0       7314             26436.0   \n",
       "\n",
       "   remaining_lease_months  Distance to nearest MRT  Distance to CBD  \\\n",
       "0                     667               908.970521      9026.295266   \n",
       "1                    1100               687.185319      9015.122154   \n",
       "2                     676               586.980690      8949.443986   \n",
       "3                     663               800.631299      9123.690385   \n",
       "4                     708               927.322849      9734.443856   \n",
       "\n",
       "   isMatureEstate  cpi_adjusted_price_per_sqm  \n",
       "0               1                 3619.754795  \n",
       "1               1                 6695.082857  \n",
       "2               1                 3141.673973  \n",
       "3               1                 3824.646575  \n",
       "4               1                 3226.041176  "
      ]
     },
     "execution_count": 28,
     "metadata": {},
     "output_type": "execute_result"
    }
   ],
   "source": [
    "hdb_model_data = pd.read_csv(\"hdb_model_data_regression.csv\")\n",
    "hdb_model_data.head()"
   ]
  },
  {
   "cell_type": "code",
   "execution_count": 29,
   "id": "480cd702",
   "metadata": {},
   "outputs": [],
   "source": [
    "X = hdb_model_data.iloc[:,0:8]\n",
    "y= hdb_model_data.iloc[:,-1]  \n"
   ]
  },
  {
   "cell_type": "code",
   "execution_count": 30,
   "id": "f5cfc71a",
   "metadata": {},
   "outputs": [],
   "source": [
    "from sklearn.model_selection import train_test_split\n",
    "X_train,X_test,y_train,y_test = train_test_split(X,y,test_size=0.2,random_state=42)"
   ]
  },
  {
   "cell_type": "code",
   "execution_count": 31,
   "id": "c0d2cbe5",
   "metadata": {},
   "outputs": [],
   "source": [
    "model = Sequential()\n",
    "model.add(Dense(64, input_dim=X_train.shape[1], activation='relu'))\n",
    "model.add(Dense(32, activation='relu'))\n",
    "model.add(Dense(1, activation='linear'))\n"
   ]
  },
  {
   "cell_type": "code",
   "execution_count": 32,
   "id": "93a55ab6",
   "metadata": {},
   "outputs": [],
   "source": [
    "model.compile(loss='mean_squared_error', optimizer='adam', metrics=['mean_absolute_error'])"
   ]
  },
  {
   "cell_type": "code",
   "execution_count": 33,
   "id": "09827125",
   "metadata": {},
   "outputs": [
    {
     "name": "stdout",
     "output_type": "stream",
     "text": [
      "Epoch 1/10\n",
      "1946/1946 [==============================] - 24s 4ms/step - loss: 1380266.0000 - mean_absolute_error: 778.0518\n",
      "Epoch 2/10\n",
      "1946/1946 [==============================] - 7s 3ms/step - loss: 504280.9688 - mean_absolute_error: 533.6431\n",
      "Epoch 3/10\n",
      "1946/1946 [==============================] - 6s 3ms/step - loss: 433237.3125 - mean_absolute_error: 496.3868\n",
      "Epoch 4/10\n",
      "1946/1946 [==============================] - 7s 3ms/step - loss: 403194.5625 - mean_absolute_error: 478.4363\n",
      "Epoch 5/10\n",
      "1946/1946 [==============================] - 7s 3ms/step - loss: 379781.6250 - mean_absolute_error: 464.6330\n",
      "Epoch 6/10\n",
      "1946/1946 [==============================] - 6s 3ms/step - loss: 366556.3125 - mean_absolute_error: 455.5874\n",
      "Epoch 7/10\n",
      "1946/1946 [==============================] - 14s 7ms/step - loss: 362593.9375 - mean_absolute_error: 452.8467\n",
      "Epoch 8/10\n",
      "1946/1946 [==============================] - 6s 3ms/step - loss: 356110.4062 - mean_absolute_error: 448.7003\n",
      "Epoch 9/10\n",
      "1946/1946 [==============================] - 8s 4ms/step - loss: 347487.9375 - mean_absolute_error: 442.9380\n",
      "Epoch 10/10\n",
      "1946/1946 [==============================] - 9s 5ms/step - loss: 343012.6250 - mean_absolute_error: 439.7064\n"
     ]
    }
   ],
   "source": [
    "history = model.fit(X_train, y_train, epochs=10, batch_size=32)\n"
   ]
  },
  {
   "cell_type": "code",
   "execution_count": 34,
   "id": "7c6257f6",
   "metadata": {},
   "outputs": [
    {
     "name": "stdout",
     "output_type": "stream",
     "text": [
      "487/487 [==============================] - 1s 2ms/step\n"
     ]
    }
   ],
   "source": [
    "predictions = model.predict(X_test)"
   ]
  },
  {
   "cell_type": "code",
   "execution_count": 35,
   "id": "84aa5e3e",
   "metadata": {},
   "outputs": [
    {
     "name": "stdout",
     "output_type": "stream",
     "text": [
      "487/487 [==============================] - 2s 3ms/step - loss: 321484.9688 - mean_absolute_error: 417.7964\n",
      "Mean Squared Error:321484.96875\n",
      "Root Mean Squared Error:  566.996445094676\n",
      "Coefficient of determination test(R2): 0.85\n",
      "Adjusted R2:  0.8486045288298643\n",
      "Mean Squared Log Error:  0.010650346278443527\n"
     ]
    }
   ],
   "source": [
    "#evaluting the model\n",
    "from sklearn import metrics\n",
    "import math\n",
    "mse, mae = model.evaluate(X_test, y_test)\n",
    "print(\"Mean Squared Error:\" + str(mse))\n",
    "rmse = math.sqrt(mse)  \n",
    "print(\"Root Mean Squared Error: \", rmse)\n",
    "print(\"Coefficient of determination test(R2): %.2f\" % metrics.r2_score(y_test, predictions).round(2))\n",
    "adj_r2 = 1 - (1-metrics.r2_score(y_test, predictions))*(len(y_test)-1)/(len(y_test)-X_test.shape[1]-1)\n",
    "print(\"Adjusted R2: \", adj_r2)\n",
    "msle = metrics.mean_squared_log_error(y_test, predictions)\n",
    "print(\"Mean Squared Log Error: \", msle)"
   ]
  },
  {
   "cell_type": "code",
   "execution_count": 36,
   "id": "fb662a1a",
   "metadata": {},
   "outputs": [],
   "source": [
    "# Get training and test loss histories\n",
    "# training_loss = history.history['loss']\n",
    "# test_loss = history.history['val_loss']\n",
    "\n",
    "# # Create count of the number of epochs\n",
    "# epoch_count = range(1, len(training_loss) + 1)\n",
    "\n",
    "# # Visualize loss history\n",
    "# plt.plot(epoch_count, training_loss, 'r--')\n",
    "# plt.plot(epoch_count, test_loss, 'b-')\n",
    "# plt.legend(['Training Loss', 'Test Loss'])\n",
    "# plt.xlabel('Epoch')\n",
    "# plt.ylabel('Loss')\n",
    "# plt.show();"
   ]
  },
  {
   "cell_type": "code",
   "execution_count": 37,
   "id": "1cb0f95a",
   "metadata": {},
   "outputs": [],
   "source": [
    "# plt.plot(history.history['accuracy'], label='accuracy')\n",
    "# plt.plot(history.history['val_accuracy'], label = 'val_accuracy')\n",
    "# plt.xlabel('Epoch')\n",
    "# plt.ylabel('Accuracy')\n",
    "# plt.ylim([0.5, 1])\n",
    "# plt.legend(loc='lower right')\n",
    "\n",
    "# test_loss, test_acc = model.evaluate(X_test, y_test, verbose=2)"
   ]
  },
  {
   "cell_type": "code",
   "execution_count": null,
   "id": "efe49762",
   "metadata": {},
   "outputs": [],
   "source": []
  }
 ],
 "metadata": {
  "kernelspec": {
   "display_name": "Python 3 (ipykernel)",
   "language": "python",
   "name": "python3"
  },
  "language_info": {
   "codemirror_mode": {
    "name": "ipython",
    "version": 3
   },
   "file_extension": ".py",
   "mimetype": "text/x-python",
   "name": "python",
   "nbconvert_exporter": "python",
   "pygments_lexer": "ipython3",
   "version": "3.9.13"
  }
 },
 "nbformat": 4,
 "nbformat_minor": 5
}
