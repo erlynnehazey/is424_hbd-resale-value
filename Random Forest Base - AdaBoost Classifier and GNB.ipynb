{
 "cells": [
  {
   "cell_type": "markdown",
   "id": "d1d87f8e",
   "metadata": {},
   "source": [
    "### AdaBoost Classifier and GNB"
   ]
  },
  {
   "cell_type": "code",
   "execution_count": 67,
   "id": "441c0746",
   "metadata": {},
   "outputs": [],
   "source": [
    "import pandas as pd\n",
    "import numpy as np\n",
    "import seaborn as sns"
   ]
  },
  {
   "cell_type": "code",
   "execution_count": 68,
   "id": "c2a55be4",
   "metadata": {},
   "outputs": [],
   "source": [
    "from sklearn import datasets\n",
    "import matplotlib.pyplot as plt\n",
    "import matplotlib.cm as cm\n",
    "from sklearn.metrics import confusion_matrix\n",
    "from sklearn.model_selection import StratifiedKFold as sk\n",
    "from sklearn.tree import DecisionTreeClassifier as dt\n",
    "from sklearn.preprocessing import StandardScaler, scale\n",
    "from sklearn.metrics import accuracy_score as acs\n",
    "\n",
    "#Libraries for data pre-processing\n",
    "from sklearn import metrics\n",
    "from sklearn.model_selection import train_test_split\n",
    "from sklearn.metrics import confusion_matrix\n",
    "from sklearn.metrics import accuracy_score\n",
    "from sklearn.metrics import f1_score\n",
    "from sklearn import preprocessing\n",
    "\n",
    "#For AdaBoost Classifier and GNB\n",
    "from sklearn.ensemble import AdaBoostClassifier\n",
    "from sklearn.naive_bayes import GaussianNB"
   ]
  },
  {
   "cell_type": "code",
   "execution_count": 69,
   "id": "06e43768",
   "metadata": {},
   "outputs": [
    {
     "data": {
      "text/html": [
       "<div>\n",
       "<style scoped>\n",
       "    .dataframe tbody tr th:only-of-type {\n",
       "        vertical-align: middle;\n",
       "    }\n",
       "\n",
       "    .dataframe tbody tr th {\n",
       "        vertical-align: top;\n",
       "    }\n",
       "\n",
       "    .dataframe thead th {\n",
       "        text-align: right;\n",
       "    }\n",
       "</style>\n",
       "<table border=\"1\" class=\"dataframe\">\n",
       "  <thead>\n",
       "    <tr style=\"text-align: right;\">\n",
       "      <th></th>\n",
       "      <th>storey_range</th>\n",
       "      <th>floor_area_sqm</th>\n",
       "      <th>no.of bto</th>\n",
       "      <th>resale application</th>\n",
       "      <th>remaining_lease_months</th>\n",
       "      <th>Distance to nearest MRT</th>\n",
       "      <th>Distance to CBD</th>\n",
       "      <th>isMatureEstate</th>\n",
       "      <th>over_under_classification</th>\n",
       "    </tr>\n",
       "  </thead>\n",
       "  <tbody>\n",
       "    <tr>\n",
       "      <th>0</th>\n",
       "      <td>0.0625</td>\n",
       "      <td>0.114583</td>\n",
       "      <td>0.0</td>\n",
       "      <td>0.0</td>\n",
       "      <td>0.229833</td>\n",
       "      <td>0.242702</td>\n",
       "      <td>0.377101</td>\n",
       "      <td>1.0</td>\n",
       "      <td>0</td>\n",
       "    </tr>\n",
       "    <tr>\n",
       "      <th>1</th>\n",
       "      <td>0.3750</td>\n",
       "      <td>0.098958</td>\n",
       "      <td>0.0</td>\n",
       "      <td>0.0</td>\n",
       "      <td>0.888889</td>\n",
       "      <td>0.181339</td>\n",
       "      <td>0.376605</td>\n",
       "      <td>1.0</td>\n",
       "      <td>0</td>\n",
       "    </tr>\n",
       "    <tr>\n",
       "      <th>2</th>\n",
       "      <td>0.0000</td>\n",
       "      <td>0.114583</td>\n",
       "      <td>0.0</td>\n",
       "      <td>0.0</td>\n",
       "      <td>0.243531</td>\n",
       "      <td>0.153615</td>\n",
       "      <td>0.373691</td>\n",
       "      <td>1.0</td>\n",
       "      <td>0</td>\n",
       "    </tr>\n",
       "    <tr>\n",
       "      <th>3</th>\n",
       "      <td>0.0625</td>\n",
       "      <td>0.114583</td>\n",
       "      <td>0.0</td>\n",
       "      <td>0.0</td>\n",
       "      <td>0.223744</td>\n",
       "      <td>0.212727</td>\n",
       "      <td>0.381423</td>\n",
       "      <td>1.0</td>\n",
       "      <td>0</td>\n",
       "    </tr>\n",
       "    <tr>\n",
       "      <th>4</th>\n",
       "      <td>0.1250</td>\n",
       "      <td>0.088542</td>\n",
       "      <td>0.0</td>\n",
       "      <td>0.0</td>\n",
       "      <td>0.292237</td>\n",
       "      <td>0.247779</td>\n",
       "      <td>0.408523</td>\n",
       "      <td>1.0</td>\n",
       "      <td>0</td>\n",
       "    </tr>\n",
       "  </tbody>\n",
       "</table>\n",
       "</div>"
      ],
      "text/plain": [
       "   storey_range  floor_area_sqm  no.of bto  resale application  \\\n",
       "0        0.0625        0.114583        0.0                 0.0   \n",
       "1        0.3750        0.098958        0.0                 0.0   \n",
       "2        0.0000        0.114583        0.0                 0.0   \n",
       "3        0.0625        0.114583        0.0                 0.0   \n",
       "4        0.1250        0.088542        0.0                 0.0   \n",
       "\n",
       "   remaining_lease_months  Distance to nearest MRT  Distance to CBD  \\\n",
       "0                0.229833                 0.242702         0.377101   \n",
       "1                0.888889                 0.181339         0.376605   \n",
       "2                0.243531                 0.153615         0.373691   \n",
       "3                0.223744                 0.212727         0.381423   \n",
       "4                0.292237                 0.247779         0.408523   \n",
       "\n",
       "   isMatureEstate  over_under_classification  \n",
       "0             1.0                          0  \n",
       "1             1.0                          0  \n",
       "2             1.0                          0  \n",
       "3             1.0                          0  \n",
       "4             1.0                          0  "
      ]
     },
     "execution_count": 69,
     "metadata": {},
     "output_type": "execute_result"
    }
   ],
   "source": [
    "hdb_model_data_classification = pd.read_csv(\"hbd_model_data_classification.csv\")\n",
    "hdb_model_data_classification.head()"
   ]
  },
  {
   "cell_type": "code",
   "execution_count": 70,
   "id": "4a7c1a74",
   "metadata": {},
   "outputs": [
    {
     "data": {
      "text/plain": [
       "(77834, 9)"
      ]
     },
     "execution_count": 70,
     "metadata": {},
     "output_type": "execute_result"
    }
   ],
   "source": [
    "hdb_model_data_classification.shape"
   ]
  },
  {
   "cell_type": "code",
   "execution_count": 71,
   "id": "df59f9cf",
   "metadata": {},
   "outputs": [
    {
     "data": {
      "text/plain": [
       "storey_range               float64\n",
       "floor_area_sqm             float64\n",
       "no.of bto                  float64\n",
       "resale application         float64\n",
       "remaining_lease_months     float64\n",
       "Distance to nearest MRT    float64\n",
       "Distance to CBD            float64\n",
       "isMatureEstate             float64\n",
       "dtype: object"
      ]
     },
     "execution_count": 71,
     "metadata": {},
     "output_type": "execute_result"
    }
   ],
   "source": [
    "X = hdb_model_data_classification.iloc[:,0:8]\n",
    "y= hdb_model_data_classification.iloc[:,-1]  \n",
    "\n",
    "X.dtypes"
   ]
  },
  {
   "cell_type": "code",
   "execution_count": 72,
   "id": "33072809",
   "metadata": {},
   "outputs": [],
   "source": [
    "X_train,X_test,y_train,y_test = train_test_split(X,y,test_size=0.2,random_state=42)"
   ]
  },
  {
   "cell_type": "markdown",
   "id": "1d2e4af1",
   "metadata": {},
   "source": [
    "# AdaBoost Classifier"
   ]
  },
  {
   "cell_type": "markdown",
   "id": "2be1831d",
   "metadata": {},
   "source": [
    "Used for loop to find best learning rate from 0.1 to 2.0"
   ]
  },
  {
   "cell_type": "code",
   "execution_count": 73,
   "id": "65b8a7ff",
   "metadata": {},
   "outputs": [
    {
     "data": {
      "text/html": [
       "<div>\n",
       "<style scoped>\n",
       "    .dataframe tbody tr th:only-of-type {\n",
       "        vertical-align: middle;\n",
       "    }\n",
       "\n",
       "    .dataframe tbody tr th {\n",
       "        vertical-align: top;\n",
       "    }\n",
       "\n",
       "    .dataframe thead th {\n",
       "        text-align: right;\n",
       "    }\n",
       "</style>\n",
       "<table border=\"1\" class=\"dataframe\">\n",
       "  <thead>\n",
       "    <tr style=\"text-align: right;\">\n",
       "      <th></th>\n",
       "      <th>Learning Rate</th>\n",
       "      <th>Accuracy Score</th>\n",
       "      <th>F1 Score</th>\n",
       "    </tr>\n",
       "  </thead>\n",
       "  <tbody>\n",
       "    <tr>\n",
       "      <th>0</th>\n",
       "      <td>0.1</td>\n",
       "      <td>0.541851</td>\n",
       "      <td>0.499790</td>\n",
       "    </tr>\n",
       "    <tr>\n",
       "      <th>1</th>\n",
       "      <td>0.2</td>\n",
       "      <td>0.542173</td>\n",
       "      <td>0.493857</td>\n",
       "    </tr>\n",
       "    <tr>\n",
       "      <th>2</th>\n",
       "      <td>0.3</td>\n",
       "      <td>0.540310</td>\n",
       "      <td>0.498950</td>\n",
       "    </tr>\n",
       "    <tr>\n",
       "      <th>3</th>\n",
       "      <td>0.4</td>\n",
       "      <td>0.540438</td>\n",
       "      <td>0.501880</td>\n",
       "    </tr>\n",
       "    <tr>\n",
       "      <th>4</th>\n",
       "      <td>0.5</td>\n",
       "      <td>0.539603</td>\n",
       "      <td>0.500662</td>\n",
       "    </tr>\n",
       "    <tr>\n",
       "      <th>5</th>\n",
       "      <td>0.6</td>\n",
       "      <td>0.540824</td>\n",
       "      <td>0.501812</td>\n",
       "    </tr>\n",
       "    <tr>\n",
       "      <th>6</th>\n",
       "      <td>0.7</td>\n",
       "      <td>0.540502</td>\n",
       "      <td>0.505017</td>\n",
       "    </tr>\n",
       "    <tr>\n",
       "      <th>7</th>\n",
       "      <td>0.8</td>\n",
       "      <td>0.543907</td>\n",
       "      <td>0.509262</td>\n",
       "    </tr>\n",
       "    <tr>\n",
       "      <th>8</th>\n",
       "      <td>0.9</td>\n",
       "      <td>0.541723</td>\n",
       "      <td>0.508948</td>\n",
       "    </tr>\n",
       "    <tr>\n",
       "      <th>9</th>\n",
       "      <td>1.0</td>\n",
       "      <td>0.542044</td>\n",
       "      <td>0.509056</td>\n",
       "    </tr>\n",
       "    <tr>\n",
       "      <th>10</th>\n",
       "      <td>1.1</td>\n",
       "      <td>0.541594</td>\n",
       "      <td>0.504169</td>\n",
       "    </tr>\n",
       "    <tr>\n",
       "      <th>11</th>\n",
       "      <td>1.2</td>\n",
       "      <td>0.543843</td>\n",
       "      <td>0.501999</td>\n",
       "    </tr>\n",
       "    <tr>\n",
       "      <th>12</th>\n",
       "      <td>1.3</td>\n",
       "      <td>0.546798</td>\n",
       "      <td>0.507367</td>\n",
       "    </tr>\n",
       "    <tr>\n",
       "      <th>13</th>\n",
       "      <td>1.4</td>\n",
       "      <td>0.543265</td>\n",
       "      <td>0.507277</td>\n",
       "    </tr>\n",
       "    <tr>\n",
       "      <th>14</th>\n",
       "      <td>1.5</td>\n",
       "      <td>0.544549</td>\n",
       "      <td>0.514982</td>\n",
       "    </tr>\n",
       "    <tr>\n",
       "      <th>15</th>\n",
       "      <td>1.6</td>\n",
       "      <td>0.543779</td>\n",
       "      <td>0.514294</td>\n",
       "    </tr>\n",
       "    <tr>\n",
       "      <th>16</th>\n",
       "      <td>1.7</td>\n",
       "      <td>0.544100</td>\n",
       "      <td>0.503810</td>\n",
       "    </tr>\n",
       "    <tr>\n",
       "      <th>17</th>\n",
       "      <td>1.8</td>\n",
       "      <td>0.543586</td>\n",
       "      <td>0.499965</td>\n",
       "    </tr>\n",
       "    <tr>\n",
       "      <th>18</th>\n",
       "      <td>1.9</td>\n",
       "      <td>0.539089</td>\n",
       "      <td>0.454746</td>\n",
       "    </tr>\n",
       "    <tr>\n",
       "      <th>19</th>\n",
       "      <td>2.0</td>\n",
       "      <td>0.481531</td>\n",
       "      <td>0.650046</td>\n",
       "    </tr>\n",
       "  </tbody>\n",
       "</table>\n",
       "</div>"
      ],
      "text/plain": [
       "    Learning Rate  Accuracy Score  F1 Score\n",
       "0             0.1        0.541851  0.499790\n",
       "1             0.2        0.542173  0.493857\n",
       "2             0.3        0.540310  0.498950\n",
       "3             0.4        0.540438  0.501880\n",
       "4             0.5        0.539603  0.500662\n",
       "5             0.6        0.540824  0.501812\n",
       "6             0.7        0.540502  0.505017\n",
       "7             0.8        0.543907  0.509262\n",
       "8             0.9        0.541723  0.508948\n",
       "9             1.0        0.542044  0.509056\n",
       "10            1.1        0.541594  0.504169\n",
       "11            1.2        0.543843  0.501999\n",
       "12            1.3        0.546798  0.507367\n",
       "13            1.4        0.543265  0.507277\n",
       "14            1.5        0.544549  0.514982\n",
       "15            1.6        0.543779  0.514294\n",
       "16            1.7        0.544100  0.503810\n",
       "17            1.8        0.543586  0.499965\n",
       "18            1.9        0.539089  0.454746\n",
       "19            2.0        0.481531  0.650046"
      ]
     },
     "execution_count": 73,
     "metadata": {},
     "output_type": "execute_result"
    }
   ],
   "source": [
    "#create empty dataframe to store data on learning rate\n",
    "d = {'Learning Rate': [], 'Accuracy Score': [], 'F1 Score': []}\n",
    "check_lr = pd.DataFrame(d)\n",
    "\n",
    "#finding the best learning rate from 0.1 to 2.0 \n",
    "for i in np.arange(0.1, 2.1, 0.1):\n",
    "        #Create the AdaBoost classifier. Default base classifiers is Decision Tree. \n",
    "        # - n_estimator is the number of base classifiers (i.e. weak learners)\n",
    "        # - learning_rate controls the weight adjustments of each base classifiers. Default is 1\n",
    "        model = AdaBoostClassifier(n_estimators=50,learning_rate=i)\n",
    "\n",
    "        #Fit the training feature Xs and training label Ys\n",
    "        model.fit(X_train, y_train)\n",
    "        \n",
    "        #Use the trained model to predict the test data\n",
    "        y_pred = model.predict(X_test)\n",
    "        \n",
    "        # Find the accuracy and F1 score of the result\n",
    "        asr = accuracy_score(y_pred, y_test)\n",
    "        f1 = f1_score(y_pred, y_test)\n",
    "        \n",
    "        check_lr = check_lr.append({'Learning Rate':i, 'Accuracy Score':asr, 'F1 Score':f1}, ignore_index=True)\n",
    "        \n",
    "check_lr"
   ]
  },
  {
   "cell_type": "code",
   "execution_count": 74,
   "id": "1883ca42",
   "metadata": {},
   "outputs": [],
   "source": [
    "#based on above data, best learning rate is 1.6\n",
    "model = AdaBoostClassifier(n_estimators=50,learning_rate=1.6)"
   ]
  },
  {
   "cell_type": "code",
   "execution_count": 75,
   "id": "385d437f",
   "metadata": {},
   "outputs": [
    {
     "data": {
      "text/plain": [
       "AdaBoostClassifier(learning_rate=1.6)"
      ]
     },
     "execution_count": 75,
     "metadata": {},
     "output_type": "execute_result"
    }
   ],
   "source": [
    "#Fit the training feature Xs and training label Ys\n",
    "model.fit(X_train, y_train)"
   ]
  },
  {
   "cell_type": "code",
   "execution_count": 76,
   "id": "4a59ef6d",
   "metadata": {},
   "outputs": [],
   "source": [
    "#Use the trained model to predict the test data\n",
    "y_pred = model.predict(X_test)"
   ]
  },
  {
   "cell_type": "code",
   "execution_count": 77,
   "id": "948f5e16",
   "metadata": {},
   "outputs": [
    {
     "name": "stdout",
     "output_type": "stream",
     "text": [
      "[[4705 3736]\n",
      " [3366 3760]]\n",
      "0.54377850581358\n",
      "0.514293530296813\n"
     ]
    }
   ],
   "source": [
    "# Find the confusion matrix of the result\n",
    "cm = confusion_matrix(y_pred, y_test)\n",
    "print(cm)\n",
    "\n",
    "# Find the accuracy and F1 score of the result\n",
    "asr = accuracy_score(y_pred, y_test)\n",
    "f1 = f1_score(y_pred, y_test)\n",
    "print(asr)\n",
    "print(f1)"
   ]
  },
  {
   "cell_type": "markdown",
   "id": "c13d6ff2",
   "metadata": {},
   "source": [
    "# Gaussian Naive Bayes"
   ]
  },
  {
   "cell_type": "code",
   "execution_count": 78,
   "id": "127cc2d7",
   "metadata": {},
   "outputs": [
    {
     "data": {
      "text/plain": [
       "GaussianNB()"
      ]
     },
     "execution_count": 78,
     "metadata": {},
     "output_type": "execute_result"
    }
   ],
   "source": [
    "model = GaussianNB()\n",
    "#Fit the training feature Xs and training label Ys\n",
    "model.fit(X_train, y_train)"
   ]
  },
  {
   "cell_type": "code",
   "execution_count": 79,
   "id": "072bdf40",
   "metadata": {},
   "outputs": [
    {
     "name": "stdout",
     "output_type": "stream",
     "text": [
      "[[6155 5328]\n",
      " [1916 2168]]\n",
      "0.5346566454679771\n",
      "0.3744386873920553\n"
     ]
    }
   ],
   "source": [
    "#Use the trained model to predict the test data\n",
    "y_pred = model.predict(X_test)\n",
    "# Find the confusion matrix of the result\n",
    "cm = confusion_matrix(y_pred, y_test)\n",
    "print(cm)\n",
    "\n",
    "# Find the accuracy and F1 score of the result\n",
    "asr = accuracy_score(y_pred, y_test)\n",
    "f1 = f1_score(y_pred, y_test)\n",
    "print(asr)\n",
    "print(f1)"
   ]
  }
 ],
 "metadata": {
  "kernelspec": {
   "display_name": "Python 3",
   "language": "python",
   "name": "python3"
  },
  "language_info": {
   "codemirror_mode": {
    "name": "ipython",
    "version": 3
   },
   "file_extension": ".py",
   "mimetype": "text/x-python",
   "name": "python",
   "nbconvert_exporter": "python",
   "pygments_lexer": "ipython3",
   "version": "3.9.12"
  }
 },
 "nbformat": 4,
 "nbformat_minor": 5
}
