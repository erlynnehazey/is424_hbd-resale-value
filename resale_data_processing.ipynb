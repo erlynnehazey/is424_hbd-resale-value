{
 "cells": [
  {
   "attachments": {},
   "cell_type": "markdown",
   "metadata": {},
   "source": [
    "# Data Pre-Processing Code for final_hdb_resale_price.csv\n",
    "\n",
    "This is a separate notebook containing some of the code for data pre-processing of the final_hdb_resale_price.csv file.\n",
    "The code has been separated from the main notebook to make it easier to read and understand, and allow the main notebook to run more efficiently."
   ]
  },
  {
   "cell_type": "code",
   "execution_count": null,
   "metadata": {},
   "outputs": [],
   "source": [
    "import pandas as pd\n",
    "import numpy as np\n",
    "import seaborn as sns\n",
    "import matplotlib.pyplot as plt\n",
    "import folium \n",
    "import requests\n",
    "import json\n",
    "from geopy.distance import geodesic\n",
    "\n",
    "hdb_resale_prices = pd.read_csv(\"resale-flat-prices-based-on-registration-date-from-jan-2017-onwards.csv\")"
   ]
  },
  {
   "attachments": {},
   "cell_type": "markdown",
   "metadata": {},
   "source": [
    "### Merging Latitude and Longitude Data into Resale Data"
   ]
  },
  {
   "cell_type": "code",
   "execution_count": null,
   "metadata": {},
   "outputs": [],
   "source": [
    "df_coordinates = pd.read_csv('help_la_lat_long.csv')\n",
    "df_coordinates = df_coordinates.rename(columns={'Latitude':0, 'Longitude':1})\n",
    "df_coordinates.rename(columns={\"Unnamed: 0\": 'index'}, inplace=True)\n",
    "df_coordinates.head()"
   ]
  },
  {
   "cell_type": "code",
   "execution_count": null,
   "metadata": {},
   "outputs": [],
   "source": [
    "df_combined = hdb_resale_prices.merge(df_coordinates, how='left', on=[\"index\", \"month\", \"flat_type\", \"storey_range\", \"floor_area_sqm\", \"flat_model\", \"resale_price\", \"town\"])\n",
    "df_combined = df_combined.drop(columns=\"index\")\n",
    "df_combined = df_combined.rename(columns={0:'Latitude', 1:'Longitude'})\n",
    "df_combined.head()"
   ]
  },
  {
   "attachments": {},
   "cell_type": "markdown",
   "metadata": {},
   "source": [
    "### Incorporating Inflation Rate into Resale Prices"
   ]
  },
  {
   "cell_type": "code",
   "execution_count": null,
   "metadata": {},
   "outputs": [],
   "source": [
    "# here is where we should store the code for processing and creating new columns for the resale data\n",
    "valid_rows = [10,11,14]\n",
    "cpi_df = pd.read_csv(\"cpi-2012-to-2022.csv\", skiprows=lambda x: x not in valid_rows, index_col=0)\n",
    "\n",
    "cpi_df = cpi_df.transpose()\n",
    "cpi_df"
   ]
  },
  {
   "cell_type": "code",
   "execution_count": null,
   "metadata": {},
   "outputs": [],
   "source": [
    "# convert datetime index to year\n",
    "cpi_df.index = pd.DatetimeIndex(cpi_df.index).year"
   ]
  },
  {
   "cell_type": "code",
   "execution_count": null,
   "metadata": {},
   "outputs": [],
   "source": [
    "#add year column to dataframe\n",
    "df_combined['year'] = pd.DatetimeIndex(df_combined['month']).year"
   ]
  },
  {
   "cell_type": "code",
   "execution_count": null,
   "metadata": {},
   "outputs": [],
   "source": [
    "# add new column to hdb_resale_prices dataframe to store consumer price index for housing and utilities of corresponding year\n",
    "latest_year = 2022\n",
    "df_combined['cpi_multiplier'] = df_combined[\"year\"].apply(lambda x: cpi_df[\"Housing & Utilities\"].loc[min(x, latest_year)] / 100)"
   ]
  },
  {
   "cell_type": "code",
   "execution_count": null,
   "metadata": {},
   "outputs": [],
   "source": [
    "# add new column to hdb_resale_prices dataframe to store adjusted resale price\n",
    "df_combined['cpi_adjusted_price'] = df_combined[\"resale_price\"] * df_combined[\"cpi_multiplier\"] / df_combined[\"floor_area_sqm\"]"
   ]
  },
  {
   "attachments": {},
   "cell_type": "markdown",
   "metadata": {},
   "source": [
    "### No. of BTO per year"
   ]
  },
  {
   "cell_type": "code",
   "execution_count": null,
   "metadata": {},
   "outputs": [],
   "source": [
    "# Create the dictionary\n",
    "dictionary ={2017:14464, 2018 : 17556, 2019 : 12114, 2020 : 7314, 2021: 13756,2022:20064,2023: 20000}\n",
    "\n",
    "# Add a new column named 'Price'\n",
    "df_combined['no.of bto'] = df_combined['year'].map(dictionary)\n",
    "\n",
    "# Print the DataFrame\"\n",
    "print(df_combined)"
   ]
  },
  {
   "attachments": {},
   "cell_type": "markdown",
   "metadata": {},
   "source": [
    "### Demand for resale"
   ]
  },
  {
   "cell_type": "code",
   "execution_count": null,
   "metadata": {},
   "outputs": [],
   "source": [
    "resale_application = {2017:20894,2018:22005,2019:24772,2020:26436,2021:26436,2022:30370}"
   ]
  },
  {
   "cell_type": "code",
   "execution_count": null,
   "metadata": {},
   "outputs": [],
   "source": [
    "df_combined['resale application'] = df_combined['year'].map(resale_application)"
   ]
  },
  {
   "cell_type": "code",
   "execution_count": null,
   "metadata": {},
   "outputs": [],
   "source": [
    "fig, ax = plt.subplots(figsize=(10, 10))\n",
    "sns.countplot(x=df_combined['year'], data=df_combined)\n",
    "abs_values = df_combined['year'].value_counts(ascending=False).values\n",
    "ax.bar_label(container=ax.containers[0], labels=abs_values)\n",
    "ax.set_title('Number of Resale Applications Per Year')\n",
    "plt.show()"
   ]
  },
  {
   "cell_type": "code",
   "execution_count": null,
   "metadata": {},
   "outputs": [],
   "source": [
    "(df_combined['year']==2022).sum()"
   ]
  },
  {
   "cell_type": "code",
   "execution_count": null,
   "metadata": {},
   "outputs": [],
   "source": [
    "df_combined.loc[df_combined['year'] == 2017]['resale application']/(df_combined['year']==2017).sum()"
   ]
  },
  {
   "cell_type": "code",
   "execution_count": null,
   "metadata": {},
   "outputs": [],
   "source": [
    "df_combined.loc[df_combined['year'] == 2019]['resale application']/(df_combined['year']==2019).sum()"
   ]
  },
  {
   "cell_type": "code",
   "execution_count": null,
   "metadata": {},
   "outputs": [],
   "source": [
    "df_combined.loc[df_combined['year'] == 2020]['resale application']/(df_combined['year']==2020).sum()"
   ]
  },
  {
   "cell_type": "code",
   "execution_count": null,
   "metadata": {},
   "outputs": [],
   "source": [
    "df_combined.loc[df_combined['year'] == 2021]['resale application']/(df_combined['year']==2021).sum()"
   ]
  },
  {
   "cell_type": "code",
   "execution_count": null,
   "metadata": {},
   "outputs": [],
   "source": [
    "df_combined.loc[df_combined['year'] == 2022]['resale application']/(df_combined['year']==2022).sum()"
   ]
  },
  {
   "cell_type": "code",
   "execution_count": null,
   "metadata": {},
   "outputs": [],
   "source": [
    "demand_ratio = {2017:1.02,2018:1.02,2019:1.12,2020:1.13,2021:0.91,2022:1.14}"
   ]
  },
  {
   "cell_type": "code",
   "execution_count": null,
   "metadata": {},
   "outputs": [],
   "source": [
    "# deriving demand ratio of resale flats\n",
    "df_combined['demand ratio'] = df_combined['year'].map(demand_ratio)"
   ]
  },
  {
   "cell_type": "code",
   "execution_count": null,
   "metadata": {},
   "outputs": [],
   "source": [
    "# hdb_resale_prices.to_excel(r'resaleWithDemandAndBtoSupply.xlsx', index=False)"
   ]
  },
  {
   "cell_type": "markdown",
   "metadata": {},
   "source": [
    "<h3>Remaining Lease Months</h3>"
   ]
  },
  {
   "cell_type": "code",
   "execution_count": null,
   "metadata": {},
   "outputs": [],
   "source": [
    "for i in range(len(df_combined)):\n",
    "    if \"months\" in df_combined.loc[i,\"remaining_lease\"]:\n",
    "        \n",
    "        df_combined.loc[i,\"remaining_lease_months\"]= int(str(df_combined.loc[i,\"remaining_lease\"]).split(\" \")[0])*12 +int(str(df_combined.loc[i,\"remaining_lease\"]).split(\" \")[2])\n",
    "    else:\n",
    "        df_combined.loc[i,\"remaining_lease_months\"]= int(str(df_combined.loc[i,\"remaining_lease\"]).split(\"years\")[0])*12"
   ]
  },
  {
   "cell_type": "code",
   "execution_count": null,
   "metadata": {},
   "outputs": [],
   "source": [
    "df_combined= df_combined.drop(columns=[\"lease_commence_date\",\"remaining_lease\"])"
   ]
  },
  {
   "cell_type": "markdown",
   "metadata": {},
   "source": [
    "<h3>Storey Range</h3>"
   ]
  },
  {
   "cell_type": "code",
   "execution_count": null,
   "metadata": {},
   "outputs": [],
   "source": [
    "for i in range(len(df_combined)):\n",
    "    total = int(str(df_combined.loc[i,'storey_range']).split('TO')[1])+ int(str(df_combined.loc[i,'storey_range']).split('TO')[0])\n",
    "    df_combined.loc[i,'storey_range'] = total / 2"
   ]
  },
  {
   "cell_type": "markdown",
   "metadata": {},
   "source": [
    "<h3>Geo Coding</h3>"
   ]
  },
  {
   "cell_type": "code",
   "execution_count": null,
   "metadata": {},
   "outputs": [],
   "source": [
    "df_combined['address'] = df_combined['block'] + \" \" + df_combined['street_name']"
   ]
  },
  {
   "cell_type": "code",
   "execution_count": null,
   "metadata": {},
   "outputs": [],
   "source": [
    "df_combined= df_combined.drop(columns=[\"block\",\"street_name\"])"
   ]
  },
  {
   "cell_type": "code",
   "execution_count": null,
   "metadata": {},
   "outputs": [],
   "source": [
    "addressList = list(df_combined['address'])"
   ]
  },
  {
   "cell_type": "markdown",
   "metadata": {},
   "source": [
    "<h3>Distance from nearest mrt</h3>"
   ]
  },
  {
   "cell_type": "code",
   "execution_count": null,
   "metadata": {},
   "outputs": [],
   "source": [
    "list_of_mrt = [\"Jurong East MRT\",\n",
    "              \"Bukit Batok MRT\",\n",
    "              \"Bukit Gombak MRT\",\n",
    "              \"Choa Chu Kang MRT\",\n",
    "              \"Yew Tee MRT\",\n",
    "              \"Kranji MRT\",\n",
    "              \"Marsiling MRT\",\n",
    "              \"Woodlands MRT\",\n",
    "              \"Admiralty MRT\",\n",
    "              \"Sembawang MRT\",\n",
    "              \"Canberra MRT\",\n",
    "              \"Admiralty MRT\",\n",
    "              \"Sembawang MRT\",\n",
    "              \"Canberra MRT\",\n",
    "              \"Yishun MRT\",\n",
    "              \"Khatib MRT\",\n",
    "              \"Yio Chu Kang MRT\",\n",
    "              \"Ang Mo Kio MRT\",\n",
    "              \"Bishan MRT\",\n",
    "              \"Braddell MRT\",\n",
    "              \"Toa Payoh MRT\",\n",
    "              \"Novena MRT\",\n",
    "              \"Newton MRT\",\n",
    "              \"Orchard MRT\",\n",
    "              \"Somerset MRT\",\n",
    "              \"Dhoby Ghaut MRT\",\n",
    "              \"City Hall MRT\",\n",
    "              \"Raffles Place MRT\",\n",
    "              \"Marina Bay MRT\",\n",
    "              \"Marina South Pier MRT\",\n",
    "               \"Tuas Link MRT\",\n",
    "               \"Tuas West Road MRT\",\n",
    "               \"Tuas Crescent MRT\",\n",
    "               \"Gul Circle MRT\",\n",
    "               \"Joo Koon MRT\",\n",
    "               \"Pioneer MRT\",\n",
    "               \"Boon Lay MRT\",\n",
    "               \"Lakeside MRT\",\n",
    "               \"Chinese Garden MRT\",\n",
    "               \"Clementi MRT\",\n",
    "               \"Dover MRT\",\n",
    "               \"Buona Vista MRT\",\n",
    "               \"Commonwealth MRT\",\n",
    "               \"Queenstown MRT\",\n",
    "               \"Redhill MRT\",\n",
    "               \"Tiong Bahru MRT\",\n",
    "               \"Outram Park MRT\",\n",
    "               \"Tanjong Pagar MRT\",\n",
    "               \"Raffles Place MRT\",\n",
    "               \"Bugis MRT\",\n",
    "               \"Lavender MRT\",\n",
    "               \"Kallang MRT\",\n",
    "               \"Aljunied MRT\",\n",
    "               \"Paya Lebar MRT\",\n",
    "               \"Eunos MRT\",\n",
    "               \"Kembangan MRT\",\n",
    "               \"Bedok MRT\",\n",
    "               \"Tanah Merah MRT\",\n",
    "               \"Simei MRT\",\n",
    "               \"Tampines MRT\",\n",
    "               \"Pasir Ris MRT\",\n",
    "               \"Expo MRT\",\n",
    "               \"Changi Airport MRT\",\n",
    "               \"HarbourFront MRT\",\n",
    "               \"Chinatown MRT\",\n",
    "               \"Clarke Quay MRT\",\n",
    "               \"Little India MRT\",\n",
    "               \"Farrer Park MRT\",\n",
    "               \"Boon Keng MRT\",\n",
    "               \"Potong Pasir MRT\",\n",
    "               \"Woodleigh MRT\",\n",
    "               \"Serangoon MRT\",\n",
    "               \"Kovan MRT\",\n",
    "               \"Hougang MRT\",\n",
    "               \"Buangkok MRT\",\n",
    "               \"Sengkang MRT\",\n",
    "               \"Punggol MRT\",\n",
    "               \"Punggol Coast MRT\",\n",
    "               \"Haw Par Villa MRT\",\n",
    "               \"Holland Village MRT\",\n",
    "               \"Kent Ridge MRT\",\n",
    "               \"one-north MRT\",\n",
    "               \"Farrer Road MRT\",\n",
    "               \"Botanic Gardens MRT\",\n",
    "               \"Caldecott MRT\",\n",
    "               \"Marymount MRT\",\n",
    "               \"Bishan MRT\",\n",
    "               \"Lorong Chuan MRT\",\n",
    "               \"Bartley MRT\",\n",
    "               \"Tai Seng MRT\",\n",
    "               \"MacPherson MRT\",\n",
    "               \"Dakota MRT\",\n",
    "               \"Mountbatten MRT\",\n",
    "               \"Stadium MRT\",\n",
    "               \"Nicoll Highway MRT\",\n",
    "               \"Promenade MRT\",\n",
    "               \"Esplanade MRT\",\n",
    "               \"Bras Basah MRT\",\n",
    "               \"Pasir Panjang MRT\",\n",
    "               \"Labrador Park MRT\",\n",
    "               \"Telok Blangah MRT\",\n",
    "               \"Bayfront MRT\",\n",
    "               \"Bukit Panjang MRT\",\n",
    "               \"Cashew MRT\",\n",
    "               \"Hillview MRT\",\n",
    "               \"Beauty World MRT\",\n",
    "               \"King Albert Park MRT\",\n",
    "               \"Sixth Avenue MRT\",\n",
    "               \"Tan Kah Kee MRT\",\n",
    "               \"Stevens MRT\",\n",
    "               \"Rochor MRT\",\n",
    "               \"Downtown MRT\",\n",
    "               \"Telok Ayer MRT\",\n",
    "               \"Fort Canning MRT\",\n",
    "               \"Bencoolen MRT\",\n",
    "               \"Jalan Besar MRT\",\n",
    "               \"Bendemeer MRT\",\n",
    "               \"Geylang Bahru MRT\",\n",
    "               \"Mattar MRT\",\n",
    "               \"Ubi MRT\",\n",
    "               \"Kaki Bukit MRT\",\n",
    "               \"Bedok North MRT\",\n",
    "               \"Bedok Reservoir MRT\",\n",
    "               \"Tampines West MRT\",\n",
    "               \"Tampines East MRT\",\n",
    "               \"Upper Changi MRT\",\n",
    "               \"Woodlands North MRT\",\n",
    "               \"Woodlands South MRT\",\n",
    "               \"Springleaf MRT\",\n",
    "               \"Lentor MRT\",\n",
    "               \"Mayflower MRT\",\n",
    "               \"Bright Hill MRT\",\n",
    "               \"Upper Thomson MRT\",\n",
    "               \"Napier MRT\",\n",
    "               \"Orchard Boulevard MRT\",\n",
    "               \"Great World MRT\",\n",
    "               \"Havelock MRT\",\n",
    "               \"Maxwell MRT\",\n",
    "               \"Shenton Way MRT\",\n",
    "               \"Gardens by the Bay MRT\"\n",
    "               \n",
    "              ]\n"
   ]
  },
  {
   "cell_type": "code",
   "execution_count": null,
   "metadata": {},
   "outputs": [],
   "source": [
    "\n",
    "mrt_lat = []\n",
    "mrt_long = []\n",
    "\n",
    "for i in range(0, len(list_of_mrt)):\n",
    "    query_address = list_of_mrt[i]\n",
    "    query_string = 'https://developers.onemap.sg/commonapi/search?searchVal='+str(query_address)+'&returnGeom=Y&getAddrDetails=Y'\n",
    "    resp = requests.get(query_string)\n",
    "\n",
    "    data_mrt=json.loads(resp.content)\n",
    "    \n",
    "    if data_mrt['found'] != 0:\n",
    "        mrt_lat.append(data_mrt[\"results\"][0][\"LATITUDE\"])\n",
    "        mrt_long.append(data_mrt[\"results\"][0][\"LONGITUDE\"])\n",
    "\n",
    "        print (str(query_address)+\",Lat: \"+data_mrt['results'][0]['LATITUDE'] +\" Long: \"+data_mrt['results'][0]['LONGITUDE'])\n",
    "\n",
    "    else:\n",
    "        mrt_lat.append('NotFound')\n",
    "        mrt_lat.append('NotFound')\n",
    "        print (\"No Results\")"
   ]
  },
  {
   "cell_type": "code",
   "execution_count": null,
   "metadata": {},
   "outputs": [],
   "source": [
    "mrt_location = pd.DataFrame({\n",
    "    'MRT': list_of_mrt,\n",
    "    'latitude': mrt_lat,\n",
    "    'longitude': mrt_long\n",
    "})"
   ]
  },
  {
   "cell_type": "code",
   "execution_count": null,
   "metadata": {},
   "outputs": [],
   "source": [
    "list_of_mrt_coordinates = []\n",
    "list_of_lat = df_coordinates[0]\n",
    "list_of_long = df_coordinates[1]\n",
    "mrt_lat = mrt_location['latitude']\n",
    "mrt_long = mrt_location['longitude']\n",
    "\n",
    "\n",
    "list_of_coordinates = []\n",
    "for lat, long in zip(list_of_lat, list_of_long):\n",
    "    list_of_coordinates.append((lat,long))\n",
    "for lat, long in zip(mrt_lat, mrt_long):\n",
    "    list_of_mrt_coordinates.append((lat, long))"
   ]
  },
  {
   "cell_type": "code",
   "execution_count": null,
   "metadata": {},
   "outputs": [],
   "source": [
    "# nearest mrt \n",
    "# pip install geopy\n",
    "from geopy.distance import geodesic\n",
    "\n",
    "list_of_dist_mrt = []\n",
    "min_dist_mrt = []\n",
    "\n",
    "for origin in list_of_coordinates:\n",
    "    for destination in range(0, len(list_of_mrt_coordinates)):\n",
    "        list_of_dist_mrt.append(geodesic(origin,list_of_mrt_coordinates[destination]).meters)\n",
    "    shortest = (min(list_of_dist_mrt))\n",
    "    min_dist_mrt.append(shortest)\n",
    "    list_of_dist_mrt.clear()"
   ]
  },
  {
   "cell_type": "code",
   "execution_count": null,
   "metadata": {},
   "outputs": [],
   "source": [
    "df_combined[\"Distance to nearest MRT\"] = min_dist_mrt"
   ]
  },
  {
   "cell_type": "markdown",
   "metadata": {},
   "source": [
    "<h3>Distance to CBD</h3>"
   ]
  },
  {
   "cell_type": "code",
   "execution_count": null,
   "metadata": {},
   "outputs": [],
   "source": [
    "# Central Business District (CBD) The CBD is Singapore's business and financial district, and home to leading international businesses and financial institutions. It spans from Raffles Place along Shenton Way / Robinson Road / Cecil Street to the Tanjong Pagar and Anson subzones.\n",
    "list_of_cbd=[\n",
    "    \"Shenton Way\",\n",
    "    \"Raffles Place\",\n",
    "    \"Robinson Road\",\n",
    "    \"Cecil Street\",\n",
    "    \"Tanjong Pagar\"\n",
    "]"
   ]
  },
  {
   "cell_type": "code",
   "execution_count": null,
   "metadata": {},
   "outputs": [],
   "source": [
    "cbd_lat = []\n",
    "cbd_long = []\n",
    "\n",
    "for i in range(0, len(list_of_cbd)):\n",
    "    query_address = list_of_cbd[i]\n",
    "    query_string = 'https://developers.onemap.sg/commonapi/search?searchVal='+str(query_address)+'&returnGeom=Y&getAddrDetails=Y'\n",
    "    resp = requests.get(query_string)\n",
    "\n",
    "    data_cbd=json.loads(resp.content)\n",
    "    \n",
    "    if data_cbd['found'] != 0:\n",
    "        cbd_lat.append(data_cbd[\"results\"][0][\"LATITUDE\"])\n",
    "        cbd_long.append(data_cbd[\"results\"][0][\"LONGITUDE\"])\n",
    "\n",
    "        print (str(query_address)+\",Lat: \"+data_cbd['results'][0]['LATITUDE'] +\" Long: \"+data_cbd['results'][0]['LONGITUDE'])\n",
    "\n",
    "    else:\n",
    "        cbd_lat.append('NotFound')\n",
    "        cbd_long.append('NotFound')\n",
    "        print (\"No Results\")\n"
   ]
  },
  {
   "cell_type": "code",
   "execution_count": null,
   "metadata": {},
   "outputs": [],
   "source": [
    "cbd_location = pd.DataFrame({\n",
    "    'latitude': cbd_lat,\n",
    "    'longitude': cbd_long\n",
    "})"
   ]
  },
  {
   "cell_type": "code",
   "execution_count": null,
   "metadata": {},
   "outputs": [],
   "source": [
    "# Lists of all the coordinates we will need to iterate through\n",
    "list_of_cbd_coordinates = []\n",
    "list_of_lat = df_coordinates[0]\n",
    "list_of_long = df_coordinates[1]\n",
    "cbd_lat = cbd_location['latitude']\n",
    "cbd_long = cbd_location['longitude']\n",
    "# Zipping the respective Lat and Long lists together as a list of tuples\n",
    "list_of_coordinates = []\n",
    "for lat, long in zip(list_of_lat, list_of_long):\n",
    "    list_of_coordinates.append((lat,long))\n",
    "for lat, long in zip(cbd_lat, cbd_long):\n",
    "    list_of_cbd_coordinates.append((lat, long))"
   ]
  },
  {
   "cell_type": "code",
   "execution_count": null,
   "metadata": {},
   "outputs": [],
   "source": [
    "\n",
    "\n",
    "list_of_dist_cbd = []\n",
    "min_dist_cbd = []\n",
    "\n",
    "for origin in list_of_coordinates:\n",
    "    for destination in range(0, len(list_of_cbd_coordinates)):\n",
    "        list_of_dist_cbd.append(geodesic(origin,list_of_cbd_coordinates[destination]).meters)\n",
    "    shortest = (min(list_of_dist_cbd))\n",
    "    min_dist_cbd.append(shortest)\n",
    "    list_of_cbd.clear()"
   ]
  },
  {
   "cell_type": "code",
   "execution_count": null,
   "metadata": {},
   "outputs": [],
   "source": [
    "df_combined[\"Distance to CBD\"] = min_dist_cbd"
   ]
  },
  {
   "cell_type": "code",
   "execution_count": null,
   "metadata": {},
   "outputs": [],
   "source": [
    "list_of_malls = [\n",
    "\n",
    "\"100 AM\",\n",
    "\"313@Somerset\",\n",
    "\"Aperia\",\n",
    "\"Balestier Hill Shopping Centre\",\n",
    "\"Bugis Cube\",\n",
    "\"Bugis Junction\",\n",
    "\"Bugis+\",\n",
    "\"Capitol Piazza\",\n",
    "\"Cathay Cineleisure Orchard\",\n",
    "\"Clarke Quay Central\",\n",
    "\"The Centrepoint\",\n",
    "\"City Square Mall\",\n",
    "\"City Gate Mall\",\n",
    "\"CityLink Mall\",\n",
    "\"Duo\",\n",
    "\"Far East Plaza\",\n",
    "\"Funan\",\n",
    "\"Great World City\",\n",
    "\"HDB Hub\",\n",
    "\"Holland Village Shopping Mall\",\n",
    "\"ION Orchard\",\n",
    "\"Junction 8\",\n",
    "\"Knightsbridge\",\n",
    "\"Liat Towers\",\n",
    "\"Lucky Plaza\",\n",
    "\"Marina Bay Sands\",\n",
    "\"The Shoppes at Marina Bay Sands\",\n",
    "\"Marina Bay Link Mall\",\n",
    "\"Marina Square\",\n",
    "\"Millenia Walk\",\n",
    "\"Mustafa Shopping Centre\",\n",
    "\"Ngee Ann City\",\n",
    "\"Orchard Central\",\n",
    "\"Orchard Gateway\",\n",
    "\"Orchard Plaza\",\n",
    "\"Midpoint Orchard\",\n",
    "\"Palais Renaissance\",\n",
    "\"People's Park Centre\",\n",
    "\"People's Park Complex\",\n",
    "\"Plaza Singapura\",\n",
    "\"PoMo\",\n",
    "\"Raffles City\",\n",
    "\"Scotts Square\",\n",
    "\"Shaw House and Centre\",\n",
    "\"Sim Lim Square\",\n",
    "\"Singapore Shopping Centre\",\n",
    "\"The South Beach\",\n",
    "\"Square 2\",\n",
    "\"Sunshine Plaza\",\n",
    "\"Suntec City\",\n",
    "\"Tanglin Mall\",\n",
    "\"Tanjong Pagar Centre\",\n",
    "\"Tekka Centre\",\n",
    "\"The Adelphi\",\n",
    "\"The Paragon\",\n",
    "\"Tiong Bahru Plaza\",\n",
    "\"The Poiz\",\n",
    "\"Thomson Plaza\",\n",
    "\"United Square\",\n",
    "\"Thomson V\",\n",
    "\"Velocity@Novena Square\",\n",
    "\"Wheelock Place\",\n",
    "\"Wisma Atria\",\n",
    "\"Zhongshan Mall\",\n",
    "\"Bedok Mall\",\n",
    "\"Century Square\",\n",
    "\"Our Tampines Hub\",\n",
    "\"Changi City Point\",\n",
    "\"Downtown East\",\n",
    "\"Djitsun Mall Bedok\",\n",
    "\"Eastpoint Mall\",\n",
    "\"Jewel Changi Airport\",\n",
    "\"KINEX\",\n",
    "\"Katong Shopping Centre\",\n",
    "\"Katong Square\",\n",
    "\"Kallang Wave Mall\",\n",
    "\"Leisure Park Kallang\",\n",
    "\"i12 Katong\",\n",
    "\"Parkway Parade\",\n",
    "\"Paya Lebar Square\",\n",
    "\"Paya Lebar Quarter\",\n",
    "\"Roxy Square\",\n",
    "\"Singpost Centre\",\n",
    "\"Tampines 1\",\n",
    "\"Tampines Mall\",\n",
    "\"White Sands\",\n",
    "\"City Plaza\",\n",
    "\"Elias Mall\",\n",
    "\"Loyang Point\",\n",
    "\"888 Plaza\",\n",
    "\"Admiralty Place\",\n",
    "\"AMK Hub\",\n",
    "\"Canberra Plaza\",\n",
    "\"Causeway Point\",\n",
    "\"Woodlands Civic Centre\",\n",
    "\"Broadway Plaza\",\n",
    "\"Djitsun Mall\",\n",
    "\"Jubilee Square\",\n",
    "\"Junction 8\",\n",
    "\"Junction Nine\",\n",
    "\"Marsiling Mall\",\n",
    "\"Northpoint City\",\n",
    "\"Sembawang Shopping Centre\",\n",
    "\"Sun Plaza\",\n",
    "\"Vista Point\",\n",
    "\"Wisteria Mall\",\n",
    "\"Woodlands Mart\",\n",
    "\"Woodlands North Plaza\",\n",
    "\"Waterway Point\",\n",
    "\"Compass One\",\n",
    "\"Hougang Mall\",\n",
    "\"Heartland Mall\",\n",
    "\"NEX\",\n",
    "\"Buangkok Square\",\n",
    "\"Greenwich V\",\n",
    "\"Hougang\",\n",
    "\"Hougang Green Shopping Mall\",\n",
    "\"Hougang Rivercourt\",\n",
    "\"myVillage At Serangoon Garden\",\n",
    "\"Northshore Plaza\",\n",
    "\"Oasis Terraces\",\n",
    "\"Punggol Plaza\",\n",
    "\"Rivervale Mall\",\n",
    "\"Rivervale Plaza\",\n",
    "\"The Seletar Mall\",\n",
    "\"Upper Serangoon Shopping Centre\",\n",
    "\"Beauty World Centre\",\n",
    "\"Beauty World Plaza\",\n",
    "\"Bukit Panjang Plaza\",\n",
    "\"Bukit Timah Plaza\",\n",
    "\"Fajar Shopping Centre\",\n",
    "\"Greenridge Shopping Centre\",\n",
    "\"Hillion Mall\",\n",
    "\"HillV2\",\n",
    "\"Junction 10\",\n",
    "\"Keat Hong Shopping Centre\",\n",
    "\"Limbang Shopping Centre\",\n",
    "\"Lot One\",\n",
    "\"Rail Mall\",\n",
    "\"Sunshine Place\",\n",
    "\"Teck Whye Shopping Centre\",\n",
    "\"West Mall\",\n",
    "\"Yew Tee Point\",\n",
    "\"Yew Tee Square\",\n",
    "\"VivoCity\",\n",
    "\"HarbourFront Centre\",\n",
    "\"Alexandra Retail Centre\",\n",
    "\"321 Clementi\",\n",
    "\"The Clementi Mall\",\n",
    "\"IMM\",\n",
    "\"JCube\",\n",
    "\"Jem\",\n",
    "\"Westgate\",\n",
    "\"Jurong Point\",\n",
    "\"Pioneer Mall\",\n",
    "\"The Star Vista\",\n",
    "\"Alexandra Central\",\n",
    "\"Anchorpoint\",\n",
    "\"OD Mall\",\n",
    "\"Boon Lay Shopping Centre\",\n",
    "\"Grantral Mall\",\n",
    "\"Fairprice Hub\",\n",
    "\"Gek Poh Shopping Centre\",\n",
    "\"Rochester Mall\",\n",
    "\"Taman Jurong Shopping Centre\",\n",
    "\"West Coast Plaza\",\n",
    "\"Queensway Shopping Centre\"]"
   ]
  },
  {
   "cell_type": "code",
   "execution_count": null,
   "metadata": {},
   "outputs": [],
   "source": [
    "mall_lat = []\n",
    "mall_long = []\n",
    "\n",
    "for i in range(0, len(list_of_malls)):\n",
    "    query_address = list_of_malls[i]\n",
    "    query_string = 'https://developers.onemap.sg/commonapi/search?searchVal='+str(query_address)+'&returnGeom=Y&getAddrDetails=Y'\n",
    "    resp = requests.get(query_string)\n",
    "\n",
    "    data_mall=json.loads(resp.content)\n",
    "    \n",
    "    if data_mall['found'] != 0:\n",
    "        mall_lat.append(data_mall[\"results\"][0][\"LATITUDE\"])\n",
    "        mall_long.append(data_mall[\"results\"][0][\"LONGITUDE\"])\n",
    "\n",
    "        print (str(query_address)+\",Lat: \"+data_mall['results'][0]['LATITUDE'] +\" Long: \"+data_mall['results'][0]['LONGITUDE'])\n",
    "\n",
    "    else:\n",
    "        mall_lat.append('NotFound')\n",
    "        mall_long.append('NotFound')\n",
    "        print (\"No Results ,\" + query_address)\n",
    "# no clarke quay central, no OD mall, no city gate mall, holland village shopping mall, mustafa shopping centre, PoMo, ShawHouse and Centre"
   ]
  },
  {
   "cell_type": "code",
   "execution_count": null,
   "metadata": {},
   "outputs": [],
   "source": [
    "mall_location = pd.DataFrame({\n",
    "    'mall': list_of_malls,\n",
    "    'latitude': mall_lat,\n",
    "    'longitude': mall_long\n",
    "})"
   ]
  },
  {
   "cell_type": "code",
   "execution_count": null,
   "metadata": {},
   "outputs": [],
   "source": [
    "# Lists of all the coordinates we will need to iterate through\n",
    "list_of_mall_coordinates = []\n",
    "list_of_lat = df_coordinates[0]\n",
    "list_of_long = df_coordinates[1]\n",
    "mall_lat = mall_location['latitude']\n",
    "mall_long = mall_location['longitude']\n",
    "# Zipping the respective Lat and Long lists together as a list of tuples\n",
    "list_of_coordinates = []\n",
    "for lat, long in zip(list_of_lat, list_of_long):\n",
    "    list_of_coordinates.append((lat,long))\n",
    "for lat, long in zip(cbd_lat, cbd_long):\n",
    "    list_of_mall_coordinates.append((lat, long))"
   ]
  },
  {
   "cell_type": "code",
   "execution_count": null,
   "metadata": {},
   "outputs": [],
   "source": [
    "list_of_dist_mall = []\n",
    "min_dist_mall = []\n",
    "\n",
    "for origin in list_of_coordinates:\n",
    "    for destination in range(0, len(list_of_mall_coordinates)):\n",
    "        list_of_dist_mall.append(geodesic(origin,list_of_mall_coordinates[destination]).meters)\n",
    "    shortest = (min(list_of_dist_cbd))\n",
    "    min_dist_mall.append(shortest)\n",
    "    list_of_dist_mall.clear()"
   ]
  },
  {
   "cell_type": "code",
   "execution_count": null,
   "metadata": {},
   "outputs": [],
   "source": [
    "df_combined[\"Distance to nearest mall\"] = min_dist_mall"
   ]
  }
 ],
 "metadata": {
  "kernelspec": {
   "display_name": "Python 3",
   "language": "python",
   "name": "python3"
  },
  "language_info": {
   "codemirror_mode": {
    "name": "ipython",
    "version": 3
   },
   "file_extension": ".py",
   "mimetype": "text/x-python",
   "name": "python",
   "nbconvert_exporter": "python",
   "pygments_lexer": "ipython3",
   "version": "3.10.4"
  },
  "orig_nbformat": 4,
  "vscode": {
   "interpreter": {
    "hash": "afb734500600fd355917ca529030176ea0ca205570884b88f2f6f7d791fd3fbe"
   }
  }
 },
 "nbformat": 4,
 "nbformat_minor": 2
}
