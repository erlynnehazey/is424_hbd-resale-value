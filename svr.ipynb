{
 "cells": [
  {
   "cell_type": "code",
   "execution_count": null,
   "metadata": {},
   "outputs": [],
   "source": [
    "import pandas as pd\n",
    "import numpy as np\n",
    "import seaborn as sns\n",
    "import matplotlib.pyplot as plt\n",
    "import folium \n",
    "import requests\n",
    "import json\n",
    "from geopy.distance import geodesic\n",
    "from sklearn import preprocessing\n",
    "\n",
    "hdb_resale_prices = pd.read_csv(\"final_hdb_resale_prices.csv\")"
   ]
  },
  {
   "cell_type": "code",
   "execution_count": null,
   "metadata": {},
   "outputs": [],
   "source": [
    "# drop the first column of hdb resale prices database\n",
    "hdb_resale_prices.drop(columns=hdb_resale_prices.columns[0], inplace=True)\n",
    "hdb_resale_prices.head()"
   ]
  },
  {
   "cell_type": "markdown",
   "metadata": {},
   "source": [
    "### Feature Selection and Engineering - Support Vector Regression"
   ]
  },
  {
   "cell_type": "code",
   "execution_count": null,
   "metadata": {},
   "outputs": [],
   "source": [
    "# get resale flat data from 2020 to 2022\n",
    "hdb_resale_prices = hdb_resale_prices.loc[hdb_resale_prices[\"year\"].isin([2020, 2021, 2022])]"
   ]
  },
  {
   "cell_type": "code",
   "execution_count": null,
   "metadata": {},
   "outputs": [],
   "source": [
    "# calculate cpi adjusted price per sqm\n",
    "hdb_resale_prices['cpi_adjusted_price_per_sqm'] = hdb_resale_prices['cpi_adjusted_price'] / hdb_resale_prices['floor_area_sqm'] "
   ]
  },
  {
   "cell_type": "code",
   "execution_count": null,
   "metadata": {},
   "outputs": [],
   "source": [
    "df_svr = hdb_resale_prices[['storey_range', \n",
    "                           'flat_type',\n",
    "                           'no.of bto', \n",
    "                           'floor_area_sqm', \n",
    "                           'resale application', \n",
    "                           'demand ratio', \n",
    "                           'remaining_lease_months', \n",
    "                           'Distance to nearest MRT', \n",
    "                           'Distance to CBD', \n",
    "                           'isMatureEstate',\n",
    "                           'cpi_adjusted_price_per_sqm']]\n",
    "df_svr.head()"
   ]
  },
  {
   "cell_type": "code",
   "execution_count": null,
   "metadata": {},
   "outputs": [],
   "source": [
    "#one hot encoding for flat type\n",
    "df_svr = pd.get_dummies(df_svr, columns=['flat_type'], prefix = ['type'])\n",
    "df_svr.head()"
   ]
  },
  {
   "cell_type": "code",
   "execution_count": null,
   "metadata": {},
   "outputs": [],
   "source": [
    "df_svr.info()"
   ]
  },
  {
   "cell_type": "code",
   "execution_count": null,
   "metadata": {},
   "outputs": [],
   "source": [
    "# plot correlation heatpmap \n",
    "sns.set (rc = {'figure.figsize':(12, 12)})\n",
    "sns.heatmap(df_svr.drop(columns=[\"type_3 ROOM\", \"type_4 ROOM\", \"type_5 ROOM\", \"type_EXECUTIVE\"]).corr(), annot=True)"
   ]
  },
  {
   "attachments": {},
   "cell_type": "markdown",
   "metadata": {},
   "source": [
    "### Declare Independent and Target Variables"
   ]
  },
  {
   "cell_type": "code",
   "execution_count": null,
   "metadata": {},
   "outputs": [],
   "source": [
    "# declare independent and dependent variables\n",
    "X = df_svr.drop(columns=['cpi_adjusted_price_per_sqm'])\n",
    "y = df_svr[['cpi_adjusted_price_per_sqm']]"
   ]
  },
  {
   "attachments": {},
   "cell_type": "markdown",
   "metadata": {},
   "source": [
    "### K-Fold Cross Validation for Support Vector Regression Model"
   ]
  },
  {
   "cell_type": "code",
   "execution_count": null,
   "metadata": {},
   "outputs": [],
   "source": [
    "from sklearn.model_selection import cross_val_score, KFold\n",
    "from sklearn.svm import SVR\n",
    "\n",
    "# Create SVR model\n",
    "svr_model = SVR(kernel='rbf', C=1, epsilon=0.1)\n",
    "\n",
    "# Create k-fold cross-validation object\n",
    "kfold = KFold(n_splits=10, shuffle=True, random_state=42)"
   ]
  },
  {
   "cell_type": "code",
   "execution_count": null,
   "metadata": {},
   "outputs": [],
   "source": [
    "# Perform cross-validation for MSE\n",
    "r2_scores = cross_val_score(svr_model, X, y, cv=kfold, scoring='r2')\n",
    "print('Cross-validation scores (R2):', r2_scores)\n",
    "\n",
    "# Calculate average performance metric across all folds\n",
    "mean_score = r2_scores.mean()\n",
    "\n",
    "print('Average R2:', mean_score)"
   ]
  },
  {
   "cell_type": "code",
   "execution_count": null,
   "metadata": {},
   "outputs": [],
   "source": [
    "# Perform cross-validation for MSE\n",
    "mse_scores = cross_val_score(svr_model, X, y, cv=kfold, scoring='neg_mean_squared_error')\n",
    "print('Cross-validation scores (MSE):', mse_scores)\n",
    "\n",
    "# Calculate average performance metric across all folds\n",
    "mean_score = -mse_scores.mean()\n",
    "\n",
    "print('Average MSE:', mean_score)"
   ]
  },
  {
   "cell_type": "code",
   "execution_count": null,
   "metadata": {},
   "outputs": [],
   "source": [
    "# Perform cross-validation for RMSE\n",
    "rmse_scores = cross_val_score(svr_model, X, y, cv=kfold, scoring='neg_root_mean_squared_error')\n",
    "print('Cross-validation scores (RMSE):', rmse_scores)\n",
    "\n",
    "# Calculate average performance metric across all folds\n",
    "mean_score = -rmse_scores.mean()\n",
    "\n",
    "print('Average RMSE:', mean_score)\n"
   ]
  },
  {
   "attachments": {},
   "cell_type": "markdown",
   "metadata": {},
   "source": [
    "### Split Data into Training and Test Sets"
   ]
  },
  {
   "cell_type": "code",
   "execution_count": null,
   "metadata": {},
   "outputs": [],
   "source": [
    "#Split the dataset into training and testing data\n",
    "from sklearn.model_selection import train_test_split\n",
    "from sklearn.preprocessing import StandardScaler\n",
    "\n",
    "# initiatie standard scalers for x and y variables\n",
    "sc_x = StandardScaler()\n",
    "sc_y = StandardScaler()\n",
    "\n",
    "X_train, X_test, y_train, y_test = train_test_split(X, y, test_size = 0.2, random_state = 0)\n",
    "\n",
    "# standardize x and y values\n",
    "X_train = sc_x.fit_transform(X_train)\n",
    "y_train = sc_y.fit_transform(y_train)"
   ]
  },
  {
   "cell_type": "code",
   "execution_count": null,
   "metadata": {},
   "outputs": [],
   "source": [
    "X_train"
   ]
  },
  {
   "cell_type": "code",
   "execution_count": null,
   "metadata": {},
   "outputs": [],
   "source": [
    "y_train"
   ]
  },
  {
   "attachments": {},
   "cell_type": "markdown",
   "metadata": {},
   "source": [
    "### Train Support Vector Regression Model"
   ]
  },
  {
   "cell_type": "code",
   "execution_count": null,
   "metadata": {},
   "outputs": [],
   "source": [
    "# Fit the model with training data\n",
    "from sklearn.svm import SVR\n",
    "\n",
    "regressor = SVR(kernel = 'rbf')\n",
    "regressor.fit(X_train, y_train)"
   ]
  },
  {
   "cell_type": "code",
   "execution_count": null,
   "metadata": {},
   "outputs": [],
   "source": [
    "# predict resale prices using the model with standardized test data\n",
    "\n",
    "# standardize test data\n",
    "standardScaler = StandardScaler()\n",
    "X_test_norm = standardScaler.fit_transform(X_test)\n",
    "\n",
    "y_pred = regressor.predict(X_test_norm)\n",
    "\n",
    "y_pred"
   ]
  },
  {
   "attachments": {},
   "cell_type": "markdown",
   "metadata": {},
   "source": [
    "### Evaluate Support Vector Regression Model"
   ]
  },
  {
   "cell_type": "code",
   "execution_count": null,
   "metadata": {},
   "outputs": [],
   "source": [
    "from sklearn.metrics import mean_squared_error\n",
    "\n",
    "# standardize y test values to compare with y predicted values\n",
    "standardScaler = StandardScaler()\n",
    "ytest = standardScaler.fit_transform(y_test)\n",
    "\n",
    "mse = mean_squared_error(ytest, y_pred)\n",
    "print(\"MSE: \", mse)\n",
    "print(\"RMSE: \", mse**(1/2.0)) "
   ]
  },
  {
   "cell_type": "code",
   "execution_count": null,
   "metadata": {},
   "outputs": [],
   "source": [
    "# inverse standardize predicted values\n",
    "y_pred = sc_y.inverse_transform([y_pred])\n",
    "y_pred"
   ]
  },
  {
   "cell_type": "code",
   "execution_count": null,
   "metadata": {},
   "outputs": [],
   "source": [
    "# derive r squared score\n",
    "from sklearn.metrics import r2_score\n",
    "r2 = r2_score(y_test, y_pred[0])\n",
    "print(\"R2 score: \" + str(r2))"
   ]
  },
  {
   "cell_type": "code",
   "execution_count": null,
   "metadata": {},
   "outputs": [],
   "source": [
    "# derive mean absolute error\n",
    "from sklearn.metrics import mean_absolute_error\n",
    "mean_absolute_error(y_test, y_pred[0])"
   ]
  },
  {
   "cell_type": "code",
   "execution_count": null,
   "metadata": {},
   "outputs": [],
   "source": [
    "fig, ax = plt.subplots(figsize=(15,15))\n",
    "ax.scatter(y_test, y_pred[0], color = 'purple')\n",
    "\n",
    "# Add labels and title\n",
    "plt.title('Predicted Resale Prices Against Actual Resale Prices (SVR)')\n",
    "plt.xlabel('Actual Price')\n",
    "plt.ylabel('Predicted Price')\n",
    "\n",
    "plt.show()"
   ]
  },
  {
   "cell_type": "code",
   "execution_count": null,
   "metadata": {},
   "outputs": [],
   "source": []
  }
 ],
 "metadata": {
  "kernelspec": {
   "display_name": "Python 3 (ipykernel)",
   "language": "python",
   "name": "python3"
  },
  "language_info": {
   "codemirror_mode": {
    "name": "ipython",
    "version": 3
   },
   "file_extension": ".py",
   "mimetype": "text/x-python",
   "name": "python",
   "nbconvert_exporter": "python",
   "pygments_lexer": "ipython3",
   "version": "3.10.4"
  },
  "vscode": {
   "interpreter": {
    "hash": "afb734500600fd355917ca529030176ea0ca205570884b88f2f6f7d791fd3fbe"
   }
  }
 },
 "nbformat": 4,
 "nbformat_minor": 4
}
