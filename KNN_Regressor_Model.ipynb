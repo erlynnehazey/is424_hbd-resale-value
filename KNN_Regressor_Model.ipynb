{
 "cells": [
  {
   "cell_type": "code",
   "execution_count": 1,
   "metadata": {},
   "outputs": [],
   "source": [
    "import pandas as pd\n",
    "import numpy as np\n",
    "import seaborn as sns\n",
    "import matplotlib.pyplot as plt\n",
    "# import folium \n",
    "import requests\n",
    "import json\n",
    "from geopy.distance import geodesic\n",
    "\n",
    "\n",
    "final_hdb_resale_prices = pd.read_csv(\"hdb_model_data_regression.csv\")"
   ]
  },
  {
   "cell_type": "code",
   "execution_count": 2,
   "metadata": {},
   "outputs": [
    {
     "data": {
      "text/html": [
       "<div>\n",
       "<style scoped>\n",
       "    .dataframe tbody tr th:only-of-type {\n",
       "        vertical-align: middle;\n",
       "    }\n",
       "\n",
       "    .dataframe tbody tr th {\n",
       "        vertical-align: top;\n",
       "    }\n",
       "\n",
       "    .dataframe thead th {\n",
       "        text-align: right;\n",
       "    }\n",
       "</style>\n",
       "<table border=\"1\" class=\"dataframe\">\n",
       "  <thead>\n",
       "    <tr style=\"text-align: right;\">\n",
       "      <th></th>\n",
       "      <th>storey_range</th>\n",
       "      <th>floor_area_sqm</th>\n",
       "      <th>no.of bto</th>\n",
       "      <th>resale application</th>\n",
       "      <th>remaining_lease_months</th>\n",
       "      <th>Distance to nearest MRT</th>\n",
       "      <th>Distance to CBD</th>\n",
       "      <th>isMatureEstate</th>\n",
       "      <th>cpi_adjusted_price_per_sqm</th>\n",
       "    </tr>\n",
       "  </thead>\n",
       "  <tbody>\n",
       "    <tr>\n",
       "      <th>77829</th>\n",
       "      <td>8</td>\n",
       "      <td>146.0</td>\n",
       "      <td>20064</td>\n",
       "      <td>30370.0</td>\n",
       "      <td>780</td>\n",
       "      <td>1182.415251</td>\n",
       "      <td>15623.76672</td>\n",
       "      <td>0</td>\n",
       "      <td>6158.429452</td>\n",
       "    </tr>\n",
       "    <tr>\n",
       "      <th>77830</th>\n",
       "      <td>8</td>\n",
       "      <td>142.0</td>\n",
       "      <td>20064</td>\n",
       "      <td>30370.0</td>\n",
       "      <td>766</td>\n",
       "      <td>661.035324</td>\n",
       "      <td>15234.07761</td>\n",
       "      <td>0</td>\n",
       "      <td>5859.823380</td>\n",
       "    </tr>\n",
       "    <tr>\n",
       "      <th>77831</th>\n",
       "      <td>8</td>\n",
       "      <td>142.0</td>\n",
       "      <td>20064</td>\n",
       "      <td>30370.0</td>\n",
       "      <td>766</td>\n",
       "      <td>661.035324</td>\n",
       "      <td>15234.07761</td>\n",
       "      <td>0</td>\n",
       "      <td>5776.556939</td>\n",
       "    </tr>\n",
       "    <tr>\n",
       "      <th>77832</th>\n",
       "      <td>11</td>\n",
       "      <td>146.0</td>\n",
       "      <td>20064</td>\n",
       "      <td>30370.0</td>\n",
       "      <td>768</td>\n",
       "      <td>573.471701</td>\n",
       "      <td>15246.85376</td>\n",
       "      <td>0</td>\n",
       "      <td>5743.008767</td>\n",
       "    </tr>\n",
       "    <tr>\n",
       "      <th>77833</th>\n",
       "      <td>5</td>\n",
       "      <td>142.0</td>\n",
       "      <td>20064</td>\n",
       "      <td>30370.0</td>\n",
       "      <td>768</td>\n",
       "      <td>573.471701</td>\n",
       "      <td>15246.85376</td>\n",
       "      <td>0</td>\n",
       "      <td>5545.101408</td>\n",
       "    </tr>\n",
       "  </tbody>\n",
       "</table>\n",
       "</div>"
      ],
      "text/plain": [
       "       storey_range  floor_area_sqm  no.of bto  resale application  \\\n",
       "77829             8           146.0      20064             30370.0   \n",
       "77830             8           142.0      20064             30370.0   \n",
       "77831             8           142.0      20064             30370.0   \n",
       "77832            11           146.0      20064             30370.0   \n",
       "77833             5           142.0      20064             30370.0   \n",
       "\n",
       "       remaining_lease_months  Distance to nearest MRT  Distance to CBD  \\\n",
       "77829                     780              1182.415251      15623.76672   \n",
       "77830                     766               661.035324      15234.07761   \n",
       "77831                     766               661.035324      15234.07761   \n",
       "77832                     768               573.471701      15246.85376   \n",
       "77833                     768               573.471701      15246.85376   \n",
       "\n",
       "       isMatureEstate  cpi_adjusted_price_per_sqm  \n",
       "77829               0                 6158.429452  \n",
       "77830               0                 5859.823380  \n",
       "77831               0                 5776.556939  \n",
       "77832               0                 5743.008767  \n",
       "77833               0                 5545.101408  "
      ]
     },
     "execution_count": 2,
     "metadata": {},
     "output_type": "execute_result"
    }
   ],
   "source": [
    "final_hdb_resale_prices.tail()"
   ]
  },
  {
   "cell_type": "code",
   "execution_count": 3,
   "metadata": {},
   "outputs": [],
   "source": [
    "import numpy as np\n",
    "import pandas as pd\n",
    "import datetime\n",
    "import random\n",
    "\n",
    "# Plots\n",
    "import seaborn as sns\n",
    "import matplotlib.pyplot as plt\n",
    "\n",
    "# Models\n",
    "from sklearn.ensemble import RandomForestRegressor, GradientBoostingRegressor, AdaBoostRegressor, BaggingRegressor\n",
    "from sklearn.kernel_ridge import KernelRidge\n",
    "from sklearn.linear_model import Ridge, RidgeCV, RidgeClassifier\n",
    "from sklearn.linear_model import ElasticNet, ElasticNetCV\n",
    "from sklearn.svm import SVR\n",
    "# from mlxtend.regressor import StackingCVRegressor\n",
    "# import lightgbm as lgb\n",
    "# from lightgbm import LGBMRegressor\n",
    "# from xgboost import XGBRegressor\n",
    "\n",
    "# Stats\n",
    "from scipy.stats import skew, norm\n",
    "from scipy.special import boxcox1p\n",
    "from scipy.stats import boxcox_normmax\n",
    "\n",
    "# Misc\n",
    "from sklearn.model_selection import GridSearchCV\n",
    "from sklearn.model_selection import KFold, cross_val_score\n",
    "from sklearn.metrics import mean_squared_error\n",
    "from sklearn.preprocessing import OneHotEncoder\n",
    "from sklearn.preprocessing import LabelEncoder\n",
    "#from sklearn.pipeline import make_pipeline\n",
    "from sklearn.preprocessing import scale\n",
    "from sklearn.preprocessing import StandardScaler\n",
    "from sklearn.preprocessing import RobustScaler\n",
    "from sklearn.decomposition import PCA\n",
    "import numpy as np\n",
    "import pandas as pd\n",
    "\n",
    "\n",
    "\n",
    "# Ignore useless warnings\n",
    "import warnings\n",
    "warnings.filterwarnings(action=\"ignore\")\n",
    "pd.options.display.max_seq_items = 8000\n",
    "pd.options.display.max_rows = 8000"
   ]
  },
  {
   "cell_type": "code",
   "execution_count": 4,
   "metadata": {},
   "outputs": [],
   "source": [
    "from sklearn.model_selection import train_test_split"
   ]
  },
  {
   "cell_type": "code",
   "execution_count": 5,
   "metadata": {},
   "outputs": [],
   "source": [
    "features = ['storey_range','floor_area_sqm','no.of bto','resale application','remaining_lease_months','Distance to nearest MRT','Distance to CBD','isMatureEstate']\n",
    "X = final_hdb_resale_prices[features]\n",
    "y = final_hdb_resale_prices['cpi_adjusted_price_per_sqm']"
   ]
  },
  {
   "cell_type": "code",
   "execution_count": 6,
   "metadata": {},
   "outputs": [],
   "source": [
    "X_train, X_test, y_train, y_test = train_test_split(X,y ,\n",
    "                                   random_state=104, \n",
    "                                   test_size=0.2, \n",
    "                                   shuffle=True)"
   ]
  },
  {
   "cell_type": "code",
   "execution_count": 7,
   "metadata": {},
   "outputs": [],
   "source": [
    "scaler = StandardScaler()"
   ]
  },
  {
   "cell_type": "code",
   "execution_count": 8,
   "metadata": {},
   "outputs": [
    {
     "data": {
      "text/html": [
       "<div>\n",
       "<style scoped>\n",
       "    .dataframe tbody tr th:only-of-type {\n",
       "        vertical-align: middle;\n",
       "    }\n",
       "\n",
       "    .dataframe tbody tr th {\n",
       "        vertical-align: top;\n",
       "    }\n",
       "\n",
       "    .dataframe thead th {\n",
       "        text-align: right;\n",
       "    }\n",
       "</style>\n",
       "<table border=\"1\" class=\"dataframe\">\n",
       "  <thead>\n",
       "    <tr style=\"text-align: right;\">\n",
       "      <th></th>\n",
       "      <th>storey_range</th>\n",
       "      <th>floor_area_sqm</th>\n",
       "      <th>no.of bto</th>\n",
       "      <th>resale application</th>\n",
       "      <th>remaining_lease_months</th>\n",
       "      <th>Distance to nearest MRT</th>\n",
       "      <th>Distance to CBD</th>\n",
       "      <th>isMatureEstate</th>\n",
       "    </tr>\n",
       "  </thead>\n",
       "  <tbody>\n",
       "    <tr>\n",
       "      <th>30358</th>\n",
       "      <td>5</td>\n",
       "      <td>91.0</td>\n",
       "      <td>13756</td>\n",
       "      <td>26436.0</td>\n",
       "      <td>708</td>\n",
       "      <td>932.069073</td>\n",
       "      <td>15095.75605</td>\n",
       "      <td>0</td>\n",
       "    </tr>\n",
       "    <tr>\n",
       "      <th>59440</th>\n",
       "      <td>8</td>\n",
       "      <td>112.0</td>\n",
       "      <td>20064</td>\n",
       "      <td>30370.0</td>\n",
       "      <td>1119</td>\n",
       "      <td>1200.736904</td>\n",
       "      <td>14855.49179</td>\n",
       "      <td>0</td>\n",
       "    </tr>\n",
       "    <tr>\n",
       "      <th>71088</th>\n",
       "      <td>8</td>\n",
       "      <td>102.0</td>\n",
       "      <td>20064</td>\n",
       "      <td>30370.0</td>\n",
       "      <td>883</td>\n",
       "      <td>1520.261819</td>\n",
       "      <td>12713.89155</td>\n",
       "      <td>1</td>\n",
       "    </tr>\n",
       "    <tr>\n",
       "      <th>46493</th>\n",
       "      <td>5</td>\n",
       "      <td>125.0</td>\n",
       "      <td>13756</td>\n",
       "      <td>26436.0</td>\n",
       "      <td>802</td>\n",
       "      <td>1061.696877</td>\n",
       "      <td>12088.05824</td>\n",
       "      <td>1</td>\n",
       "    </tr>\n",
       "    <tr>\n",
       "      <th>77270</th>\n",
       "      <td>8</td>\n",
       "      <td>149.0</td>\n",
       "      <td>20064</td>\n",
       "      <td>30370.0</td>\n",
       "      <td>828</td>\n",
       "      <td>1750.734973</td>\n",
       "      <td>10049.92302</td>\n",
       "      <td>1</td>\n",
       "    </tr>\n",
       "  </tbody>\n",
       "</table>\n",
       "</div>"
      ],
      "text/plain": [
       "       storey_range  floor_area_sqm  no.of bto  resale application  \\\n",
       "30358             5            91.0      13756             26436.0   \n",
       "59440             8           112.0      20064             30370.0   \n",
       "71088             8           102.0      20064             30370.0   \n",
       "46493             5           125.0      13756             26436.0   \n",
       "77270             8           149.0      20064             30370.0   \n",
       "\n",
       "       remaining_lease_months  Distance to nearest MRT  Distance to CBD  \\\n",
       "30358                     708               932.069073      15095.75605   \n",
       "59440                    1119              1200.736904      14855.49179   \n",
       "71088                     883              1520.261819      12713.89155   \n",
       "46493                     802              1061.696877      12088.05824   \n",
       "77270                     828              1750.734973      10049.92302   \n",
       "\n",
       "       isMatureEstate  \n",
       "30358               0  \n",
       "59440               0  \n",
       "71088               1  \n",
       "46493               1  \n",
       "77270               1  "
      ]
     },
     "execution_count": 8,
     "metadata": {},
     "output_type": "execute_result"
    }
   ],
   "source": [
    "X_train.head()"
   ]
  },
  {
   "cell_type": "code",
   "execution_count": 9,
   "metadata": {},
   "outputs": [],
   "source": [
    "s_scaler = StandardScaler()\n",
    "X_train = s_scaler.fit_transform(X_train.astype(np.float))\n",
    "X_test = s_scaler.transform(X_test.astype(np.float))"
   ]
  },
  {
   "cell_type": "code",
   "execution_count": 10,
   "metadata": {},
   "outputs": [
    {
     "data": {
      "text/html": [
       "<div>\n",
       "<style scoped>\n",
       "    .dataframe tbody tr th:only-of-type {\n",
       "        vertical-align: middle;\n",
       "    }\n",
       "\n",
       "    .dataframe tbody tr th {\n",
       "        vertical-align: top;\n",
       "    }\n",
       "\n",
       "    .dataframe thead th {\n",
       "        text-align: right;\n",
       "    }\n",
       "</style>\n",
       "<table border=\"1\" class=\"dataframe\">\n",
       "  <thead>\n",
       "    <tr style=\"text-align: right;\">\n",
       "      <th></th>\n",
       "      <th>storey_range</th>\n",
       "      <th>floor_area_sqm</th>\n",
       "      <th>no.of bto</th>\n",
       "      <th>resale application</th>\n",
       "      <th>remaining_lease_months</th>\n",
       "      <th>Distance to nearest MRT</th>\n",
       "      <th>Distance to CBD</th>\n",
       "      <th>isMatureEstate</th>\n",
       "      <th>cpi_adjusted_price_per_sqm</th>\n",
       "    </tr>\n",
       "  </thead>\n",
       "  <tbody>\n",
       "    <tr>\n",
       "      <th>0</th>\n",
       "      <td>5</td>\n",
       "      <td>73.0</td>\n",
       "      <td>7314</td>\n",
       "      <td>26436.0</td>\n",
       "      <td>667</td>\n",
       "      <td>908.970521</td>\n",
       "      <td>9026.295266</td>\n",
       "      <td>1</td>\n",
       "      <td>3619.754795</td>\n",
       "    </tr>\n",
       "    <tr>\n",
       "      <th>1</th>\n",
       "      <td>20</td>\n",
       "      <td>70.0</td>\n",
       "      <td>7314</td>\n",
       "      <td>26436.0</td>\n",
       "      <td>1100</td>\n",
       "      <td>687.185319</td>\n",
       "      <td>9015.122154</td>\n",
       "      <td>1</td>\n",
       "      <td>6695.082857</td>\n",
       "    </tr>\n",
       "    <tr>\n",
       "      <th>2</th>\n",
       "      <td>2</td>\n",
       "      <td>73.0</td>\n",
       "      <td>7314</td>\n",
       "      <td>26436.0</td>\n",
       "      <td>676</td>\n",
       "      <td>586.980690</td>\n",
       "      <td>8949.443986</td>\n",
       "      <td>1</td>\n",
       "      <td>3141.673973</td>\n",
       "    </tr>\n",
       "    <tr>\n",
       "      <th>3</th>\n",
       "      <td>5</td>\n",
       "      <td>73.0</td>\n",
       "      <td>7314</td>\n",
       "      <td>26436.0</td>\n",
       "      <td>663</td>\n",
       "      <td>800.631299</td>\n",
       "      <td>9123.690385</td>\n",
       "      <td>1</td>\n",
       "      <td>3824.646575</td>\n",
       "    </tr>\n",
       "    <tr>\n",
       "      <th>4</th>\n",
       "      <td>8</td>\n",
       "      <td>68.0</td>\n",
       "      <td>7314</td>\n",
       "      <td>26436.0</td>\n",
       "      <td>708</td>\n",
       "      <td>927.322849</td>\n",
       "      <td>9734.443856</td>\n",
       "      <td>1</td>\n",
       "      <td>3226.041176</td>\n",
       "    </tr>\n",
       "    <tr>\n",
       "      <th>...</th>\n",
       "      <td>...</td>\n",
       "      <td>...</td>\n",
       "      <td>...</td>\n",
       "      <td>...</td>\n",
       "      <td>...</td>\n",
       "      <td>...</td>\n",
       "      <td>...</td>\n",
       "      <td>...</td>\n",
       "      <td>...</td>\n",
       "    </tr>\n",
       "    <tr>\n",
       "      <th>77829</th>\n",
       "      <td>8</td>\n",
       "      <td>146.0</td>\n",
       "      <td>20064</td>\n",
       "      <td>30370.0</td>\n",
       "      <td>780</td>\n",
       "      <td>1182.415251</td>\n",
       "      <td>15623.766720</td>\n",
       "      <td>0</td>\n",
       "      <td>6158.429452</td>\n",
       "    </tr>\n",
       "    <tr>\n",
       "      <th>77830</th>\n",
       "      <td>8</td>\n",
       "      <td>142.0</td>\n",
       "      <td>20064</td>\n",
       "      <td>30370.0</td>\n",
       "      <td>766</td>\n",
       "      <td>661.035324</td>\n",
       "      <td>15234.077610</td>\n",
       "      <td>0</td>\n",
       "      <td>5859.823380</td>\n",
       "    </tr>\n",
       "    <tr>\n",
       "      <th>77831</th>\n",
       "      <td>8</td>\n",
       "      <td>142.0</td>\n",
       "      <td>20064</td>\n",
       "      <td>30370.0</td>\n",
       "      <td>766</td>\n",
       "      <td>661.035324</td>\n",
       "      <td>15234.077610</td>\n",
       "      <td>0</td>\n",
       "      <td>5776.556939</td>\n",
       "    </tr>\n",
       "    <tr>\n",
       "      <th>77832</th>\n",
       "      <td>11</td>\n",
       "      <td>146.0</td>\n",
       "      <td>20064</td>\n",
       "      <td>30370.0</td>\n",
       "      <td>768</td>\n",
       "      <td>573.471701</td>\n",
       "      <td>15246.853760</td>\n",
       "      <td>0</td>\n",
       "      <td>5743.008767</td>\n",
       "    </tr>\n",
       "    <tr>\n",
       "      <th>77833</th>\n",
       "      <td>5</td>\n",
       "      <td>142.0</td>\n",
       "      <td>20064</td>\n",
       "      <td>30370.0</td>\n",
       "      <td>768</td>\n",
       "      <td>573.471701</td>\n",
       "      <td>15246.853760</td>\n",
       "      <td>0</td>\n",
       "      <td>5545.101408</td>\n",
       "    </tr>\n",
       "  </tbody>\n",
       "</table>\n",
       "<p>77834 rows × 9 columns</p>\n",
       "</div>"
      ],
      "text/plain": [
       "       storey_range  floor_area_sqm  no.of bto  resale application  \\\n",
       "0                 5            73.0       7314             26436.0   \n",
       "1                20            70.0       7314             26436.0   \n",
       "2                 2            73.0       7314             26436.0   \n",
       "3                 5            73.0       7314             26436.0   \n",
       "4                 8            68.0       7314             26436.0   \n",
       "...             ...             ...        ...                 ...   \n",
       "77829             8           146.0      20064             30370.0   \n",
       "77830             8           142.0      20064             30370.0   \n",
       "77831             8           142.0      20064             30370.0   \n",
       "77832            11           146.0      20064             30370.0   \n",
       "77833             5           142.0      20064             30370.0   \n",
       "\n",
       "       remaining_lease_months  Distance to nearest MRT  Distance to CBD  \\\n",
       "0                         667               908.970521      9026.295266   \n",
       "1                        1100               687.185319      9015.122154   \n",
       "2                         676               586.980690      8949.443986   \n",
       "3                         663               800.631299      9123.690385   \n",
       "4                         708               927.322849      9734.443856   \n",
       "...                       ...                      ...              ...   \n",
       "77829                     780              1182.415251     15623.766720   \n",
       "77830                     766               661.035324     15234.077610   \n",
       "77831                     766               661.035324     15234.077610   \n",
       "77832                     768               573.471701     15246.853760   \n",
       "77833                     768               573.471701     15246.853760   \n",
       "\n",
       "       isMatureEstate  cpi_adjusted_price_per_sqm  \n",
       "0                   1                 3619.754795  \n",
       "1                   1                 6695.082857  \n",
       "2                   1                 3141.673973  \n",
       "3                   1                 3824.646575  \n",
       "4                   1                 3226.041176  \n",
       "...               ...                         ...  \n",
       "77829               0                 6158.429452  \n",
       "77830               0                 5859.823380  \n",
       "77831               0                 5776.556939  \n",
       "77832               0                 5743.008767  \n",
       "77833               0                 5545.101408  \n",
       "\n",
       "[77834 rows x 9 columns]"
      ]
     },
     "execution_count": 10,
     "metadata": {},
     "output_type": "execute_result"
    }
   ],
   "source": [
    "final_hdb_resale_prices"
   ]
  },
  {
   "cell_type": "code",
   "execution_count": 11,
   "metadata": {},
   "outputs": [],
   "source": [
    "#K Nearest Neighbours Regressor Model"
   ]
  },
  {
   "cell_type": "code",
   "execution_count": 12,
   "metadata": {},
   "outputs": [],
   "source": [
    "from sklearn.neighbors import KNeighborsRegressor\n",
    "from sklearn import metrics\n",
    "\n",
    "knn = KNeighborsRegressor(algorithm='brute')"
   ]
  },
  {
   "cell_type": "code",
   "execution_count": 13,
   "metadata": {},
   "outputs": [
    {
     "data": {
      "text/html": [
       "<style>#sk-container-id-1 {color: black;background-color: white;}#sk-container-id-1 pre{padding: 0;}#sk-container-id-1 div.sk-toggleable {background-color: white;}#sk-container-id-1 label.sk-toggleable__label {cursor: pointer;display: block;width: 100%;margin-bottom: 0;padding: 0.3em;box-sizing: border-box;text-align: center;}#sk-container-id-1 label.sk-toggleable__label-arrow:before {content: \"▸\";float: left;margin-right: 0.25em;color: #696969;}#sk-container-id-1 label.sk-toggleable__label-arrow:hover:before {color: black;}#sk-container-id-1 div.sk-estimator:hover label.sk-toggleable__label-arrow:before {color: black;}#sk-container-id-1 div.sk-toggleable__content {max-height: 0;max-width: 0;overflow: hidden;text-align: left;background-color: #f0f8ff;}#sk-container-id-1 div.sk-toggleable__content pre {margin: 0.2em;color: black;border-radius: 0.25em;background-color: #f0f8ff;}#sk-container-id-1 input.sk-toggleable__control:checked~div.sk-toggleable__content {max-height: 200px;max-width: 100%;overflow: auto;}#sk-container-id-1 input.sk-toggleable__control:checked~label.sk-toggleable__label-arrow:before {content: \"▾\";}#sk-container-id-1 div.sk-estimator input.sk-toggleable__control:checked~label.sk-toggleable__label {background-color: #d4ebff;}#sk-container-id-1 div.sk-label input.sk-toggleable__control:checked~label.sk-toggleable__label {background-color: #d4ebff;}#sk-container-id-1 input.sk-hidden--visually {border: 0;clip: rect(1px 1px 1px 1px);clip: rect(1px, 1px, 1px, 1px);height: 1px;margin: -1px;overflow: hidden;padding: 0;position: absolute;width: 1px;}#sk-container-id-1 div.sk-estimator {font-family: monospace;background-color: #f0f8ff;border: 1px dotted black;border-radius: 0.25em;box-sizing: border-box;margin-bottom: 0.5em;}#sk-container-id-1 div.sk-estimator:hover {background-color: #d4ebff;}#sk-container-id-1 div.sk-parallel-item::after {content: \"\";width: 100%;border-bottom: 1px solid gray;flex-grow: 1;}#sk-container-id-1 div.sk-label:hover label.sk-toggleable__label {background-color: #d4ebff;}#sk-container-id-1 div.sk-serial::before {content: \"\";position: absolute;border-left: 1px solid gray;box-sizing: border-box;top: 0;bottom: 0;left: 50%;z-index: 0;}#sk-container-id-1 div.sk-serial {display: flex;flex-direction: column;align-items: center;background-color: white;padding-right: 0.2em;padding-left: 0.2em;position: relative;}#sk-container-id-1 div.sk-item {position: relative;z-index: 1;}#sk-container-id-1 div.sk-parallel {display: flex;align-items: stretch;justify-content: center;background-color: white;position: relative;}#sk-container-id-1 div.sk-item::before, #sk-container-id-1 div.sk-parallel-item::before {content: \"\";position: absolute;border-left: 1px solid gray;box-sizing: border-box;top: 0;bottom: 0;left: 50%;z-index: -1;}#sk-container-id-1 div.sk-parallel-item {display: flex;flex-direction: column;z-index: 1;position: relative;background-color: white;}#sk-container-id-1 div.sk-parallel-item:first-child::after {align-self: flex-end;width: 50%;}#sk-container-id-1 div.sk-parallel-item:last-child::after {align-self: flex-start;width: 50%;}#sk-container-id-1 div.sk-parallel-item:only-child::after {width: 0;}#sk-container-id-1 div.sk-dashed-wrapped {border: 1px dashed gray;margin: 0 0.4em 0.5em 0.4em;box-sizing: border-box;padding-bottom: 0.4em;background-color: white;}#sk-container-id-1 div.sk-label label {font-family: monospace;font-weight: bold;display: inline-block;line-height: 1.2em;}#sk-container-id-1 div.sk-label-container {text-align: center;}#sk-container-id-1 div.sk-container {/* jupyter's `normalize.less` sets `[hidden] { display: none; }` but bootstrap.min.css set `[hidden] { display: none !important; }` so we also need the `!important` here to be able to override the default hidden behavior on the sphinx rendered scikit-learn.org. See: https://github.com/scikit-learn/scikit-learn/issues/21755 */display: inline-block !important;position: relative;}#sk-container-id-1 div.sk-text-repr-fallback {display: none;}</style><div id=\"sk-container-id-1\" class=\"sk-top-container\"><div class=\"sk-text-repr-fallback\"><pre>KNeighborsRegressor(algorithm=&#x27;brute&#x27;)</pre><b>In a Jupyter environment, please rerun this cell to show the HTML representation or trust the notebook. <br />On GitHub, the HTML representation is unable to render, please try loading this page with nbviewer.org.</b></div><div class=\"sk-container\" hidden><div class=\"sk-item\"><div class=\"sk-estimator sk-toggleable\"><input class=\"sk-toggleable__control sk-hidden--visually\" id=\"sk-estimator-id-1\" type=\"checkbox\" checked><label for=\"sk-estimator-id-1\" class=\"sk-toggleable__label sk-toggleable__label-arrow\">KNeighborsRegressor</label><div class=\"sk-toggleable__content\"><pre>KNeighborsRegressor(algorithm=&#x27;brute&#x27;)</pre></div></div></div></div></div>"
      ],
      "text/plain": [
       "KNeighborsRegressor(algorithm='brute')"
      ]
     },
     "execution_count": 13,
     "metadata": {},
     "output_type": "execute_result"
    }
   ],
   "source": [
    "knn.fit(X_train,y_train)"
   ]
  },
  {
   "cell_type": "code",
   "execution_count": 14,
   "metadata": {},
   "outputs": [],
   "source": [
    "predictions = knn.predict(X_test)"
   ]
  },
  {
   "cell_type": "code",
   "execution_count": 15,
   "metadata": {},
   "outputs": [],
   "source": [
    "#Test dataset with evaluation"
   ]
  },
  {
   "cell_type": "code",
   "execution_count": 16,
   "metadata": {},
   "outputs": [
    {
     "name": "stdout",
     "output_type": "stream",
     "text": [
      "MSE:  190723.69694543723\n",
      "RMSE: 436.7192427011171\n",
      "Mean Squared Log Error:  0.006338455311792908\n"
     ]
    }
   ],
   "source": [
    "from sklearn.metrics import mean_squared_error\n",
    "mse = mean_squared_error(y_test, predictions)\n",
    "rmse = mse ** (1/2)\n",
    "print(\"MSE: \", mse)\n",
    "print(\"RMSE:\", rmse)\n",
    "\n",
    "# msle\n",
    "msle = metrics.mean_squared_log_error(y_test, predictions)\n",
    "print(\"Mean Squared Log Error: \", msle)"
   ]
  },
  {
   "cell_type": "code",
   "execution_count": 17,
   "metadata": {},
   "outputs": [
    {
     "name": "stdout",
     "output_type": "stream",
     "text": [
      "Coefficient of determination test(R2): 0.91\n",
      "Adjusted R2:  0.9099537215580409\n"
     ]
    }
   ],
   "source": [
    "r2 = metrics.r2_score(y_test, predictions).round(2)\n",
    "print(\"Coefficient of determination test(R2): %.2f\" % metrics.r2_score(y_test, predictions).round(2))\n",
    "adj_r2 = 1 - (1-r2)*(len(y_test)-1)/(len(y_test)-X_test.shape[1]-1)\n",
    "print(\"Adjusted R2: \", adj_r2)"
   ]
  },
  {
   "cell_type": "code",
   "execution_count": 18,
   "metadata": {},
   "outputs": [
    {
     "name": "stdout",
     "output_type": "stream",
     "text": [
      "62267\n",
      "15567\n"
     ]
    }
   ],
   "source": [
    "print(len(y_train))\n",
    "print(len(predictions))"
   ]
  },
  {
   "cell_type": "code",
   "execution_count": 19,
   "metadata": {},
   "outputs": [
    {
     "data": {
      "text/plain": [
       "Text(0, 0.5, 'Predictions')"
      ]
     },
     "execution_count": 19,
     "metadata": {},
     "output_type": "execute_result"
    },
    {
     "data": {
      "image/png": "[encoded data removed]",
      "text/plain": [
       "<Figure size 720x360 with 1 Axes>"
      ]
     },
     "metadata": {
      "needs_background": "light"
     },
     "output_type": "display_data"
    }
   ],
   "source": [
    "# Visualizing Our predictions\n",
    "fig = plt.figure(figsize=(10,5))\n",
    "plt.scatter(y_test,predictions)\n",
    "# Perfect predictions\n",
    "plt.plot(y_test,y_test,'r')\n",
    "plt.xlabel('True Values', fontsize=15)\n",
    "plt.ylabel('Predictions', fontsize=15)"
   ]
  },
  {
   "cell_type": "code",
   "execution_count": 20,
   "metadata": {},
   "outputs": [
    {
     "data": {
      "text/html": [
       "<div>\n",
       "<style scoped>\n",
       "    .dataframe tbody tr th:only-of-type {\n",
       "        vertical-align: middle;\n",
       "    }\n",
       "\n",
       "    .dataframe tbody tr th {\n",
       "        vertical-align: top;\n",
       "    }\n",
       "\n",
       "    .dataframe thead th {\n",
       "        text-align: right;\n",
       "    }\n",
       "</style>\n",
       "<table border=\"1\" class=\"dataframe\">\n",
       "  <thead>\n",
       "    <tr style=\"text-align: right;\">\n",
       "      <th></th>\n",
       "      <th>Actual</th>\n",
       "      <th>Predicted</th>\n",
       "    </tr>\n",
       "  </thead>\n",
       "  <tbody>\n",
       "    <tr>\n",
       "      <th>75439</th>\n",
       "      <td>5275.212712</td>\n",
       "      <td>5302.219989</td>\n",
       "    </tr>\n",
       "    <tr>\n",
       "      <th>15416</th>\n",
       "      <td>3677.975410</td>\n",
       "      <td>4237.035176</td>\n",
       "    </tr>\n",
       "    <tr>\n",
       "      <th>24537</th>\n",
       "      <td>4813.239130</td>\n",
       "      <td>4554.712960</td>\n",
       "    </tr>\n",
       "    <tr>\n",
       "      <th>33177</th>\n",
       "      <td>4661.833333</td>\n",
       "      <td>4530.469412</td>\n",
       "    </tr>\n",
       "    <tr>\n",
       "      <th>49716</th>\n",
       "      <td>3548.411765</td>\n",
       "      <td>4142.711307</td>\n",
       "    </tr>\n",
       "    <tr>\n",
       "      <th>770</th>\n",
       "      <td>3572.362435</td>\n",
       "      <td>3844.389132</td>\n",
       "    </tr>\n",
       "    <tr>\n",
       "      <th>26407</th>\n",
       "      <td>4570.273973</td>\n",
       "      <td>4473.890226</td>\n",
       "    </tr>\n",
       "    <tr>\n",
       "      <th>701</th>\n",
       "      <td>5852.778261</td>\n",
       "      <td>6212.383486</td>\n",
       "    </tr>\n",
       "    <tr>\n",
       "      <th>55778</th>\n",
       "      <td>4876.941667</td>\n",
       "      <td>4889.609048</td>\n",
       "    </tr>\n",
       "    <tr>\n",
       "      <th>35288</th>\n",
       "      <td>4205.760000</td>\n",
       "      <td>3821.370711</td>\n",
       "    </tr>\n",
       "    <tr>\n",
       "      <th>69792</th>\n",
       "      <td>5466.061644</td>\n",
       "      <td>5249.434388</td>\n",
       "    </tr>\n",
       "    <tr>\n",
       "      <th>8957</th>\n",
       "      <td>5070.925641</td>\n",
       "      <td>4893.662924</td>\n",
       "    </tr>\n",
       "    <tr>\n",
       "      <th>22274</th>\n",
       "      <td>3970.430182</td>\n",
       "      <td>3865.902727</td>\n",
       "    </tr>\n",
       "    <tr>\n",
       "      <th>54916</th>\n",
       "      <td>4864.274286</td>\n",
       "      <td>5025.467335</td>\n",
       "    </tr>\n",
       "    <tr>\n",
       "      <th>61138</th>\n",
       "      <td>4911.046154</td>\n",
       "      <td>4843.158163</td>\n",
       "    </tr>\n",
       "    <tr>\n",
       "      <th>912</th>\n",
       "      <td>4827.275888</td>\n",
       "      <td>4991.477227</td>\n",
       "    </tr>\n",
       "    <tr>\n",
       "      <th>63442</th>\n",
       "      <td>6333.690476</td>\n",
       "      <td>6634.468950</td>\n",
       "    </tr>\n",
       "    <tr>\n",
       "      <th>4611</th>\n",
       "      <td>4121.512000</td>\n",
       "      <td>3755.521734</td>\n",
       "    </tr>\n",
       "    <tr>\n",
       "      <th>21145</th>\n",
       "      <td>4656.614034</td>\n",
       "      <td>4524.966342</td>\n",
       "    </tr>\n",
       "    <tr>\n",
       "      <th>1726</th>\n",
       "      <td>3709.947353</td>\n",
       "      <td>3965.842017</td>\n",
       "    </tr>\n",
       "  </tbody>\n",
       "</table>\n",
       "</div>"
      ],
      "text/plain": [
       "            Actual    Predicted\n",
       "75439  5275.212712  5302.219989\n",
       "15416  3677.975410  4237.035176\n",
       "24537  4813.239130  4554.712960\n",
       "33177  4661.833333  4530.469412\n",
       "49716  3548.411765  4142.711307\n",
       "770    3572.362435  3844.389132\n",
       "26407  4570.273973  4473.890226\n",
       "701    5852.778261  6212.383486\n",
       "55778  4876.941667  4889.609048\n",
       "35288  4205.760000  3821.370711\n",
       "69792  5466.061644  5249.434388\n",
       "8957   5070.925641  4893.662924\n",
       "22274  3970.430182  3865.902727\n",
       "54916  4864.274286  5025.467335\n",
       "61138  4911.046154  4843.158163\n",
       "912    4827.275888  4991.477227\n",
       "63442  6333.690476  6634.468950\n",
       "4611   4121.512000  3755.521734\n",
       "21145  4656.614034  4524.966342\n",
       "1726   3709.947353  3965.842017"
      ]
     },
     "execution_count": 20,
     "metadata": {},
     "output_type": "execute_result"
    }
   ],
   "source": [
    "df = pd.DataFrame({'Actual': y_test, 'Predicted': predictions})\n",
    "df1 = df.head(20)\n",
    "df1"
   ]
  },
  {
   "cell_type": "code",
   "execution_count": 21,
   "metadata": {},
   "outputs": [],
   "source": [
    "#KNN finding K with RMSE"
   ]
  },
  {
   "cell_type": "code",
   "execution_count": 22,
   "metadata": {},
   "outputs": [
    {
     "name": "stdout",
     "output_type": "stream",
     "text": [
      "RMSE value for k=  1 is: 479.13043913266483\n",
      "RMSE value for k=  2 is: 441.8194000629914\n",
      "RMSE value for k=  3 is: 435.61077630308034\n",
      "RMSE value for k=  4 is: 434.06665503734234\n",
      "RMSE value for k=  5 is: 436.70587307677454\n",
      "RMSE value for k=  6 is: 438.4104268459135\n",
      "RMSE value for k=  7 is: 440.799234972167\n",
      "RMSE value for k=  8 is: 443.18258216567546\n",
      "RMSE value for k=  9 is: 445.9280822003239\n",
      "RMSE value for k=  10 is: 448.2724463014996\n",
      "RMSE value for k=  11 is: 450.3329856871859\n",
      "RMSE value for k=  12 is: 451.89149246965997\n",
      "RMSE value for k=  13 is: 453.26637804574545\n",
      "RMSE value for k=  14 is: 455.3218943400078\n",
      "RMSE value for k=  15 is: 456.8431555935731\n",
      "RMSE value for k=  16 is: 458.8203753045916\n",
      "RMSE value for k=  17 is: 460.50107222678207\n",
      "RMSE value for k=  18 is: 462.01525289245853\n",
      "RMSE value for k=  19 is: 463.1294172412608\n",
      "RMSE value for k=  20 is: 464.26823996375884\n"
     ]
    }
   ],
   "source": [
    "#import required packages\n",
    "from sklearn import neighbors\n",
    "from sklearn.metrics import mean_squared_error \n",
    "from math import sqrt\n",
    "import matplotlib.pyplot as plt\n",
    "%matplotlib inline\n",
    "rmse_val = [] #to store rmse values for different k\n",
    "for K in range(20):\n",
    "    K = K+1\n",
    "    model = neighbors.KNeighborsRegressor(n_neighbors = K)\n",
    "\n",
    "    model.fit(X_train, y_train)  #fit the model\n",
    "    pred=model.predict(X_test) #make prediction on test set\n",
    "    error = sqrt(mean_squared_error(y_test,pred)) #calculate rmse\n",
    "    rmse_val.append(error) #store rmse values\n",
    "    print('RMSE value for k= ' , K , 'is:', error)"
   ]
  },
  {
   "cell_type": "code",
   "execution_count": 23,
   "metadata": {},
   "outputs": [
    {
     "data": {
      "text/plain": [
       "<matplotlib.axes._subplots.AxesSubplot at 0x196b6b35340>"
      ]
     },
     "execution_count": 23,
     "metadata": {},
     "output_type": "execute_result"
    },
    {
     "data": {
      "image/png": "[encoded data removed]",
      "text/plain": [
       "<Figure size 432x288 with 1 Axes>"
      ]
     },
     "metadata": {
      "needs_background": "light"
     },
     "output_type": "display_data"
    }
   ],
   "source": [
    "curve = pd.DataFrame(rmse_val) #elbow curve \n",
    "curve.plot()"
   ]
  },
  {
   "cell_type": "code",
   "execution_count": 24,
   "metadata": {},
   "outputs": [
    {
     "data": {
      "text/plain": [
       "{'n_neighbors': 5}"
      ]
     },
     "execution_count": 24,
     "metadata": {},
     "output_type": "execute_result"
    }
   ],
   "source": [
    "from sklearn.model_selection import GridSearchCV\n",
    "params = {'n_neighbors':[2,3,4,5,6,7,8,9]}\n",
    "\n",
    "knn = neighbors.KNeighborsRegressor()\n",
    "\n",
    "model = GridSearchCV(knn, params, cv=5)\n",
    "model.fit(X_train,y_train)\n",
    "model.best_params_"
   ]
  },
  {
   "cell_type": "code",
   "execution_count": 25,
   "metadata": {},
   "outputs": [
    {
     "name": "stdout",
     "output_type": "stream",
     "text": [
      "Coefficient of determination test(R2): 0.91\n"
     ]
    }
   ],
   "source": [
    "pred=model.predict(X_test)\n",
    "print(\"Coefficient of determination test(R2): %.2f\" % metrics.r2_score(y_test, pred).round(2))"
   ]
  },
  {
   "cell_type": "code",
   "execution_count": 26,
   "metadata": {},
   "outputs": [],
   "source": [
    "#Train dataset with evaluation"
   ]
  },
  {
   "cell_type": "code",
   "execution_count": 27,
   "metadata": {},
   "outputs": [
    {
     "name": "stdout",
     "output_type": "stream",
     "text": [
      "MSE:  119767.68607428207\n",
      "RMSE: 346.0746827987885\n",
      "Mean Squared Log Error:  0.003983394409772078\n"
     ]
    }
   ],
   "source": [
    "from sklearn.metrics import mean_squared_error\n",
    "from sklearn.neighbors import KNeighborsRegressor\n",
    "from sklearn import metrics\n",
    "\n",
    "knn = KNeighborsRegressor(algorithm='brute')\n",
    "knn.fit(X_train,y_train)\n",
    "y_pred_train = knn.predict(X_train)  \n",
    "mse = mean_squared_error(y_train, y_pred_train)\n",
    "rmse = mse ** (1/2)\n",
    "print(\"MSE: \", mse)\n",
    "print(\"RMSE:\", rmse)\n",
    "\n",
    "# msle\n",
    "msle = metrics.mean_squared_log_error(y_train, y_pred_train)\n",
    "print(\"Mean Squared Log Error: \", msle)"
   ]
  },
  {
   "cell_type": "code",
   "execution_count": 28,
   "metadata": {},
   "outputs": [
    {
     "name": "stdout",
     "output_type": "stream",
     "text": [
      "Coefficient of determination test(R2): 0.94\n",
      "Adjusted R2:  0.9399922901474509\n"
     ]
    }
   ],
   "source": [
    "r2 = metrics.r2_score(y_train, y_pred_train).round(2)\n",
    "print(\"Coefficient of determination test(R2): %.2f\" % metrics.r2_score(y_train, y_pred_train).round(2))\n",
    "adj_r2 = 1 - (1-r2)*(len(y_train)-1)/(len(y_train)-X_train.shape[1]-1)\n",
    "print(\"Adjusted R2: \", adj_r2)"
   ]
  }
 ],
 "metadata": {
  "kernelspec": {
   "display_name": "Python 3",
   "language": "python",
   "name": "python3"
  },
  "language_info": {
   "codemirror_mode": {
    "name": "ipython",
    "version": 3
   },
   "file_extension": ".py",
   "mimetype": "text/x-python",
   "name": "python",
   "nbconvert_exporter": "python",
   "pygments_lexer": "ipython3",
   "version": "3.8.3"
  }
 },
 "nbformat": 4,
 "nbformat_minor": 4
}
