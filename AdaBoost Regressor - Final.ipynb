{
 "cells": [
  {
   "cell_type": "markdown",
   "id": "e4751c6d",
   "metadata": {},
   "source": [
    "# AdaBoost Regression"
   ]
  },
  {
   "cell_type": "code",
   "execution_count": 1,
   "id": "e1042fdc",
   "metadata": {},
   "outputs": [],
   "source": [
    "import re\n",
    "import io\n",
    "\n",
    "#General libraries needed\n",
    "import numpy as np\n",
    "import pandas as pd\n",
    "import matplotlib.pyplot as plt\n",
    "import seaborn as sns\n",
    "\n",
    "#Libraries for data pre-processing\n",
    "from sklearn import metrics\n",
    "from sklearn.model_selection import train_test_split\n",
    "from sklearn import preprocessing\n",
    "\n",
    "#For AdaBoost implementation\n",
    "from sklearn.ensemble import AdaBoostRegressor\n",
    "from sklearn.naive_bayes import GaussianNB\n",
    "\n",
    "#For hyperparamter tuning\n",
    "from sklearn.model_selection import RepeatedStratifiedKFold\n",
    "from sklearn.model_selection import GridSearchCV"
   ]
  },
  {
   "cell_type": "code",
   "execution_count": 2,
   "id": "7475dc8a",
   "metadata": {},
   "outputs": [
    {
     "data": {
      "text/html": [
       "<div>\n",
       "<style scoped>\n",
       "    .dataframe tbody tr th:only-of-type {\n",
       "        vertical-align: middle;\n",
       "    }\n",
       "\n",
       "    .dataframe tbody tr th {\n",
       "        vertical-align: top;\n",
       "    }\n",
       "\n",
       "    .dataframe thead th {\n",
       "        text-align: right;\n",
       "    }\n",
       "</style>\n",
       "<table border=\"1\" class=\"dataframe\">\n",
       "  <thead>\n",
       "    <tr style=\"text-align: right;\">\n",
       "      <th></th>\n",
       "      <th>storey_range</th>\n",
       "      <th>floor_area_sqm</th>\n",
       "      <th>no.of bto</th>\n",
       "      <th>resale application</th>\n",
       "      <th>remaining_lease_months</th>\n",
       "      <th>Distance to nearest MRT</th>\n",
       "      <th>Distance to CBD</th>\n",
       "      <th>isMatureEstate</th>\n",
       "      <th>cpi_adjusted_price_per_sqm</th>\n",
       "    </tr>\n",
       "  </thead>\n",
       "  <tbody>\n",
       "    <tr>\n",
       "      <th>6387</th>\n",
       "      <td>11</td>\n",
       "      <td>117.0</td>\n",
       "      <td>7314</td>\n",
       "      <td>26436.0</td>\n",
       "      <td>955</td>\n",
       "      <td>697.019712</td>\n",
       "      <td>11282.155620</td>\n",
       "      <td>1</td>\n",
       "      <td>5497.053846</td>\n",
       "    </tr>\n",
       "    <tr>\n",
       "      <th>68231</th>\n",
       "      <td>14</td>\n",
       "      <td>93.0</td>\n",
       "      <td>20064</td>\n",
       "      <td>30370.0</td>\n",
       "      <td>1101</td>\n",
       "      <td>917.358304</td>\n",
       "      <td>18677.674140</td>\n",
       "      <td>0</td>\n",
       "      <td>6178.412903</td>\n",
       "    </tr>\n",
       "    <tr>\n",
       "      <th>28813</th>\n",
       "      <td>2</td>\n",
       "      <td>113.0</td>\n",
       "      <td>13756</td>\n",
       "      <td>26436.0</td>\n",
       "      <td>1118</td>\n",
       "      <td>1406.761448</td>\n",
       "      <td>14852.144140</td>\n",
       "      <td>0</td>\n",
       "      <td>4992.371681</td>\n",
       "    </tr>\n",
       "    <tr>\n",
       "      <th>36857</th>\n",
       "      <td>23</td>\n",
       "      <td>120.0</td>\n",
       "      <td>13756</td>\n",
       "      <td>26436.0</td>\n",
       "      <td>636</td>\n",
       "      <td>1802.951494</td>\n",
       "      <td>7266.385596</td>\n",
       "      <td>1</td>\n",
       "      <td>7245.500000</td>\n",
       "    </tr>\n",
       "    <tr>\n",
       "      <th>52833</th>\n",
       "      <td>5</td>\n",
       "      <td>124.0</td>\n",
       "      <td>20064</td>\n",
       "      <td>30370.0</td>\n",
       "      <td>849</td>\n",
       "      <td>1317.081362</td>\n",
       "      <td>15184.462320</td>\n",
       "      <td>1</td>\n",
       "      <td>4848.337903</td>\n",
       "    </tr>\n",
       "  </tbody>\n",
       "</table>\n",
       "</div>"
      ],
      "text/plain": [
       "       storey_range  floor_area_sqm  no.of bto  resale application  \\\n",
       "6387             11           117.0       7314             26436.0   \n",
       "68231            14            93.0      20064             30370.0   \n",
       "28813             2           113.0      13756             26436.0   \n",
       "36857            23           120.0      13756             26436.0   \n",
       "52833             5           124.0      20064             30370.0   \n",
       "\n",
       "       remaining_lease_months  Distance to nearest MRT  Distance to CBD  \\\n",
       "6387                      955               697.019712     11282.155620   \n",
       "68231                    1101               917.358304     18677.674140   \n",
       "28813                    1118              1406.761448     14852.144140   \n",
       "36857                     636              1802.951494      7266.385596   \n",
       "52833                     849              1317.081362     15184.462320   \n",
       "\n",
       "       isMatureEstate  cpi_adjusted_price_per_sqm  \n",
       "6387                1                 5497.053846  \n",
       "68231               0                 6178.412903  \n",
       "28813               0                 4992.371681  \n",
       "36857               1                 7245.500000  \n",
       "52833               1                 4848.337903  "
      ]
     },
     "execution_count": 2,
     "metadata": {},
     "output_type": "execute_result"
    }
   ],
   "source": [
    "# import csv\n",
    "hdb_model_data = pd.read_csv('hdb_model_data_regression.csv')\n",
    "hdb_model_data.sample(5)"
   ]
  },
  {
   "cell_type": "code",
   "execution_count": 3,
   "id": "e7794b47",
   "metadata": {},
   "outputs": [],
   "source": [
    "X = hdb_model_data.iloc[:,0:8]\n",
    "y= hdb_model_data.iloc[:,-1]  \n",
    "X_train,X_test,y_train,y_test = train_test_split(X,y,test_size=0.2,random_state=42)\n"
   ]
  },
  {
   "cell_type": "markdown",
   "id": "501796e3",
   "metadata": {},
   "source": [
    "Set Random Forest Regressor"
   ]
  },
  {
   "cell_type": "code",
   "execution_count": 4,
   "id": "a2f51ddf",
   "metadata": {},
   "outputs": [],
   "source": [
    "from sklearn.ensemble import RandomForestRegressor\n",
    "regressor = RandomForestRegressor(n_estimators = 8,  #no. of trees to be used in the model\n",
    "                        max_depth = 15,  # maximum number of splits each tree can take. Too low the model will be trained less and have high bias\n",
    "                        min_samples_split = 2, #every node have 2 subnodes\n",
    "                        max_features = 6)#maximum features in each tree"
   ]
  },
  {
   "cell_type": "markdown",
   "id": "9463f0b2",
   "metadata": {},
   "source": [
    "Using GridSearchCV, find best parameters for Adaboost"
   ]
  },
  {
   "cell_type": "code",
   "execution_count": 5,
   "id": "6b1e828c",
   "metadata": {},
   "outputs": [
    {
     "name": "stdout",
     "output_type": "stream",
     "text": [
      "Best: 0.938364 using {'learning_rate': 0.1, 'n_estimators': 300}\n"
     ]
    }
   ],
   "source": [
    "# define the model with default hyperparameters\n",
    "model = AdaBoostRegressor(base_estimator = regressor)\n",
    "\n",
    "# define the grid of values to search\n",
    "grid = dict()\n",
    "grid['n_estimators'] = [50, 100, 150, 200, 250, 300]\n",
    "grid['learning_rate'] = [0.1, 0.5, 1.0, 1.5, 2.0]\n",
    "\n",
    "# define the grid search procedure\n",
    "grid_search = GridSearchCV(estimator=model, param_grid=grid, n_jobs=-1, cv=2)\n",
    "\n",
    "# execute the grid search\n",
    "grid_result = grid_search.fit(X_train, y_train)\n",
    "\n",
    "# summarize the best score and configuration\n",
    "print(\"Best: %f using %s\" % (grid_result.best_score_, grid_result.best_params_))\n",
    "\n",
    "#Use the trained model to predict the test data\n",
    "y_pred = grid_result.predict(X_test)"
   ]
  },
  {
   "cell_type": "code",
   "execution_count": 6,
   "id": "12635787",
   "metadata": {},
   "outputs": [
    {
     "name": "stdout",
     "output_type": "stream",
     "text": [
      "Testing Data Results:\n",
      "r2 score: 0.9470390736745287\n",
      "mean squared error: 112519.2128561211\n",
      "mean squared log error: 0.0040413220107782\n",
      "root mean squared error: 335.43883623713145\n",
      "adjusted r2 score: 0.9470118409061392\n"
     ]
    }
   ],
   "source": [
    "print('Testing Data Results:')\n",
    "r2 = metrics.r2_score(y_test, y_pred)\n",
    "mse = metrics.mean_squared_error(y_test, y_pred)\n",
    "msle = metrics.mean_squared_log_error(y_test, y_pred)\n",
    "rmse = metrics.mean_squared_error(y_test, y_pred, squared=False)\n",
    "adjusted_r2 = 1 - (1-r2)*(len(y_test)-1)/(len(y_test)-X_test.shape[1]-1)\n",
    "\n",
    "\n",
    "print(\"r2 score: \" + str(r2))\n",
    "print(\"mean squared error: \" + str(mse))\n",
    "print(\"mean squared log error: \" + str(msle))\n",
    "print(\"root mean squared error: \" + str(rmse))\n",
    "print(\"adjusted r2 score: \" + str(adjusted_r2))"
   ]
  },
  {
   "cell_type": "code",
   "execution_count": 7,
   "id": "061c8ed6",
   "metadata": {},
   "outputs": [
    {
     "name": "stdout",
     "output_type": "stream",
     "text": [
      "Training Data Results:\n",
      "r2 score: 0.973183034423303\n",
      "mean squared error: 57021.01520784959\n",
      "mean squared log error: 0.0022891807397651077\n",
      "root mean squared error: 238.7907351800936\n",
      "adjusted r2 score: 0.9470322683256481\n"
     ]
    }
   ],
   "source": [
    "y_train_pred = grid_result.predict(X_train)\n",
    "\n",
    "print('Training Data Results:')\n",
    "r2_train = metrics.r2_score(y_train, y_train_pred)\n",
    "mse_train = metrics.mean_squared_error(y_train, y_train_pred)\n",
    "msle_train = metrics.mean_squared_log_error(y_train, y_train_pred)\n",
    "rmse_train = metrics.mean_squared_error(y_train, y_train_pred, squared=False)\n",
    "adjusted_r2_train = 1 - (1-r2)*(len(y_train)-1)/(len(y_train)-X_train.shape[1]-1)\n",
    "\n",
    "\n",
    "print(\"r2 score: \" + str(r2_train))\n",
    "print(\"mean squared error: \" + str(mse_train))\n",
    "print(\"mean squared log error: \" + str(msle_train))\n",
    "print(\"root mean squared error: \" + str(rmse_train))\n",
    "print(\"adjusted r2 score: \" + str(adjusted_r2_train))"
   ]
  },
  {
   "cell_type": "code",
   "execution_count": null,
   "id": "4508b0c6",
   "metadata": {},
   "outputs": [],
   "source": []
  }
 ],
 "metadata": {
  "kernelspec": {
   "display_name": "Python 3",
   "language": "python",
   "name": "python3"
  },
  "language_info": {
   "codemirror_mode": {
    "name": "ipython",
    "version": 3
   },
   "file_extension": ".py",
   "mimetype": "text/x-python",
   "name": "python",
   "nbconvert_exporter": "python",
   "pygments_lexer": "ipython3",
   "version": "3.9.12"
  }
 },
 "nbformat": 4,
 "nbformat_minor": 5
}
