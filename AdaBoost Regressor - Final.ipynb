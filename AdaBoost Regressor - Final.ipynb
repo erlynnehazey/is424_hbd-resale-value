{
 "cells": [
  {
   "cell_type": "markdown",
   "id": "e4751c6d",
   "metadata": {},
   "source": [
    "# AdaBoost Regression"
   ]
  },
  {
   "cell_type": "code",
   "execution_count": 1,
   "id": "e1042fdc",
   "metadata": {},
   "outputs": [],
   "source": [
    "import re\n",
    "import io\n",
    "\n",
    "#General libraries needed\n",
    "import numpy as np\n",
    "import pandas as pd\n",
    "import matplotlib.pyplot as plt\n",
    "import seaborn as sns\n",
    "\n",
    "#Libraries for data pre-processing\n",
    "from sklearn import metrics\n",
    "from sklearn.model_selection import train_test_split\n",
    "from sklearn import preprocessing\n",
    "\n",
    "#For AdaBoost implementation\n",
    "from sklearn.ensemble import AdaBoostRegressor\n",
    "from sklearn.naive_bayes import GaussianNB\n",
    "\n",
    "#For hyperparamter tuning\n",
    "from sklearn.model_selection import RepeatedStratifiedKFold\n",
    "from sklearn.model_selection import GridSearchCV"
   ]
  },
  {
   "cell_type": "code",
   "execution_count": 2,
   "id": "7475dc8a",
   "metadata": {},
   "outputs": [
    {
     "data": {
      "text/html": [
       "<div>\n",
       "<style scoped>\n",
       "    .dataframe tbody tr th:only-of-type {\n",
       "        vertical-align: middle;\n",
       "    }\n",
       "\n",
       "    .dataframe tbody tr th {\n",
       "        vertical-align: top;\n",
       "    }\n",
       "\n",
       "    .dataframe thead th {\n",
       "        text-align: right;\n",
       "    }\n",
       "</style>\n",
       "<table border=\"1\" class=\"dataframe\">\n",
       "  <thead>\n",
       "    <tr style=\"text-align: right;\">\n",
       "      <th></th>\n",
       "      <th>storey_range</th>\n",
       "      <th>floor_area_sqm</th>\n",
       "      <th>no.of bto</th>\n",
       "      <th>resale application</th>\n",
       "      <th>remaining_lease_months</th>\n",
       "      <th>Distance to nearest MRT</th>\n",
       "      <th>Distance to CBD</th>\n",
       "      <th>isMatureEstate</th>\n",
       "      <th>cpi_adjusted_price_per_sqm</th>\n",
       "    </tr>\n",
       "  </thead>\n",
       "  <tbody>\n",
       "    <tr>\n",
       "      <th>19956</th>\n",
       "      <td>2</td>\n",
       "      <td>98.0</td>\n",
       "      <td>7314</td>\n",
       "      <td>26436.0</td>\n",
       "      <td>678</td>\n",
       "      <td>523.845390</td>\n",
       "      <td>7779.10428</td>\n",
       "      <td>1</td>\n",
       "      <td>4334.506531</td>\n",
       "    </tr>\n",
       "    <tr>\n",
       "      <th>57492</th>\n",
       "      <td>8</td>\n",
       "      <td>113.0</td>\n",
       "      <td>20064</td>\n",
       "      <td>30370.0</td>\n",
       "      <td>1137</td>\n",
       "      <td>710.344006</td>\n",
       "      <td>13578.96966</td>\n",
       "      <td>0</td>\n",
       "      <td>6712.881463</td>\n",
       "    </tr>\n",
       "    <tr>\n",
       "      <th>62171</th>\n",
       "      <td>11</td>\n",
       "      <td>101.0</td>\n",
       "      <td>20064</td>\n",
       "      <td>30370.0</td>\n",
       "      <td>896</td>\n",
       "      <td>761.689291</td>\n",
       "      <td>18916.84474</td>\n",
       "      <td>0</td>\n",
       "      <td>4561.762178</td>\n",
       "    </tr>\n",
       "    <tr>\n",
       "      <th>76968</th>\n",
       "      <td>5</td>\n",
       "      <td>120.0</td>\n",
       "      <td>20064</td>\n",
       "      <td>30370.0</td>\n",
       "      <td>638</td>\n",
       "      <td>303.159230</td>\n",
       "      <td>7391.58329</td>\n",
       "      <td>1</td>\n",
       "      <td>6739.046667</td>\n",
       "    </tr>\n",
       "    <tr>\n",
       "      <th>28092</th>\n",
       "      <td>14</td>\n",
       "      <td>130.0</td>\n",
       "      <td>13756</td>\n",
       "      <td>26436.0</td>\n",
       "      <td>958</td>\n",
       "      <td>968.767020</td>\n",
       "      <td>14980.20623</td>\n",
       "      <td>0</td>\n",
       "      <td>5055.000000</td>\n",
       "    </tr>\n",
       "  </tbody>\n",
       "</table>\n",
       "</div>"
      ],
      "text/plain": [
       "       storey_range  floor_area_sqm  no.of bto  resale application  \\\n",
       "19956             2            98.0       7314             26436.0   \n",
       "57492             8           113.0      20064             30370.0   \n",
       "62171            11           101.0      20064             30370.0   \n",
       "76968             5           120.0      20064             30370.0   \n",
       "28092            14           130.0      13756             26436.0   \n",
       "\n",
       "       remaining_lease_months  Distance to nearest MRT  Distance to CBD  \\\n",
       "19956                     678               523.845390       7779.10428   \n",
       "57492                    1137               710.344006      13578.96966   \n",
       "62171                     896               761.689291      18916.84474   \n",
       "76968                     638               303.159230       7391.58329   \n",
       "28092                     958               968.767020      14980.20623   \n",
       "\n",
       "       isMatureEstate  cpi_adjusted_price_per_sqm  \n",
       "19956               1                 4334.506531  \n",
       "57492               0                 6712.881463  \n",
       "62171               0                 4561.762178  \n",
       "76968               1                 6739.046667  \n",
       "28092               0                 5055.000000  "
      ]
     },
     "execution_count": 2,
     "metadata": {},
     "output_type": "execute_result"
    }
   ],
   "source": [
    "# import csv\n",
    "hdb_model_data = pd.read_csv('hdb_model_data_regression.csv')\n",
    "hdb_model_data.sample(5)"
   ]
  },
  {
   "cell_type": "code",
   "execution_count": 3,
   "id": "e7794b47",
   "metadata": {},
   "outputs": [],
   "source": [
    "X = hdb_model_data.iloc[:,0:8]\n",
    "y= hdb_model_data.iloc[:,-1]  \n",
    "X_train,X_test,y_train,y_test = train_test_split(X,y,test_size=0.2,random_state=42)\n"
   ]
  },
  {
   "cell_type": "markdown",
   "id": "501796e3",
   "metadata": {},
   "source": [
    "Set Random Forest Regressor"
   ]
  },
  {
   "cell_type": "code",
   "execution_count": 4,
   "id": "a2f51ddf",
   "metadata": {},
   "outputs": [],
   "source": [
    "from sklearn.ensemble import RandomForestRegressor\n",
    "regressor = RandomForestRegressor(n_estimators = 8,  #no. of trees to be used in the model\n",
    "                        max_depth = 15,  # maximum number of splits each tree can take. Too low the model will be trained less and have high bias\n",
    "                        min_samples_split = 2, #every node have 2 subnodes\n",
    "                        max_features = 6)#maximum features in each tree"
   ]
  },
  {
   "cell_type": "markdown",
   "id": "9463f0b2",
   "metadata": {},
   "source": [
    "Using GridSearchCV, find best parameters for Adaboost"
   ]
  },
  {
   "cell_type": "code",
   "execution_count": 5,
   "id": "6b1e828c",
   "metadata": {},
   "outputs": [
    {
     "name": "stdout",
     "output_type": "stream",
     "text": [
      "Best: 0.938342 using {'learning_rate': 0.1, 'n_estimators': 300}\n"
     ]
    }
   ],
   "source": [
    "# define the model with default hyperparameters\n",
    "model = AdaBoostRegressor(base_estimator = regressor)\n",
    "\n",
    "# define the grid of values to search\n",
    "grid = dict()\n",
    "grid['n_estimators'] = [50, 100, 150, 200, 250, 300]\n",
    "grid['learning_rate'] = [0.1, 0.5, 1.0, 1.5, 2.0]\n",
    "\n",
    "# define the grid search procedure\n",
    "grid_search = GridSearchCV(estimator=model, param_grid=grid, n_jobs=-1, cv=2)\n",
    "\n",
    "# execute the grid search\n",
    "grid_result = grid_search.fit(X_train, y_train)\n",
    "\n",
    "# summarize the best score and configuration\n",
    "print(\"Best: %f using %s\" % (grid_result.best_score_, grid_result.best_params_))\n",
    "\n",
    "#Use the trained model to predict the test data\n",
    "y_pred = grid_result.predict(X_test)"
   ]
  },
  {
   "cell_type": "code",
   "execution_count": 6,
   "id": "12635787",
   "metadata": {},
   "outputs": [
    {
     "name": "stdout",
     "output_type": "stream",
     "text": [
      "r2 score: 0.9470276968107928\n",
      "mean squared error: 112543.38380329193\n",
      "mean squared log error: 0.004041023637356333\n",
      "root mean squared error: 335.4748631466923\n",
      "adjusted r2 score: 0.9470004581923641\n"
     ]
    }
   ],
   "source": [
    "r2 = metrics.r2_score(y_test, y_pred)\n",
    "mse = metrics.mean_squared_error(y_test, y_pred)\n",
    "msle = metrics.mean_squared_log_error(y_test, y_pred)\n",
    "rmse = metrics.mean_squared_error(y_test, y_pred, squared=False)\n",
    "adjusted_r2 = 1 - (1-r2)*(len(y_test)-1)/(len(y_test)-X_test.shape[1]-1)\n",
    "\n",
    "\n",
    "print(\"r2 score: \" + str(r2))\n",
    "print(\"mean squared error: \" + str(mse))\n",
    "print(\"mean squared log error: \" + str(msle))\n",
    "print(\"root mean squared error: \" + str(rmse))\n",
    "print(\"adjusted r2 score: \" + str(adjusted_r2))"
   ]
  },
  {
   "cell_type": "code",
   "execution_count": null,
   "id": "4508b0c6",
   "metadata": {},
   "outputs": [],
   "source": []
  }
 ],
 "metadata": {
  "kernelspec": {
   "display_name": "Python 3",
   "language": "python",
   "name": "python3"
  },
  "language_info": {
   "codemirror_mode": {
    "name": "ipython",
    "version": 3
   },
   "file_extension": ".py",
   "mimetype": "text/x-python",
   "name": "python",
   "nbconvert_exporter": "python",
   "pygments_lexer": "ipython3",
   "version": "3.9.12"
  }
 },
 "nbformat": 4,
 "nbformat_minor": 5
}
