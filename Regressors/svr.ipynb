{
 "cells": [
  {
   "cell_type": "code",
   "execution_count": 2,
   "metadata": {},
   "outputs": [],
   "source": [
    "import pandas as pd\n",
    "import numpy as np\n",
    "import seaborn as sns\n",
    "import matplotlib.pyplot as plt\n",
    "from sklearn import preprocessing\n",
    "\n",
    "from sklearn.model_selection import train_test_split\n",
    "from sklearn.preprocessing import StandardScaler\n",
    "from sklearn.svm import SVR\n",
    "\n",
    "from sklearn.metrics import mean_squared_error, r2_score, mean_squared_log_error\n",
    "\n",
    "hdb_resale_prices = pd.read_csv(\"final_hdb_resale_prices.csv\")"
   ]
  },
  {
   "cell_type": "code",
   "execution_count": 3,
   "metadata": {},
   "outputs": [
    {
     "data": {
      "text/html": [
       "<div>\n",
       "<style scoped>\n",
       "    .dataframe tbody tr th:only-of-type {\n",
       "        vertical-align: middle;\n",
       "    }\n",
       "\n",
       "    .dataframe tbody tr th {\n",
       "        vertical-align: top;\n",
       "    }\n",
       "\n",
       "    .dataframe thead th {\n",
       "        text-align: right;\n",
       "    }\n",
       "</style>\n",
       "<table border=\"1\" class=\"dataframe\">\n",
       "  <thead>\n",
       "    <tr style=\"text-align: right;\">\n",
       "      <th></th>\n",
       "      <th>month</th>\n",
       "      <th>town</th>\n",
       "      <th>flat_type</th>\n",
       "      <th>storey_range</th>\n",
       "      <th>floor_area_sqm</th>\n",
       "      <th>flat_model</th>\n",
       "      <th>resale_price</th>\n",
       "      <th>Latitude</th>\n",
       "      <th>Longitude</th>\n",
       "      <th>cpi_multiplier</th>\n",
       "      <th>...</th>\n",
       "      <th>year</th>\n",
       "      <th>no.of bto</th>\n",
       "      <th>resale application</th>\n",
       "      <th>demand ratio</th>\n",
       "      <th>remaining_lease_months</th>\n",
       "      <th>address</th>\n",
       "      <th>Distance to nearest MRT</th>\n",
       "      <th>Distance to CBD</th>\n",
       "      <th>Distance to nearest mall</th>\n",
       "      <th>isMatureEstate</th>\n",
       "    </tr>\n",
       "  </thead>\n",
       "  <tbody>\n",
       "    <tr>\n",
       "      <th>0</th>\n",
       "      <td>2017-01</td>\n",
       "      <td>ANG MO KIO</td>\n",
       "      <td>3 ROOM</td>\n",
       "      <td>2</td>\n",
       "      <td>67.0</td>\n",
       "      <td>New Generation</td>\n",
       "      <td>250000.0</td>\n",
       "      <td>1.370943</td>\n",
       "      <td>103.837975</td>\n",
       "      <td>1.02372</td>\n",
       "      <td>...</td>\n",
       "      <td>2017</td>\n",
       "      <td>14464</td>\n",
       "      <td>20894.0</td>\n",
       "      <td>1.02</td>\n",
       "      <td>727</td>\n",
       "      <td>108 ANG MO KIO AVE 4</td>\n",
       "      <td>166.825954</td>\n",
       "      <td>9696.234644</td>\n",
       "      <td>896.944633</td>\n",
       "      <td>1</td>\n",
       "    </tr>\n",
       "    <tr>\n",
       "      <th>1</th>\n",
       "      <td>2017-01</td>\n",
       "      <td>ANG MO KIO</td>\n",
       "      <td>3 ROOM</td>\n",
       "      <td>2</td>\n",
       "      <td>67.0</td>\n",
       "      <td>New Generation</td>\n",
       "      <td>262000.0</td>\n",
       "      <td>1.380709</td>\n",
       "      <td>103.835368</td>\n",
       "      <td>1.02372</td>\n",
       "      <td>...</td>\n",
       "      <td>2017</td>\n",
       "      <td>14464</td>\n",
       "      <td>20894.0</td>\n",
       "      <td>1.02</td>\n",
       "      <td>749</td>\n",
       "      <td>602 ANG MO KIO AVE 5</td>\n",
       "      <td>532.155055</td>\n",
       "      <td>10808.143550</td>\n",
       "      <td>1527.724531</td>\n",
       "      <td>1</td>\n",
       "    </tr>\n",
       "    <tr>\n",
       "      <th>2</th>\n",
       "      <td>2017-01</td>\n",
       "      <td>ANG MO KIO</td>\n",
       "      <td>3 ROOM</td>\n",
       "      <td>5</td>\n",
       "      <td>68.0</td>\n",
       "      <td>New Generation</td>\n",
       "      <td>265000.0</td>\n",
       "      <td>1.366201</td>\n",
       "      <td>103.857201</td>\n",
       "      <td>1.02372</td>\n",
       "      <td>...</td>\n",
       "      <td>2017</td>\n",
       "      <td>14464</td>\n",
       "      <td>20894.0</td>\n",
       "      <td>1.02</td>\n",
       "      <td>744</td>\n",
       "      <td>465 ANG MO KIO AVE 10</td>\n",
       "      <td>945.375055</td>\n",
       "      <td>9087.920590</td>\n",
       "      <td>880.143181</td>\n",
       "      <td>1</td>\n",
       "    </tr>\n",
       "    <tr>\n",
       "      <th>3</th>\n",
       "      <td>2017-01</td>\n",
       "      <td>ANG MO KIO</td>\n",
       "      <td>3 ROOM</td>\n",
       "      <td>2</td>\n",
       "      <td>67.0</td>\n",
       "      <td>New Generation</td>\n",
       "      <td>265000.0</td>\n",
       "      <td>1.381041</td>\n",
       "      <td>103.835132</td>\n",
       "      <td>1.02372</td>\n",
       "      <td>...</td>\n",
       "      <td>2017</td>\n",
       "      <td>14464</td>\n",
       "      <td>20894.0</td>\n",
       "      <td>1.02</td>\n",
       "      <td>749</td>\n",
       "      <td>601 ANG MO KIO AVE 5</td>\n",
       "      <td>498.419646</td>\n",
       "      <td>10848.697720</td>\n",
       "      <td>1571.446900</td>\n",
       "      <td>1</td>\n",
       "    </tr>\n",
       "    <tr>\n",
       "      <th>4</th>\n",
       "      <td>2017-01</td>\n",
       "      <td>ANG MO KIO</td>\n",
       "      <td>3 ROOM</td>\n",
       "      <td>2</td>\n",
       "      <td>68.0</td>\n",
       "      <td>New Generation</td>\n",
       "      <td>275000.0</td>\n",
       "      <td>1.376807</td>\n",
       "      <td>103.842018</td>\n",
       "      <td>1.02372</td>\n",
       "      <td>...</td>\n",
       "      <td>2017</td>\n",
       "      <td>14464</td>\n",
       "      <td>20894.0</td>\n",
       "      <td>1.02</td>\n",
       "      <td>756</td>\n",
       "      <td>150 ANG MO KIO AVE 5</td>\n",
       "      <td>636.982785</td>\n",
       "      <td>10284.079570</td>\n",
       "      <td>695.573226</td>\n",
       "      <td>1</td>\n",
       "    </tr>\n",
       "  </tbody>\n",
       "</table>\n",
       "<p>5 rows × 21 columns</p>\n",
       "</div>"
      ],
      "text/plain": [
       "     month        town flat_type  storey_range  floor_area_sqm  \\\n",
       "0  2017-01  ANG MO KIO    3 ROOM             2            67.0   \n",
       "1  2017-01  ANG MO KIO    3 ROOM             2            67.0   \n",
       "2  2017-01  ANG MO KIO    3 ROOM             5            68.0   \n",
       "3  2017-01  ANG MO KIO    3 ROOM             2            67.0   \n",
       "4  2017-01  ANG MO KIO    3 ROOM             2            68.0   \n",
       "\n",
       "       flat_model  resale_price  Latitude   Longitude  cpi_multiplier  ...  \\\n",
       "0  New Generation      250000.0  1.370943  103.837975         1.02372  ...   \n",
       "1  New Generation      262000.0  1.380709  103.835368         1.02372  ...   \n",
       "2  New Generation      265000.0  1.366201  103.857201         1.02372  ...   \n",
       "3  New Generation      265000.0  1.381041  103.835132         1.02372  ...   \n",
       "4  New Generation      275000.0  1.376807  103.842018         1.02372  ...   \n",
       "\n",
       "   year  no.of bto  resale application  demand ratio  remaining_lease_months  \\\n",
       "0  2017      14464             20894.0          1.02                     727   \n",
       "1  2017      14464             20894.0          1.02                     749   \n",
       "2  2017      14464             20894.0          1.02                     744   \n",
       "3  2017      14464             20894.0          1.02                     749   \n",
       "4  2017      14464             20894.0          1.02                     756   \n",
       "\n",
       "                 address Distance to nearest MRT  Distance to CBD  \\\n",
       "0   108 ANG MO KIO AVE 4              166.825954      9696.234644   \n",
       "1   602 ANG MO KIO AVE 5              532.155055     10808.143550   \n",
       "2  465 ANG MO KIO AVE 10              945.375055      9087.920590   \n",
       "3   601 ANG MO KIO AVE 5              498.419646     10848.697720   \n",
       "4   150 ANG MO KIO AVE 5              636.982785     10284.079570   \n",
       "\n",
       "   Distance to nearest mall  isMatureEstate  \n",
       "0                896.944633               1  \n",
       "1               1527.724531               1  \n",
       "2                880.143181               1  \n",
       "3               1571.446900               1  \n",
       "4                695.573226               1  \n",
       "\n",
       "[5 rows x 21 columns]"
      ]
     },
     "execution_count": 3,
     "metadata": {},
     "output_type": "execute_result"
    }
   ],
   "source": [
    "# drop the first column of hdb resale prices database\n",
    "hdb_resale_prices.drop(columns=hdb_resale_prices.columns[0], inplace=True)\n",
    "hdb_resale_prices.head()"
   ]
  },
  {
   "cell_type": "markdown",
   "metadata": {},
   "source": [
    "### Feature Selection and Engineering - Support Vector Regression"
   ]
  },
  {
   "cell_type": "code",
   "execution_count": 4,
   "metadata": {},
   "outputs": [],
   "source": [
    "# get resale flat data from 2020 to 2022\n",
    "hdb_resale_prices = hdb_resale_prices.loc[hdb_resale_prices[\"year\"].isin([2020, 2021, 2022])]"
   ]
  },
  {
   "cell_type": "code",
   "execution_count": 5,
   "metadata": {},
   "outputs": [],
   "source": [
    "# calculate cpi adjusted price per sqm\n",
    "hdb_resale_prices['cpi_adjusted_price_per_sqm'] = hdb_resale_prices['cpi_adjusted_price'] / hdb_resale_prices['floor_area_sqm'] "
   ]
  },
  {
   "cell_type": "code",
   "execution_count": 6,
   "metadata": {},
   "outputs": [
    {
     "data": {
      "text/html": [
       "<div>\n",
       "<style scoped>\n",
       "    .dataframe tbody tr th:only-of-type {\n",
       "        vertical-align: middle;\n",
       "    }\n",
       "\n",
       "    .dataframe tbody tr th {\n",
       "        vertical-align: top;\n",
       "    }\n",
       "\n",
       "    .dataframe thead th {\n",
       "        text-align: right;\n",
       "    }\n",
       "</style>\n",
       "<table border=\"1\" class=\"dataframe\">\n",
       "  <thead>\n",
       "    <tr style=\"text-align: right;\">\n",
       "      <th></th>\n",
       "      <th>storey_range</th>\n",
       "      <th>no.of bto</th>\n",
       "      <th>floor_area_sqm</th>\n",
       "      <th>demand ratio</th>\n",
       "      <th>remaining_lease_months</th>\n",
       "      <th>Distance to nearest MRT</th>\n",
       "      <th>Distance to CBD</th>\n",
       "      <th>Distance to nearest mall</th>\n",
       "      <th>isMatureEstate</th>\n",
       "      <th>cpi_adjusted_price_per_sqm</th>\n",
       "    </tr>\n",
       "  </thead>\n",
       "  <tbody>\n",
       "    <tr>\n",
       "      <th>63275</th>\n",
       "      <td>5</td>\n",
       "      <td>7314</td>\n",
       "      <td>73.0</td>\n",
       "      <td>1.13</td>\n",
       "      <td>667</td>\n",
       "      <td>908.970521</td>\n",
       "      <td>9026.295266</td>\n",
       "      <td>775.593122</td>\n",
       "      <td>1</td>\n",
       "      <td>3619.754795</td>\n",
       "    </tr>\n",
       "    <tr>\n",
       "      <th>63276</th>\n",
       "      <td>20</td>\n",
       "      <td>7314</td>\n",
       "      <td>70.0</td>\n",
       "      <td>1.13</td>\n",
       "      <td>1100</td>\n",
       "      <td>687.185319</td>\n",
       "      <td>9015.122154</td>\n",
       "      <td>561.028714</td>\n",
       "      <td>1</td>\n",
       "      <td>6695.082857</td>\n",
       "    </tr>\n",
       "    <tr>\n",
       "      <th>63277</th>\n",
       "      <td>2</td>\n",
       "      <td>7314</td>\n",
       "      <td>73.0</td>\n",
       "      <td>1.13</td>\n",
       "      <td>676</td>\n",
       "      <td>586.980690</td>\n",
       "      <td>8949.443986</td>\n",
       "      <td>489.978660</td>\n",
       "      <td>1</td>\n",
       "      <td>3141.673973</td>\n",
       "    </tr>\n",
       "    <tr>\n",
       "      <th>63278</th>\n",
       "      <td>5</td>\n",
       "      <td>7314</td>\n",
       "      <td>73.0</td>\n",
       "      <td>1.13</td>\n",
       "      <td>663</td>\n",
       "      <td>800.631299</td>\n",
       "      <td>9123.690385</td>\n",
       "      <td>806.304304</td>\n",
       "      <td>1</td>\n",
       "      <td>3824.646575</td>\n",
       "    </tr>\n",
       "    <tr>\n",
       "      <th>63279</th>\n",
       "      <td>8</td>\n",
       "      <td>7314</td>\n",
       "      <td>68.0</td>\n",
       "      <td>1.13</td>\n",
       "      <td>708</td>\n",
       "      <td>927.322849</td>\n",
       "      <td>9734.443856</td>\n",
       "      <td>1059.121690</td>\n",
       "      <td>1</td>\n",
       "      <td>3226.041176</td>\n",
       "    </tr>\n",
       "  </tbody>\n",
       "</table>\n",
       "</div>"
      ],
      "text/plain": [
       "       storey_range  no.of bto  floor_area_sqm  demand ratio  \\\n",
       "63275             5       7314            73.0          1.13   \n",
       "63276            20       7314            70.0          1.13   \n",
       "63277             2       7314            73.0          1.13   \n",
       "63278             5       7314            73.0          1.13   \n",
       "63279             8       7314            68.0          1.13   \n",
       "\n",
       "       remaining_lease_months  Distance to nearest MRT  Distance to CBD  \\\n",
       "63275                     667               908.970521      9026.295266   \n",
       "63276                    1100               687.185319      9015.122154   \n",
       "63277                     676               586.980690      8949.443986   \n",
       "63278                     663               800.631299      9123.690385   \n",
       "63279                     708               927.322849      9734.443856   \n",
       "\n",
       "       Distance to nearest mall  isMatureEstate  cpi_adjusted_price_per_sqm  \n",
       "63275                775.593122               1                 3619.754795  \n",
       "63276                561.028714               1                 6695.082857  \n",
       "63277                489.978660               1                 3141.673973  \n",
       "63278                806.304304               1                 3824.646575  \n",
       "63279               1059.121690               1                 3226.041176  "
      ]
     },
     "execution_count": 6,
     "metadata": {},
     "output_type": "execute_result"
    }
   ],
   "source": [
    "df_svr = hdb_resale_prices[['storey_range', \n",
    "                           'no.of bto', \n",
    "                           'floor_area_sqm', \n",
    "                           'demand ratio', \n",
    "                           'remaining_lease_months', \n",
    "                           'Distance to nearest MRT', \n",
    "                           'Distance to CBD', \n",
    "                           'Distance to nearest mall',\n",
    "                           'isMatureEstate',\n",
    "                           'cpi_adjusted_price_per_sqm']]\n",
    "df_svr.head()"
   ]
  },
  {
   "cell_type": "code",
   "execution_count": null,
   "metadata": {},
   "outputs": [],
   "source": [
    "df_svr.info()"
   ]
  },
  {
   "cell_type": "code",
   "execution_count": null,
   "metadata": {},
   "outputs": [],
   "source": [
    "# plot correlation heatpmap \n",
    "sns.set (rc = {'figure.figsize':(12, 12)})\n",
    "sns.heatmap(df_svr.corr(), annot=True)"
   ]
  },
  {
   "attachments": {},
   "cell_type": "markdown",
   "metadata": {},
   "source": [
    "### Sampling Data for Kernel Selection"
   ]
  },
  {
   "cell_type": "code",
   "execution_count": null,
   "metadata": {},
   "outputs": [],
   "source": [
    "sample_df = df_svr.sample(n=10000, random_state=1)\n",
    "\n",
    "sample_df.info()"
   ]
  },
  {
   "cell_type": "code",
   "execution_count": null,
   "metadata": {},
   "outputs": [],
   "source": [
    "# split data into independent and dependent variables\n",
    "x_sample = df_svr.drop(columns=['cpi_adjusted_price_per_sqm'])\n",
    "y_sample = df_svr[['cpi_adjusted_price_per_sqm']]"
   ]
  },
  {
   "attachments": {},
   "cell_type": "markdown",
   "metadata": {},
   "source": [
    "### Comparing Performance of Linear and RBF Kernels"
   ]
  },
  {
   "cell_type": "code",
   "execution_count": null,
   "metadata": {},
   "outputs": [],
   "source": [
    "# split data into training and testing sets\n",
    "# initiatie standard scalers for x and y variables\n",
    "sc_x = StandardScaler()\n",
    "sc_y = StandardScaler()\n",
    "\n",
    "sample_X_train, sample_X_test, sample_y_train, sample_y_test = train_test_split(x_sample, y_sample, test_size = 0.2, random_state = 0)\n",
    "\n",
    "# standardize x and y values\n",
    "sample_X_train = sc_x.fit_transform(sample_X_train)\n",
    "sample_y_train = sc_y.fit_transform(sample_y_train)"
   ]
  },
  {
   "cell_type": "code",
   "execution_count": null,
   "metadata": {},
   "outputs": [],
   "source": [
    "sample_X_train"
   ]
  },
  {
   "cell_type": "code",
   "execution_count": null,
   "metadata": {},
   "outputs": [],
   "source": [
    "sample_y_train"
   ]
  },
  {
   "attachments": {},
   "cell_type": "markdown",
   "metadata": {},
   "source": [
    "##### Linear Kernel"
   ]
  },
  {
   "cell_type": "code",
   "execution_count": null,
   "metadata": {},
   "outputs": [],
   "source": [
    "# Fit the linear kernel model with training data\n",
    "\n",
    "regressor = SVR(kernel = 'linear', C=1, epsilon=0.1)\n",
    "regressor.fit(sample_X_train, sample_y_train)"
   ]
  },
  {
   "cell_type": "code",
   "execution_count": null,
   "metadata": {},
   "outputs": [],
   "source": [
    "# training data performance \n",
    "sample_y_train_pred = regressor.predict(sample_X_train)\n",
    "sample_y_train_pred = sc_y.inverse_transform([sample_y_train_pred])\n",
    "\n",
    "# return mse, rmse, and r2 score\n",
    "mse = mean_squared_error(sc_y.inverse_transform(sample_y_train), sample_y_train_pred[0])\n",
    "r2 = r2_score(sc_y.inverse_transform(sample_y_train), sample_y_train_pred[0])\n",
    "msle = mean_squared_log_error(sc_y.inverse_transform(sample_y_train), sample_y_train_pred[0])\n",
    "# adjusted r-sqaured\n",
    "adj_r2 = 1 - (1-r2)*(len(sample_y_train)-1)/(len(sample_y_train)-sample_X_train.shape[1]-1)\n",
    "\n",
    "print(\"MSE: \", mse)\n",
    "print(\"RMSE: \", mse**(1/2.0)) \n",
    "print(\"MSLE: \", msle) \n",
    "print(\"R2 score: \" + str(r2))\n",
    "print(\"Adjusted R2: \", adj_r2)"
   ]
  },
  {
   "cell_type": "code",
   "execution_count": null,
   "metadata": {},
   "outputs": [],
   "source": [
    "# predict resale prices using the model with standardized test data\n",
    "\n",
    "standardScaler = StandardScaler()\n",
    "X_test = standardScaler.fit_transform(sample_X_test)\n",
    "\n",
    "y_sample_pred = regressor.predict(X_test)"
   ]
  },
  {
   "cell_type": "code",
   "execution_count": null,
   "metadata": {},
   "outputs": [],
   "source": [
    "# evaluation metrics for SVR with linear kernel\n",
    "\n",
    "# inverse standardize predicted values\n",
    "sample_pred = sc_y.inverse_transform([y_sample_pred])\n",
    "sample_pred\n",
    "\n",
    "# return mse, rmse, and r2 score\n",
    "mse = mean_squared_error(sample_y_test, sample_pred[0])\n",
    "r2 = r2_score(sample_y_test, sample_pred[0])\n",
    "msle = mean_squared_log_error(sample_y_test, sample_pred[0])\n",
    "# adjusted r-sqaured\n",
    "adj_r2 = 1 - (1-r2)*(len(sample_y_test)-1)/(len(sample_y_test)-sample_X_test.shape[1]-1)\n",
    "\n",
    "print(\"MSE: \", mse)\n",
    "print(\"RMSE: \", mse**(1/2.0)) \n",
    "print(\"MSLE: \", msle) \n",
    "print(\"R2 score: \" + str(r2))\n",
    "print(\"Adjusted R2: \", adj_r2)"
   ]
  },
  {
   "attachments": {},
   "cell_type": "markdown",
   "metadata": {},
   "source": [
    "##### RBF Kernel"
   ]
  },
  {
   "cell_type": "code",
   "execution_count": null,
   "metadata": {},
   "outputs": [],
   "source": [
    "# Fit the RBF kernel model with training data\n",
    "regressor = SVR(kernel = 'rbf', C=1, epsilon=0.1)\n",
    "regressor.fit(sample_X_train, sample_y_train)"
   ]
  },
  {
   "cell_type": "code",
   "execution_count": null,
   "metadata": {},
   "outputs": [],
   "source": [
    "# training data performance \n",
    "sample_y_train_pred = regressor.predict(sample_X_train)\n",
    "sample_y_train_pred = sc_y.inverse_transform([sample_y_train_pred])\n",
    "\n",
    "# return mse, rmse, and r2 score\n",
    "mse = mean_squared_error(sc_y.inverse_transform(sample_y_train), sample_y_train_pred[0])\n",
    "r2 = r2_score(sc_y.inverse_transform(sample_y_train), sample_y_train_pred[0])\n",
    "msle = mean_squared_log_error(sc_y.inverse_transform(sample_y_train), sample_y_train_pred[0])\n",
    "# adjusted r-sqaured\n",
    "adj_r2 = 1 - (1-r2)*(len(sample_y_train)-1)/(len(sample_y_train)-sample_X_train.shape[1]-1)\n",
    "\n",
    "print(\"MSE: \", mse)\n",
    "print(\"RMSE: \", mse**(1/2.0)) \n",
    "print(\"MSLE: \", msle) \n",
    "print(\"R2 score: \" + str(r2))\n",
    "print(\"Adjusted R2: \", adj_r2)"
   ]
  },
  {
   "cell_type": "code",
   "execution_count": null,
   "metadata": {},
   "outputs": [],
   "source": [
    "# predict resale prices using the model with standardized test data\n",
    "\n",
    "standardScaler = StandardScaler()\n",
    "X_test = standardScaler.fit_transform(sample_X_test)\n",
    "\n",
    "y_sample_pred = regressor.predict(X_test)"
   ]
  },
  {
   "cell_type": "code",
   "execution_count": null,
   "metadata": {},
   "outputs": [],
   "source": [
    "# evaluation metrics for SVR with RBF kernel\n",
    "\n",
    "# inverse standardize predicted values\n",
    "sample_pred = sc_y.inverse_transform([y_sample_pred])\n",
    "sample_pred\n",
    "\n",
    "# return mse, rmse, and r2 score\n",
    "mse = mean_squared_error(sample_y_test, sample_pred[0])\n",
    "r2 = r2_score(sample_y_test, sample_pred[0])\n",
    "msle = mean_squared_log_error(sample_y_test, sample_pred[0])\n",
    "\n",
    "print(\"MSE: \", mse)\n",
    "print(\"RMSE: \", mse**(1/2.0)) \n",
    "print(\"MSLE: \", msle)\n",
    "print(\"R2 score: \" + str(r2))"
   ]
  },
  {
   "attachments": {},
   "cell_type": "markdown",
   "metadata": {},
   "source": [
    "## Train SVR Model (RBF Kernel) on Full Dataset"
   ]
  },
  {
   "attachments": {},
   "cell_type": "markdown",
   "metadata": {},
   "source": [
    "### Declare Independent and Target Variables"
   ]
  },
  {
   "cell_type": "code",
   "execution_count": 7,
   "metadata": {},
   "outputs": [],
   "source": [
    "# declare independent and dependent variables\n",
    "X = df_svr.drop(columns=['cpi_adjusted_price_per_sqm'])\n",
    "y = df_svr[['cpi_adjusted_price_per_sqm']]"
   ]
  },
  {
   "attachments": {},
   "cell_type": "markdown",
   "metadata": {},
   "source": [
    "### Split Data into Training and Test Sets"
   ]
  },
  {
   "cell_type": "code",
   "execution_count": 8,
   "metadata": {},
   "outputs": [],
   "source": [
    "#Split the dataset into training and testing data\n",
    "from sklearn.preprocessing import StandardScaler\n",
    "\n",
    "# initiatie standard scalers for x and y variables\n",
    "sc_x = StandardScaler()\n",
    "sc_y = StandardScaler()\n",
    "\n",
    "X_train, X_test, y_train, y_test = train_test_split(X, y, test_size = 0.2, random_state = 0)\n",
    "\n",
    "# standardize x and y values\n",
    "X_train = sc_x.fit_transform(X_train)\n",
    "y_train = sc_y.fit_transform(y_train)"
   ]
  },
  {
   "cell_type": "code",
   "execution_count": 9,
   "metadata": {},
   "outputs": [
    {
     "data": {
      "text/plain": [
       "array([[ 0.34644073, -1.31652382,  0.23716048, ...,  0.3730184 ,\n",
       "        -0.63923168, -0.81134857],\n",
       "       [-0.63185115,  1.20200159, -1.31584059, ...,  0.99182823,\n",
       "         1.45452024, -0.81134857],\n",
       "       [ 0.34644073, -0.04402651,  0.49599399, ...,  1.59029534,\n",
       "         0.07044722, -0.81134857],\n",
       "       ...,\n",
       "       [-0.63185115, -0.04402651,  0.58227183, ...,  0.10222357,\n",
       "        -1.15574021, -0.81134857],\n",
       "       [-1.12099709, -0.04402651,  1.05679993, ...,  0.03840014,\n",
       "        -0.18044264, -0.81134857],\n",
       "       [ 0.34644073,  1.20200159, -0.23736763, ...,  0.27893022,\n",
       "         1.18225436, -0.81134857]])"
      ]
     },
     "execution_count": 9,
     "metadata": {},
     "output_type": "execute_result"
    }
   ],
   "source": [
    "X_train"
   ]
  },
  {
   "cell_type": "code",
   "execution_count": 10,
   "metadata": {},
   "outputs": [
    {
     "data": {
      "text/plain": [
       "array([[-1.38027519],\n",
       "       [ 0.84366218],\n",
       "       [-0.74534533],\n",
       "       ...,\n",
       "       [ 0.57454224],\n",
       "       [-1.1341246 ],\n",
       "       [ 0.77895326]])"
      ]
     },
     "execution_count": 10,
     "metadata": {},
     "output_type": "execute_result"
    }
   ],
   "source": [
    "y_train"
   ]
  },
  {
   "attachments": {},
   "cell_type": "markdown",
   "metadata": {},
   "source": [
    "### Train Support Vector Regression Model"
   ]
  },
  {
   "cell_type": "code",
   "execution_count": 11,
   "metadata": {},
   "outputs": [
    {
     "name": "stderr",
     "output_type": "stream",
     "text": [
      "c:\\Users\\User\\AppData\\Local\\Programs\\Python\\Python310\\lib\\site-packages\\sklearn\\utils\\validation.py:993: DataConversionWarning: A column-vector y was passed when a 1d array was expected. Please change the shape of y to (n_samples, ), for example using ravel().\n",
      "  y = column_or_1d(y, warn=True)\n"
     ]
    },
    {
     "data": {
      "text/plain": [
       "SVR(C=1)"
      ]
     },
     "execution_count": 11,
     "metadata": {},
     "output_type": "execute_result"
    }
   ],
   "source": [
    "# Fit the model with training data\n",
    "regressor = SVR(kernel = 'rbf', C=1, epsilon=0.1)\n",
    "regressor.fit(X_train, y_train)"
   ]
  },
  {
   "attachments": {},
   "cell_type": "markdown",
   "metadata": {},
   "source": [
    "### Evaluate Support Vector Regression Model"
   ]
  },
  {
   "cell_type": "code",
   "execution_count": 12,
   "metadata": {},
   "outputs": [
    {
     "name": "stdout",
     "output_type": "stream",
     "text": [
      "MSE:  195991.3652883681\n",
      "RMSE:  442.70912040341807\n",
      "MSLE:  0.006394555304475398\n",
      "R2 score: 0.9080952747072375\n",
      "Adjusted R2:  0.9080819887710756\n"
     ]
    }
   ],
   "source": [
    "# training data performance \n",
    "y_train_pred = regressor.predict(X_train)\n",
    "y_train_pred = sc_y.inverse_transform([y_train_pred])\n",
    "\n",
    "# return mse, rmse, and r2 score\n",
    "mse = mean_squared_error(sc_y.inverse_transform(y_train), y_train_pred[0])\n",
    "r2 = r2_score(sc_y.inverse_transform(y_train), y_train_pred[0])\n",
    "msle = mean_squared_log_error(sc_y.inverse_transform(y_train), y_train_pred[0])\n",
    "# adjusted r-sqaured\n",
    "adj_r2 = 1 - (1-r2)*(len(y_train)-1)/(len(y_train)-X_train.shape[1]-1)\n",
    "\n",
    "print(\"MSE: \", mse)\n",
    "print(\"RMSE: \", mse**(1/2.0)) \n",
    "print(\"MSLE: \", msle) \n",
    "print(\"R2 score: \" + str(r2))\n",
    "print(\"Adjusted R2: \", adj_r2)"
   ]
  },
  {
   "cell_type": "code",
   "execution_count": null,
   "metadata": {},
   "outputs": [],
   "source": [
    "# predict resale prices using the model with standardized test data\n",
    "\n",
    "# standardize test data\n",
    "standardScaler = StandardScaler()\n",
    "X_test_norm = standardScaler.fit_transform(X_test)\n",
    "\n",
    "y_pred = regressor.predict(X_test_norm)\n",
    "\n",
    "y_pred"
   ]
  },
  {
   "cell_type": "code",
   "execution_count": null,
   "metadata": {},
   "outputs": [],
   "source": [
    "# inverse standardize predicted values\n",
    "y_pred = sc_y.inverse_transform([y_pred])\n",
    "y_pred"
   ]
  },
  {
   "cell_type": "code",
   "execution_count": null,
   "metadata": {},
   "outputs": [],
   "source": [
    "mse = mean_squared_error(y_test, y_pred[0])\n",
    "msle = mean_squared_log_error(y_test, y_pred[0])\n",
    "\n",
    "print(\"MSE: \", mse)\n",
    "print(\"RMSE: \", mse**(1/2.0)) \n",
    "print(\"MSLE: \", msle)"
   ]
  },
  {
   "cell_type": "code",
   "execution_count": null,
   "metadata": {},
   "outputs": [],
   "source": [
    "# derive r squared score\n",
    "r2 = r2_score(y_test, y_pred[0])\n",
    "print(\"R2 score: \" + str(r2))\n",
    "\n",
    "# adjusted r-sqaured\n",
    "adj_r2 = 1 - (1-r2)*(len(y_test)-1)/(len(y_test)-X_test.shape[1]-1)\n",
    "print(\"Adjusted R2: \", adj_r2)"
   ]
  },
  {
   "cell_type": "code",
   "execution_count": null,
   "metadata": {},
   "outputs": [],
   "source": [
    "fig, ax = plt.subplots(figsize=(12,12))\n",
    "ax.scatter(y_test, y_pred[0], color = 'purple')\n",
    "\n",
    "# Add labels and title\n",
    "plt.title('Predicted Resale Prices Against Actual Resale Prices (SVR)')\n",
    "plt.xlabel('Actual Price')\n",
    "plt.ylabel('Predicted Price')\n",
    "\n",
    "plt.grid()\n",
    "plt.show()"
   ]
  },
  {
   "cell_type": "code",
   "execution_count": null,
   "metadata": {},
   "outputs": [],
   "source": []
  },
  {
   "attachments": {},
   "cell_type": "markdown",
   "metadata": {},
   "source": [
    "### K-Fold Cross Validation for Support Vector Regression Model"
   ]
  },
  {
   "cell_type": "code",
   "execution_count": null,
   "metadata": {},
   "outputs": [],
   "source": [
    "from sklearn.model_selection import cross_val_score, KFold\n",
    "\n",
    "# Create SVR model\n",
    "svr_model = SVR(kernel='rbf', C=1, epsilon=0.1)\n",
    "\n",
    "# Create k-fold cross-validation object\n",
    "kfold = KFold(n_splits=5, shuffle=True, random_state=42)"
   ]
  },
  {
   "cell_type": "code",
   "execution_count": null,
   "metadata": {},
   "outputs": [],
   "source": [
    "sc_x = StandardScaler()\n",
    "sc_y = StandardScaler()\n",
    "\n",
    "# Perform cross-validation for MSE\n",
    "r2_scores = cross_val_score(svr_model, sc_x.fit_transform(X), sc_x.fit_transform(y), cv=kfold, scoring='r2')\n",
    "print('Cross-validation scores (R2):', r2_scores)\n",
    "\n",
    "# Calculate average performance metric across all folds\n",
    "mean_score = r2_scores.mean()\n",
    "\n",
    "print('Average R2:', mean_score)"
   ]
  },
  {
   "cell_type": "code",
   "execution_count": null,
   "metadata": {},
   "outputs": [],
   "source": [
    "# Perform cross-validation for RMSE\n",
    "rmse_scores = cross_val_score(svr_model, X, y, cv=kfold, scoring='neg_root_mean_squared_error')\n",
    "print('Cross-validation scores (RMSE):', rmse_scores)\n",
    "\n",
    "# Calculate average performance metric across all folds\n",
    "mean_score = -rmse_scores.mean()\n",
    "\n",
    "print('Average RMSE:', mean_score)\n"
   ]
  },
  {
   "cell_type": "code",
   "execution_count": null,
   "metadata": {},
   "outputs": [],
   "source": []
  }
 ],
 "metadata": {
  "kernelspec": {
   "display_name": "Python 3 (ipykernel)",
   "language": "python",
   "name": "python3"
  },
  "language_info": {
   "codemirror_mode": {
    "name": "ipython",
    "version": 3
   },
   "file_extension": ".py",
   "mimetype": "text/x-python",
   "name": "python",
   "nbconvert_exporter": "python",
   "pygments_lexer": "ipython3",
   "version": "3.10.4"
  },
  "vscode": {
   "interpreter": {
    "hash": "afb734500600fd355917ca529030176ea0ca205570884b88f2f6f7d791fd3fbe"
   }
  }
 },
 "nbformat": 4,
 "nbformat_minor": 4
}
