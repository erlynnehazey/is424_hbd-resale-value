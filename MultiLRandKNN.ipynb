{
 "cells": [
  {
   "cell_type": "code",
   "execution_count": 1,
   "metadata": {},
   "outputs": [],
   "source": [
    "import pandas as pd\n",
    "import numpy as np\n",
    "import seaborn as sns\n",
    "import matplotlib.pyplot as plt\n",
    "import folium \n",
    "import requests\n",
    "import json\n",
    "from geopy.distance import geodesic\n",
    "\n",
    "\n",
    "final_hdb_resale_prices = pd.read_csv(\"hdb_model_data.csv\")"
   ]
  },
  {
   "cell_type": "code",
   "execution_count": 2,
   "metadata": {},
   "outputs": [],
   "source": [
    "#https://royleekiat.com/2020/10/22/how-to-predict-hdb-resale-prices-using-3-different-machine-learning-models-linear-regression-neural-networks-k-nearest-neighbours/"
   ]
  },
  {
   "cell_type": "code",
   "execution_count": 3,
   "metadata": {},
   "outputs": [
    {
     "data": {
      "text/html": [
       "<div>\n",
       "<style scoped>\n",
       "    .dataframe tbody tr th:only-of-type {\n",
       "        vertical-align: middle;\n",
       "    }\n",
       "\n",
       "    .dataframe tbody tr th {\n",
       "        vertical-align: top;\n",
       "    }\n",
       "\n",
       "    .dataframe thead th {\n",
       "        text-align: right;\n",
       "    }\n",
       "</style>\n",
       "<table border=\"1\" class=\"dataframe\">\n",
       "  <thead>\n",
       "    <tr style=\"text-align: right;\">\n",
       "      <th></th>\n",
       "      <th>storey_range</th>\n",
       "      <th>floor_area_sqm</th>\n",
       "      <th>no.of bto</th>\n",
       "      <th>resale application</th>\n",
       "      <th>remaining_lease_months</th>\n",
       "      <th>Distance to nearest MRT</th>\n",
       "      <th>Distance to CBD</th>\n",
       "      <th>isMatureEstate</th>\n",
       "      <th>cpi_adjusted_price_per_sqm</th>\n",
       "    </tr>\n",
       "  </thead>\n",
       "  <tbody>\n",
       "    <tr>\n",
       "      <th>77829</th>\n",
       "      <td>0.1250</td>\n",
       "      <td>0.494792</td>\n",
       "      <td>1.0</td>\n",
       "      <td>1.0</td>\n",
       "      <td>0.401826</td>\n",
       "      <td>0.318357</td>\n",
       "      <td>0.669844</td>\n",
       "      <td>0.0</td>\n",
       "      <td>0.299814</td>\n",
       "    </tr>\n",
       "    <tr>\n",
       "      <th>77830</th>\n",
       "      <td>0.1250</td>\n",
       "      <td>0.473958</td>\n",
       "      <td>1.0</td>\n",
       "      <td>1.0</td>\n",
       "      <td>0.380518</td>\n",
       "      <td>0.174104</td>\n",
       "      <td>0.652553</td>\n",
       "      <td>0.0</td>\n",
       "      <td>0.277843</td>\n",
       "    </tr>\n",
       "    <tr>\n",
       "      <th>77831</th>\n",
       "      <td>0.1250</td>\n",
       "      <td>0.473958</td>\n",
       "      <td>1.0</td>\n",
       "      <td>1.0</td>\n",
       "      <td>0.380518</td>\n",
       "      <td>0.174104</td>\n",
       "      <td>0.652553</td>\n",
       "      <td>0.0</td>\n",
       "      <td>0.271717</td>\n",
       "    </tr>\n",
       "    <tr>\n",
       "      <th>77832</th>\n",
       "      <td>0.1875</td>\n",
       "      <td>0.494792</td>\n",
       "      <td>1.0</td>\n",
       "      <td>1.0</td>\n",
       "      <td>0.383562</td>\n",
       "      <td>0.149878</td>\n",
       "      <td>0.653120</td>\n",
       "      <td>0.0</td>\n",
       "      <td>0.269248</td>\n",
       "    </tr>\n",
       "    <tr>\n",
       "      <th>77833</th>\n",
       "      <td>0.0625</td>\n",
       "      <td>0.473958</td>\n",
       "      <td>1.0</td>\n",
       "      <td>1.0</td>\n",
       "      <td>0.383562</td>\n",
       "      <td>0.149878</td>\n",
       "      <td>0.653120</td>\n",
       "      <td>0.0</td>\n",
       "      <td>0.254687</td>\n",
       "    </tr>\n",
       "  </tbody>\n",
       "</table>\n",
       "</div>"
      ],
      "text/plain": [
       "       storey_range  floor_area_sqm  no.of bto  resale application  \\\n",
       "77829        0.1250        0.494792        1.0                 1.0   \n",
       "77830        0.1250        0.473958        1.0                 1.0   \n",
       "77831        0.1250        0.473958        1.0                 1.0   \n",
       "77832        0.1875        0.494792        1.0                 1.0   \n",
       "77833        0.0625        0.473958        1.0                 1.0   \n",
       "\n",
       "       remaining_lease_months  Distance to nearest MRT  Distance to CBD  \\\n",
       "77829                0.401826                 0.318357         0.669844   \n",
       "77830                0.380518                 0.174104         0.652553   \n",
       "77831                0.380518                 0.174104         0.652553   \n",
       "77832                0.383562                 0.149878         0.653120   \n",
       "77833                0.383562                 0.149878         0.653120   \n",
       "\n",
       "       isMatureEstate  cpi_adjusted_price_per_sqm  \n",
       "77829             0.0                    0.299814  \n",
       "77830             0.0                    0.277843  \n",
       "77831             0.0                    0.271717  \n",
       "77832             0.0                    0.269248  \n",
       "77833             0.0                    0.254687  "
      ]
     },
     "execution_count": 3,
     "metadata": {},
     "output_type": "execute_result"
    }
   ],
   "source": [
    "final_hdb_resale_prices.tail()"
   ]
  },
  {
   "cell_type": "code",
   "execution_count": 4,
   "metadata": {},
   "outputs": [
    {
     "name": "stderr",
     "output_type": "stream",
     "text": [
      "C:\\Users\\almun\\anaconda3\\lib\\site-packages\\dask\\dataframe\\utils.py:366: FutureWarning: pandas.Int64Index is deprecated and will be removed from pandas in a future version. Use pandas.Index with the appropriate dtype instead.\n",
      "  _numeric_index_types = (pd.Int64Index, pd.Float64Index, pd.UInt64Index)\n",
      "C:\\Users\\almun\\anaconda3\\lib\\site-packages\\dask\\dataframe\\utils.py:366: FutureWarning: pandas.Float64Index is deprecated and will be removed from pandas in a future version. Use pandas.Index with the appropriate dtype instead.\n",
      "  _numeric_index_types = (pd.Int64Index, pd.Float64Index, pd.UInt64Index)\n",
      "C:\\Users\\almun\\anaconda3\\lib\\site-packages\\dask\\dataframe\\utils.py:366: FutureWarning: pandas.UInt64Index is deprecated and will be removed from pandas in a future version. Use pandas.Index with the appropriate dtype instead.\n",
      "  _numeric_index_types = (pd.Int64Index, pd.Float64Index, pd.UInt64Index)\n"
     ]
    }
   ],
   "source": [
    "import numpy as np\n",
    "import pandas as pd\n",
    "import datetime\n",
    "import random\n",
    "\n",
    "# Plots\n",
    "import seaborn as sns\n",
    "import matplotlib.pyplot as plt\n",
    "\n",
    "# Models\n",
    "from sklearn.ensemble import RandomForestRegressor, GradientBoostingRegressor, AdaBoostRegressor, BaggingRegressor\n",
    "from sklearn.kernel_ridge import KernelRidge\n",
    "from sklearn.linear_model import Ridge, RidgeCV, RidgeClassifier\n",
    "from sklearn.linear_model import ElasticNet, ElasticNetCV\n",
    "from sklearn.svm import SVR\n",
    "from mlxtend.regressor import StackingCVRegressor\n",
    "import lightgbm as lgb\n",
    "from lightgbm import LGBMRegressor\n",
    "from xgboost import XGBRegressor\n",
    "\n",
    "# Stats\n",
    "from scipy.stats import skew, norm\n",
    "from scipy.special import boxcox1p\n",
    "from scipy.stats import boxcox_normmax\n",
    "\n",
    "# Misc\n",
    "from sklearn.model_selection import GridSearchCV\n",
    "from sklearn.model_selection import KFold, cross_val_score\n",
    "from sklearn.metrics import mean_squared_error\n",
    "from sklearn.preprocessing import OneHotEncoder\n",
    "from sklearn.preprocessing import LabelEncoder\n",
    "#from sklearn.pipeline import make_pipeline\n",
    "from sklearn.preprocessing import scale\n",
    "from sklearn.preprocessing import StandardScaler\n",
    "from sklearn.preprocessing import RobustScaler\n",
    "from sklearn.decomposition import PCA\n",
    "import numpy as np\n",
    "import pandas as pd\n",
    "\n",
    "\n",
    "\n",
    "# Ignore useless warnings\n",
    "import warnings\n",
    "warnings.filterwarnings(action=\"ignore\")\n",
    "pd.options.display.max_seq_items = 8000\n",
    "pd.options.display.max_rows = 8000"
   ]
  },
  {
   "cell_type": "code",
   "execution_count": 5,
   "metadata": {},
   "outputs": [],
   "source": [
    "from sklearn.model_selection import train_test_split"
   ]
  },
  {
   "cell_type": "code",
   "execution_count": 6,
   "metadata": {},
   "outputs": [],
   "source": [
    "#Linear Regression"
   ]
  },
  {
   "cell_type": "code",
   "execution_count": 7,
   "metadata": {},
   "outputs": [],
   "source": [
    "features = ['storey_range','floor_area_sqm','no.of bto','resale application','remaining_lease_months','Distance to nearest MRT','Distance to CBD','isMatureEstate']\n",
    "X = final_hdb_resale_prices[features]\n",
    "y = final_hdb_resale_prices['cpi_adjusted_price_per_sqm']"
   ]
  },
  {
   "cell_type": "code",
   "execution_count": 8,
   "metadata": {},
   "outputs": [],
   "source": [
    "X_train, X_test, y_train, y_test = train_test_split(X,y ,\n",
    "                                   random_state=104, \n",
    "                                   test_size=0.2, \n",
    "                                   shuffle=True)"
   ]
  },
  {
   "cell_type": "code",
   "execution_count": 9,
   "metadata": {},
   "outputs": [],
   "source": [
    "scaler = StandardScaler()"
   ]
  },
  {
   "cell_type": "code",
   "execution_count": 10,
   "metadata": {},
   "outputs": [
    {
     "data": {
      "text/html": [
       "<div>\n",
       "<style scoped>\n",
       "    .dataframe tbody tr th:only-of-type {\n",
       "        vertical-align: middle;\n",
       "    }\n",
       "\n",
       "    .dataframe tbody tr th {\n",
       "        vertical-align: top;\n",
       "    }\n",
       "\n",
       "    .dataframe thead th {\n",
       "        text-align: right;\n",
       "    }\n",
       "</style>\n",
       "<table border=\"1\" class=\"dataframe\">\n",
       "  <thead>\n",
       "    <tr style=\"text-align: right;\">\n",
       "      <th></th>\n",
       "      <th>storey_range</th>\n",
       "      <th>floor_area_sqm</th>\n",
       "      <th>no.of bto</th>\n",
       "      <th>resale application</th>\n",
       "      <th>remaining_lease_months</th>\n",
       "      <th>Distance to nearest MRT</th>\n",
       "      <th>Distance to CBD</th>\n",
       "      <th>isMatureEstate</th>\n",
       "    </tr>\n",
       "  </thead>\n",
       "  <tbody>\n",
       "    <tr>\n",
       "      <th>30358</th>\n",
       "      <td>0.0625</td>\n",
       "      <td>0.208333</td>\n",
       "      <td>0.505255</td>\n",
       "      <td>0.0</td>\n",
       "      <td>0.292237</td>\n",
       "      <td>0.249092</td>\n",
       "      <td>0.646415</td>\n",
       "      <td>0.0</td>\n",
       "    </tr>\n",
       "    <tr>\n",
       "      <th>59440</th>\n",
       "      <td>0.1250</td>\n",
       "      <td>0.317708</td>\n",
       "      <td>1.000000</td>\n",
       "      <td>1.0</td>\n",
       "      <td>0.917808</td>\n",
       "      <td>0.323426</td>\n",
       "      <td>0.635754</td>\n",
       "      <td>0.0</td>\n",
       "    </tr>\n",
       "    <tr>\n",
       "      <th>71088</th>\n",
       "      <td>0.1250</td>\n",
       "      <td>0.265625</td>\n",
       "      <td>1.000000</td>\n",
       "      <td>1.0</td>\n",
       "      <td>0.558600</td>\n",
       "      <td>0.411830</td>\n",
       "      <td>0.540727</td>\n",
       "      <td>1.0</td>\n",
       "    </tr>\n",
       "    <tr>\n",
       "      <th>46493</th>\n",
       "      <td>0.0625</td>\n",
       "      <td>0.385417</td>\n",
       "      <td>0.505255</td>\n",
       "      <td>0.0</td>\n",
       "      <td>0.435312</td>\n",
       "      <td>0.284957</td>\n",
       "      <td>0.512958</td>\n",
       "      <td>1.0</td>\n",
       "    </tr>\n",
       "    <tr>\n",
       "      <th>77270</th>\n",
       "      <td>0.1250</td>\n",
       "      <td>0.510417</td>\n",
       "      <td>1.000000</td>\n",
       "      <td>1.0</td>\n",
       "      <td>0.474886</td>\n",
       "      <td>0.475596</td>\n",
       "      <td>0.422522</td>\n",
       "      <td>1.0</td>\n",
       "    </tr>\n",
       "  </tbody>\n",
       "</table>\n",
       "</div>"
      ],
      "text/plain": [
       "       storey_range  floor_area_sqm  no.of bto  resale application  \\\n",
       "30358        0.0625        0.208333   0.505255                 0.0   \n",
       "59440        0.1250        0.317708   1.000000                 1.0   \n",
       "71088        0.1250        0.265625   1.000000                 1.0   \n",
       "46493        0.0625        0.385417   0.505255                 0.0   \n",
       "77270        0.1250        0.510417   1.000000                 1.0   \n",
       "\n",
       "       remaining_lease_months  Distance to nearest MRT  Distance to CBD  \\\n",
       "30358                0.292237                 0.249092         0.646415   \n",
       "59440                0.917808                 0.323426         0.635754   \n",
       "71088                0.558600                 0.411830         0.540727   \n",
       "46493                0.435312                 0.284957         0.512958   \n",
       "77270                0.474886                 0.475596         0.422522   \n",
       "\n",
       "       isMatureEstate  \n",
       "30358             0.0  \n",
       "59440             0.0  \n",
       "71088             1.0  \n",
       "46493             1.0  \n",
       "77270             1.0  "
      ]
     },
     "execution_count": 10,
     "metadata": {},
     "output_type": "execute_result"
    }
   ],
   "source": [
    "X_train.head()"
   ]
  },
  {
   "cell_type": "code",
   "execution_count": 11,
   "metadata": {},
   "outputs": [],
   "source": [
    "#Linear Regression Model"
   ]
  },
  {
   "cell_type": "code",
   "execution_count": 12,
   "metadata": {},
   "outputs": [],
   "source": [
    "s_scaler = StandardScaler()\n",
    "X_train = s_scaler.fit_transform(X_train.astype(np.float))\n",
    "X_test = s_scaler.transform(X_test.astype(np.float))"
   ]
  },
  {
   "cell_type": "code",
   "execution_count": 13,
   "metadata": {},
   "outputs": [
    {
     "data": {
      "text/html": [
       "<div>\n",
       "<style scoped>\n",
       "    .dataframe tbody tr th:only-of-type {\n",
       "        vertical-align: middle;\n",
       "    }\n",
       "\n",
       "    .dataframe tbody tr th {\n",
       "        vertical-align: top;\n",
       "    }\n",
       "\n",
       "    .dataframe thead th {\n",
       "        text-align: right;\n",
       "    }\n",
       "</style>\n",
       "<table border=\"1\" class=\"dataframe\">\n",
       "  <thead>\n",
       "    <tr style=\"text-align: right;\">\n",
       "      <th></th>\n",
       "      <th>storey_range</th>\n",
       "      <th>floor_area_sqm</th>\n",
       "      <th>no.of bto</th>\n",
       "      <th>resale application</th>\n",
       "      <th>remaining_lease_months</th>\n",
       "      <th>Distance to nearest MRT</th>\n",
       "      <th>Distance to CBD</th>\n",
       "      <th>isMatureEstate</th>\n",
       "      <th>cpi_adjusted_price_per_sqm</th>\n",
       "    </tr>\n",
       "  </thead>\n",
       "  <tbody>\n",
       "    <tr>\n",
       "      <th>0</th>\n",
       "      <td>0.0625</td>\n",
       "      <td>0.114583</td>\n",
       "      <td>0.0</td>\n",
       "      <td>0.0</td>\n",
       "      <td>0.229833</td>\n",
       "      <td>0.242702</td>\n",
       "      <td>0.377101</td>\n",
       "      <td>1.0</td>\n",
       "      <td>0.113027</td>\n",
       "    </tr>\n",
       "    <tr>\n",
       "      <th>1</th>\n",
       "      <td>0.3750</td>\n",
       "      <td>0.098958</td>\n",
       "      <td>0.0</td>\n",
       "      <td>0.0</td>\n",
       "      <td>0.888889</td>\n",
       "      <td>0.181339</td>\n",
       "      <td>0.376605</td>\n",
       "      <td>1.0</td>\n",
       "      <td>0.339299</td>\n",
       "    </tr>\n",
       "    <tr>\n",
       "      <th>2</th>\n",
       "      <td>0.0000</td>\n",
       "      <td>0.114583</td>\n",
       "      <td>0.0</td>\n",
       "      <td>0.0</td>\n",
       "      <td>0.243531</td>\n",
       "      <td>0.153615</td>\n",
       "      <td>0.373691</td>\n",
       "      <td>1.0</td>\n",
       "      <td>0.077851</td>\n",
       "    </tr>\n",
       "    <tr>\n",
       "      <th>3</th>\n",
       "      <td>0.0625</td>\n",
       "      <td>0.114583</td>\n",
       "      <td>0.0</td>\n",
       "      <td>0.0</td>\n",
       "      <td>0.223744</td>\n",
       "      <td>0.212727</td>\n",
       "      <td>0.381423</td>\n",
       "      <td>1.0</td>\n",
       "      <td>0.128102</td>\n",
       "    </tr>\n",
       "    <tr>\n",
       "      <th>4</th>\n",
       "      <td>0.1250</td>\n",
       "      <td>0.088542</td>\n",
       "      <td>0.0</td>\n",
       "      <td>0.0</td>\n",
       "      <td>0.292237</td>\n",
       "      <td>0.247779</td>\n",
       "      <td>0.408523</td>\n",
       "      <td>1.0</td>\n",
       "      <td>0.084059</td>\n",
       "    </tr>\n",
       "    <tr>\n",
       "      <th>...</th>\n",
       "      <td>...</td>\n",
       "      <td>...</td>\n",
       "      <td>...</td>\n",
       "      <td>...</td>\n",
       "      <td>...</td>\n",
       "      <td>...</td>\n",
       "      <td>...</td>\n",
       "      <td>...</td>\n",
       "      <td>...</td>\n",
       "    </tr>\n",
       "    <tr>\n",
       "      <th>77829</th>\n",
       "      <td>0.1250</td>\n",
       "      <td>0.494792</td>\n",
       "      <td>1.0</td>\n",
       "      <td>1.0</td>\n",
       "      <td>0.401826</td>\n",
       "      <td>0.318357</td>\n",
       "      <td>0.669844</td>\n",
       "      <td>0.0</td>\n",
       "      <td>0.299814</td>\n",
       "    </tr>\n",
       "    <tr>\n",
       "      <th>77830</th>\n",
       "      <td>0.1250</td>\n",
       "      <td>0.473958</td>\n",
       "      <td>1.0</td>\n",
       "      <td>1.0</td>\n",
       "      <td>0.380518</td>\n",
       "      <td>0.174104</td>\n",
       "      <td>0.652553</td>\n",
       "      <td>0.0</td>\n",
       "      <td>0.277843</td>\n",
       "    </tr>\n",
       "    <tr>\n",
       "      <th>77831</th>\n",
       "      <td>0.1250</td>\n",
       "      <td>0.473958</td>\n",
       "      <td>1.0</td>\n",
       "      <td>1.0</td>\n",
       "      <td>0.380518</td>\n",
       "      <td>0.174104</td>\n",
       "      <td>0.652553</td>\n",
       "      <td>0.0</td>\n",
       "      <td>0.271717</td>\n",
       "    </tr>\n",
       "    <tr>\n",
       "      <th>77832</th>\n",
       "      <td>0.1875</td>\n",
       "      <td>0.494792</td>\n",
       "      <td>1.0</td>\n",
       "      <td>1.0</td>\n",
       "      <td>0.383562</td>\n",
       "      <td>0.149878</td>\n",
       "      <td>0.653120</td>\n",
       "      <td>0.0</td>\n",
       "      <td>0.269248</td>\n",
       "    </tr>\n",
       "    <tr>\n",
       "      <th>77833</th>\n",
       "      <td>0.0625</td>\n",
       "      <td>0.473958</td>\n",
       "      <td>1.0</td>\n",
       "      <td>1.0</td>\n",
       "      <td>0.383562</td>\n",
       "      <td>0.149878</td>\n",
       "      <td>0.653120</td>\n",
       "      <td>0.0</td>\n",
       "      <td>0.254687</td>\n",
       "    </tr>\n",
       "  </tbody>\n",
       "</table>\n",
       "<p>77834 rows × 9 columns</p>\n",
       "</div>"
      ],
      "text/plain": [
       "       storey_range  floor_area_sqm  no.of bto  resale application  \\\n",
       "0            0.0625        0.114583        0.0                 0.0   \n",
       "1            0.3750        0.098958        0.0                 0.0   \n",
       "2            0.0000        0.114583        0.0                 0.0   \n",
       "3            0.0625        0.114583        0.0                 0.0   \n",
       "4            0.1250        0.088542        0.0                 0.0   \n",
       "...             ...             ...        ...                 ...   \n",
       "77829        0.1250        0.494792        1.0                 1.0   \n",
       "77830        0.1250        0.473958        1.0                 1.0   \n",
       "77831        0.1250        0.473958        1.0                 1.0   \n",
       "77832        0.1875        0.494792        1.0                 1.0   \n",
       "77833        0.0625        0.473958        1.0                 1.0   \n",
       "\n",
       "       remaining_lease_months  Distance to nearest MRT  Distance to CBD  \\\n",
       "0                    0.229833                 0.242702         0.377101   \n",
       "1                    0.888889                 0.181339         0.376605   \n",
       "2                    0.243531                 0.153615         0.373691   \n",
       "3                    0.223744                 0.212727         0.381423   \n",
       "4                    0.292237                 0.247779         0.408523   \n",
       "...                       ...                      ...              ...   \n",
       "77829                0.401826                 0.318357         0.669844   \n",
       "77830                0.380518                 0.174104         0.652553   \n",
       "77831                0.380518                 0.174104         0.652553   \n",
       "77832                0.383562                 0.149878         0.653120   \n",
       "77833                0.383562                 0.149878         0.653120   \n",
       "\n",
       "       isMatureEstate  cpi_adjusted_price_per_sqm  \n",
       "0                 1.0                    0.113027  \n",
       "1                 1.0                    0.339299  \n",
       "2                 1.0                    0.077851  \n",
       "3                 1.0                    0.128102  \n",
       "4                 1.0                    0.084059  \n",
       "...               ...                         ...  \n",
       "77829             0.0                    0.299814  \n",
       "77830             0.0                    0.277843  \n",
       "77831             0.0                    0.271717  \n",
       "77832             0.0                    0.269248  \n",
       "77833             0.0                    0.254687  \n",
       "\n",
       "[77834 rows x 9 columns]"
      ]
     },
     "execution_count": 13,
     "metadata": {},
     "output_type": "execute_result"
    }
   ],
   "source": [
    "final_hdb_resale_prices"
   ]
  },
  {
   "cell_type": "code",
   "execution_count": 14,
   "metadata": {},
   "outputs": [
    {
     "name": "stdout",
     "output_type": "stream",
     "text": [
      "0.24163999721233856\n",
      "[ 0.02654384 -0.00374109  0.03331021  0.01123241  0.06240164 -0.02138087\n",
      " -0.04679355  0.02037743]\n"
     ]
    }
   ],
   "source": [
    "from sklearn.linear_model import LinearRegression\n",
    "regressor = LinearRegression()  \n",
    "regressor.fit(X_train, y_train)\n",
    "#evaluate the model (intercept and slope)\n",
    "print(regressor.intercept_)\n",
    "print(regressor.coef_)\n",
    "#predicting the test set result\n",
    "y_pred = regressor.predict(X_test)\n",
    "#put results as a DataFrame\n",
    "coeff_df = pd.DataFrame(regressor.coef_, X.columns, columns=['Coefficient']) "
   ]
  },
  {
   "cell_type": "code",
   "execution_count": 15,
   "metadata": {},
   "outputs": [],
   "source": [
    "y_pred = regressor.predict(X_test)\n",
    "df = pd.DataFrame({'Actual': y_test, 'Predicted': y_pred})"
   ]
  },
  {
   "cell_type": "code",
   "execution_count": 16,
   "metadata": {},
   "outputs": [
    {
     "data": {
      "text/html": [
       "<div>\n",
       "<style scoped>\n",
       "    .dataframe tbody tr th:only-of-type {\n",
       "        vertical-align: middle;\n",
       "    }\n",
       "\n",
       "    .dataframe tbody tr th {\n",
       "        vertical-align: top;\n",
       "    }\n",
       "\n",
       "    .dataframe thead th {\n",
       "        text-align: right;\n",
       "    }\n",
       "</style>\n",
       "<table border=\"1\" class=\"dataframe\">\n",
       "  <thead>\n",
       "    <tr style=\"text-align: right;\">\n",
       "      <th></th>\n",
       "      <th>Actual</th>\n",
       "      <th>Predicted</th>\n",
       "    </tr>\n",
       "  </thead>\n",
       "  <tbody>\n",
       "    <tr>\n",
       "      <th>75439</th>\n",
       "      <td>0.234830</td>\n",
       "      <td>0.233637</td>\n",
       "    </tr>\n",
       "    <tr>\n",
       "      <th>15416</th>\n",
       "      <td>0.117310</td>\n",
       "      <td>0.167460</td>\n",
       "    </tr>\n",
       "    <tr>\n",
       "      <th>24537</th>\n",
       "      <td>0.200839</td>\n",
       "      <td>0.181030</td>\n",
       "    </tr>\n",
       "    <tr>\n",
       "      <th>33177</th>\n",
       "      <td>0.189699</td>\n",
       "      <td>0.206968</td>\n",
       "    </tr>\n",
       "    <tr>\n",
       "      <th>49716</th>\n",
       "      <td>0.107778</td>\n",
       "      <td>0.163280</td>\n",
       "    </tr>\n",
       "    <tr>\n",
       "      <th>...</th>\n",
       "      <td>...</td>\n",
       "      <td>...</td>\n",
       "    </tr>\n",
       "    <tr>\n",
       "      <th>7492</th>\n",
       "      <td>0.175317</td>\n",
       "      <td>0.140181</td>\n",
       "    </tr>\n",
       "    <tr>\n",
       "      <th>11899</th>\n",
       "      <td>0.084642</td>\n",
       "      <td>0.029042</td>\n",
       "    </tr>\n",
       "    <tr>\n",
       "      <th>27046</th>\n",
       "      <td>0.208925</td>\n",
       "      <td>0.257274</td>\n",
       "    </tr>\n",
       "    <tr>\n",
       "      <th>56055</th>\n",
       "      <td>0.398285</td>\n",
       "      <td>0.353926</td>\n",
       "    </tr>\n",
       "    <tr>\n",
       "      <th>22735</th>\n",
       "      <td>0.101357</td>\n",
       "      <td>0.054540</td>\n",
       "    </tr>\n",
       "  </tbody>\n",
       "</table>\n",
       "<p>15567 rows × 2 columns</p>\n",
       "</div>"
      ],
      "text/plain": [
       "         Actual  Predicted\n",
       "75439  0.234830   0.233637\n",
       "15416  0.117310   0.167460\n",
       "24537  0.200839   0.181030\n",
       "33177  0.189699   0.206968\n",
       "49716  0.107778   0.163280\n",
       "...         ...        ...\n",
       "7492   0.175317   0.140181\n",
       "11899  0.084642   0.029042\n",
       "27046  0.208925   0.257274\n",
       "56055  0.398285   0.353926\n",
       "22735  0.101357   0.054540\n",
       "\n",
       "[15567 rows x 2 columns]"
      ]
     },
     "execution_count": 16,
     "metadata": {},
     "output_type": "execute_result"
    }
   ],
   "source": [
    "df"
   ]
  },
  {
   "cell_type": "code",
   "execution_count": 17,
   "metadata": {},
   "outputs": [
    {
     "name": "stdout",
     "output_type": "stream",
     "text": [
      "MAE: 0.03754852888299216\n",
      "MSE: 0.002365485598986476\n",
      "RMSE: 0.048636258069330085\n",
      "VarScore: 0.7976958275092356\n"
     ]
    }
   ],
   "source": [
    "# evaluate the performance of the algorithm (MAE - MSE - RMSE)\n",
    "from sklearn import metrics\n",
    "print('MAE:', metrics.mean_absolute_error(y_test, y_pred))  \n",
    "print('MSE:', metrics.mean_squared_error(y_test, y_pred))  \n",
    "print('RMSE:', np.sqrt(metrics.mean_squared_error(y_test, y_pred)))\n",
    "print('VarScore:',metrics.explained_variance_score(y_test,y_pred))"
   ]
  },
  {
   "cell_type": "code",
   "execution_count": 18,
   "metadata": {},
   "outputs": [
    {
     "name": "stdout",
     "output_type": "stream",
     "text": [
      "Coefficient of determination test(R2): 0.80\n"
     ]
    }
   ],
   "source": [
    "print(\"Coefficient of determination test(R2): %.2f\" % metrics.r2_score(y_test, y_pred).round(2))"
   ]
  },
  {
   "cell_type": "code",
   "execution_count": 19,
   "metadata": {},
   "outputs": [],
   "source": [
    "#Model 2: K Nearest Neighbours"
   ]
  },
  {
   "cell_type": "code",
   "execution_count": 20,
   "metadata": {},
   "outputs": [],
   "source": [
    "from sklearn.neighbors import KNeighborsRegressor\n",
    "knn = KNeighborsRegressor(algorithm='brute')"
   ]
  },
  {
   "cell_type": "code",
   "execution_count": 21,
   "metadata": {},
   "outputs": [
    {
     "data": {
      "text/html": [
       "<style>#sk-container-id-1 {color: black;background-color: white;}#sk-container-id-1 pre{padding: 0;}#sk-container-id-1 div.sk-toggleable {background-color: white;}#sk-container-id-1 label.sk-toggleable__label {cursor: pointer;display: block;width: 100%;margin-bottom: 0;padding: 0.3em;box-sizing: border-box;text-align: center;}#sk-container-id-1 label.sk-toggleable__label-arrow:before {content: \"▸\";float: left;margin-right: 0.25em;color: #696969;}#sk-container-id-1 label.sk-toggleable__label-arrow:hover:before {color: black;}#sk-container-id-1 div.sk-estimator:hover label.sk-toggleable__label-arrow:before {color: black;}#sk-container-id-1 div.sk-toggleable__content {max-height: 0;max-width: 0;overflow: hidden;text-align: left;background-color: #f0f8ff;}#sk-container-id-1 div.sk-toggleable__content pre {margin: 0.2em;color: black;border-radius: 0.25em;background-color: #f0f8ff;}#sk-container-id-1 input.sk-toggleable__control:checked~div.sk-toggleable__content {max-height: 200px;max-width: 100%;overflow: auto;}#sk-container-id-1 input.sk-toggleable__control:checked~label.sk-toggleable__label-arrow:before {content: \"▾\";}#sk-container-id-1 div.sk-estimator input.sk-toggleable__control:checked~label.sk-toggleable__label {background-color: #d4ebff;}#sk-container-id-1 div.sk-label input.sk-toggleable__control:checked~label.sk-toggleable__label {background-color: #d4ebff;}#sk-container-id-1 input.sk-hidden--visually {border: 0;clip: rect(1px 1px 1px 1px);clip: rect(1px, 1px, 1px, 1px);height: 1px;margin: -1px;overflow: hidden;padding: 0;position: absolute;width: 1px;}#sk-container-id-1 div.sk-estimator {font-family: monospace;background-color: #f0f8ff;border: 1px dotted black;border-radius: 0.25em;box-sizing: border-box;margin-bottom: 0.5em;}#sk-container-id-1 div.sk-estimator:hover {background-color: #d4ebff;}#sk-container-id-1 div.sk-parallel-item::after {content: \"\";width: 100%;border-bottom: 1px solid gray;flex-grow: 1;}#sk-container-id-1 div.sk-label:hover label.sk-toggleable__label {background-color: #d4ebff;}#sk-container-id-1 div.sk-serial::before {content: \"\";position: absolute;border-left: 1px solid gray;box-sizing: border-box;top: 0;bottom: 0;left: 50%;z-index: 0;}#sk-container-id-1 div.sk-serial {display: flex;flex-direction: column;align-items: center;background-color: white;padding-right: 0.2em;padding-left: 0.2em;position: relative;}#sk-container-id-1 div.sk-item {position: relative;z-index: 1;}#sk-container-id-1 div.sk-parallel {display: flex;align-items: stretch;justify-content: center;background-color: white;position: relative;}#sk-container-id-1 div.sk-item::before, #sk-container-id-1 div.sk-parallel-item::before {content: \"\";position: absolute;border-left: 1px solid gray;box-sizing: border-box;top: 0;bottom: 0;left: 50%;z-index: -1;}#sk-container-id-1 div.sk-parallel-item {display: flex;flex-direction: column;z-index: 1;position: relative;background-color: white;}#sk-container-id-1 div.sk-parallel-item:first-child::after {align-self: flex-end;width: 50%;}#sk-container-id-1 div.sk-parallel-item:last-child::after {align-self: flex-start;width: 50%;}#sk-container-id-1 div.sk-parallel-item:only-child::after {width: 0;}#sk-container-id-1 div.sk-dashed-wrapped {border: 1px dashed gray;margin: 0 0.4em 0.5em 0.4em;box-sizing: border-box;padding-bottom: 0.4em;background-color: white;}#sk-container-id-1 div.sk-label label {font-family: monospace;font-weight: bold;display: inline-block;line-height: 1.2em;}#sk-container-id-1 div.sk-label-container {text-align: center;}#sk-container-id-1 div.sk-container {/* jupyter's `normalize.less` sets `[hidden] { display: none; }` but bootstrap.min.css set `[hidden] { display: none !important; }` so we also need the `!important` here to be able to override the default hidden behavior on the sphinx rendered scikit-learn.org. See: https://github.com/scikit-learn/scikit-learn/issues/21755 */display: inline-block !important;position: relative;}#sk-container-id-1 div.sk-text-repr-fallback {display: none;}</style><div id=\"sk-container-id-1\" class=\"sk-top-container\"><div class=\"sk-text-repr-fallback\"><pre>KNeighborsRegressor(algorithm=&#x27;brute&#x27;)</pre><b>In a Jupyter environment, please rerun this cell to show the HTML representation or trust the notebook. <br />On GitHub, the HTML representation is unable to render, please try loading this page with nbviewer.org.</b></div><div class=\"sk-container\" hidden><div class=\"sk-item\"><div class=\"sk-estimator sk-toggleable\"><input class=\"sk-toggleable__control sk-hidden--visually\" id=\"sk-estimator-id-1\" type=\"checkbox\" checked><label for=\"sk-estimator-id-1\" class=\"sk-toggleable__label sk-toggleable__label-arrow\">KNeighborsRegressor</label><div class=\"sk-toggleable__content\"><pre>KNeighborsRegressor(algorithm=&#x27;brute&#x27;)</pre></div></div></div></div></div>"
      ],
      "text/plain": [
       "KNeighborsRegressor(algorithm='brute')"
      ]
     },
     "execution_count": 21,
     "metadata": {},
     "output_type": "execute_result"
    }
   ],
   "source": [
    "knn.fit(X_train,y_train)"
   ]
  },
  {
   "cell_type": "code",
   "execution_count": 22,
   "metadata": {},
   "outputs": [],
   "source": [
    "predictions = knn.predict(X_test)"
   ]
  },
  {
   "cell_type": "code",
   "execution_count": 23,
   "metadata": {},
   "outputs": [
    {
     "name": "stdout",
     "output_type": "stream",
     "text": [
      "0.032135420537029336\n"
     ]
    }
   ],
   "source": [
    "from sklearn.metrics import mean_squared_error\n",
    "mse = mean_squared_error(y_test, predictions)\n",
    "rmse = mse ** (1/2)\n",
    "print(rmse)"
   ]
  },
  {
   "cell_type": "code",
   "execution_count": 24,
   "metadata": {},
   "outputs": [
    {
     "name": "stdout",
     "output_type": "stream",
     "text": [
      "Coefficient of determination test(R2): 0.91\n"
     ]
    }
   ],
   "source": [
    "print(\"Coefficient of determination test(R2): %.2f\" % metrics.r2_score(y_test, predictions).round(2))"
   ]
  },
  {
   "cell_type": "code",
   "execution_count": 25,
   "metadata": {},
   "outputs": [
    {
     "data": {
      "text/plain": [
       "[<matplotlib.lines.Line2D at 0x1d7d74f4700>]"
      ]
     },
     "execution_count": 25,
     "metadata": {},
     "output_type": "execute_result"
    },
    {
     "data": {
      "image/png": "[encoded data removed]",
      "text/plain": [
       "<Figure size 720x360 with 1 Axes>"
      ]
     },
     "metadata": {
      "needs_background": "light"
     },
     "output_type": "display_data"
    }
   ],
   "source": [
    "# Visualizing Our predictions\n",
    "fig = plt.figure(figsize=(10,5))\n",
    "plt.scatter(y_test,predictions)\n",
    "# Perfect predictions\n",
    "plt.plot(y_test,y_test,'r')"
   ]
  },
  {
   "cell_type": "code",
   "execution_count": 26,
   "metadata": {},
   "outputs": [
    {
     "data": {
      "text/html": [
       "<div>\n",
       "<style scoped>\n",
       "    .dataframe tbody tr th:only-of-type {\n",
       "        vertical-align: middle;\n",
       "    }\n",
       "\n",
       "    .dataframe tbody tr th {\n",
       "        vertical-align: top;\n",
       "    }\n",
       "\n",
       "    .dataframe thead th {\n",
       "        text-align: right;\n",
       "    }\n",
       "</style>\n",
       "<table border=\"1\" class=\"dataframe\">\n",
       "  <thead>\n",
       "    <tr style=\"text-align: right;\">\n",
       "      <th></th>\n",
       "      <th>Actual</th>\n",
       "      <th>Predicted</th>\n",
       "    </tr>\n",
       "  </thead>\n",
       "  <tbody>\n",
       "    <tr>\n",
       "      <th>75439</th>\n",
       "      <td>0.234830</td>\n",
       "      <td>0.236817</td>\n",
       "    </tr>\n",
       "    <tr>\n",
       "      <th>15416</th>\n",
       "      <td>0.117310</td>\n",
       "      <td>0.158444</td>\n",
       "    </tr>\n",
       "    <tr>\n",
       "      <th>24537</th>\n",
       "      <td>0.200839</td>\n",
       "      <td>0.181818</td>\n",
       "    </tr>\n",
       "    <tr>\n",
       "      <th>33177</th>\n",
       "      <td>0.189699</td>\n",
       "      <td>0.180034</td>\n",
       "    </tr>\n",
       "    <tr>\n",
       "      <th>49716</th>\n",
       "      <td>0.107778</td>\n",
       "      <td>0.151504</td>\n",
       "    </tr>\n",
       "    <tr>\n",
       "      <th>770</th>\n",
       "      <td>0.109540</td>\n",
       "      <td>0.129555</td>\n",
       "    </tr>\n",
       "    <tr>\n",
       "      <th>26407</th>\n",
       "      <td>0.182963</td>\n",
       "      <td>0.175871</td>\n",
       "    </tr>\n",
       "    <tr>\n",
       "      <th>701</th>\n",
       "      <td>0.277325</td>\n",
       "      <td>0.303783</td>\n",
       "    </tr>\n",
       "    <tr>\n",
       "      <th>55778</th>\n",
       "      <td>0.205526</td>\n",
       "      <td>0.206458</td>\n",
       "    </tr>\n",
       "    <tr>\n",
       "      <th>35288</th>\n",
       "      <td>0.156143</td>\n",
       "      <td>0.127861</td>\n",
       "    </tr>\n",
       "    <tr>\n",
       "      <th>69792</th>\n",
       "      <td>0.248872</td>\n",
       "      <td>0.232933</td>\n",
       "    </tr>\n",
       "    <tr>\n",
       "      <th>8957</th>\n",
       "      <td>0.219799</td>\n",
       "      <td>0.206757</td>\n",
       "    </tr>\n",
       "    <tr>\n",
       "      <th>22274</th>\n",
       "      <td>0.138828</td>\n",
       "      <td>0.131137</td>\n",
       "    </tr>\n",
       "    <tr>\n",
       "      <th>54916</th>\n",
       "      <td>0.204594</td>\n",
       "      <td>0.216454</td>\n",
       "    </tr>\n",
       "    <tr>\n",
       "      <th>61138</th>\n",
       "      <td>0.208036</td>\n",
       "      <td>0.203041</td>\n",
       "    </tr>\n",
       "    <tr>\n",
       "      <th>912</th>\n",
       "      <td>0.201872</td>\n",
       "      <td>0.213953</td>\n",
       "    </tr>\n",
       "    <tr>\n",
       "      <th>63442</th>\n",
       "      <td>0.312709</td>\n",
       "      <td>0.334839</td>\n",
       "    </tr>\n",
       "    <tr>\n",
       "      <th>4611</th>\n",
       "      <td>0.149944</td>\n",
       "      <td>0.123016</td>\n",
       "    </tr>\n",
       "    <tr>\n",
       "      <th>21145</th>\n",
       "      <td>0.189315</td>\n",
       "      <td>0.179629</td>\n",
       "    </tr>\n",
       "    <tr>\n",
       "      <th>1726</th>\n",
       "      <td>0.119663</td>\n",
       "      <td>0.138491</td>\n",
       "    </tr>\n",
       "  </tbody>\n",
       "</table>\n",
       "</div>"
      ],
      "text/plain": [
       "         Actual  Predicted\n",
       "75439  0.234830   0.236817\n",
       "15416  0.117310   0.158444\n",
       "24537  0.200839   0.181818\n",
       "33177  0.189699   0.180034\n",
       "49716  0.107778   0.151504\n",
       "770    0.109540   0.129555\n",
       "26407  0.182963   0.175871\n",
       "701    0.277325   0.303783\n",
       "55778  0.205526   0.206458\n",
       "35288  0.156143   0.127861\n",
       "69792  0.248872   0.232933\n",
       "8957   0.219799   0.206757\n",
       "22274  0.138828   0.131137\n",
       "54916  0.204594   0.216454\n",
       "61138  0.208036   0.203041\n",
       "912    0.201872   0.213953\n",
       "63442  0.312709   0.334839\n",
       "4611   0.149944   0.123016\n",
       "21145  0.189315   0.179629\n",
       "1726   0.119663   0.138491"
      ]
     },
     "execution_count": 26,
     "metadata": {},
     "output_type": "execute_result"
    }
   ],
   "source": [
    "df = pd.DataFrame({'Actual': y_test, 'Predicted': predictions})\n",
    "df1 = df.head(20)\n",
    "df1"
   ]
  },
  {
   "cell_type": "code",
   "execution_count": 27,
   "metadata": {},
   "outputs": [],
   "source": [
    "#KNN finding K manually"
   ]
  },
  {
   "cell_type": "code",
   "execution_count": 28,
   "metadata": {},
   "outputs": [
    {
     "name": "stdout",
     "output_type": "stream",
     "text": [
      "RMSE value for k=  1 is: 0.03525320116437958\n",
      "RMSE value for k=  2 is: 0.03250545502722273\n",
      "RMSE value for k=  3 is: 0.032051231449418405\n",
      "RMSE value for k=  4 is: 0.03193585039550359\n",
      "RMSE value for k=  5 is: 0.03213372038809706\n",
      "RMSE value for k=  6 is: 0.032256053029728816\n",
      "RMSE value for k=  7 is: 0.032431663402039665\n",
      "RMSE value for k=  8 is: 0.032613406064672376\n",
      "RMSE value for k=  9 is: 0.03281067439819852\n",
      "RMSE value for k=  10 is: 0.03298375063223479\n",
      "RMSE value for k=  11 is: 0.03313261866183574\n",
      "RMSE value for k=  12 is: 0.033247587911491155\n",
      "RMSE value for k=  13 is: 0.033349139686331145\n",
      "RMSE value for k=  14 is: 0.03349925353329721\n",
      "RMSE value for k=  15 is: 0.03361346814029385\n",
      "RMSE value for k=  16 is: 0.03375833405315666\n",
      "RMSE value for k=  17 is: 0.033881507120625286\n",
      "RMSE value for k=  18 is: 0.03399387032153918\n",
      "RMSE value for k=  19 is: 0.034076679111710285\n",
      "RMSE value for k=  20 is: 0.034159860167279864\n"
     ]
    }
   ],
   "source": [
    "#import required packages\n",
    "from sklearn import neighbors\n",
    "from sklearn.metrics import mean_squared_error \n",
    "from math import sqrt\n",
    "import matplotlib.pyplot as plt\n",
    "%matplotlib inline\n",
    "rmse_val = [] #to store rmse values for different k\n",
    "for K in range(20):\n",
    "    K = K+1\n",
    "    model = neighbors.KNeighborsRegressor(n_neighbors = K)\n",
    "\n",
    "    model.fit(X_train, y_train)  #fit the model\n",
    "    pred=model.predict(X_test) #make prediction on test set\n",
    "    error = sqrt(mean_squared_error(y_test,pred)) #calculate rmse\n",
    "    rmse_val.append(error) #store rmse values\n",
    "    print('RMSE value for k= ' , K , 'is:', error)"
   ]
  },
  {
   "cell_type": "code",
   "execution_count": 29,
   "metadata": {},
   "outputs": [
    {
     "data": {
      "text/plain": [
       "<matplotlib.axes._subplots.AxesSubplot at 0x1d7d75e8af0>"
      ]
     },
     "execution_count": 29,
     "metadata": {},
     "output_type": "execute_result"
    },
    {
     "data": {
      "image/png": "[encoded data removed]",
      "text/plain": [
       "<Figure size 432x288 with 1 Axes>"
      ]
     },
     "metadata": {
      "needs_background": "light"
     },
     "output_type": "display_data"
    }
   ],
   "source": [
    "curve = pd.DataFrame(rmse_val) #elbow curve \n",
    "curve.plot()"
   ]
  },
  {
   "cell_type": "code",
   "execution_count": 31,
   "metadata": {},
   "outputs": [
    {
     "data": {
      "text/plain": [
       "{'n_neighbors': 5}"
      ]
     },
     "execution_count": 31,
     "metadata": {},
     "output_type": "execute_result"
    }
   ],
   "source": [
    "from sklearn.model_selection import GridSearchCV\n",
    "params = {'n_neighbors':[2,3,4,5,6,7,8,9]}\n",
    "\n",
    "knn = neighbors.KNeighborsRegressor()\n",
    "\n",
    "model = GridSearchCV(knn, params, cv=5)\n",
    "model.fit(X_train,y_train)\n",
    "model.best_params_"
   ]
  },
  {
   "cell_type": "code",
   "execution_count": 34,
   "metadata": {},
   "outputs": [
    {
     "name": "stdout",
     "output_type": "stream",
     "text": [
      "Coefficient of determination test(R2): 0.91\n"
     ]
    }
   ],
   "source": [
    "pred=model.predict(X_test)\n",
    "print(\"Coefficient of determination test(R2): %.2f\" % metrics.r2_score(y_test, pred).round(2))"
   ]
  },
  {
   "cell_type": "code",
   "execution_count": null,
   "metadata": {},
   "outputs": [],
   "source": []
  }
 ],
 "metadata": {
  "kernelspec": {
   "display_name": "Python 3",
   "language": "python",
   "name": "python3"
  },
  "language_info": {
   "codemirror_mode": {
    "name": "ipython",
    "version": 3
   },
   "file_extension": ".py",
   "mimetype": "text/x-python",
   "name": "python",
   "nbconvert_exporter": "python",
   "pygments_lexer": "ipython3",
   "version": "3.8.3"
  }
 },
 "nbformat": 4,
 "nbformat_minor": 4
}
