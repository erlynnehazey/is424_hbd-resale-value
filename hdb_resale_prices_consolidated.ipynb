{
 "cells": [
  {
   "cell_type": "code",
   "execution_count": null,
   "id": "6ad4e59d",
   "metadata": {},
   "outputs": [],
   "source": [
    "import pandas as pd\n",
    "import numpy as np\n",
    "import seaborn as sns\n",
    "import matplotlib.pyplot as plt\n",
    "import folium \n",
    "import requests\n",
    "import json\n",
    "from geopy.distance import geodesic\n",
    "\n",
    "hdb_resale_prices = pd.read_csv(\"final_hdb_resale_prices.csv\")"
   ]
  },
  {
   "cell_type": "markdown",
   "id": "64b04a3b",
   "metadata": {},
   "source": [
    "<h3>Data Preparation</h3>"
   ]
  },
  {
   "cell_type": "code",
   "execution_count": null,
   "id": "a371c5ef",
   "metadata": {},
   "outputs": [],
   "source": [
    "hdb_resale_prices.drop(columns=['index'], inplace=True)\n",
    "hdb_resale_prices.head()"
   ]
  },
  {
   "cell_type": "markdown",
   "id": "a8be0b49",
   "metadata": {},
   "source": [
    "<h5><b>Checking for Missing Values</b></h5>\n",
    "\n",
    "There are no missing values in the dataset."
   ]
  },
  {
   "cell_type": "code",
   "execution_count": null,
   "id": "fe17c226",
   "metadata": {},
   "outputs": [],
   "source": [
    "hdb_resale_prices.isnull().sum()"
   ]
  },
  {
   "attachments": {},
   "cell_type": "markdown",
   "id": "12dabad1",
   "metadata": {},
   "source": [
    "<h5><b>Reason for Null Values for Resale Application and Demand Ratio</b></h5>\n",
    "\n",
    "As shown below, the 2150 number of null values for 'resale application' and 'demand ratio' is due to the lack of data for those columns in 2023. There is no data available for the demand for resale flats in 2023. Hence, the resale application and demand ratio is null for 2023."
   ]
  },
  {
   "cell_type": "code",
   "execution_count": null,
   "id": "6badc0b2",
   "metadata": {},
   "outputs": [],
   "source": [
    "hdb_resale_prices.groupby('year').count().loc[2023]"
   ]
  },
  {
   "cell_type": "code",
   "execution_count": null,
   "id": "defdf1f6",
   "metadata": {},
   "outputs": [],
   "source": [
    "hdb_resale_prices.info()"
   ]
  },
  {
   "cell_type": "code",
   "execution_count": null,
   "id": "6e437f73",
   "metadata": {},
   "outputs": [],
   "source": [
    "hdb_resale_prices.describe()"
   ]
  },
  {
   "cell_type": "markdown",
   "id": "9e0a6be3",
   "metadata": {},
   "source": [
    "<h1>Exploratory Data Analysis</h1>"
   ]
  },
  {
   "cell_type": "code",
   "execution_count": null,
   "id": "8c29a06e",
   "metadata": {},
   "outputs": [],
   "source": [
    "hdb_resale_prices.hist(figsize=(20,20))"
   ]
  },
  {
   "cell_type": "markdown",
   "id": "d8067523",
   "metadata": {},
   "source": [
    "### Distribution of Resale Prices\n",
    "<h5><b>Use mean or median resale price?</b></h5>\n",
    "\n",
    "As seen in the plotted histogram for the resale prices from 2017 to 2023, the resale price data is right skewed. Since the price data does not follow a symmetric distribution, we will use the <i><b>median price</b></i> instead of the mean price to represent the average resale price of the flats.\n",
    "\n",
    "The right-skewed KDE plot also suggests that the mean prices are greater than the median."
   ]
  },
  {
   "cell_type": "code",
   "execution_count": null,
   "id": "18948be2",
   "metadata": {},
   "outputs": [],
   "source": [
    "fig, ax = plt.subplots(figsize=(10, 10))\n",
    "sns.boxplot(x=hdb_resale_prices['resale_price'])"
   ]
  },
  {
   "cell_type": "code",
   "execution_count": null,
   "id": "86bed084",
   "metadata": {},
   "outputs": [],
   "source": [
    "fig, ax = plt.subplots(figsize=(10, 10))\n",
    "ax.set_title(\"Distribution of Resale Prices\")\n",
    "\n",
    "sns.histplot(data=hdb_resale_prices, x=\"resale_price\", ax=ax, kde=True)"
   ]
  },
  {
   "attachments": {},
   "cell_type": "markdown",
   "id": "c3d7a83b",
   "metadata": {},
   "source": [
    "<h3>Number of Resale Flats Sold Across the Years</h3>\n"
   ]
  },
  {
   "cell_type": "code",
   "execution_count": null,
   "id": "86fe166e",
   "metadata": {},
   "outputs": [],
   "source": [
    "df_years = hdb_resale_prices.groupby('year').count()\n",
    "df_years"
   ]
  },
  {
   "cell_type": "code",
   "execution_count": null,
   "id": "936fe3e2",
   "metadata": {},
   "outputs": [],
   "source": [
    "fig, ax = plt.subplots(figsize=(10, 10))\n",
    "ax.set_title(\"Number of Resale Flats per Year\")\n",
    "ax.set_ylabel(\"Count\")\n",
    "\n",
    "# plot the data as a line plot\n",
    "sns.lineplot(x=\"year\", y=\"index\", data=df_years, color=\"purple\", ax=ax)\n",
    "\n",
    "# label points on the plot\n",
    "for x, y in zip(df_years.index, df_years[\"index\"]):\n",
    "   # the position of the data label relative to the data point can be adjusted by adding/subtracting a value from the x &/ y coordinates\n",
    "   plt.text(x = x, y = y-150, # y-coordinate position of data label, adjusted to be 150 below the data point\n",
    "   s = \"{:.0f}\".format(y), # data label, formatted to ignore decimals\n",
    "   color = \"purple\") # set colour of line\n",
    "\n",
    "plt.show()"
   ]
  },
  {
   "cell_type": "code",
   "execution_count": null,
   "id": "3fe11bdc",
   "metadata": {},
   "outputs": [],
   "source": [
    "# plot sale of flats across the years\n",
    "fig, ax = plt.subplots(figsize=(10, 10))\n",
    "ax.set_title(\"Number of Resale Flats per Year by Flat Type\")\n",
    "\n",
    "shared_plot = sns.countplot(x=\"year\", hue=\"flat_type\", data=hdb_resale_prices)\n",
    "\n",
    "plt.show()"
   ]
  },
  {
   "cell_type": "markdown",
   "id": "fd894920",
   "metadata": {},
   "source": [
    "<h3>Flat Type Distribution</h3>\n",
    "\n",
    "Based on the plotted bar chart, the majority of the resale flats are 4-room flats and multi-generation flats account for the least number of resale flats."
   ]
  },
  {
   "cell_type": "code",
   "execution_count": null,
   "id": "1286232f",
   "metadata": {},
   "outputs": [],
   "source": [
    "fig, ax = plt.subplots(figsize=(10, 10))\n",
    "sns.countplot(x=hdb_resale_prices['flat_type'], data=hdb_resale_prices)\n",
    "abs_values = hdb_resale_prices['flat_type'].value_counts(ascending=False).values\n",
    "ax.bar_label(container=ax.containers[0], labels=abs_values)\n",
    "ax.set_title('Number of Resale Flats by Flat Type')\n",
    "plt.show()"
   ]
  },
  {
   "attachments": {},
   "cell_type": "markdown",
   "id": "48e42dea",
   "metadata": {},
   "source": [
    "### Resale Price per Year by Flat Type"
   ]
  },
  {
   "cell_type": "code",
   "execution_count": null,
   "id": "65cbe0e5",
   "metadata": {},
   "outputs": [],
   "source": [
    "fig, ax = plt.subplots(figsize=(10, 10))\n",
    "ax.set_title(\"Resale Price per Year by Flat Type\")\n",
    "ax.set_ylabel(\"Resale Price\")\n",
    "\n",
    "# plot the data as a line plot\n",
    "sns.lineplot(x=\"year\", y=\"resale_price\", data=hdb_resale_prices, hue=\"flat_type\")\n",
    "\n",
    "\n",
    "plt.show()"
   ]
  },
  {
   "attachments": {},
   "cell_type": "markdown",
   "id": "68eb50da",
   "metadata": {},
   "source": [
    "### Distribution of Resale Price by Flat Type"
   ]
  },
  {
   "cell_type": "code",
   "execution_count": null,
   "id": "d051e898",
   "metadata": {},
   "outputs": [],
   "source": [
    "# plot distribution of prices against flat type \n",
    "fig, ax = plt.subplots(figsize=(15, 15))\n",
    "\n",
    "# plot boxplot\n",
    "boxplot = sns.boxplot(x=hdb_resale_prices['flat_type'], y=hdb_resale_prices['resale_price'], data=pd.melt(hdb_resale_prices), order=[\"3 ROOM\", \"4 ROOM\", \"5 ROOM\", \"EXECUTIVE\"])\n",
    "\n",
    "# plot stripplot on top of boxplot\n",
    "boxplot = sns.stripplot(x=hdb_resale_prices['flat_type'], y=hdb_resale_prices['resale_price'], data=pd.melt(hdb_resale_prices), marker=\"o\", alpha=0.25, color=\"black\", order=[\"3 ROOM\", \"4 ROOM\", \"5 ROOM\", \"EXECUTIVE\"])\n",
    "\n",
    "# set title and labels\n",
    "boxplot.axes.set_title(\"Distribution of Resale Price by Flat Type\")\n",
    "boxplot.set_xlabel(\"Flat Type\", fontsize=14)\n",
    "boxplot.set_ylabel(\"Resale Price\", fontsize=14)\n",
    "\n",
    "# display median values for each flat type\n",
    "medians = hdb_resale_prices.groupby(['flat_type'])['resale_price'].median()\n",
    "# attach median values to boxplot\n",
    "vertical_offset = hdb_resale_prices['resale_price'].median() * 0.05 # offset from median for display\n",
    "\n",
    "for xtick in boxplot.get_xticks():\n",
    "   boxplot.text(xtick,medians[xtick] + vertical_offset,medians[xtick], horizontalalignment='center',color='w',weight='semibold')\n",
    "\n",
    "plt.show()"
   ]
  },
  {
   "cell_type": "markdown",
   "id": "5ac072d9",
   "metadata": {},
   "source": [
    "### Investigating the distribution of flat_model"
   ]
  },
  {
   "cell_type": "code",
   "execution_count": null,
   "id": "e15228c6",
   "metadata": {},
   "outputs": [],
   "source": [
    "fig, ax = plt.subplots(figsize=(10, 10))\n",
    "sns.countplot(y='flat_model', data=hdb_resale_prices)\n",
    "abs_values = hdb_resale_prices['flat_model'].value_counts(ascending=False).values\n",
    "ax.bar_label(container=ax.containers[0], labels=abs_values)\n",
    "\n",
    "ax.set_title('Number of Resale Flats by Flat Model')\n",
    "plt.show()"
   ]
  },
  {
   "cell_type": "markdown",
   "id": "50e11553",
   "metadata": {},
   "source": [
    "### Demand for resale\n"
   ]
  },
  {
   "cell_type": "code",
   "execution_count": null,
   "id": "dedcd013",
   "metadata": {},
   "outputs": [],
   "source": [
    "fig, ax = plt.subplots(figsize=(10, 10))\n",
    "sns.countplot(x=hdb_resale_prices['year'], data=hdb_resale_prices)\n",
    "abs_values = hdb_resale_prices['year'].value_counts(ascending=False).values\n",
    "ax.bar_label(container=ax.containers[0], labels=abs_values)\n",
    "ax.set_title('Number of Resale Applications Per Year')\n",
    "plt.show()"
   ]
  },
  {
   "cell_type": "markdown",
   "id": "fa347f36",
   "metadata": {},
   "source": [
    "### Correlation"
   ]
  },
  {
   "cell_type": "code",
   "execution_count": null,
   "id": "944dc616",
   "metadata": {},
   "outputs": [],
   "source": [
    "plt.figure(figsize=(16, 6))\n",
    "corr_df = hdb_resale_prices.corr()\n",
    "hm = sns.heatmap(corr_df, annot=True)"
   ]
  },
  {
   "cell_type": "markdown",
   "id": "6e7caf87",
   "metadata": {},
   "source": [
    "### Investigate if lease is an important factor"
   ]
  },
  {
   "cell_type": "code",
   "execution_count": null,
   "id": "c6f71436",
   "metadata": {},
   "outputs": [],
   "source": [
    "import csv\n",
    "hdb_resale_listings = []\n",
    "\n",
    "with open('final_hdb_resale_prices.csv', newline='', encoding=\"utf8\") as f:\n",
    "    reader = csv.reader(f)\n",
    "    for row in reader:\n",
    "        hdb_resale_listings.append(row)\n",
    "\n",
    "    # Remove header\n",
    "    hdb_resale_listings_headers = hdb_resale_listings[0]\n",
    "    hdb_resale_listings = hdb_resale_listings[1:]\n",
    "    \n",
    "print(hdb_resale_listings[0]) # Print first row of data"
   ]
  },
  {
   "cell_type": "code",
   "execution_count": null,
   "id": "ab9eedb3",
   "metadata": {},
   "outputs": [],
   "source": [
    "average_resale_for_lease_year_remaining = {}\n",
    "for data in hdb_resale_listings:\n",
    "    if round(float(data[16])/12) not in average_resale_for_lease_year_remaining:\n",
    "        average_resale_for_lease_year_remaining[round(float(data[16])/12)] = []\n",
    "        average_resale_for_lease_year_remaining[round(float(data[16])/12)].append(float(data[7]))\n",
    "    else:\n",
    "        average_resale_for_lease_year_remaining[round(float(data[16])/12)].append(float(data[7]))\n",
    "    "
   ]
  },
  {
   "cell_type": "code",
   "execution_count": null,
   "id": "d5706395",
   "metadata": {},
   "outputs": [],
   "source": [
    "for item in average_resale_for_lease_year_remaining:\n",
    "    avg = round(sum(average_resale_for_lease_year_remaining[item])/len(average_resale_for_lease_year_remaining[item]))\n",
    "    average_resale_for_lease_year_remaining[item] = avg"
   ]
  },
  {
   "cell_type": "code",
   "execution_count": null,
   "id": "ed49077e",
   "metadata": {},
   "outputs": [],
   "source": [
    "lease = list(average_resale_for_lease_year_remaining.keys())\n",
    "average_resale_value = list(average_resale_for_lease_year_remaining.values())\n",
    "\n",
    "## Write your code below\n",
    "fig,ax = plt.subplots(figsize=(18,12))\n",
    "ax.plot(lease,average_resale_value,marker='d')\n",
    "ax.set_ylabel('Resale Value')\n",
    "ax.set_xlabel('Lease Remaining')\n",
    "ax.set_title('Average Resale Value for Lease Years Remaining')\n",
    "plt.show()\n"
   ]
  },
  {
   "cell_type": "markdown",
   "id": "4921bfbe",
   "metadata": {},
   "source": [
    "### Investigate how floor area correlate with price"
   ]
  },
  {
   "cell_type": "code",
   "execution_count": null,
   "id": "e6bd6d72",
   "metadata": {},
   "outputs": [],
   "source": [
    "floor_area_sqm = []\n",
    "resale_price = []\n",
    "for data in hdb_resale_listings:\n",
    "    floor_area_sqm.append(float(data[5]))\n",
    "    resale_price.append(float(data[7]))\n",
    "fig,ax = plt.subplots(figsize=(18,12))\n",
    "ax.scatter(floor_area_sqm,resale_price)\n",
    "ax.set_xlabel('Floor Area (in square metres)')\n",
    "ax.set_ylabel('Sale Price (in million SGD)')\n",
    "ax.set_title('Relationship between Floor Area and Resale Price')\n",
    "plt.show()\n"
   ]
  },
  {
   "cell_type": "markdown",
   "id": "1959da99",
   "metadata": {},
   "source": [
    "### Investigating resale counts by town"
   ]
  },
  {
   "cell_type": "code",
   "execution_count": null,
   "id": "ec48f8dd",
   "metadata": {},
   "outputs": [],
   "source": [
    "resale_counts_by_town = {}  # Populate this dictionary with counts\n",
    "\n",
    "import operator\n",
    "## Write your code below\n",
    "\n",
    "for data in hdb_resale_listings:\n",
    "    hdb_town = data[2]\n",
    "    \n",
    "    if hdb_town in resale_counts_by_town:\n",
    "        \n",
    "        resale_counts_by_town[hdb_town] += 1 \n",
    "    \n",
    "    else:\n",
    "        \n",
    "        resale_counts_by_town[hdb_town] = 1\n",
    "\n",
    "    \n",
    "        \n",
    "sorted_resale_counts_by_town = dict(sorted(resale_counts_by_town.items(), key=operator.itemgetter(1),reverse=True))"
   ]
  },
  {
   "cell_type": "code",
   "execution_count": null,
   "id": "85678b3a",
   "metadata": {},
   "outputs": [],
   "source": [
    "resale_counts_sorted_desc = sorted_resale_counts_by_town\n",
    "neighbourhood_listings = list(resale_counts_sorted_desc.keys())\n",
    "num_listings = list(resale_counts_sorted_desc.values())\n",
    "# Import matplotlib library here\n",
    "\n",
    "import matplotlib.pyplot as plt\n",
    "fig,ax = plt.subplots(figsize=(18,12))\n",
    "ax.bar(neighbourhood_listings,num_listings)\n",
    "ax.set_title('Counts of Resale Flats from Jan 2017 to June 2020')\n",
    "ax.set_xticklabels(neighbourhood_listings,rotation = 90)\n",
    "ax.set_ylabel('Number of Resale Flats')\n",
    "ax.set_xlabel('Town')\n",
    "plt.show()"
   ]
  },
  {
   "cell_type": "markdown",
   "id": "4cc95e90",
   "metadata": {},
   "source": [
    "# Folium Clusters"
   ]
  },
  {
   "cell_type": "markdown",
   "id": "1600cc3b",
   "metadata": {},
   "source": [
    "<h3>3 Room</h3>"
   ]
  },
  {
   "cell_type": "code",
   "execution_count": null,
   "id": "54ffd9d0",
   "metadata": {},
   "outputs": [],
   "source": [
    "import folium\n",
    "from folium.plugins import HeatMap\n",
    "lat_long = []\n",
    "## Write your code below\n",
    "for data in hdb_resale_listings:\n",
    "    if data[3] == '3 ROOM':\n",
    "        lat_long.append([data[8],data[9]])\n",
    "map_folium = folium.Map(location=[1.357,103.826], height=350, width=800,zoom_start=11.4)\n",
    "\n",
    "HeatMap(lat_long, radius=8, gradient={0.2:'blue', 0.4:'purple', 0.6:'orange', 1.0:'red'}).add_to(map_folium) \n",
    "\n",
    "display(map_folium)"
   ]
  },
  {
   "cell_type": "code",
   "execution_count": null,
   "id": "4249e106",
   "metadata": {},
   "outputs": [],
   "source": [
    "from folium.plugins import MarkerCluster   \n",
    "## Write your code below (Note: the Folium map output might take a while to load)\n",
    "map_folium = folium.Map(location=[1.357,103.826], height=550, width=900, zoom_start=11.5)\n",
    "\n",
    "marker_cluster = MarkerCluster().add_to(map_folium)\n",
    "for data in hdb_resale_listings:\n",
    "    if data[3] == '3 ROOM':\n",
    "        lat_long_listing = [data[8],data[9]]\n",
    "        pop_display_price = '$' + str(data[6])\n",
    "        tooltipmsg = 'Click to view price'\n",
    "\n",
    "        folium.Marker(lat_long_listing,popup=pop_display_price,tooltip = tooltipmsg).add_to(marker_cluster)\n",
    "\n",
    "display(map_folium)\n"
   ]
  },
  {
   "cell_type": "markdown",
   "id": "1e98d0f9",
   "metadata": {},
   "source": [
    "<h3>4 Room</h3>"
   ]
  },
  {
   "cell_type": "code",
   "execution_count": null,
   "id": "69c3677d",
   "metadata": {},
   "outputs": [],
   "source": [
    "import folium\n",
    "from folium.plugins import HeatMap\n",
    "lat_long = []\n",
    "## Write your code below\n",
    "for data in hdb_resale_listings:\n",
    "    if data[3] == '4 ROOM':\n",
    "        lat_long.append([data[8],data[9]])\n",
    "map_folium = folium.Map(location=[1.357,103.826], height=350, width=800,zoom_start=11.4)\n",
    "\n",
    "HeatMap(lat_long, radius=8, gradient={0.2:'blue', 0.4:'purple', 0.6:'orange', 1.0:'red'}).add_to(map_folium) \n",
    "\n",
    "display(map_folium)\n",
    "\n"
   ]
  },
  {
   "cell_type": "code",
   "execution_count": null,
   "id": "90939983",
   "metadata": {},
   "outputs": [],
   "source": [
    "from folium.plugins import MarkerCluster   \n",
    "## Write your code below (Note: the Folium map output might take a while to load)\n",
    "map_folium = folium.Map(location=[1.357,103.826], height=550, width=900, zoom_start=11.5)\n",
    "\n",
    "marker_cluster = MarkerCluster().add_to(map_folium)\n",
    "for data in hdb_resale_listings:\n",
    "    if data[3] == '4 ROOM':\n",
    "        lat_long_listing = [data[8],data[9]]\n",
    "        pop_display_price = '$' + str(data[6])\n",
    "        tooltipmsg = 'Click to view price'\n",
    "\n",
    "        folium.Marker(lat_long_listing,popup=pop_display_price,tooltip = tooltipmsg).add_to(marker_cluster)\n",
    "\n",
    "display(map_folium)\n"
   ]
  },
  {
   "cell_type": "markdown",
   "id": "6add6ae8",
   "metadata": {},
   "source": [
    "<h3>5 Room</h3>"
   ]
  },
  {
   "cell_type": "code",
   "execution_count": null,
   "id": "43d313f2",
   "metadata": {},
   "outputs": [],
   "source": [
    "import folium\n",
    "from folium.plugins import HeatMap\n",
    "lat_long = []\n",
    "## Write your code below\n",
    "for data in hdb_resale_listings:\n",
    "    if data[3] == '5 ROOM':\n",
    "        lat_long.append([data[8],data[9]])\n",
    "map_folium = folium.Map(location=[1.357,103.826], height=350, width=800,zoom_start=11.4)\n",
    "\n",
    "HeatMap(lat_long, radius=8, gradient={0.2:'blue', 0.4:'purple', 0.6:'orange', 1.0:'red'}).add_to(map_folium) \n",
    "\n",
    "display(map_folium)"
   ]
  },
  {
   "cell_type": "code",
   "execution_count": null,
   "id": "90cbe283",
   "metadata": {},
   "outputs": [],
   "source": [
    "from folium.plugins import MarkerCluster   \n",
    "## Write your code below (Note: the Folium map output might take a while to load)\n",
    "map_folium = folium.Map(location=[1.357,103.826], height=550, width=900, zoom_start=11.5)\n",
    "\n",
    "marker_cluster = MarkerCluster().add_to(map_folium)\n",
    "for data in hdb_resale_listings:\n",
    "    if data[3] == '5 ROOM':\n",
    "        lat_long_listing = [data[8],data[9]]\n",
    "        pop_display_price = '$' + str(data[6])\n",
    "        tooltipmsg = 'Click to view price'\n",
    "\n",
    "        folium.Marker(lat_long_listing,popup=pop_display_price,tooltip = tooltipmsg).add_to(marker_cluster)\n",
    "\n",
    "display(map_folium)"
   ]
  },
  {
   "cell_type": "markdown",
   "id": "30f3f10b",
   "metadata": {},
   "source": [
    "<h3>Executive</h3>"
   ]
  },
  {
   "cell_type": "code",
   "execution_count": null,
   "id": "95aaaf28",
   "metadata": {},
   "outputs": [],
   "source": [
    "import folium\n",
    "from folium.plugins import HeatMap\n",
    "lat_long = []\n",
    "## Write your code below\n",
    "for data in hdb_resale_listings:\n",
    "    if data[3] == 'EXECUTIVE':\n",
    "        lat_long.append([data[8],data[9]])\n",
    "map_folium = folium.Map(location=[1.357,103.826], height=350, width=800,zoom_start=11.4)\n",
    "\n",
    "HeatMap(lat_long, radius=8, gradient={0.2:'blue', 0.4:'purple', 0.6:'orange', 1.0:'red'}).add_to(map_folium) \n",
    "\n",
    "display(map_folium)"
   ]
  },
  {
   "cell_type": "code",
   "execution_count": null,
   "id": "d17d5066",
   "metadata": {},
   "outputs": [],
   "source": [
    "from folium.plugins import MarkerCluster   \n",
    "## Write your code below (Note: the Folium map output might take a while to load)\n",
    "map_folium = folium.Map(location=[1.357,103.826], height=550, width=900, zoom_start=11.5)\n",
    "\n",
    "marker_cluster = MarkerCluster().add_to(map_folium)\n",
    "for data in hdb_resale_listings:\n",
    "    if data[3] == 'EXECUTIVE':\n",
    "        lat_long_listing = [data[8],data[9]]\n",
    "        pop_display_price = '$' + str(data[6])\n",
    "        tooltipmsg = 'Click to view price'\n",
    "\n",
    "        folium.Marker(lat_long_listing,popup=pop_display_price,tooltip = tooltipmsg).add_to(marker_cluster)\n",
    "\n",
    "display(map_folium)"
   ]
  },
  {
   "cell_type": "markdown",
   "id": "88602e9e",
   "metadata": {},
   "source": [
    "# Feature Engineering\n",
    "\n",
    "Based on the studies and analysis performed by other researchers, the following features that have been concluded to be <b>important</b> in determining the prices of HDB resale flats are as follows: \n",
    "- Time Taken to Travel to Central Business District (CBD), Raffles Place\n",
    "- Number of Years Left on Lease\n",
    "- Maturity of Estate\n",
    "<br>\n",
    "\n",
    "We are also considering <b>other factors</b> that have not been explored by other reseearchers. The factors that we have identified are as follows: \n",
    "- Singapore's Inflation Rate\n",
    "- Flat Model\n",
    "- Floor Level\n",
    "- Prices of BTO\n",
    "- Number of BTO Flats Launched that Year\n",
    "- Demand Ratio in Resale Flat\n"
   ]
  },
  {
   "attachments": {},
   "cell_type": "markdown",
   "id": "f6b71019",
   "metadata": {},
   "source": [
    "Before adding these features into our dataset, we will first perform some data cleaning and feature engineering on the existing features in our dataset.\n",
    "\n",
    "- convert the flat condition with quantitative measures\n",
    "- combine the resale prices and the sqm to find the $/sqm (still need to keep sqm to quantify the size!!) \n",
    "- remaining lease should be converted to a ratio \n",
    "- combine the block and street name to obtain the lat,long - from there we can obtain the distance from amentities, distance from public transport, distance from central\n",
    "- using the town --- can also do some quantitative measures to quantify how mature the estate is\n",
    "- average price of the houses of the same category in the area from here we derive the estimated COV\n",
    "- demand-scarcity ratio --- not sure how to quantify this\n",
    "- total sale price of the hdb\n",
    "- there should be a way to convert the storey range to scoring value\n",
    "\n",
    "\n",
    "<b>DISCLAIMER: </b> Some of the feature engineering code can be found in resale_data_processing.ipynb. They have been shifted there for ease of reading and efficiency purposes."
   ]
  },
  {
   "attachments": {},
   "cell_type": "markdown",
   "id": "75d7a518",
   "metadata": {},
   "source": [
    "### Filtering Out Flats That Have Fewer Than 3 Rooms "
   ]
  },
  {
   "attachments": {},
   "cell_type": "markdown",
   "id": "5c56311d",
   "metadata": {},
   "source": [
    "Since the young are more likely to purchase 3,4,5 room and executive flats we decided to drop the records of 1 room, 2room and multi-gen flats."
   ]
  },
  {
   "cell_type": "code",
   "execution_count": null,
   "id": "193348f1",
   "metadata": {},
   "outputs": [],
   "source": [
    "# drop 1room, 2room, and multi-generation flats\n",
    "hdb_resale_prices = hdb_resale_prices[hdb_resale_prices['flat_type'] != '1 ROOM']\n",
    "hdb_resale_prices = hdb_resale_prices[hdb_resale_prices['flat_type'] != '2 ROOM']\n",
    "hdb_resale_prices = hdb_resale_prices[hdb_resale_prices['flat_type'] != 'MULTI-GENERATION']\n",
    "\n",
    "hdb_resale_prices.reset_index(inplace=True)"
   ]
  },
  {
   "cell_type": "code",
   "execution_count": null,
   "id": "4cf26c4d",
   "metadata": {},
   "outputs": [],
   "source": [
    "hdb_resale_prices.head()"
   ]
  },
  {
   "cell_type": "code",
   "execution_count": null,
   "id": "95649ef2",
   "metadata": {},
   "outputs": [],
   "source": [
    "#add year column to dataframe\n",
    "hdb_resale_prices['year'] = pd.DatetimeIndex(hdb_resale_prices['month']).year"
   ]
  },
  {
   "cell_type": "markdown",
   "id": "ded09d36",
   "metadata": {},
   "source": [
    "### Calculating Price Per Square Meter"
   ]
  },
  {
   "cell_type": "code",
   "execution_count": null,
   "id": "fe6da6e7",
   "metadata": {},
   "outputs": [],
   "source": [
    "# add new column to store adjusted resale price \n",
    "hdb_resale_prices['cpi_adjusted_price_per_sqm'] = hdb_resale_prices[\"cpi_adjusted_price\"] / hdb_resale_prices[\"floor_area_sqm\"]\n",
    "hdb_resale_prices.head()"
   ]
  },
  {
   "cell_type": "code",
   "execution_count": null,
   "id": "4d5b6a1f",
   "metadata": {},
   "outputs": [],
   "source": [
    "fig, ax = plt.subplots(figsize=(10, 10))\n",
    "sns.histplot(data=hdb_resale_prices, x=\"cpi_adjusted_price_per_sqm\", ax=ax)"
   ]
  },
  {
   "cell_type": "markdown",
   "id": "d205fe32",
   "metadata": {},
   "source": [
    "<h3>IsMature Estate</h3>"
   ]
  },
  {
   "cell_type": "code",
   "execution_count": null,
   "id": "16dee252",
   "metadata": {},
   "outputs": [],
   "source": [
    "# list_mature_estates = [\"ang mo kio\", \n",
    "#                         \"bishan\", \n",
    "#                         \"clementi\",\n",
    "#                         \"bukit merah\",\n",
    "#                         \"bedok\",\n",
    "#                         \"bukit timah\",\n",
    "#                         \"geylang\",\n",
    "#                         \"central\",\n",
    "#                         \"marine parade\",\n",
    "#                         \"queenstown\",\n",
    "#                         \"pasir ris\",\n",
    "#                         \"kallang\" , \"whampoa\", \"marine parade\" , \"serangoon\", \"tampines\", \"toa payoh\"]\n",
    "\n",
    "# for i in range(len(hdb_resale_prices)):\n",
    "#     if hdb_resale_prices.loc[i,'town'].lower() in list_mature_estates:\n",
    "#         hdb_resale_prices.loc[i,'isMatureEstate'] = 1\n",
    "#     else:\n",
    "#         hdb_resale_prices.loc[i,'isMatureEstate'] = 0"
   ]
  },
  {
   "cell_type": "code",
   "execution_count": null,
   "id": "4d69b82a",
   "metadata": {},
   "outputs": [],
   "source": [
    "# hdb_resale_prices.to_csv('final_hdb_resale_prices.csv')"
   ]
  },
  {
   "cell_type": "markdown",
   "id": "4383a719",
   "metadata": {},
   "source": [
    "<h1>Preliminary Models</h1>\n"
   ]
  },
  {
   "cell_type": "code",
   "execution_count": null,
   "id": "0c7b7228",
   "metadata": {},
   "outputs": [],
   "source": [
    "#split training and test data"
   ]
  },
  {
   "cell_type": "code",
   "execution_count": null,
   "id": "6c8cca3f",
   "metadata": {},
   "outputs": [],
   "source": []
  }
 ],
 "metadata": {
  "kernelspec": {
   "display_name": "Python 3 (ipykernel)",
   "language": "python",
   "name": "python3"
  },
  "language_info": {
   "codemirror_mode": {
    "name": "ipython",
    "version": 3
   },
   "file_extension": ".py",
   "mimetype": "text/x-python",
   "name": "python",
   "nbconvert_exporter": "python",
   "pygments_lexer": "ipython3",
   "version": "3.10.4"
  },
  "vscode": {
   "interpreter": {
    "hash": "afb734500600fd355917ca529030176ea0ca205570884b88f2f6f7d791fd3fbe"
   }
  }
 },
 "nbformat": 4,
 "nbformat_minor": 5
}
