{
 "cells": [
  {
   "cell_type": "code",
   "execution_count": null,
   "id": "6ad4e59d",
   "metadata": {},
   "outputs": [],
   "source": [
    "import pandas as pd\n",
    "import numpy as np\n",
    "import seaborn as sns\n",
    "import matplotlib.pyplot as plt\n",
    "import folium \n",
    "import requests\n",
    "import json\n",
    "from geopy.distance import geodesic\n",
    "\n",
    "hdb_resale_prices = pd.read_csv(\"resale-flat-prices-based-on-registration-date-from-jan-2017-onwards.csv\")"
   ]
  },
  {
   "cell_type": "markdown",
   "id": "64b04a3b",
   "metadata": {},
   "source": [
    "<h3>Data Preparation</h3>"
   ]
  },
  {
   "cell_type": "code",
   "execution_count": null,
   "id": "a371c5ef",
   "metadata": {},
   "outputs": [],
   "source": [
    "hdb_resale_prices"
   ]
  },
  {
   "cell_type": "markdown",
   "id": "a8be0b49",
   "metadata": {},
   "source": [
    "<h5><b>Checking for Missing Values</b></h5>\n",
    "\n",
    "There are no missing values in the dataset."
   ]
  },
  {
   "cell_type": "code",
   "execution_count": null,
   "id": "fe17c226",
   "metadata": {},
   "outputs": [],
   "source": [
    "hdb_resale_prices.isnull().sum()"
   ]
  },
  {
   "cell_type": "code",
   "execution_count": null,
   "id": "defdf1f6",
   "metadata": {},
   "outputs": [],
   "source": [
    "hdb_resale_prices.info()"
   ]
  },
  {
   "cell_type": "code",
   "execution_count": null,
   "id": "6e437f73",
   "metadata": {},
   "outputs": [],
   "source": [
    "hdb_resale_prices.describe()"
   ]
  },
  {
   "cell_type": "markdown",
   "id": "9e0a6be3",
   "metadata": {},
   "source": [
    "<h1>Exploratory Data Analysis</h1>"
   ]
  },
  {
   "cell_type": "markdown",
   "id": "d8067523",
   "metadata": {},
   "source": [
    "### Distribution of Resale Prices\n",
    "<h5><b>Use mean or median resale price?</b></h5>\n",
    "\n",
    "As seen in the plotted histogram for the resale prices from 2017 to 2023, the resale price data is right skewed. Since the price data does not follow a symmetric distribution, we will use the <i><b>median price</b></i> instead of the mean price to represent the average resale price of the flats.\n",
    "\n",
    "The right-skewed KDE plot also suggests that the mean prices are greater than the median."
   ]
  },
  {
   "cell_type": "code",
   "execution_count": null,
   "id": "18948be2",
   "metadata": {},
   "outputs": [],
   "source": [
    "fig, ax = plt.subplots(figsize=(10, 10))\n",
    "sns.boxplot(x=hdb_resale_prices['resale_price'])"
   ]
  },
  {
   "cell_type": "code",
   "execution_count": null,
   "id": "86bed084",
   "metadata": {},
   "outputs": [],
   "source": [
    "fig, ax = plt.subplots(figsize=(10, 10))\n",
    "sns.histplot(data=hdb_resale_prices, x=\"resale_price\", ax=ax, kde=True)"
   ]
  },
  {
   "cell_type": "markdown",
   "id": "fd894920",
   "metadata": {},
   "source": [
    "<h3>Flat Type Distribution</h3>\n",
    "\n",
    "Based on the plotted bar chart, the majority of the resale flats are 4-room flats and multi-generation flats account for the least number of resale flats."
   ]
  },
  {
   "cell_type": "code",
   "execution_count": null,
   "id": "1286232f",
   "metadata": {},
   "outputs": [],
   "source": [
    "fig, ax = plt.subplots(figsize=(10, 10))\n",
    "sns.countplot(x=hdb_resale_prices['flat_type'], data=hdb_resale_prices)\n",
    "abs_values = hdb_resale_prices['flat_type'].value_counts(ascending=False).values\n",
    "ax.bar_label(container=ax.containers[0], labels=abs_values)\n",
    "plt.show()"
   ]
  },
  {
   "cell_type": "code",
   "execution_count": null,
   "id": "193348f1",
   "metadata": {},
   "outputs": [],
   "source": [
    "# Since young couples are likely to purchase 3,4,5 room and executive flats we decide to drop the 1 room, 2room and multi-gen flats\n",
    "hdb_resale_prices = hdb_resale_prices[hdb_resale_prices['flat_type'] != '1 ROOM']\n",
    "hdb_resale_prices = hdb_resale_prices[hdb_resale_prices['flat_type'] != '2 ROOM']\n",
    "hdb_resale_prices = hdb_resale_prices[hdb_resale_prices['flat_type'] != 'MULTI-GENERATION']\n",
    "\n",
    "hdb_resale_prices.reset_index(inplace=True)"
   ]
  },
  {
   "cell_type": "code",
   "execution_count": null,
   "id": "4cf26c4d",
   "metadata": {},
   "outputs": [],
   "source": [
    "hdb_resale_prices.head()"
   ]
  },
  {
   "cell_type": "code",
   "execution_count": null,
   "id": "b4f5cfc5",
   "metadata": {},
   "outputs": [],
   "source": [
    "df_coordinates = pd.read_csv('help_la_lat_long.csv')\n",
    "df_coordinates = df_coordinates.rename(columns={'Latitude':0, 'Longitude':1})\n",
    "df_coordinates.rename(columns={\"Unnamed: 0\": 'index'}, inplace=True)\n",
    "df_coordinates.head()\n"
   ]
  },
  {
   "cell_type": "code",
   "execution_count": null,
   "id": "67c9d3f7",
   "metadata": {},
   "outputs": [],
   "source": [
    "df_combined = hdb_resale_prices.merge(df_coordinates, how='left', on=[\"index\", \"month\", \"flat_type\", \"storey_range\", \"floor_area_sqm\", \"flat_model\", \"resale_price\", \"town\"])\n",
    "df_combined = df_combined.drop(columns=\"index\")\n",
    "df_combined = df_combined.rename(columns={0:'Latitude', 1:'Longitude'})"
   ]
  },
  {
   "cell_type": "code",
   "execution_count": null,
   "id": "56361804",
   "metadata": {},
   "outputs": [],
   "source": [
    "df_combined.head()"
   ]
  },
  {
   "cell_type": "code",
   "execution_count": null,
   "id": "d051e898",
   "metadata": {},
   "outputs": [],
   "source": [
    "# plot distribution of prices against flat type \n",
    "fig, ax = plt.subplots(figsize=(10, 10))\n",
    "sns.boxplot(x=hdb_resale_prices['flat_type'], y=hdb_resale_prices['resale_price'])"
   ]
  },
  {
   "cell_type": "markdown",
   "id": "5ac072d9",
   "metadata": {},
   "source": [
    "### Investigating the distribution of flat_model"
   ]
  },
  {
   "cell_type": "code",
   "execution_count": null,
   "id": "e15228c6",
   "metadata": {},
   "outputs": [],
   "source": [
    "fig, ax = plt.subplots(figsize=(10, 10))\n",
    "sns.countplot(y='flat_model', data=df_combined)\n",
    "abs_values = df_combined['flat_model'].value_counts(ascending=False).values\n",
    "ax.bar_label(container=ax.containers[0], labels=abs_values)\n",
    "plt.show()"
   ]
  },
  {
   "cell_type": "markdown",
   "id": "88602e9e",
   "metadata": {},
   "source": [
    "# Feature Engineering\n",
    "\n",
    "Based on the studies and analysis performed by other researchers, the following features that have been concluded to be <b>important</b> in determining the prices of HDB resale flats are as follows: \n",
    "- Time Taken to Travel to Central Business District (CBD), Raffles Place\n",
    "- Number of Years Left on Lease\n",
    "- Maturity of Estate\n",
    "<br>\n",
    "\n",
    "We are also considering <b>other factors</b> that have not been explored by other reseearchers. The factors that we have identified are as follows: \n",
    "- Singapore's Inflation Rate\n",
    "- Flat Model\n",
    "- Floor Level\n",
    "- Prices of BTO\n",
    "- Number of BTO Flats Launched that Year\n",
    "- Demand Ratio in Resale Flat\n"
   ]
  },
  {
   "cell_type": "markdown",
   "id": "f6b71019",
   "metadata": {},
   "source": [
    "Before adding these features into our dataset, we will first perform some data cleaning and feature engineering on the existing features in our dataset.\n",
    "\n",
    "- convert the flat condition with quantitative measures\n",
    "- combine the resale prices and the sqm to find the $/sqm (still need to keep sqm to quantify the size!!) \n",
    "- remaining lease should be converted to a ratio \n",
    "- combine the block and street name to obtain the lat,long - from there we can obtain the distance from amentities, distance from public transport, distance from central\n",
    "- using the town --- can also do some quantitative measures to quantify how mature the estate is\n",
    "- average price of the houses of the same category in the area from here we derive the estimated COV\n",
    "- demand-scarcity ratio --- not sure how to quantify this\n",
    "- total sale price of the hdb\n",
    "- there should be a way to convert the storey range to scoring value"
   ]
  },
  {
   "cell_type": "markdown",
   "id": "dbd971c7",
   "metadata": {},
   "source": [
    "### Incorporating Inflation Rate into Resale Prices"
   ]
  },
  {
   "cell_type": "code",
   "execution_count": null,
   "id": "23addfb6",
   "metadata": {},
   "outputs": [],
   "source": [
    "valid_rows = [10,11,14]\n",
    "cpi_df = pd.read_csv(\"cpi-2012-to-2022.csv\", skiprows=lambda x: x not in valid_rows, index_col=0)\n",
    "\n",
    "cpi_df = cpi_df.transpose()\n",
    "cpi_df"
   ]
  },
  {
   "cell_type": "code",
   "execution_count": null,
   "id": "1e7fff0b",
   "metadata": {},
   "outputs": [],
   "source": [
    "# convert datetime index to year\n",
    "cpi_df.index = pd.DatetimeIndex(cpi_df.index).year"
   ]
  },
  {
   "cell_type": "code",
   "execution_count": null,
   "id": "a96108ef",
   "metadata": {},
   "outputs": [],
   "source": [
    "# add new column to hdb_resale_prices dataframe to store consumer price index for housing and utilities of corresponding year\n",
    "latest_year = 2022\n",
    "df_combined['cpi_multiplier'] = df_combined[\"month\"].apply(lambda x: cpi_df[\"Housing & Utilities\"].loc[min(int(x.split(\"-\")[0]), latest_year)] / 100)\n",
    "\n",
    "df_combined.head()"
   ]
  },
  {
   "cell_type": "code",
   "execution_count": null,
   "id": "3495ce07",
   "metadata": {},
   "outputs": [],
   "source": [
    "# add new column to hdb_resale_prices dataframe to store adjusted resale price\n",
    "df_combined['cpi_adjusted_price'] = df_combined[\"resale_price\"] * df_combined[\"cpi_multiplier\"] / df_combined[\"floor_area_sqm\"]"
   ]
  },
  {
   "cell_type": "markdown",
   "id": "ded09d36",
   "metadata": {},
   "source": [
    "### Calculating Price Per Square Meter"
   ]
  },
  {
   "cell_type": "code",
   "execution_count": null,
   "id": "fe6da6e7",
   "metadata": {},
   "outputs": [],
   "source": [
    "# add new column to store adjusted resale price \n",
    "df_combined['cpi_adjusted_price_per_sqm'] = df_combined[\"cpi_adjusted_price\"] / df_combined[\"floor_area_sqm\"]\n",
    "df_combined.head()"
   ]
  },
  {
   "cell_type": "markdown",
   "id": "ee991369",
   "metadata": {},
   "source": [
    "### No. of BTO per year\n"
   ]
  },
  {
   "cell_type": "code",
   "execution_count": null,
   "id": "a402036f",
   "metadata": {},
   "outputs": [],
   "source": [
    "# Create the dictionary\n",
    "dictionary ={2017:14464, 2018 : 17556, 2019 : 12114, 2020 : 7314, 2021: 13756,2022:20064,2023: 20000}\n",
    " \n",
    "# Add a new column named 'Price'\n",
    "df_combined['no.of bto'] = df_combined['year'].map(dictionary)\n",
    " \n",
    "# Print the DataFrame\"\n",
    "print(df_combined)"
   ]
  },
  {
   "cell_type": "markdown",
   "id": "50e11553",
   "metadata": {},
   "source": [
    "### Demand for resale\n"
   ]
  },
  {
   "cell_type": "code",
   "execution_count": null,
   "id": "7ea10e0a",
   "metadata": {},
   "outputs": [],
   "source": [
    "resale_application = {2017:20894,2018:22005,2019:24772,2020:26436,2021:26436,2022:30370}"
   ]
  },
  {
   "cell_type": "code",
   "execution_count": null,
   "id": "0b44e0ed",
   "metadata": {},
   "outputs": [],
   "source": [
    "df_combined['resale application'] = df_combined['year'].map(resale_application)"
   ]
  },
  {
   "cell_type": "code",
   "execution_count": null,
   "id": "dedcd013",
   "metadata": {},
   "outputs": [],
   "source": [
    "df_combined"
   ]
  },
  {
   "cell_type": "code",
   "execution_count": null,
   "id": "3700143b",
   "metadata": {},
   "outputs": [],
   "source": [
    "(df_combined['year']==2017).sum()"
   ]
  },
  {
   "cell_type": "code",
   "execution_count": null,
   "id": "a40bc51b",
   "metadata": {},
   "outputs": [],
   "source": [
    "(df_combined['year']==2018).sum()"
   ]
  },
  {
   "cell_type": "code",
   "execution_count": null,
   "id": "f4767525",
   "metadata": {},
   "outputs": [],
   "source": [
    "(df_combined['year']==2019).sum()"
   ]
  },
  {
   "cell_type": "code",
   "execution_count": null,
   "id": "9029bd0e",
   "metadata": {},
   "outputs": [],
   "source": [
    "(df_combined['year']==2020).sum()"
   ]
  },
  {
   "cell_type": "code",
   "execution_count": null,
   "id": "5c5b51b3",
   "metadata": {},
   "outputs": [],
   "source": [
    "(df_combined['year']==2021).sum()"
   ]
  },
  {
   "cell_type": "code",
   "execution_count": null,
   "id": "bc1bb483",
   "metadata": {},
   "outputs": [],
   "source": [
    "(df_combined['year']==2022).sum()"
   ]
  },
  {
   "cell_type": "code",
   "execution_count": null,
   "id": "f53a6a56",
   "metadata": {},
   "outputs": [],
   "source": [
    "df_combined.loc[df_combined['year'] == 2017]['resale application']/(df_combined['year']==2017).sum()"
   ]
  },
  {
   "cell_type": "code",
   "execution_count": null,
   "id": "14580292",
   "metadata": {},
   "outputs": [],
   "source": [
    "df_combined.loc[df_combined['year'] == 2019]['resale application']/(df_combined['year']==2019).sum()"
   ]
  },
  {
   "cell_type": "code",
   "execution_count": null,
   "id": "0248c1d2",
   "metadata": {},
   "outputs": [],
   "source": [
    "df_combined.loc[df_combined['year'] == 2020]['resale application']/(df_combined['year']==2020).sum()"
   ]
  },
  {
   "cell_type": "code",
   "execution_count": null,
   "id": "5abee829",
   "metadata": {},
   "outputs": [],
   "source": [
    "df_combined.loc[df_combined['year'] == 2021]['resale application']/(df_combined['year']==2021).sum()"
   ]
  },
  {
   "cell_type": "code",
   "execution_count": null,
   "id": "a7be6fa0",
   "metadata": {},
   "outputs": [],
   "source": [
    "df_combined.loc[df_combined['year'] == 2022]['resale application']/(df_combined['year']==2022).sum()"
   ]
  },
  {
   "cell_type": "code",
   "execution_count": null,
   "id": "169ec2aa",
   "metadata": {},
   "outputs": [],
   "source": [
    "demand_ratio = {2017:1.02,2018:1.02,2019:1.12,2020:1.13,2021:0.91,2022:1.14}"
   ]
  },
  {
   "cell_type": "code",
   "execution_count": null,
   "id": "c7021263",
   "metadata": {},
   "outputs": [],
   "source": [
    "df_combined['demand ratio'] = df_combined['year'].map(demand_ratio)"
   ]
  },
  {
   "cell_type": "code",
   "execution_count": null,
   "id": "bee777b5",
   "metadata": {},
   "outputs": [],
   "source": [
    "hdb_resale_prices.to_excel(r'resaleWithDemandAndBtoSupply.xlsx', index=False)"
   ]
  },
  {
   "cell_type": "markdown",
   "id": "473f0ac9",
   "metadata": {},
   "source": [
    "<h3>Remaining Lease Months</h3>"
   ]
  },
  {
   "cell_type": "code",
   "execution_count": null,
   "id": "a788a235",
   "metadata": {},
   "outputs": [],
   "source": [
    "for i in range(len(df_combined)):\n",
    "    if \"months\" in df_combined.loc[i,\"remaining_lease\"]:\n",
    "        \n",
    "        df_combined.loc[i,\"remaining_lease_months\"]= int(str(df_combined.loc[i,\"remaining_lease\"]).split(\" \")[0])*12 +int(str(df_combined.loc[i,\"remaining_lease\"]).split(\" \")[2])\n",
    "    else:\n",
    "        df_combined.loc[i,\"remaining_lease_months\"]= int(str(df_combined.loc[i,\"remaining_lease\"]).split(\"years\")[0])*12"
   ]
  },
  {
   "cell_type": "code",
   "execution_count": null,
   "id": "cd9d0eb1",
   "metadata": {},
   "outputs": [],
   "source": [
    "df_combined= df_combined.drop(columns=[\"lease_commence_date\",\"remaining_lease\"])"
   ]
  },
  {
   "cell_type": "markdown",
   "id": "90381ca9",
   "metadata": {},
   "source": [
    "<h3>Storey Range</h3>"
   ]
  },
  {
   "cell_type": "code",
   "execution_count": null,
   "id": "7852e777",
   "metadata": {},
   "outputs": [],
   "source": [
    "for i in range(len(df_combined)):\n",
    "    total = int(str(df_combined.loc[i,'storey_range']).split('TO')[1])+ int(str(df_combined.loc[i,'storey_range']).split('TO')[0])\n",
    "    df_combined.loc[i,'storey_range'] = total / 2"
   ]
  },
  {
   "cell_type": "markdown",
   "id": "318fc82c",
   "metadata": {},
   "source": [
    "<h3>Geo Coding</h3>"
   ]
  },
  {
   "cell_type": "code",
   "execution_count": null,
   "id": "a447f39a",
   "metadata": {},
   "outputs": [],
   "source": [
    "df_combined['address'] = df_combined['block'] + \" \" + df_combined['street_name']"
   ]
  },
  {
   "cell_type": "code",
   "execution_count": null,
   "id": "6fa089ec",
   "metadata": {},
   "outputs": [],
   "source": [
    "df_combined= df_combined.drop(columns=[\"block\",\"street_name\"])"
   ]
  },
  {
   "cell_type": "code",
   "execution_count": null,
   "id": "db67310e",
   "metadata": {},
   "outputs": [],
   "source": [
    "addressList = list(df_combined['address'])"
   ]
  },
  {
   "cell_type": "markdown",
   "id": "0f9438e7",
   "metadata": {},
   "source": [
    "<h3>Distance from nearest mrt</h3>"
   ]
  },
  {
   "cell_type": "code",
   "execution_count": null,
   "id": "9baec6e6",
   "metadata": {},
   "outputs": [],
   "source": [
    "list_of_mrt = [\"Jurong East MRT\",\n",
    "              \"Bukit Batok MRT\",\n",
    "              \"Bukit Gombak MRT\",\n",
    "              \"Choa Chu Kang MRT\",\n",
    "              \"Yew Tee MRT\",\n",
    "              \"Kranji MRT\",\n",
    "              \"Marsiling MRT\",\n",
    "              \"Woodlands MRT\",\n",
    "              \"Admiralty MRT\",\n",
    "              \"Sembawang MRT\",\n",
    "              \"Canberra MRT\",\n",
    "              \"Admiralty MRT\",\n",
    "              \"Sembawang MRT\",\n",
    "              \"Canberra MRT\",\n",
    "              \"Yishun MRT\",\n",
    "              \"Khatib MRT\",\n",
    "              \"Yio Chu Kang MRT\",\n",
    "              \"Ang Mo Kio MRT\",\n",
    "              \"Bishan MRT\",\n",
    "              \"Braddell MRT\",\n",
    "              \"Toa Payoh MRT\",\n",
    "              \"Novena MRT\",\n",
    "              \"Newton MRT\",\n",
    "              \"Orchard MRT\",\n",
    "              \"Somerset MRT\",\n",
    "              \"Dhoby Ghaut MRT\",\n",
    "              \"City Hall MRT\",\n",
    "              \"Raffles Place MRT\",\n",
    "              \"Marina Bay MRT\",\n",
    "              \"Marina South Pier MRT\",\n",
    "               \"Tuas Link MRT\",\n",
    "               \"Tuas West Road MRT\",\n",
    "               \"Tuas Crescent MRT\",\n",
    "               \"Gul Circle MRT\",\n",
    "               \"Joo Koon MRT\",\n",
    "               \"Pioneer MRT\",\n",
    "               \"Boon Lay MRT\",\n",
    "               \"Lakeside MRT\",\n",
    "               \"Chinese Garden MRT\",\n",
    "               \"Clementi MRT\",\n",
    "               \"Dover MRT\",\n",
    "               \"Buona Vista MRT\",\n",
    "               \"Commonwealth MRT\",\n",
    "               \"Queenstown MRT\",\n",
    "               \"Redhill MRT\",\n",
    "               \"Tiong Bahru MRT\",\n",
    "               \"Outram Park MRT\",\n",
    "               \"Tanjong Pagar MRT\",\n",
    "               \"Raffles Place MRT\",\n",
    "               \"Bugis MRT\",\n",
    "               \"Lavender MRT\",\n",
    "               \"Kallang MRT\",\n",
    "               \"Aljunied MRT\",\n",
    "               \"Paya Lebar MRT\",\n",
    "               \"Eunos MRT\",\n",
    "               \"Kembangan MRT\",\n",
    "               \"Bedok MRT\",\n",
    "               \"Tanah Merah MRT\",\n",
    "               \"Simei MRT\",\n",
    "               \"Tampines MRT\",\n",
    "               \"Pasir Ris MRT\",\n",
    "               \"Expo MRT\",\n",
    "               \"Changi Airport MRT\",\n",
    "               \"HarbourFront MRT\",\n",
    "               \"Chinatown MRT\",\n",
    "               \"Clarke Quay MRT\",\n",
    "               \"Little India MRT\",\n",
    "               \"Farrer Park MRT\",\n",
    "               \"Boon Keng MRT\",\n",
    "               \"Potong Pasir MRT\",\n",
    "               \"Woodleigh MRT\",\n",
    "               \"Serangoon MRT\",\n",
    "               \"Kovan MRT\",\n",
    "               \"Hougang MRT\",\n",
    "               \"Buangkok MRT\",\n",
    "               \"Sengkang MRT\",\n",
    "               \"Punggol MRT\",\n",
    "               \"Punggol Coast MRT\",\n",
    "               \"Haw Par Villa MRT\",\n",
    "               \"Holland Village MRT\",\n",
    "               \"Kent Ridge MRT\",\n",
    "               \"one-north MRT\",\n",
    "               \"Farrer Road MRT\",\n",
    "               \"Botanic Gardens MRT\",\n",
    "               \"Caldecott MRT\",\n",
    "               \"Marymount MRT\",\n",
    "               \"Bishan MRT\",\n",
    "               \"Lorong Chuan MRT\",\n",
    "               \"Bartley MRT\",\n",
    "               \"Tai Seng MRT\",\n",
    "               \"MacPherson MRT\",\n",
    "               \"Dakota MRT\",\n",
    "               \"Mountbatten MRT\",\n",
    "               \"Stadium MRT\",\n",
    "               \"Nicoll Highway MRT\",\n",
    "               \"Promenade MRT\",\n",
    "               \"Esplanade MRT\",\n",
    "               \"Bras Basah MRT\",\n",
    "               \"Pasir Panjang MRT\",\n",
    "               \"Labrador Park MRT\",\n",
    "               \"Telok Blangah MRT\",\n",
    "               \"Bayfront MRT\",\n",
    "               \"Bukit Panjang MRT\",\n",
    "               \"Cashew MRT\",\n",
    "               \"Hillview MRT\",\n",
    "               \"Beauty World MRT\",\n",
    "               \"King Albert Park MRT\",\n",
    "               \"Sixth Avenue MRT\",\n",
    "               \"Tan Kah Kee MRT\",\n",
    "               \"Stevens MRT\",\n",
    "               \"Rochor MRT\",\n",
    "               \"Downtown MRT\",\n",
    "               \"Telok Ayer MRT\",\n",
    "               \"Fort Canning MRT\",\n",
    "               \"Bencoolen MRT\",\n",
    "               \"Jalan Besar MRT\",\n",
    "               \"Bendemeer MRT\",\n",
    "               \"Geylang Bahru MRT\",\n",
    "               \"Mattar MRT\",\n",
    "               \"Ubi MRT\",\n",
    "               \"Kaki Bukit MRT\",\n",
    "               \"Bedok North MRT\",\n",
    "               \"Bedok Reservoir MRT\",\n",
    "               \"Tampines West MRT\",\n",
    "               \"Tampines East MRT\",\n",
    "               \"Upper Changi MRT\",\n",
    "               \"Woodlands North MRT\",\n",
    "               \"Woodlands South MRT\",\n",
    "               \"Springleaf MRT\",\n",
    "               \"Lentor MRT\",\n",
    "               \"Mayflower MRT\",\n",
    "               \"Bright Hill MRT\",\n",
    "               \"Upper Thomson MRT\",\n",
    "               \"Napier MRT\",\n",
    "               \"Orchard Boulevard MRT\",\n",
    "               \"Great World MRT\",\n",
    "               \"Havelock MRT\",\n",
    "               \"Maxwell MRT\",\n",
    "               \"Shenton Way MRT\",\n",
    "               \"Gardens by the Bay MRT\"\n",
    "               \n",
    "              ]\n"
   ]
  },
  {
   "cell_type": "code",
   "execution_count": null,
   "id": "b459b75d",
   "metadata": {},
   "outputs": [],
   "source": [
    "\n",
    "mrt_lat = []\n",
    "mrt_long = []\n",
    "\n",
    "for i in range(0, len(list_of_mrt)):\n",
    "    query_address = list_of_mrt[i]\n",
    "    query_string = 'https://developers.onemap.sg/commonapi/search?searchVal='+str(query_address)+'&returnGeom=Y&getAddrDetails=Y'\n",
    "    resp = requests.get(query_string)\n",
    "\n",
    "    data_mrt=json.loads(resp.content)\n",
    "    \n",
    "    if data_mrt['found'] != 0:\n",
    "        mrt_lat.append(data_mrt[\"results\"][0][\"LATITUDE\"])\n",
    "        mrt_long.append(data_mrt[\"results\"][0][\"LONGITUDE\"])\n",
    "\n",
    "        print (str(query_address)+\",Lat: \"+data_mrt['results'][0]['LATITUDE'] +\" Long: \"+data_mrt['results'][0]['LONGITUDE'])\n",
    "\n",
    "    else:\n",
    "        mrt_lat.append('NotFound')\n",
    "        mrt_lat.append('NotFound')\n",
    "        print (\"No Results\")"
   ]
  },
  {
   "cell_type": "code",
   "execution_count": null,
   "id": "7841fc7e",
   "metadata": {},
   "outputs": [],
   "source": [
    "mrt_location = pd.DataFrame({\n",
    "    'MRT': list_of_mrt,\n",
    "    'latitude': mrt_lat,\n",
    "    'longitude': mrt_long\n",
    "})"
   ]
  },
  {
   "cell_type": "code",
   "execution_count": null,
   "id": "4f6cbeb0",
   "metadata": {},
   "outputs": [],
   "source": [
    "list_of_mrt_coordinates = []\n",
    "list_of_lat = df_coordinates[0]\n",
    "list_of_long = df_coordinates[1]\n",
    "mrt_lat = mrt_location['latitude']\n",
    "mrt_long = mrt_location['longitude']\n",
    "\n",
    "\n",
    "list_of_coordinates = []\n",
    "for lat, long in zip(list_of_lat, list_of_long):\n",
    "    list_of_coordinates.append((lat,long))\n",
    "for lat, long in zip(mrt_lat, mrt_long):\n",
    "    list_of_mrt_coordinates.append((lat, long))"
   ]
  },
  {
   "cell_type": "code",
   "execution_count": null,
   "id": "da735970",
   "metadata": {},
   "outputs": [],
   "source": [
    "# nearest mrt \n",
    "# pip install geopy\n",
    "from geopy.distance import geodesic\n",
    "\n",
    "list_of_dist_mrt = []\n",
    "min_dist_mrt = []\n",
    "\n",
    "for origin in list_of_coordinates:\n",
    "    for destination in range(0, len(list_of_mrt_coordinates)):\n",
    "        list_of_dist_mrt.append(geodesic(origin,list_of_mrt_coordinates[destination]).meters)\n",
    "    shortest = (min(list_of_dist_mrt))\n",
    "    min_dist_mrt.append(shortest)\n",
    "    list_of_dist_mrt.clear()"
   ]
  },
  {
   "cell_type": "code",
   "execution_count": null,
   "id": "51534735",
   "metadata": {},
   "outputs": [],
   "source": [
    "df_combined[\"Distance to nearest MRT\"] = min_dist_mrt"
   ]
  },
  {
   "cell_type": "markdown",
   "id": "de8a0297",
   "metadata": {},
   "source": [
    "<h3>Distance to CBD</h3>"
   ]
  },
  {
   "cell_type": "code",
   "execution_count": null,
   "id": "1ecd5029",
   "metadata": {},
   "outputs": [],
   "source": [
    "# Central Business District (CBD) The CBD is Singapore's business and financial district, and home to leading international businesses and financial institutions. It spans from Raffles Place along Shenton Way / Robinson Road / Cecil Street to the Tanjong Pagar and Anson subzones.\n",
    "list_of_cbd=[\n",
    "    \"Shenton Way\",\n",
    "    \"Raffles Place\",\n",
    "    \"Robinson Road\",\n",
    "    \"Cecil Street\",\n",
    "    \"Tanjong Pagar\"\n",
    "]"
   ]
  },
  {
   "cell_type": "code",
   "execution_count": null,
   "id": "96be5948",
   "metadata": {},
   "outputs": [],
   "source": [
    "cbd_lat = []\n",
    "cbd_long = []\n",
    "\n",
    "for i in range(0, len(list_of_cbd)):\n",
    "    query_address = list_of_cbd[i]\n",
    "    query_string = 'https://developers.onemap.sg/commonapi/search?searchVal='+str(query_address)+'&returnGeom=Y&getAddrDetails=Y'\n",
    "    resp = requests.get(query_string)\n",
    "\n",
    "    data_cbd=json.loads(resp.content)\n",
    "    \n",
    "    if data_cbd['found'] != 0:\n",
    "        cbd_lat.append(data_cbd[\"results\"][0][\"LATITUDE\"])\n",
    "        cbd_long.append(data_cbd[\"results\"][0][\"LONGITUDE\"])\n",
    "\n",
    "        print (str(query_address)+\",Lat: \"+data_cbd['results'][0]['LATITUDE'] +\" Long: \"+data_cbd['results'][0]['LONGITUDE'])\n",
    "\n",
    "    else:\n",
    "        cbd_lat.append('NotFound')\n",
    "        cbd_long.append('NotFound')\n",
    "        print (\"No Results\")\n"
   ]
  },
  {
   "cell_type": "code",
   "execution_count": null,
   "id": "80560d73",
   "metadata": {},
   "outputs": [],
   "source": [
    "cbd_location = pd.DataFrame({\n",
    "    'latitude': cbd_lat,\n",
    "    'longitude': cbd_long\n",
    "})"
   ]
  },
  {
   "cell_type": "code",
   "execution_count": null,
   "id": "cc88320e",
   "metadata": {},
   "outputs": [],
   "source": [
    "# Lists of all the coordinates we will need to iterate through\n",
    "list_of_cbd_coordinates = []\n",
    "list_of_lat = df_coordinates[0]\n",
    "list_of_long = df_coordinates[1]\n",
    "cbd_lat = cbd_location['latitude']\n",
    "cbd_long = cbd_location['longitude']\n",
    "# Zipping the respective Lat and Long lists together as a list of tuples\n",
    "list_of_coordinates = []\n",
    "for lat, long in zip(list_of_lat, list_of_long):\n",
    "    list_of_coordinates.append((lat,long))\n",
    "for lat, long in zip(cbd_lat, cbd_long):\n",
    "    list_of_cbd_coordinates.append((lat, long))"
   ]
  },
  {
   "cell_type": "code",
   "execution_count": null,
   "id": "9555987f",
   "metadata": {},
   "outputs": [],
   "source": [
    "\n",
    "\n",
    "list_of_dist_cbd = []\n",
    "min_dist_cbd = []\n",
    "\n",
    "for origin in list_of_coordinates:\n",
    "    for destination in range(0, len(list_of_cbd_coordinates)):\n",
    "        list_of_dist_cbd.append(geodesic(origin,list_of_cbd_coordinates[destination]).meters)\n",
    "    shortest = (min(list_of_dist_cbd))\n",
    "    min_dist_cbd.append(shortest)\n",
    "    list_of_cbd.clear()"
   ]
  },
  {
   "cell_type": "code",
   "execution_count": null,
   "id": "33660aeb",
   "metadata": {},
   "outputs": [],
   "source": [
    "df_combined[\"Distance to CBD\"] = min_dist_cbd"
   ]
  },
  {
   "cell_type": "markdown",
   "id": "e634266c",
   "metadata": {},
   "source": [
    "<h3>Distance to nearest Mall</h3>"
   ]
  },
  {
   "cell_type": "code",
   "execution_count": null,
   "id": "3a14e125",
   "metadata": {},
   "outputs": [],
   "source": [
    "list_of_malls = [\n",
    "\n",
    "\"100 AM\",\n",
    "\"313@Somerset\",\n",
    "\"Aperia\",\n",
    "\"Balestier Hill Shopping Centre\",\n",
    "\"Bugis Cube\",\n",
    "\"Bugis Junction\",\n",
    "\"Bugis+\",\n",
    "\"Capitol Piazza\",\n",
    "\"Cathay Cineleisure Orchard\",\n",
    "\"Clarke Quay Central\",\n",
    "\"The Centrepoint\",\n",
    "\"City Square Mall\",\n",
    "\"City Gate Mall\",\n",
    "\"CityLink Mall\",\n",
    "\"Duo\",\n",
    "\"Far East Plaza\",\n",
    "\"Funan\",\n",
    "\"Great World City\",\n",
    "\"HDB Hub\",\n",
    "\"Holland Village Shopping Mall\",\n",
    "\"ION Orchard\",\n",
    "\"Junction 8\",\n",
    "\"Knightsbridge\",\n",
    "\"Liat Towers\",\n",
    "\"Lucky Plaza\",\n",
    "\"Marina Bay Sands\",\n",
    "\"The Shoppes at Marina Bay Sands\",\n",
    "\"Marina Bay Link Mall\",\n",
    "\"Marina Square\",\n",
    "\"Millenia Walk\",\n",
    "\"Mustafa Shopping Centre\",\n",
    "\"Ngee Ann City\",\n",
    "\"Orchard Central\",\n",
    "\"Orchard Gateway\",\n",
    "\"Orchard Plaza\",\n",
    "\"Midpoint Orchard\",\n",
    "\"Palais Renaissance\",\n",
    "\"People's Park Centre\",\n",
    "\"People's Park Complex\",\n",
    "\"Plaza Singapura\",\n",
    "\"PoMo\",\n",
    "\"Raffles City\",\n",
    "\"Scotts Square\",\n",
    "\"Shaw House and Centre\",\n",
    "\"Sim Lim Square\",\n",
    "\"Singapore Shopping Centre\",\n",
    "\"The South Beach\",\n",
    "\"Square 2\",\n",
    "\"Sunshine Plaza\",\n",
    "\"Suntec City\",\n",
    "\"Tanglin Mall\",\n",
    "\"Tanjong Pagar Centre\",\n",
    "\"Tekka Centre\",\n",
    "\"The Adelphi\",\n",
    "\"The Paragon\",\n",
    "\"Tiong Bahru Plaza\",\n",
    "\"The Poiz\",\n",
    "\"Thomson Plaza\",\n",
    "\"United Square\",\n",
    "\"Thomson V\",\n",
    "\"Velocity@Novena Square\",\n",
    "\"Wheelock Place\",\n",
    "\"Wisma Atria\",\n",
    "\"Zhongshan Mall\",\n",
    "\"Bedok Mall\",\n",
    "\"Century Square\",\n",
    "\"Our Tampines Hub\",\n",
    "\"Changi City Point\",\n",
    "\"Downtown East\",\n",
    "\"Djitsun Mall Bedok\",\n",
    "\"Eastpoint Mall\",\n",
    "\"Jewel Changi Airport\",\n",
    "\"KINEX\",\n",
    "\"Katong Shopping Centre\",\n",
    "\"Katong Square\",\n",
    "\"Kallang Wave Mall\",\n",
    "\"Leisure Park Kallang\",\n",
    "\"i12 Katong\",\n",
    "\"Parkway Parade\",\n",
    "\"Paya Lebar Square\",\n",
    "\"Paya Lebar Quarter\",\n",
    "\"Roxy Square\",\n",
    "\"Singpost Centre\",\n",
    "\"Tampines 1\",\n",
    "\"Tampines Mall\",\n",
    "\"White Sands\",\n",
    "\"City Plaza\",\n",
    "\"Elias Mall\",\n",
    "\"Loyang Point\",\n",
    "\"888 Plaza\",\n",
    "\"Admiralty Place\",\n",
    "\"AMK Hub\",\n",
    "\"Canberra Plaza\",\n",
    "\"Causeway Point\",\n",
    "\"Woodlands Civic Centre\",\n",
    "\"Broadway Plaza\",\n",
    "\"Djitsun Mall\",\n",
    "\"Jubilee Square\",\n",
    "\"Junction 8\",\n",
    "\"Junction Nine\",\n",
    "\"Marsiling Mall\",\n",
    "\"Northpoint City\",\n",
    "\"Sembawang Shopping Centre\",\n",
    "\"Sun Plaza\",\n",
    "\"Vista Point\",\n",
    "\"Wisteria Mall\",\n",
    "\"Woodlands Mart\",\n",
    "\"Woodlands North Plaza\",\n",
    "\"Waterway Point\",\n",
    "\"Compass One\",\n",
    "\"Hougang Mall\",\n",
    "\"Heartland Mall\",\n",
    "\"NEX\",\n",
    "\"Buangkok Square\",\n",
    "\"Greenwich V\",\n",
    "\"Hougang\",\n",
    "\"Hougang Green Shopping Mall\",\n",
    "\"Hougang Rivercourt\",\n",
    "\"myVillage At Serangoon Garden\",\n",
    "\"Northshore Plaza\",\n",
    "\"Oasis Terraces\",\n",
    "\"Punggol Plaza\",\n",
    "\"Rivervale Mall\",\n",
    "\"Rivervale Plaza\",\n",
    "\"The Seletar Mall\",\n",
    "\"Upper Serangoon Shopping Centre\",\n",
    "\"Beauty World Centre\",\n",
    "\"Beauty World Plaza\",\n",
    "\"Bukit Panjang Plaza\",\n",
    "\"Bukit Timah Plaza\",\n",
    "\"Fajar Shopping Centre\",\n",
    "\"Greenridge Shopping Centre\",\n",
    "\"Hillion Mall\",\n",
    "\"HillV2\",\n",
    "\"Junction 10\",\n",
    "\"Keat Hong Shopping Centre\",\n",
    "\"Limbang Shopping Centre\",\n",
    "\"Lot One\",\n",
    "\"Rail Mall\",\n",
    "\"Sunshine Place\",\n",
    "\"Teck Whye Shopping Centre\",\n",
    "\"West Mall\",\n",
    "\"Yew Tee Point\",\n",
    "\"Yew Tee Square\",\n",
    "\"VivoCity\",\n",
    "\"HarbourFront Centre\",\n",
    "\"Alexandra Retail Centre\",\n",
    "\"321 Clementi\",\n",
    "\"The Clementi Mall\",\n",
    "\"IMM\",\n",
    "\"JCube\",\n",
    "\"Jem\",\n",
    "\"Westgate\",\n",
    "\"Jurong Point\",\n",
    "\"Pioneer Mall\",\n",
    "\"The Star Vista\",\n",
    "\"Alexandra Central\",\n",
    "\"Anchorpoint\",\n",
    "\"OD Mall\",\n",
    "\"Boon Lay Shopping Centre\",\n",
    "\"Grantral Mall\",\n",
    "\"Fairprice Hub\",\n",
    "\"Gek Poh Shopping Centre\",\n",
    "\"Rochester Mall\",\n",
    "\"Taman Jurong Shopping Centre\",\n",
    "\"West Coast Plaza\",\n",
    "\"Queensway Shopping Centre\"]"
   ]
  },
  {
   "cell_type": "code",
   "execution_count": null,
   "id": "4a00a1c1",
   "metadata": {},
   "outputs": [],
   "source": [
    "mall_lat = []\n",
    "mall_long = []\n",
    "\n",
    "for i in range(0, len(list_of_malls)):\n",
    "    query_address = list_of_malls[i]\n",
    "    query_string = 'https://developers.onemap.sg/commonapi/search?searchVal='+str(query_address)+'&returnGeom=Y&getAddrDetails=Y'\n",
    "    resp = requests.get(query_string)\n",
    "\n",
    "    data_mall=json.loads(resp.content)\n",
    "    \n",
    "    if data_mall['found'] != 0:\n",
    "        mall_lat.append(data_mall[\"results\"][0][\"LATITUDE\"])\n",
    "        mall_long.append(data_mall[\"results\"][0][\"LONGITUDE\"])\n",
    "\n",
    "        print (str(query_address)+\",Lat: \"+data_mall['results'][0]['LATITUDE'] +\" Long: \"+data_mall['results'][0]['LONGITUDE'])\n",
    "\n",
    "    else:\n",
    "        mall_lat.append('NotFound')\n",
    "        mall_long.append('NotFound')\n",
    "        print (\"No Results ,\" + query_address)\n",
    "# no clarke quay central, no OD mall, no city gate mall, holland village shopping mall, mustafa shopping centre, PoMo, ShawHouse and Centre"
   ]
  },
  {
   "cell_type": "code",
   "execution_count": null,
   "id": "c2d5f31a",
   "metadata": {},
   "outputs": [],
   "source": [
    "mall_location = pd.DataFrame({\n",
    "    'mall': list_of_malls,\n",
    "    'latitude': mall_lat,\n",
    "    'longitude': mall_long\n",
    "})"
   ]
  },
  {
   "cell_type": "code",
   "execution_count": null,
   "id": "0c603351",
   "metadata": {},
   "outputs": [],
   "source": [
    "# Lists of all the coordinates we will need to iterate through\n",
    "list_of_mall_coordinates = []\n",
    "list_of_lat = df_coordinates[0]\n",
    "list_of_long = df_coordinates[1]\n",
    "mall_lat = mall_location['latitude']\n",
    "mall_long = mall_location['longitude']\n",
    "# Zipping the respective Lat and Long lists together as a list of tuples\n",
    "list_of_coordinates = []\n",
    "for lat, long in zip(list_of_lat, list_of_long):\n",
    "    list_of_coordinates.append((lat,long))\n",
    "for lat, long in zip(cbd_lat, cbd_long):\n",
    "    list_of_mall_coordinates.append((lat, long))"
   ]
  },
  {
   "cell_type": "code",
   "execution_count": null,
   "id": "18942d51",
   "metadata": {},
   "outputs": [],
   "source": [
    "list_of_dist_mall = []\n",
    "min_dist_mall = []\n",
    "\n",
    "for origin in list_of_coordinates:\n",
    "    for destination in range(0, len(list_of_mall_coordinates)):\n",
    "        list_of_dist_mall.append(geodesic(origin,list_of_mall_coordinates[destination]).meters)\n",
    "    shortest = (min(list_of_dist_cbd))\n",
    "    min_dist_mall.append(shortest)\n",
    "    list_of_dist_mall.clear()"
   ]
  },
  {
   "cell_type": "code",
   "execution_count": null,
   "id": "9a56a0d3",
   "metadata": {},
   "outputs": [],
   "source": [
    "df_combined[\"Distance to nearest mall\"] = min_dist_mall"
   ]
  },
  {
   "cell_type": "markdown",
   "id": "d205fe32",
   "metadata": {},
   "source": [
    "<h3>IsMature Estate</h3>"
   ]
  },
  {
   "cell_type": "code",
   "execution_count": null,
   "id": "16dee252",
   "metadata": {},
   "outputs": [],
   "source": [
    "list_mature_estates = [\"ang mo kio\", \n",
    "                        \"bishan\", \n",
    "                        \"clementi\",\n",
    "                        \"bukit merah\",\n",
    "                        \"bedok\",\n",
    "                        \"bukit timah\",\n",
    "                        \"geylang\",\n",
    "                        \"central\",\n",
    "                        \"marine parade\",\n",
    "                        \"queenstown\",\n",
    "                        \"pasir ris\",\n",
    "                        \"kallang\" , \"whampoa\", \"marine parade\" , \"serangoon\", \"tampines\", \"toa payoh\"]\n",
    "\n",
    "for i in range(len(df_combined)):\n",
    "    if df_combined.loc[i,'town'].lower() in list_mature_estates:\n",
    "        df_combined.loc[i,'isMatureEstate'] = 1\n",
    "    else:\n",
    "        df_combined.loc[i,'isMatureEstate'] = 0"
   ]
  },
  {
   "cell_type": "code",
   "execution_count": null,
   "id": "4d69b82a",
   "metadata": {},
   "outputs": [],
   "source": [
    "df_combined.to_csv('final_hdb_resale_prices.csv')"
   ]
  },
  {
   "cell_type": "markdown",
   "id": "fa347f36",
   "metadata": {},
   "source": [
    "### Correlation"
   ]
  },
  {
   "cell_type": "code",
   "execution_count": null,
   "id": "944dc616",
   "metadata": {},
   "outputs": [],
   "source": [
    "plt.figure(figsize=(16, 6))\n",
    "corr_df = df_combined.corr()\n",
    "hm = sns.heatmap(corr_df, annot=True)"
   ]
  },
  {
   "cell_type": "markdown",
   "id": "6e7caf87",
   "metadata": {},
   "source": [
    "### Investigate if lease is an important factor"
   ]
  },
  {
   "cell_type": "code",
   "execution_count": null,
   "id": "c6f71436",
   "metadata": {},
   "outputs": [],
   "source": [
    "import csv\n",
    "hdb_resale_listings = []\n",
    "\n",
    "with open('final_hdb_resale_prices.csv', newline='', encoding=\"utf8\") as f:\n",
    "    reader = csv.reader(f)\n",
    "    for row in reader:\n",
    "        hdb_resale_listings.append(row)\n",
    "\n",
    "    # Remove header\n",
    "    hdb_resale_listings_headers = hdb_resale_listings[0]\n",
    "    hdb_resale_listings = hdb_resale_listings[1:]\n",
    "    \n",
    "print(hdb_resale_listings[0]) # Print first row of data"
   ]
  },
  {
   "cell_type": "code",
   "execution_count": null,
   "id": "ab9eedb3",
   "metadata": {},
   "outputs": [],
   "source": [
    "average_resale_for_lease_year_remaining = {}\n",
    "for data in hdb_resale_listings:\n",
    "    if round(float(data[16])/12) not in average_resale_for_lease_year_remaining:\n",
    "        average_resale_for_lease_year_remaining[round(float(data[16])/12)] = []\n",
    "        average_resale_for_lease_year_remaining[round(float(data[16])/12)].append(float(data[7]))\n",
    "    else:\n",
    "        average_resale_for_lease_year_remaining[round(float(data[16])/12)].append(float(data[7]))\n",
    "    "
   ]
  },
  {
   "cell_type": "code",
   "execution_count": null,
   "id": "d5706395",
   "metadata": {},
   "outputs": [],
   "source": [
    "for item in average_resale_for_lease_year_remaining:\n",
    "    avg = round(sum(average_resale_for_lease_year_remaining[item])/len(average_resale_for_lease_year_remaining[item]))\n",
    "    average_resale_for_lease_year_remaining[item] = avg"
   ]
  },
  {
   "cell_type": "code",
   "execution_count": null,
   "id": "ed49077e",
   "metadata": {},
   "outputs": [],
   "source": [
    "lease = list(average_resale_for_lease_year_remaining.keys())\n",
    "average_resale_value = list(average_resale_for_lease_year_remaining.values())\n",
    "\n",
    "## Write your code below\n",
    "fig,ax = plt.subplots(figsize=(18,12))\n",
    "ax.plot(lease,average_resale_value,marker='d')\n",
    "ax.set_ylabel('Resale Value')\n",
    "ax.set_xlabel('Lease Remaining')\n",
    "ax.set_title('Average Resale Value for Lease Years Remaining')\n",
    "plt.show()\n"
   ]
  },
  {
   "cell_type": "markdown",
   "id": "4921bfbe",
   "metadata": {},
   "source": [
    "### Investigate how floor area correlate with price"
   ]
  },
  {
   "cell_type": "code",
   "execution_count": null,
   "id": "e6bd6d72",
   "metadata": {},
   "outputs": [],
   "source": [
    "floor_area_sqm = []\n",
    "resale_price = []\n",
    "for data in hdb_resale_listings:\n",
    "    floor_area_sqm.append(float(data[5]))\n",
    "    resale_price.append(float(data[7]))\n",
    "fig,ax = plt.subplots(figsize=(18,12))\n",
    "ax.scatter(floor_area_sqm,resale_price)\n",
    "ax.set_xlabel('Floor Area (in square metres)')\n",
    "ax.set_ylabel('Sale Price (in million SGD)')\n",
    "ax.set_title('Relationship between Floor Area and Resale Price')\n",
    "plt.show()\n"
   ]
  },
  {
   "cell_type": "markdown",
   "id": "1959da99",
   "metadata": {},
   "source": [
    "### Investigating resale counts by town"
   ]
  },
  {
   "cell_type": "code",
   "execution_count": null,
   "id": "ec48f8dd",
   "metadata": {},
   "outputs": [],
   "source": [
    "resale_counts_by_town = {}  # Populate this dictionary with counts\n",
    "\n",
    "import operator\n",
    "## Write your code below\n",
    "\n",
    "for data in hdb_resale_listings:\n",
    "    hdb_town = data[2]\n",
    "    \n",
    "    if hdb_town in resale_counts_by_town:\n",
    "        \n",
    "        resale_counts_by_town[hdb_town] += 1 \n",
    "    \n",
    "    else:\n",
    "        \n",
    "        resale_counts_by_town[hdb_town] = 1\n",
    "\n",
    "    \n",
    "        \n",
    "sorted_resale_counts_by_town = dict(sorted(resale_counts_by_town.items(), key=operator.itemgetter(1),reverse=True))"
   ]
  },
  {
   "cell_type": "code",
   "execution_count": null,
   "id": "85678b3a",
   "metadata": {},
   "outputs": [],
   "source": [
    "resale_counts_sorted_desc = sorted_resale_counts_by_town\n",
    "neighbourhood_listings = list(resale_counts_sorted_desc.keys())\n",
    "num_listings = list(resale_counts_sorted_desc.values())\n",
    "# Import matplotlib library here\n",
    "\n",
    "import matplotlib.pyplot as plt\n",
    "fig,ax = plt.subplots(figsize=(18,12))\n",
    "ax.bar(neighbourhood_listings,num_listings)\n",
    "ax.set_title('Counts of Resale Flats from Jan 2017 to June 2020')\n",
    "ax.set_xticklabels(neighbourhood_listings,rotation = 90)\n",
    "ax.set_ylabel('Number of Resale Flats')\n",
    "ax.set_xlabel('Town')\n",
    "plt.show()"
   ]
  },
  {
   "cell_type": "markdown",
   "id": "4cc95e90",
   "metadata": {},
   "source": [
    "# Folium Clusters"
   ]
  },
  {
   "cell_type": "markdown",
   "id": "1600cc3b",
   "metadata": {},
   "source": [
    "<h3>3 Room</h3>"
   ]
  },
  {
   "cell_type": "code",
   "execution_count": null,
   "id": "54ffd9d0",
   "metadata": {},
   "outputs": [],
   "source": [
    "import folium\n",
    "from folium.plugins import HeatMap\n",
    "lat_long = []\n",
    "## Write your code below\n",
    "for data in hdb_resale_listings:\n",
    "    if data[3] == '3 ROOM':\n",
    "        lat_long.append([data[8],data[9]])\n",
    "map_folium = folium.Map(location=[1.357,103.826], height=350, width=800,zoom_start=11.4)\n",
    "\n",
    "HeatMap(lat_long, radius=8, gradient={0.2:'blue', 0.4:'purple', 0.6:'orange', 1.0:'red'}).add_to(map_folium) \n",
    "\n",
    "display(map_folium)"
   ]
  },
  {
   "cell_type": "code",
   "execution_count": null,
   "id": "4249e106",
   "metadata": {},
   "outputs": [],
   "source": [
    "from folium.plugins import MarkerCluster   \n",
    "## Write your code below (Note: the Folium map output might take a while to load)\n",
    "map_folium = folium.Map(location=[1.357,103.826], height=550, width=900, zoom_start=11.5)\n",
    "\n",
    "marker_cluster = MarkerCluster().add_to(map_folium)\n",
    "for data in hdb_resale_listings:\n",
    "    if data[3] == '3 ROOM':\n",
    "        lat_long_listing = [data[8],data[9]]\n",
    "        pop_display_price = '$' + str(data[6])\n",
    "        tooltipmsg = 'Click to view price'\n",
    "\n",
    "        folium.Marker(lat_long_listing,popup=pop_display_price,tooltip = tooltipmsg).add_to(marker_cluster)\n",
    "\n",
    "display(map_folium)\n"
   ]
  },
  {
   "cell_type": "markdown",
   "id": "1e98d0f9",
   "metadata": {},
   "source": [
    "<h3>4 Room</h3>"
   ]
  },
  {
   "cell_type": "code",
   "execution_count": null,
   "id": "69c3677d",
   "metadata": {},
   "outputs": [],
   "source": [
    "import folium\n",
    "from folium.plugins import HeatMap\n",
    "lat_long = []\n",
    "## Write your code below\n",
    "for data in hdb_resale_listings:\n",
    "    if data[3] == '4 ROOM':\n",
    "        lat_long.append([data[8],data[9]])\n",
    "map_folium = folium.Map(location=[1.357,103.826], height=350, width=800,zoom_start=11.4)\n",
    "\n",
    "HeatMap(lat_long, radius=8, gradient={0.2:'blue', 0.4:'purple', 0.6:'orange', 1.0:'red'}).add_to(map_folium) \n",
    "\n",
    "display(map_folium)\n",
    "\n"
   ]
  },
  {
   "cell_type": "code",
   "execution_count": null,
   "id": "90939983",
   "metadata": {},
   "outputs": [],
   "source": [
    "from folium.plugins import MarkerCluster   \n",
    "## Write your code below (Note: the Folium map output might take a while to load)\n",
    "map_folium = folium.Map(location=[1.357,103.826], height=550, width=900, zoom_start=11.5)\n",
    "\n",
    "marker_cluster = MarkerCluster().add_to(map_folium)\n",
    "for data in hdb_resale_listings:\n",
    "    if data[3] == '4 ROOM':\n",
    "        lat_long_listing = [data[8],data[9]]\n",
    "        pop_display_price = '$' + str(data[6])\n",
    "        tooltipmsg = 'Click to view price'\n",
    "\n",
    "        folium.Marker(lat_long_listing,popup=pop_display_price,tooltip = tooltipmsg).add_to(marker_cluster)\n",
    "\n",
    "display(map_folium)\n"
   ]
  },
  {
   "cell_type": "markdown",
   "id": "6add6ae8",
   "metadata": {},
   "source": [
    "<h3>5 Room</h3>"
   ]
  },
  {
   "cell_type": "code",
   "execution_count": null,
   "id": "43d313f2",
   "metadata": {},
   "outputs": [],
   "source": [
    "import folium\n",
    "from folium.plugins import HeatMap\n",
    "lat_long = []\n",
    "## Write your code below\n",
    "for data in hdb_resale_listings:\n",
    "    if data[3] == '5 ROOM':\n",
    "        lat_long.append([data[8],data[9]])\n",
    "map_folium = folium.Map(location=[1.357,103.826], height=350, width=800,zoom_start=11.4)\n",
    "\n",
    "HeatMap(lat_long, radius=8, gradient={0.2:'blue', 0.4:'purple', 0.6:'orange', 1.0:'red'}).add_to(map_folium) \n",
    "\n",
    "display(map_folium)"
   ]
  },
  {
   "cell_type": "code",
   "execution_count": null,
   "id": "90cbe283",
   "metadata": {},
   "outputs": [],
   "source": [
    "from folium.plugins import MarkerCluster   \n",
    "## Write your code below (Note: the Folium map output might take a while to load)\n",
    "map_folium = folium.Map(location=[1.357,103.826], height=550, width=900, zoom_start=11.5)\n",
    "\n",
    "marker_cluster = MarkerCluster().add_to(map_folium)\n",
    "for data in hdb_resale_listings:\n",
    "    if data[3] == '5 ROOM':\n",
    "        lat_long_listing = [data[8],data[9]]\n",
    "        pop_display_price = '$' + str(data[6])\n",
    "        tooltipmsg = 'Click to view price'\n",
    "\n",
    "        folium.Marker(lat_long_listing,popup=pop_display_price,tooltip = tooltipmsg).add_to(marker_cluster)\n",
    "\n",
    "display(map_folium)"
   ]
  },
  {
   "cell_type": "markdown",
   "id": "30f3f10b",
   "metadata": {},
   "source": [
    "<h3>Executive</h3>"
   ]
  },
  {
   "cell_type": "code",
   "execution_count": null,
   "id": "95aaaf28",
   "metadata": {},
   "outputs": [],
   "source": [
    "import folium\n",
    "from folium.plugins import HeatMap\n",
    "lat_long = []\n",
    "## Write your code below\n",
    "for data in hdb_resale_listings:\n",
    "    if data[3] == 'EXECUTIVE':\n",
    "        lat_long.append([data[8],data[9]])\n",
    "map_folium = folium.Map(location=[1.357,103.826], height=350, width=800,zoom_start=11.4)\n",
    "\n",
    "HeatMap(lat_long, radius=8, gradient={0.2:'blue', 0.4:'purple', 0.6:'orange', 1.0:'red'}).add_to(map_folium) \n",
    "\n",
    "display(map_folium)"
   ]
  },
  {
   "cell_type": "code",
   "execution_count": null,
   "id": "d17d5066",
   "metadata": {},
   "outputs": [],
   "source": [
    "from folium.plugins import MarkerCluster   \n",
    "## Write your code below (Note: the Folium map output might take a while to load)\n",
    "map_folium = folium.Map(location=[1.357,103.826], height=550, width=900, zoom_start=11.5)\n",
    "\n",
    "marker_cluster = MarkerCluster().add_to(map_folium)\n",
    "for data in hdb_resale_listings:\n",
    "    if data[3] == 'EXECUTIVE':\n",
    "        lat_long_listing = [data[8],data[9]]\n",
    "        pop_display_price = '$' + str(data[6])\n",
    "        tooltipmsg = 'Click to view price'\n",
    "\n",
    "        folium.Marker(lat_long_listing,popup=pop_display_price,tooltip = tooltipmsg).add_to(marker_cluster)\n",
    "\n",
    "display(map_folium)"
   ]
  },
  {
   "cell_type": "markdown",
   "id": "4383a719",
   "metadata": {},
   "source": [
    "<h1>Preliminary Models</h1>\n"
   ]
  },
  {
   "cell_type": "code",
   "execution_count": null,
   "id": "0c7b7228",
   "metadata": {},
   "outputs": [],
   "source": [
    "#split training and test data"
   ]
  },
  {
   "cell_type": "code",
   "execution_count": null,
   "id": "6c8cca3f",
   "metadata": {},
   "outputs": [],
   "source": []
  }
 ],
 "metadata": {
  "kernelspec": {
   "display_name": "Python 3 (ipykernel)",
   "language": "python",
   "name": "python3"
  },
  "language_info": {
   "codemirror_mode": {
    "name": "ipython",
    "version": 3
   },
   "file_extension": ".py",
   "mimetype": "text/x-python",
   "name": "python",
   "nbconvert_exporter": "python",
   "pygments_lexer": "ipython3",
   "version": "3.10.4"
  },
  "vscode": {
   "interpreter": {
    "hash": "afb734500600fd355917ca529030176ea0ca205570884b88f2f6f7d791fd3fbe"
   }
  }
 },
 "nbformat": 4,
 "nbformat_minor": 5
}
