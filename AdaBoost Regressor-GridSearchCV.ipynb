{
 "cells": [
  {
   "cell_type": "markdown",
   "id": "67c8844b",
   "metadata": {},
   "source": [
    "Used AdaBoost Regression because previously dont know how to approach for Classification Models.\n",
    "Think this was not in our original plan - JL"
   ]
  },
  {
   "cell_type": "markdown",
   "id": "e4751c6d",
   "metadata": {},
   "source": [
    "# AdaBoost Regression"
   ]
  },
  {
   "cell_type": "code",
   "execution_count": 10,
   "id": "e1042fdc",
   "metadata": {},
   "outputs": [],
   "source": [
    "import re\n",
    "import io\n",
    "\n",
    "#General libraries needed\n",
    "import numpy as np\n",
    "import pandas as pd\n",
    "import matplotlib.pyplot as plt\n",
    "import seaborn as sns\n",
    "\n",
    "#Libraries for data pre-processing\n",
    "from sklearn import metrics\n",
    "from sklearn.model_selection import train_test_split\n",
    "from sklearn.metrics import confusion_matrix\n",
    "from sklearn.metrics import accuracy_score\n",
    "from sklearn.metrics import f1_score\n",
    "from sklearn import preprocessing\n",
    "\n",
    "#For AdaBoost implementation\n",
    "from sklearn.ensemble import AdaBoostClassifier\n",
    "from sklearn.ensemble import AdaBoostRegressor\n",
    "from sklearn.naive_bayes import GaussianNB\n",
    "\n",
    "from sklearn.model_selection import RepeatedStratifiedKFold\n",
    "from sklearn.model_selection import GridSearchCV"
   ]
  },
  {
   "cell_type": "code",
   "execution_count": 11,
   "id": "7c4ccd80",
   "metadata": {},
   "outputs": [
    {
     "data": {
      "text/html": [
       "<div>\n",
       "<style scoped>\n",
       "    .dataframe tbody tr th:only-of-type {\n",
       "        vertical-align: middle;\n",
       "    }\n",
       "\n",
       "    .dataframe tbody tr th {\n",
       "        vertical-align: top;\n",
       "    }\n",
       "\n",
       "    .dataframe thead th {\n",
       "        text-align: right;\n",
       "    }\n",
       "</style>\n",
       "<table border=\"1\" class=\"dataframe\">\n",
       "  <thead>\n",
       "    <tr style=\"text-align: right;\">\n",
       "      <th></th>\n",
       "      <th>storey_range</th>\n",
       "      <th>floor_area_sqm</th>\n",
       "      <th>no.of bto</th>\n",
       "      <th>resale application</th>\n",
       "      <th>remaining_lease_months</th>\n",
       "      <th>Distance to nearest MRT</th>\n",
       "      <th>Distance to CBD</th>\n",
       "      <th>isMatureEstate</th>\n",
       "      <th>cpi_adjusted_price_per_sqm</th>\n",
       "    </tr>\n",
       "  </thead>\n",
       "  <tbody>\n",
       "    <tr>\n",
       "      <th>74511</th>\n",
       "      <td>0.0000</td>\n",
       "      <td>0.343750</td>\n",
       "      <td>1.000000</td>\n",
       "      <td>1.0</td>\n",
       "      <td>0.141553</td>\n",
       "      <td>0.116269</td>\n",
       "      <td>0.187819</td>\n",
       "      <td>0.0</td>\n",
       "      <td>0.241493</td>\n",
       "    </tr>\n",
       "    <tr>\n",
       "      <th>48813</th>\n",
       "      <td>0.0000</td>\n",
       "      <td>0.640625</td>\n",
       "      <td>0.505255</td>\n",
       "      <td>0.0</td>\n",
       "      <td>0.547945</td>\n",
       "      <td>0.179166</td>\n",
       "      <td>0.813232</td>\n",
       "      <td>0.0</td>\n",
       "      <td>0.128851</td>\n",
       "    </tr>\n",
       "    <tr>\n",
       "      <th>4071</th>\n",
       "      <td>0.1875</td>\n",
       "      <td>0.182292</td>\n",
       "      <td>0.000000</td>\n",
       "      <td>0.0</td>\n",
       "      <td>0.707763</td>\n",
       "      <td>0.093631</td>\n",
       "      <td>0.410908</td>\n",
       "      <td>1.0</td>\n",
       "      <td>0.409740</td>\n",
       "    </tr>\n",
       "    <tr>\n",
       "      <th>27221</th>\n",
       "      <td>0.0625</td>\n",
       "      <td>0.083333</td>\n",
       "      <td>0.505255</td>\n",
       "      <td>0.0</td>\n",
       "      <td>0.299848</td>\n",
       "      <td>0.264530</td>\n",
       "      <td>0.062652</td>\n",
       "      <td>1.0</td>\n",
       "      <td>0.224178</td>\n",
       "    </tr>\n",
       "    <tr>\n",
       "      <th>51679</th>\n",
       "      <td>0.0625</td>\n",
       "      <td>0.093750</td>\n",
       "      <td>1.000000</td>\n",
       "      <td>1.0</td>\n",
       "      <td>0.365297</td>\n",
       "      <td>0.208004</td>\n",
       "      <td>0.412458</td>\n",
       "      <td>1.0</td>\n",
       "      <td>0.221127</td>\n",
       "    </tr>\n",
       "  </tbody>\n",
       "</table>\n",
       "</div>"
      ],
      "text/plain": [
       "       storey_range  floor_area_sqm  no.of bto  resale application  \\\n",
       "74511        0.0000        0.343750   1.000000                 1.0   \n",
       "48813        0.0000        0.640625   0.505255                 0.0   \n",
       "4071         0.1875        0.182292   0.000000                 0.0   \n",
       "27221        0.0625        0.083333   0.505255                 0.0   \n",
       "51679        0.0625        0.093750   1.000000                 1.0   \n",
       "\n",
       "       remaining_lease_months  Distance to nearest MRT  Distance to CBD  \\\n",
       "74511                0.141553                 0.116269         0.187819   \n",
       "48813                0.547945                 0.179166         0.813232   \n",
       "4071                 0.707763                 0.093631         0.410908   \n",
       "27221                0.299848                 0.264530         0.062652   \n",
       "51679                0.365297                 0.208004         0.412458   \n",
       "\n",
       "       isMatureEstate  cpi_adjusted_price_per_sqm  \n",
       "74511             0.0                    0.241493  \n",
       "48813             0.0                    0.128851  \n",
       "4071              1.0                    0.409740  \n",
       "27221             1.0                    0.224178  \n",
       "51679             1.0                    0.221127  "
      ]
     },
     "execution_count": 11,
     "metadata": {},
     "output_type": "execute_result"
    }
   ],
   "source": [
    "# import csv\n",
    "hdb_model_data = pd.read_csv('hdb_model_data.csv')\n",
    "hdb_model_data.sample(5)"
   ]
  },
  {
   "cell_type": "code",
   "execution_count": 12,
   "id": "d533313c",
   "metadata": {},
   "outputs": [
    {
     "data": {
      "text/plain": [
       "storey_range                  float64\n",
       "floor_area_sqm                float64\n",
       "no.of bto                     float64\n",
       "resale application            float64\n",
       "remaining_lease_months        float64\n",
       "Distance to nearest MRT       float64\n",
       "Distance to CBD               float64\n",
       "isMatureEstate                float64\n",
       "cpi_adjusted_price_per_sqm    float64\n",
       "dtype: object"
      ]
     },
     "execution_count": 12,
     "metadata": {},
     "output_type": "execute_result"
    }
   ],
   "source": [
    "hdb_model_data.dtypes"
   ]
  },
  {
   "cell_type": "code",
   "execution_count": 13,
   "id": "a515a1e1",
   "metadata": {},
   "outputs": [
    {
     "data": {
      "text/html": [
       "<div>\n",
       "<style scoped>\n",
       "    .dataframe tbody tr th:only-of-type {\n",
       "        vertical-align: middle;\n",
       "    }\n",
       "\n",
       "    .dataframe tbody tr th {\n",
       "        vertical-align: top;\n",
       "    }\n",
       "\n",
       "    .dataframe thead th {\n",
       "        text-align: right;\n",
       "    }\n",
       "</style>\n",
       "<table border=\"1\" class=\"dataframe\">\n",
       "  <thead>\n",
       "    <tr style=\"text-align: right;\">\n",
       "      <th></th>\n",
       "      <th>storey_range</th>\n",
       "      <th>floor_area_sqm</th>\n",
       "      <th>no.of bto</th>\n",
       "      <th>resale application</th>\n",
       "      <th>remaining_lease_months</th>\n",
       "      <th>Distance to nearest MRT</th>\n",
       "      <th>Distance to CBD</th>\n",
       "      <th>isMatureEstate</th>\n",
       "      <th>cpi_adjusted_price_per_sqm</th>\n",
       "    </tr>\n",
       "  </thead>\n",
       "  <tbody>\n",
       "    <tr>\n",
       "      <th>53518</th>\n",
       "      <td>0.0625</td>\n",
       "      <td>0.208333</td>\n",
       "      <td>1.0</td>\n",
       "      <td>1.0</td>\n",
       "      <td>0.345510</td>\n",
       "      <td>0.178993</td>\n",
       "      <td>0.531806</td>\n",
       "      <td>1.0</td>\n",
       "      <td>0.233845</td>\n",
       "    </tr>\n",
       "    <tr>\n",
       "      <th>21670</th>\n",
       "      <td>0.1250</td>\n",
       "      <td>0.182292</td>\n",
       "      <td>0.0</td>\n",
       "      <td>0.0</td>\n",
       "      <td>0.920852</td>\n",
       "      <td>0.044787</td>\n",
       "      <td>0.629594</td>\n",
       "      <td>1.0</td>\n",
       "      <td>0.367085</td>\n",
       "    </tr>\n",
       "    <tr>\n",
       "      <th>7492</th>\n",
       "      <td>0.1250</td>\n",
       "      <td>0.484375</td>\n",
       "      <td>0.0</td>\n",
       "      <td>0.0</td>\n",
       "      <td>0.523592</td>\n",
       "      <td>0.316761</td>\n",
       "      <td>0.660945</td>\n",
       "      <td>1.0</td>\n",
       "      <td>0.175317</td>\n",
       "    </tr>\n",
       "    <tr>\n",
       "      <th>69888</th>\n",
       "      <td>0.1875</td>\n",
       "      <td>0.171875</td>\n",
       "      <td>1.0</td>\n",
       "      <td>1.0</td>\n",
       "      <td>0.357686</td>\n",
       "      <td>0.137658</td>\n",
       "      <td>0.301754</td>\n",
       "      <td>1.0</td>\n",
       "      <td>0.303389</td>\n",
       "    </tr>\n",
       "    <tr>\n",
       "      <th>8119</th>\n",
       "      <td>0.1875</td>\n",
       "      <td>0.531250</td>\n",
       "      <td>0.0</td>\n",
       "      <td>0.0</td>\n",
       "      <td>0.532725</td>\n",
       "      <td>0.104311</td>\n",
       "      <td>0.600808</td>\n",
       "      <td>1.0</td>\n",
       "      <td>0.164138</td>\n",
       "    </tr>\n",
       "  </tbody>\n",
       "</table>\n",
       "</div>"
      ],
      "text/plain": [
       "       storey_range  floor_area_sqm  no.of bto  resale application  \\\n",
       "53518        0.0625        0.208333        1.0                 1.0   \n",
       "21670        0.1250        0.182292        0.0                 0.0   \n",
       "7492         0.1250        0.484375        0.0                 0.0   \n",
       "69888        0.1875        0.171875        1.0                 1.0   \n",
       "8119         0.1875        0.531250        0.0                 0.0   \n",
       "\n",
       "       remaining_lease_months  Distance to nearest MRT  Distance to CBD  \\\n",
       "53518                0.345510                 0.178993         0.531806   \n",
       "21670                0.920852                 0.044787         0.629594   \n",
       "7492                 0.523592                 0.316761         0.660945   \n",
       "69888                0.357686                 0.137658         0.301754   \n",
       "8119                 0.532725                 0.104311         0.600808   \n",
       "\n",
       "       isMatureEstate  cpi_adjusted_price_per_sqm  \n",
       "53518             1.0                    0.233845  \n",
       "21670             1.0                    0.367085  \n",
       "7492              1.0                    0.175317  \n",
       "69888             1.0                    0.303389  \n",
       "8119              1.0                    0.164138  "
      ]
     },
     "execution_count": 13,
     "metadata": {},
     "output_type": "execute_result"
    }
   ],
   "source": [
    "hdb_model_data.sample(5)"
   ]
  },
  {
   "cell_type": "code",
   "execution_count": 14,
   "id": "e7794b47",
   "metadata": {},
   "outputs": [],
   "source": [
    "X = hdb_model_data.iloc[:,0:8]\n",
    "y= hdb_model_data.iloc[:,-1]  \n",
    "X_train,X_test,y_train,y_test = train_test_split(X,y,test_size=0.2,random_state=42)\n"
   ]
  },
  {
   "cell_type": "markdown",
   "id": "501796e3",
   "metadata": {},
   "source": [
    "Used for loop to find best learning rate from 0.1 to 2.0"
   ]
  },
  {
   "cell_type": "code",
   "execution_count": 15,
   "id": "a2f51ddf",
   "metadata": {},
   "outputs": [],
   "source": [
    "from sklearn.ensemble import RandomForestRegressor\n",
    "regressor = RandomForestRegressor(n_estimators = 8,  #no. of trees to be used in the model\n",
    "                        max_depth = 15,  # maximum number of splits each tree can take. Too low the model will be trained less and have high bias\n",
    "                        min_samples_split = 2, #every node have 2 subnodes\n",
    "                        max_features = 6)#maximum features in each tree"
   ]
  },
  {
   "cell_type": "code",
   "execution_count": 16,
   "id": "6b1e828c",
   "metadata": {},
   "outputs": [
    {
     "name": "stdout",
     "output_type": "stream",
     "text": [
      "Best: 0.938232 using {'learning_rate': 0.1, 'n_estimators': 300}\n"
     ]
    }
   ],
   "source": [
    "# define the model with default hyperparameters\n",
    "model = AdaBoostRegressor(base_estimator = regressor)\n",
    "\n",
    "# define the grid of values to search\n",
    "grid = dict()\n",
    "grid['n_estimators'] = [50, 100, 150, 200, 250, 300]\n",
    "grid['learning_rate'] = [0.1, 0.5, 1.0, 1.5, 2.0]\n",
    "\n",
    "# define the grid search procedure\n",
    "grid_search = GridSearchCV(estimator=model, param_grid=grid, n_jobs=-1, cv=2)\n",
    "\n",
    "# execute the grid search\n",
    "grid_result = grid_search.fit(X_train, y_train)\n",
    "\n",
    "# summarize the best score and configuration\n",
    "print(\"Best: %f using %s\" % (grid_result.best_score_, grid_result.best_params_))\n",
    "\n",
    "#Use the trained model to predict the test data\n",
    "y_pred = grid_result.predict(X_test)"
   ]
  },
  {
   "cell_type": "code",
   "execution_count": 19,
   "id": "12635787",
   "metadata": {},
   "outputs": [
    {
     "name": "stdout",
     "output_type": "stream",
     "text": [
      "r2 score: 0.9470201392245653\n",
      "mean squared error: 0.0006093415695594379\n",
      "root mean squared error: 0.024684844936912972\n"
     ]
    }
   ],
   "source": [
    "print(\"r2 score: \" + str(metrics.r2_score(y_test, y_pred)))\n",
    "print(\"mean squared error: \" + str(metrics.mean_squared_error(y_test, y_pred)))\n",
    "print(\"root mean squared error: \" + str(metrics.mean_squared_error(y_test, y_pred, squared=False)))"
   ]
  },
  {
   "cell_type": "code",
   "execution_count": null,
   "id": "12dbaf1b",
   "metadata": {},
   "outputs": [],
   "source": []
  }
 ],
 "metadata": {
  "kernelspec": {
   "display_name": "Python 3",
   "language": "python",
   "name": "python3"
  },
  "language_info": {
   "codemirror_mode": {
    "name": "ipython",
    "version": 3
   },
   "file_extension": ".py",
   "mimetype": "text/x-python",
   "name": "python",
   "nbconvert_exporter": "python",
   "pygments_lexer": "ipython3",
   "version": "3.9.12"
  }
 },
 "nbformat": 4,
 "nbformat_minor": 5
}
