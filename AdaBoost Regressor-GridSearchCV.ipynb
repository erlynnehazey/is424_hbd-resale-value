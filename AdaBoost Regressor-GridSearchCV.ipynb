{
 "cells": [
  {
   "cell_type": "markdown",
   "id": "e4751c6d",
   "metadata": {},
   "source": [
    "# AdaBoost Regression"
   ]
  },
  {
   "cell_type": "code",
   "execution_count": 1,
   "id": "e1042fdc",
   "metadata": {},
   "outputs": [],
   "source": [
    "import re\n",
    "import io\n",
    "\n",
    "#General libraries needed\n",
    "import numpy as np\n",
    "import pandas as pd\n",
    "import matplotlib.pyplot as plt\n",
    "import seaborn as sns\n",
    "\n",
    "#Libraries for data pre-processing\n",
    "from sklearn import metrics\n",
    "from sklearn.model_selection import train_test_split\n",
    "from sklearn.metrics import confusion_matrix\n",
    "from sklearn.metrics import accuracy_score\n",
    "from sklearn.metrics import f1_score\n",
    "from sklearn import preprocessing\n",
    "\n",
    "#For AdaBoost implementation\n",
    "from sklearn.ensemble import AdaBoostRegressor\n",
    "from sklearn.naive_bayes import GaussianNB\n",
    "\n",
    "#For hyperparamter tuning\n",
    "from sklearn.model_selection import RepeatedStratifiedKFold\n",
    "from sklearn.model_selection import GridSearchCV"
   ]
  },
  {
   "cell_type": "code",
   "execution_count": 2,
   "id": "7c4ccd80",
   "metadata": {},
   "outputs": [
    {
     "data": {
      "text/html": [
       "<div>\n",
       "<style scoped>\n",
       "    .dataframe tbody tr th:only-of-type {\n",
       "        vertical-align: middle;\n",
       "    }\n",
       "\n",
       "    .dataframe tbody tr th {\n",
       "        vertical-align: top;\n",
       "    }\n",
       "\n",
       "    .dataframe thead th {\n",
       "        text-align: right;\n",
       "    }\n",
       "</style>\n",
       "<table border=\"1\" class=\"dataframe\">\n",
       "  <thead>\n",
       "    <tr style=\"text-align: right;\">\n",
       "      <th></th>\n",
       "      <th>storey_range</th>\n",
       "      <th>floor_area_sqm</th>\n",
       "      <th>no.of bto</th>\n",
       "      <th>resale application</th>\n",
       "      <th>remaining_lease_months</th>\n",
       "      <th>Distance to nearest MRT</th>\n",
       "      <th>Distance to CBD</th>\n",
       "      <th>isMatureEstate</th>\n",
       "      <th>cpi_adjusted_price_per_sqm</th>\n",
       "    </tr>\n",
       "  </thead>\n",
       "  <tbody>\n",
       "    <tr>\n",
       "      <th>42253</th>\n",
       "      <td>0.00</td>\n",
       "      <td>0.307292</td>\n",
       "      <td>0.505255</td>\n",
       "      <td>0.0</td>\n",
       "      <td>0.672755</td>\n",
       "      <td>0.271455</td>\n",
       "      <td>0.525565</td>\n",
       "      <td>0.0</td>\n",
       "      <td>0.130717</td>\n",
       "    </tr>\n",
       "    <tr>\n",
       "      <th>14857</th>\n",
       "      <td>0.25</td>\n",
       "      <td>0.239583</td>\n",
       "      <td>0.000000</td>\n",
       "      <td>0.0</td>\n",
       "      <td>0.942161</td>\n",
       "      <td>0.181093</td>\n",
       "      <td>0.171742</td>\n",
       "      <td>1.0</td>\n",
       "      <td>0.495647</td>\n",
       "    </tr>\n",
       "    <tr>\n",
       "      <th>45005</th>\n",
       "      <td>0.00</td>\n",
       "      <td>0.369792</td>\n",
       "      <td>0.505255</td>\n",
       "      <td>0.0</td>\n",
       "      <td>0.499239</td>\n",
       "      <td>0.536031</td>\n",
       "      <td>0.434593</td>\n",
       "      <td>1.0</td>\n",
       "      <td>0.211310</td>\n",
       "    </tr>\n",
       "    <tr>\n",
       "      <th>61618</th>\n",
       "      <td>0.00</td>\n",
       "      <td>0.187500</td>\n",
       "      <td>1.000000</td>\n",
       "      <td>1.0</td>\n",
       "      <td>0.683409</td>\n",
       "      <td>0.161051</td>\n",
       "      <td>0.328449</td>\n",
       "      <td>1.0</td>\n",
       "      <td>0.402826</td>\n",
       "    </tr>\n",
       "    <tr>\n",
       "      <th>67087</th>\n",
       "      <td>0.00</td>\n",
       "      <td>0.364583</td>\n",
       "      <td>1.000000</td>\n",
       "      <td>1.0</td>\n",
       "      <td>0.383562</td>\n",
       "      <td>0.116271</td>\n",
       "      <td>0.300361</td>\n",
       "      <td>1.0</td>\n",
       "      <td>0.354611</td>\n",
       "    </tr>\n",
       "  </tbody>\n",
       "</table>\n",
       "</div>"
      ],
      "text/plain": [
       "       storey_range  floor_area_sqm  no.of bto  resale application  \\\n",
       "42253          0.00        0.307292   0.505255                 0.0   \n",
       "14857          0.25        0.239583   0.000000                 0.0   \n",
       "45005          0.00        0.369792   0.505255                 0.0   \n",
       "61618          0.00        0.187500   1.000000                 1.0   \n",
       "67087          0.00        0.364583   1.000000                 1.0   \n",
       "\n",
       "       remaining_lease_months  Distance to nearest MRT  Distance to CBD  \\\n",
       "42253                0.672755                 0.271455         0.525565   \n",
       "14857                0.942161                 0.181093         0.171742   \n",
       "45005                0.499239                 0.536031         0.434593   \n",
       "61618                0.683409                 0.161051         0.328449   \n",
       "67087                0.383562                 0.116271         0.300361   \n",
       "\n",
       "       isMatureEstate  cpi_adjusted_price_per_sqm  \n",
       "42253             0.0                    0.130717  \n",
       "14857             1.0                    0.495647  \n",
       "45005             1.0                    0.211310  \n",
       "61618             1.0                    0.402826  \n",
       "67087             1.0                    0.354611  "
      ]
     },
     "execution_count": 2,
     "metadata": {},
     "output_type": "execute_result"
    }
   ],
   "source": [
    "# import csv\n",
    "hdb_model_data = pd.read_csv('hdb_model_data.csv')\n",
    "hdb_model_data.sample(5)"
   ]
  },
  {
   "cell_type": "code",
   "execution_count": 3,
   "id": "d533313c",
   "metadata": {},
   "outputs": [
    {
     "data": {
      "text/plain": [
       "storey_range                  float64\n",
       "floor_area_sqm                float64\n",
       "no.of bto                     float64\n",
       "resale application            float64\n",
       "remaining_lease_months        float64\n",
       "Distance to nearest MRT       float64\n",
       "Distance to CBD               float64\n",
       "isMatureEstate                float64\n",
       "cpi_adjusted_price_per_sqm    float64\n",
       "dtype: object"
      ]
     },
     "execution_count": 3,
     "metadata": {},
     "output_type": "execute_result"
    }
   ],
   "source": [
    "hdb_model_data.dtypes"
   ]
  },
  {
   "cell_type": "code",
   "execution_count": 4,
   "id": "a515a1e1",
   "metadata": {},
   "outputs": [
    {
     "data": {
      "text/html": [
       "<div>\n",
       "<style scoped>\n",
       "    .dataframe tbody tr th:only-of-type {\n",
       "        vertical-align: middle;\n",
       "    }\n",
       "\n",
       "    .dataframe tbody tr th {\n",
       "        vertical-align: top;\n",
       "    }\n",
       "\n",
       "    .dataframe thead th {\n",
       "        text-align: right;\n",
       "    }\n",
       "</style>\n",
       "<table border=\"1\" class=\"dataframe\">\n",
       "  <thead>\n",
       "    <tr style=\"text-align: right;\">\n",
       "      <th></th>\n",
       "      <th>storey_range</th>\n",
       "      <th>floor_area_sqm</th>\n",
       "      <th>no.of bto</th>\n",
       "      <th>resale application</th>\n",
       "      <th>remaining_lease_months</th>\n",
       "      <th>Distance to nearest MRT</th>\n",
       "      <th>Distance to CBD</th>\n",
       "      <th>isMatureEstate</th>\n",
       "      <th>cpi_adjusted_price_per_sqm</th>\n",
       "    </tr>\n",
       "  </thead>\n",
       "  <tbody>\n",
       "    <tr>\n",
       "      <th>47356</th>\n",
       "      <td>0.1250</td>\n",
       "      <td>0.088542</td>\n",
       "      <td>0.505255</td>\n",
       "      <td>0.0</td>\n",
       "      <td>0.127854</td>\n",
       "      <td>0.106754</td>\n",
       "      <td>0.232235</td>\n",
       "      <td>1.0</td>\n",
       "      <td>0.196749</td>\n",
       "    </tr>\n",
       "    <tr>\n",
       "      <th>73987</th>\n",
       "      <td>0.0000</td>\n",
       "      <td>0.276042</td>\n",
       "      <td>1.000000</td>\n",
       "      <td>1.0</td>\n",
       "      <td>0.487062</td>\n",
       "      <td>0.223863</td>\n",
       "      <td>0.703284</td>\n",
       "      <td>0.0</td>\n",
       "      <td>0.192980</td>\n",
       "    </tr>\n",
       "    <tr>\n",
       "      <th>15894</th>\n",
       "      <td>0.1875</td>\n",
       "      <td>0.088542</td>\n",
       "      <td>0.000000</td>\n",
       "      <td>0.0</td>\n",
       "      <td>0.302892</td>\n",
       "      <td>0.178832</td>\n",
       "      <td>0.387596</td>\n",
       "      <td>1.0</td>\n",
       "      <td>0.136805</td>\n",
       "    </tr>\n",
       "    <tr>\n",
       "      <th>19480</th>\n",
       "      <td>0.0625</td>\n",
       "      <td>0.218750</td>\n",
       "      <td>0.000000</td>\n",
       "      <td>0.0</td>\n",
       "      <td>0.936073</td>\n",
       "      <td>0.392546</td>\n",
       "      <td>0.633031</td>\n",
       "      <td>0.0</td>\n",
       "      <td>0.213528</td>\n",
       "    </tr>\n",
       "    <tr>\n",
       "      <th>24228</th>\n",
       "      <td>0.0000</td>\n",
       "      <td>0.088542</td>\n",
       "      <td>0.505255</td>\n",
       "      <td>0.0</td>\n",
       "      <td>0.277017</td>\n",
       "      <td>0.258267</td>\n",
       "      <td>0.429352</td>\n",
       "      <td>1.0</td>\n",
       "      <td>0.177059</td>\n",
       "    </tr>\n",
       "  </tbody>\n",
       "</table>\n",
       "</div>"
      ],
      "text/plain": [
       "       storey_range  floor_area_sqm  no.of bto  resale application  \\\n",
       "47356        0.1250        0.088542   0.505255                 0.0   \n",
       "73987        0.0000        0.276042   1.000000                 1.0   \n",
       "15894        0.1875        0.088542   0.000000                 0.0   \n",
       "19480        0.0625        0.218750   0.000000                 0.0   \n",
       "24228        0.0000        0.088542   0.505255                 0.0   \n",
       "\n",
       "       remaining_lease_months  Distance to nearest MRT  Distance to CBD  \\\n",
       "47356                0.127854                 0.106754         0.232235   \n",
       "73987                0.487062                 0.223863         0.703284   \n",
       "15894                0.302892                 0.178832         0.387596   \n",
       "19480                0.936073                 0.392546         0.633031   \n",
       "24228                0.277017                 0.258267         0.429352   \n",
       "\n",
       "       isMatureEstate  cpi_adjusted_price_per_sqm  \n",
       "47356             1.0                    0.196749  \n",
       "73987             0.0                    0.192980  \n",
       "15894             1.0                    0.136805  \n",
       "19480             0.0                    0.213528  \n",
       "24228             1.0                    0.177059  "
      ]
     },
     "execution_count": 4,
     "metadata": {},
     "output_type": "execute_result"
    }
   ],
   "source": [
    "hdb_model_data.sample(5)"
   ]
  },
  {
   "cell_type": "code",
   "execution_count": 5,
   "id": "e7794b47",
   "metadata": {},
   "outputs": [],
   "source": [
    "X = hdb_model_data.iloc[:,0:8]\n",
    "y= hdb_model_data.iloc[:,-1]  \n",
    "X_train,X_test,y_train,y_test = train_test_split(X,y,test_size=0.2,random_state=42)\n"
   ]
  },
  {
   "cell_type": "markdown",
   "id": "501796e3",
   "metadata": {},
   "source": [
    "Used for loop to find best learning rate from 0.1 to 2.0"
   ]
  },
  {
   "cell_type": "code",
   "execution_count": 6,
   "id": "a2f51ddf",
   "metadata": {},
   "outputs": [],
   "source": [
    "from sklearn.ensemble import RandomForestRegressor\n",
    "regressor = RandomForestRegressor(n_estimators = 8,  #no. of trees to be used in the model\n",
    "                        max_depth = 15,  # maximum number of splits each tree can take. Too low the model will be trained less and have high bias\n",
    "                        min_samples_split = 2, #every node have 2 subnodes\n",
    "                        max_features = 6)#maximum features in each tree"
   ]
  },
  {
   "cell_type": "code",
   "execution_count": 7,
   "id": "6b1e828c",
   "metadata": {},
   "outputs": [
    {
     "name": "stdout",
     "output_type": "stream",
     "text": [
      "Best: 0.938334 using {'learning_rate': 0.1, 'n_estimators': 300}\n"
     ]
    }
   ],
   "source": [
    "# define the model with default hyperparameters\n",
    "model = AdaBoostRegressor(base_estimator = regressor)\n",
    "\n",
    "# define the grid of values to search\n",
    "grid = dict()\n",
    "grid['n_estimators'] = [50, 100, 150, 200, 250, 300]\n",
    "grid['learning_rate'] = [0.1, 0.5, 1.0, 1.5, 2.0]\n",
    "\n",
    "# define the grid search procedure\n",
    "grid_search = GridSearchCV(estimator=model, param_grid=grid, n_jobs=-1, cv=2)\n",
    "\n",
    "# execute the grid search\n",
    "grid_result = grid_search.fit(X_train, y_train)\n",
    "\n",
    "# summarize the best score and configuration\n",
    "print(\"Best: %f using %s\" % (grid_result.best_score_, grid_result.best_params_))\n",
    "\n",
    "#Use the trained model to predict the test data\n",
    "y_pred = grid_result.predict(X_test)"
   ]
  },
  {
   "cell_type": "code",
   "execution_count": 9,
   "id": "12635787",
   "metadata": {},
   "outputs": [
    {
     "name": "stdout",
     "output_type": "stream",
     "text": [
      "r2 score: 0.9470179064594428\n",
      "mean squared error: 0.0006093672494420253\n",
      "root mean squared error: 0.024685365086261644\n",
      "adjusted r2 score: 0.9469906628067674\n"
     ]
    }
   ],
   "source": [
    "r2 = metrics.r2_score(y_test, y_pred)\n",
    "mse = metrics.mean_squared_error(y_test, y_pred)\n",
    "rmse = metrics.mean_squared_error(y_test, y_pred, squared=False)\n",
    "adjusted_r2 = 1 - (1-r2)*(len(y_test)-1)/(len(y_test)-X_test.shape[1]-1)\n",
    "\n",
    "\n",
    "print(\"r2 score: \" + str(r2))\n",
    "print(\"mean squared error: \" + str(mse))\n",
    "print(\"root mean squared error: \" + str(rmse))\n",
    "print(\"adjusted r2 score: \" + str(adjusted_r2))"
   ]
  },
  {
   "cell_type": "code",
   "execution_count": null,
   "id": "12dbaf1b",
   "metadata": {},
   "outputs": [],
   "source": []
  }
 ],
 "metadata": {
  "kernelspec": {
   "display_name": "Python 3",
   "language": "python",
   "name": "python3"
  },
  "language_info": {
   "codemirror_mode": {
    "name": "ipython",
    "version": 3
   },
   "file_extension": ".py",
   "mimetype": "text/x-python",
   "name": "python",
   "nbconvert_exporter": "python",
   "pygments_lexer": "ipython3",
   "version": "3.9.12"
  }
 },
 "nbformat": 4,
 "nbformat_minor": 5
}
