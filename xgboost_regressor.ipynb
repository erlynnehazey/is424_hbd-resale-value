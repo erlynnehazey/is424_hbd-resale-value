{
 "cells": [
  {
   "cell_type": "code",
   "execution_count": 23,
   "id": "2ff6c1c1",
   "metadata": {},
   "outputs": [],
   "source": [
    "import pandas as pd\n",
    "import numpy as np\n",
    "import seaborn as sns\n",
    "import matplotlib.pyplot as plt\n",
    "import folium \n",
    "import requests\n",
    "import json\n",
    "from geopy.distance import geodesic\n",
    "\n",
    "from sklearn.datasets import load_boston\n",
    "from sklearn.model_selection import train_test_split\n",
    "from sklearn.inspection import permutation_importance\n",
    "from matplotlib import pyplot as plt\n",
    "import seaborn as sns # for correlation heatmap\n",
    "\n",
    "from xgboost import XGBRegressor\n",
    "from sklearn import preprocessing\n",
    "\n",
    "from scipy import stats\n",
    "from numpy import mean\n",
    "from numpy import std\n",
    "from sklearn.datasets import make_regression\n",
    "from sklearn.model_selection import cross_val_score\n",
    "from sklearn.model_selection import KFold\n",
    "\n",
    "from sklearn import metrics\n",
    "from sklearn.metrics import mean_squared_error \n",
    "from sklearn.model_selection import train_test_split \n",
    "import xgboost as xgb "
   ]
  },
  {
   "cell_type": "code",
   "execution_count": 24,
   "id": "af070bb7",
   "metadata": {},
   "outputs": [],
   "source": [
    "hdb_latest_df = pd.read_csv(\"final_hdb_resale_prices.csv\")\n",
    "# hdb_latest_df = pd.read_csv(\"hdb_model_data.csv\")\n",
    "# focusing on these three years\n",
    "hdb_latest_df = hdb_latest_df.reset_index()\n",
    "hdb_latest_df = hdb_latest_df.drop(columns=[\"index\"])\n",
    "\n",
    "years_needed = [2020,2021,2022]\n",
    "hdb_latest_df = hdb_latest_df.loc[hdb_latest_df['year'].isin(years_needed)]"
   ]
  },
  {
   "cell_type": "code",
   "execution_count": 25,
   "id": "49c77652",
   "metadata": {},
   "outputs": [
    {
     "data": {
      "text/plain": [
       "4 ROOM       33306\n",
       "5 ROOM       20505\n",
       "3 ROOM       17997\n",
       "EXECUTIVE     6026\n",
       "Name: flat_type, dtype: int64"
      ]
     },
     "execution_count": 25,
     "metadata": {},
     "output_type": "execute_result"
    }
   ],
   "source": [
    "hdb_latest_df['flat_type'].value_counts()"
   ]
  },
  {
   "cell_type": "code",
   "execution_count": 26,
   "id": "c915fe83",
   "metadata": {},
   "outputs": [],
   "source": [
    "hdb_latest_df['cpi_adjusted_price_per_sqm'] = hdb_latest_df['cpi_adjusted_price']/hdb_latest_df['floor_area_sqm']"
   ]
  },
  {
   "cell_type": "code",
   "execution_count": 27,
   "id": "8cc37063",
   "metadata": {},
   "outputs": [
    {
     "data": {
      "text/plain": [
       "0         63275\n",
       "1         63276\n",
       "2         63277\n",
       "3         63278\n",
       "4         63279\n",
       "          ...  \n",
       "77829    141104\n",
       "77830    141105\n",
       "77831    141106\n",
       "77832    141107\n",
       "77833    141108\n",
       "Name: Unnamed: 0, Length: 77834, dtype: int64"
      ]
     },
     "execution_count": 27,
     "metadata": {},
     "output_type": "execute_result"
    }
   ],
   "source": [
    "hdb_latest_df = hdb_latest_df.drop(['month','town','Latitude','Longitude','year','address','resale_price','cpi_multiplier','floor_area_sqm','cpi_adjusted_price'],axis=1)\n",
    "hdb_latest_df = hdb_latest_df.reset_index()\n",
    "hdb_latest_df = hdb_latest_df.drop([\"index\"],axis=1)\n",
    "hdb_latest_df.pop(hdb_latest_df.columns[0])"
   ]
  },
  {
   "cell_type": "code",
   "execution_count": 28,
   "id": "a0af0e4c",
   "metadata": {},
   "outputs": [
    {
     "data": {
      "text/html": [
       "<div>\n",
       "<style scoped>\n",
       "    .dataframe tbody tr th:only-of-type {\n",
       "        vertical-align: middle;\n",
       "    }\n",
       "\n",
       "    .dataframe tbody tr th {\n",
       "        vertical-align: top;\n",
       "    }\n",
       "\n",
       "    .dataframe thead th {\n",
       "        text-align: right;\n",
       "    }\n",
       "</style>\n",
       "<table border=\"1\" class=\"dataframe\">\n",
       "  <thead>\n",
       "    <tr style=\"text-align: right;\">\n",
       "      <th></th>\n",
       "      <th>flat_type</th>\n",
       "      <th>storey_range</th>\n",
       "      <th>flat_model</th>\n",
       "      <th>no.of bto</th>\n",
       "      <th>resale application</th>\n",
       "      <th>demand ratio</th>\n",
       "      <th>remaining_lease_months</th>\n",
       "      <th>Distance to nearest MRT</th>\n",
       "      <th>Distance to CBD</th>\n",
       "      <th>Distance to nearest mall</th>\n",
       "      <th>isMatureEstate</th>\n",
       "      <th>cpi_adjusted_price_per_sqm</th>\n",
       "    </tr>\n",
       "  </thead>\n",
       "  <tbody>\n",
       "    <tr>\n",
       "      <th>0</th>\n",
       "      <td>3 ROOM</td>\n",
       "      <td>5</td>\n",
       "      <td>New Generation</td>\n",
       "      <td>7314</td>\n",
       "      <td>26436.0</td>\n",
       "      <td>1.13</td>\n",
       "      <td>667</td>\n",
       "      <td>908.970521</td>\n",
       "      <td>9026.295266</td>\n",
       "      <td>775.593122</td>\n",
       "      <td>1</td>\n",
       "      <td>3619.754795</td>\n",
       "    </tr>\n",
       "    <tr>\n",
       "      <th>1</th>\n",
       "      <td>3 ROOM</td>\n",
       "      <td>20</td>\n",
       "      <td>Model A</td>\n",
       "      <td>7314</td>\n",
       "      <td>26436.0</td>\n",
       "      <td>1.13</td>\n",
       "      <td>1100</td>\n",
       "      <td>687.185319</td>\n",
       "      <td>9015.122154</td>\n",
       "      <td>561.028714</td>\n",
       "      <td>1</td>\n",
       "      <td>6695.082857</td>\n",
       "    </tr>\n",
       "    <tr>\n",
       "      <th>2</th>\n",
       "      <td>3 ROOM</td>\n",
       "      <td>2</td>\n",
       "      <td>New Generation</td>\n",
       "      <td>7314</td>\n",
       "      <td>26436.0</td>\n",
       "      <td>1.13</td>\n",
       "      <td>676</td>\n",
       "      <td>586.980690</td>\n",
       "      <td>8949.443986</td>\n",
       "      <td>489.978660</td>\n",
       "      <td>1</td>\n",
       "      <td>3141.673973</td>\n",
       "    </tr>\n",
       "    <tr>\n",
       "      <th>3</th>\n",
       "      <td>3 ROOM</td>\n",
       "      <td>5</td>\n",
       "      <td>New Generation</td>\n",
       "      <td>7314</td>\n",
       "      <td>26436.0</td>\n",
       "      <td>1.13</td>\n",
       "      <td>663</td>\n",
       "      <td>800.631299</td>\n",
       "      <td>9123.690385</td>\n",
       "      <td>806.304304</td>\n",
       "      <td>1</td>\n",
       "      <td>3824.646575</td>\n",
       "    </tr>\n",
       "    <tr>\n",
       "      <th>4</th>\n",
       "      <td>3 ROOM</td>\n",
       "      <td>8</td>\n",
       "      <td>New Generation</td>\n",
       "      <td>7314</td>\n",
       "      <td>26436.0</td>\n",
       "      <td>1.13</td>\n",
       "      <td>708</td>\n",
       "      <td>927.322849</td>\n",
       "      <td>9734.443856</td>\n",
       "      <td>1059.121690</td>\n",
       "      <td>1</td>\n",
       "      <td>3226.041176</td>\n",
       "    </tr>\n",
       "    <tr>\n",
       "      <th>...</th>\n",
       "      <td>...</td>\n",
       "      <td>...</td>\n",
       "      <td>...</td>\n",
       "      <td>...</td>\n",
       "      <td>...</td>\n",
       "      <td>...</td>\n",
       "      <td>...</td>\n",
       "      <td>...</td>\n",
       "      <td>...</td>\n",
       "      <td>...</td>\n",
       "      <td>...</td>\n",
       "      <td>...</td>\n",
       "    </tr>\n",
       "    <tr>\n",
       "      <th>77829</th>\n",
       "      <td>EXECUTIVE</td>\n",
       "      <td>8</td>\n",
       "      <td>Maisonette</td>\n",
       "      <td>20064</td>\n",
       "      <td>30370.0</td>\n",
       "      <td>1.14</td>\n",
       "      <td>780</td>\n",
       "      <td>1182.415251</td>\n",
       "      <td>15623.766720</td>\n",
       "      <td>908.910361</td>\n",
       "      <td>0</td>\n",
       "      <td>6158.429452</td>\n",
       "    </tr>\n",
       "    <tr>\n",
       "      <th>77830</th>\n",
       "      <td>EXECUTIVE</td>\n",
       "      <td>8</td>\n",
       "      <td>Apartment</td>\n",
       "      <td>20064</td>\n",
       "      <td>30370.0</td>\n",
       "      <td>1.14</td>\n",
       "      <td>766</td>\n",
       "      <td>661.035324</td>\n",
       "      <td>15234.077610</td>\n",
       "      <td>568.606554</td>\n",
       "      <td>0</td>\n",
       "      <td>5859.823380</td>\n",
       "    </tr>\n",
       "    <tr>\n",
       "      <th>77831</th>\n",
       "      <td>EXECUTIVE</td>\n",
       "      <td>8</td>\n",
       "      <td>Apartment</td>\n",
       "      <td>20064</td>\n",
       "      <td>30370.0</td>\n",
       "      <td>1.14</td>\n",
       "      <td>766</td>\n",
       "      <td>661.035324</td>\n",
       "      <td>15234.077610</td>\n",
       "      <td>568.606554</td>\n",
       "      <td>0</td>\n",
       "      <td>5776.556939</td>\n",
       "    </tr>\n",
       "    <tr>\n",
       "      <th>77832</th>\n",
       "      <td>EXECUTIVE</td>\n",
       "      <td>11</td>\n",
       "      <td>Maisonette</td>\n",
       "      <td>20064</td>\n",
       "      <td>30370.0</td>\n",
       "      <td>1.14</td>\n",
       "      <td>768</td>\n",
       "      <td>573.471701</td>\n",
       "      <td>15246.853760</td>\n",
       "      <td>668.020144</td>\n",
       "      <td>0</td>\n",
       "      <td>5743.008767</td>\n",
       "    </tr>\n",
       "    <tr>\n",
       "      <th>77833</th>\n",
       "      <td>EXECUTIVE</td>\n",
       "      <td>5</td>\n",
       "      <td>Apartment</td>\n",
       "      <td>20064</td>\n",
       "      <td>30370.0</td>\n",
       "      <td>1.14</td>\n",
       "      <td>768</td>\n",
       "      <td>573.471701</td>\n",
       "      <td>15246.853760</td>\n",
       "      <td>668.020144</td>\n",
       "      <td>0</td>\n",
       "      <td>5545.101408</td>\n",
       "    </tr>\n",
       "  </tbody>\n",
       "</table>\n",
       "<p>77834 rows × 12 columns</p>\n",
       "</div>"
      ],
      "text/plain": [
       "       flat_type  storey_range      flat_model  no.of bto  resale application  \\\n",
       "0         3 ROOM             5  New Generation       7314             26436.0   \n",
       "1         3 ROOM            20         Model A       7314             26436.0   \n",
       "2         3 ROOM             2  New Generation       7314             26436.0   \n",
       "3         3 ROOM             5  New Generation       7314             26436.0   \n",
       "4         3 ROOM             8  New Generation       7314             26436.0   \n",
       "...          ...           ...             ...        ...                 ...   \n",
       "77829  EXECUTIVE             8      Maisonette      20064             30370.0   \n",
       "77830  EXECUTIVE             8       Apartment      20064             30370.0   \n",
       "77831  EXECUTIVE             8       Apartment      20064             30370.0   \n",
       "77832  EXECUTIVE            11      Maisonette      20064             30370.0   \n",
       "77833  EXECUTIVE             5       Apartment      20064             30370.0   \n",
       "\n",
       "       demand ratio  remaining_lease_months  Distance to nearest MRT  \\\n",
       "0              1.13                     667               908.970521   \n",
       "1              1.13                    1100               687.185319   \n",
       "2              1.13                     676               586.980690   \n",
       "3              1.13                     663               800.631299   \n",
       "4              1.13                     708               927.322849   \n",
       "...             ...                     ...                      ...   \n",
       "77829          1.14                     780              1182.415251   \n",
       "77830          1.14                     766               661.035324   \n",
       "77831          1.14                     766               661.035324   \n",
       "77832          1.14                     768               573.471701   \n",
       "77833          1.14                     768               573.471701   \n",
       "\n",
       "       Distance to CBD  Distance to nearest mall  isMatureEstate  \\\n",
       "0          9026.295266                775.593122               1   \n",
       "1          9015.122154                561.028714               1   \n",
       "2          8949.443986                489.978660               1   \n",
       "3          9123.690385                806.304304               1   \n",
       "4          9734.443856               1059.121690               1   \n",
       "...                ...                       ...             ...   \n",
       "77829     15623.766720                908.910361               0   \n",
       "77830     15234.077610                568.606554               0   \n",
       "77831     15234.077610                568.606554               0   \n",
       "77832     15246.853760                668.020144               0   \n",
       "77833     15246.853760                668.020144               0   \n",
       "\n",
       "       cpi_adjusted_price_per_sqm  \n",
       "0                     3619.754795  \n",
       "1                     6695.082857  \n",
       "2                     3141.673973  \n",
       "3                     3824.646575  \n",
       "4                     3226.041176  \n",
       "...                           ...  \n",
       "77829                 6158.429452  \n",
       "77830                 5859.823380  \n",
       "77831                 5776.556939  \n",
       "77832                 5743.008767  \n",
       "77833                 5545.101408  \n",
       "\n",
       "[77834 rows x 12 columns]"
      ]
     },
     "execution_count": 28,
     "metadata": {},
     "output_type": "execute_result"
    }
   ],
   "source": [
    "hdb_latest_df"
   ]
  },
  {
   "cell_type": "code",
   "execution_count": 29,
   "id": "16f33b24",
   "metadata": {},
   "outputs": [],
   "source": [
    "# label encode\n",
    "\n",
    "label_encoder = preprocessing.LabelEncoder()\n",
    "hdb_latest_df['flat_model']= label_encoder.fit_transform(hdb_latest_df['flat_model'])\n",
    "  \n",
    "hdb_latest_df['flat_type']= label_encoder.fit_transform(hdb_latest_df['flat_type'])"
   ]
  },
  {
   "cell_type": "code",
   "execution_count": 30,
   "id": "5cf68b58",
   "metadata": {},
   "outputs": [],
   "source": [
    "# remove the outliers\n",
    "hdb_latest_df = hdb_latest_df[(np.abs(stats.zscore(hdb_latest_df[\"cpi_adjusted_price_per_sqm\"])) < 3)]\n"
   ]
  },
  {
   "cell_type": "code",
   "execution_count": 31,
   "id": "e873d55c",
   "metadata": {},
   "outputs": [],
   "source": [
    "hdb_latest_df.to_csv(\"hdb_latest_df_px.csv\")"
   ]
  },
  {
   "cell_type": "code",
   "execution_count": 32,
   "id": "dfd8a100",
   "metadata": {},
   "outputs": [],
   "source": [
    "X = hdb_latest_df.loc[:, hdb_latest_df.columns != \"cpi_adjusted_price_per_sqm\"]\n",
    "y = hdb_latest_df[[\"cpi_adjusted_price_per_sqm\"]]\n",
    "X_train, X_test, y_train, y_test = train_test_split(X, y, test_size=0.25, random_state=12)"
   ]
  },
  {
   "cell_type": "code",
   "execution_count": 33,
   "id": "366cd058",
   "metadata": {},
   "outputs": [],
   "source": [
    "# scaling x_train\n",
    "from sklearn.preprocessing import StandardScaler\n",
    "numeric_features = [\"Distance to nearest mall\",\"Distance to CBD\", \"remaining_lease_months\",\"no.of bto\"]\n"
   ]
  },
  {
   "cell_type": "code",
   "execution_count": 34,
   "id": "009effc1",
   "metadata": {},
   "outputs": [
    {
     "data": {
      "text/plain": [
       "XGBRegressor(base_score=None, booster=None, callbacks=None,\n",
       "             colsample_bylevel=None, colsample_bynode=None,\n",
       "             colsample_bytree=None, early_stopping_rounds=None,\n",
       "             enable_categorical=False, eta=0.05, eval_metric=None,\n",
       "             feature_types=None, gamma=None, gpu_id=None, grow_policy=None,\n",
       "             importance_type=None, interaction_constraints=None,\n",
       "             learning_rate=None, max_bin=None, max_cat_threshold=None,\n",
       "             max_cat_to_onehot=None, max_delta_step=None, max_depth=5,\n",
       "             max_leaves=None, min_child_weight=None, missing=nan,\n",
       "             monotone_constraints=None, n_estimators=500, n_jobs=None,\n",
       "             num_parallel_tree=None, predictor=None, ...)"
      ]
     },
     "execution_count": 34,
     "metadata": {},
     "output_type": "execute_result"
    }
   ],
   "source": [
    "# fit the model\n",
    "model = xgb.XGBRegressor(n_estimators=500, max_depth=5, eta=0.05)\n",
    "model.fit(X_train, y_train)\n",
    "\n",
    "\n",
    "\n"
   ]
  },
  {
   "cell_type": "code",
   "execution_count": 35,
   "id": "01c27bee",
   "metadata": {},
   "outputs": [
    {
     "data": {
      "text/plain": [
       "<BarContainer object of 11 artists>"
      ]
     },
     "execution_count": 35,
     "metadata": {},
     "output_type": "execute_result"
    },
    {
     "data": {
      "image/png": "[encoded data removed]",
      "text/plain": [
       "<Figure size 640x480 with 1 Axes>"
      ]
     },
     "metadata": {},
     "output_type": "display_data"
    }
   ],
   "source": [
    "# find the feature importance \n",
    "\n",
    "plt.barh(X.columns, model.feature_importances_)\n"
   ]
  },
  {
   "cell_type": "code",
   "execution_count": 36,
   "id": "172cb73f",
   "metadata": {},
   "outputs": [],
   "source": [
    "hdb_latest_df = hdb_latest_df.drop([\"demand ratio\",\"resale application\"],axis=1)"
   ]
  },
  {
   "cell_type": "markdown",
   "id": "82868e08",
   "metadata": {},
   "source": [
    "n_estimators: The number of trees in the ensemble, often increased until no further improvements are seen.<br>\n",
    "max_depth: The maximum depth of each tree, often values are between 1 and 10.<br>\n",
    "eta: The learning rate used to weight each model, often set to small values such as 0.3, 0.1, 0.01, or smaller.<br>\n",
    "subsample: The number of samples (rows) used in each tree, set to a value between 0 and 1, often 1.0 to use all samples.<br>\n",
    "colsample_bytree: Number of features (columns) used in each tree, set to a value between 0 and 1, often 1.0 to use all features.<br>"
   ]
  },
  {
   "cell_type": "code",
   "execution_count": 37,
   "id": "e5a07580",
   "metadata": {},
   "outputs": [],
   "source": [
    "# xgboost with target and label encoding methods had better performance on class 0, 1, and 2, \n",
    "# and xgboost with one hot and entity embedding methods had better performance on class 0 and 4.\n",
    "# Xgboost with one hot encoding and entity embedding can lead to similar model performance results.\n"
   ]
  },
  {
   "cell_type": "code",
   "execution_count": 39,
   "id": "206e4031",
   "metadata": {},
   "outputs": [
    {
     "data": {
      "text/html": [
       "<div>\n",
       "<style scoped>\n",
       "    .dataframe tbody tr th:only-of-type {\n",
       "        vertical-align: middle;\n",
       "    }\n",
       "\n",
       "    .dataframe tbody tr th {\n",
       "        vertical-align: top;\n",
       "    }\n",
       "\n",
       "    .dataframe thead th {\n",
       "        text-align: right;\n",
       "    }\n",
       "</style>\n",
       "<table border=\"1\" class=\"dataframe\">\n",
       "  <thead>\n",
       "    <tr style=\"text-align: right;\">\n",
       "      <th></th>\n",
       "      <th>flat_type</th>\n",
       "      <th>storey_range</th>\n",
       "      <th>flat_model</th>\n",
       "      <th>no.of bto</th>\n",
       "      <th>remaining_lease_months</th>\n",
       "      <th>Distance to nearest MRT</th>\n",
       "      <th>Distance to CBD</th>\n",
       "      <th>Distance to nearest mall</th>\n",
       "      <th>isMatureEstate</th>\n",
       "      <th>cpi_adjusted_price_per_sqm</th>\n",
       "    </tr>\n",
       "  </thead>\n",
       "  <tbody>\n",
       "    <tr>\n",
       "      <th>0</th>\n",
       "      <td>0</td>\n",
       "      <td>5</td>\n",
       "      <td>10</td>\n",
       "      <td>7314</td>\n",
       "      <td>667</td>\n",
       "      <td>908.970521</td>\n",
       "      <td>9026.295266</td>\n",
       "      <td>775.593122</td>\n",
       "      <td>1</td>\n",
       "      <td>3619.754795</td>\n",
       "    </tr>\n",
       "    <tr>\n",
       "      <th>1</th>\n",
       "      <td>0</td>\n",
       "      <td>20</td>\n",
       "      <td>7</td>\n",
       "      <td>7314</td>\n",
       "      <td>1100</td>\n",
       "      <td>687.185319</td>\n",
       "      <td>9015.122154</td>\n",
       "      <td>561.028714</td>\n",
       "      <td>1</td>\n",
       "      <td>6695.082857</td>\n",
       "    </tr>\n",
       "    <tr>\n",
       "      <th>2</th>\n",
       "      <td>0</td>\n",
       "      <td>2</td>\n",
       "      <td>10</td>\n",
       "      <td>7314</td>\n",
       "      <td>676</td>\n",
       "      <td>586.980690</td>\n",
       "      <td>8949.443986</td>\n",
       "      <td>489.978660</td>\n",
       "      <td>1</td>\n",
       "      <td>3141.673973</td>\n",
       "    </tr>\n",
       "    <tr>\n",
       "      <th>3</th>\n",
       "      <td>0</td>\n",
       "      <td>5</td>\n",
       "      <td>10</td>\n",
       "      <td>7314</td>\n",
       "      <td>663</td>\n",
       "      <td>800.631299</td>\n",
       "      <td>9123.690385</td>\n",
       "      <td>806.304304</td>\n",
       "      <td>1</td>\n",
       "      <td>3824.646575</td>\n",
       "    </tr>\n",
       "    <tr>\n",
       "      <th>4</th>\n",
       "      <td>0</td>\n",
       "      <td>8</td>\n",
       "      <td>10</td>\n",
       "      <td>7314</td>\n",
       "      <td>708</td>\n",
       "      <td>927.322849</td>\n",
       "      <td>9734.443856</td>\n",
       "      <td>1059.121690</td>\n",
       "      <td>1</td>\n",
       "      <td>3226.041176</td>\n",
       "    </tr>\n",
       "    <tr>\n",
       "      <th>...</th>\n",
       "      <td>...</td>\n",
       "      <td>...</td>\n",
       "      <td>...</td>\n",
       "      <td>...</td>\n",
       "      <td>...</td>\n",
       "      <td>...</td>\n",
       "      <td>...</td>\n",
       "      <td>...</td>\n",
       "      <td>...</td>\n",
       "      <td>...</td>\n",
       "    </tr>\n",
       "    <tr>\n",
       "      <th>77829</th>\n",
       "      <td>3</td>\n",
       "      <td>8</td>\n",
       "      <td>6</td>\n",
       "      <td>20064</td>\n",
       "      <td>780</td>\n",
       "      <td>1182.415251</td>\n",
       "      <td>15623.766720</td>\n",
       "      <td>908.910361</td>\n",
       "      <td>0</td>\n",
       "      <td>6158.429452</td>\n",
       "    </tr>\n",
       "    <tr>\n",
       "      <th>77830</th>\n",
       "      <td>3</td>\n",
       "      <td>8</td>\n",
       "      <td>2</td>\n",
       "      <td>20064</td>\n",
       "      <td>766</td>\n",
       "      <td>661.035324</td>\n",
       "      <td>15234.077610</td>\n",
       "      <td>568.606554</td>\n",
       "      <td>0</td>\n",
       "      <td>5859.823380</td>\n",
       "    </tr>\n",
       "    <tr>\n",
       "      <th>77831</th>\n",
       "      <td>3</td>\n",
       "      <td>8</td>\n",
       "      <td>2</td>\n",
       "      <td>20064</td>\n",
       "      <td>766</td>\n",
       "      <td>661.035324</td>\n",
       "      <td>15234.077610</td>\n",
       "      <td>568.606554</td>\n",
       "      <td>0</td>\n",
       "      <td>5776.556939</td>\n",
       "    </tr>\n",
       "    <tr>\n",
       "      <th>77832</th>\n",
       "      <td>3</td>\n",
       "      <td>11</td>\n",
       "      <td>6</td>\n",
       "      <td>20064</td>\n",
       "      <td>768</td>\n",
       "      <td>573.471701</td>\n",
       "      <td>15246.853760</td>\n",
       "      <td>668.020144</td>\n",
       "      <td>0</td>\n",
       "      <td>5743.008767</td>\n",
       "    </tr>\n",
       "    <tr>\n",
       "      <th>77833</th>\n",
       "      <td>3</td>\n",
       "      <td>5</td>\n",
       "      <td>2</td>\n",
       "      <td>20064</td>\n",
       "      <td>768</td>\n",
       "      <td>573.471701</td>\n",
       "      <td>15246.853760</td>\n",
       "      <td>668.020144</td>\n",
       "      <td>0</td>\n",
       "      <td>5545.101408</td>\n",
       "    </tr>\n",
       "  </tbody>\n",
       "</table>\n",
       "<p>76233 rows × 10 columns</p>\n",
       "</div>"
      ],
      "text/plain": [
       "       flat_type  storey_range  flat_model  no.of bto  remaining_lease_months  \\\n",
       "0              0             5          10       7314                     667   \n",
       "1              0            20           7       7314                    1100   \n",
       "2              0             2          10       7314                     676   \n",
       "3              0             5          10       7314                     663   \n",
       "4              0             8          10       7314                     708   \n",
       "...          ...           ...         ...        ...                     ...   \n",
       "77829          3             8           6      20064                     780   \n",
       "77830          3             8           2      20064                     766   \n",
       "77831          3             8           2      20064                     766   \n",
       "77832          3            11           6      20064                     768   \n",
       "77833          3             5           2      20064                     768   \n",
       "\n",
       "       Distance to nearest MRT  Distance to CBD  Distance to nearest mall  \\\n",
       "0                   908.970521      9026.295266                775.593122   \n",
       "1                   687.185319      9015.122154                561.028714   \n",
       "2                   586.980690      8949.443986                489.978660   \n",
       "3                   800.631299      9123.690385                806.304304   \n",
       "4                   927.322849      9734.443856               1059.121690   \n",
       "...                        ...              ...                       ...   \n",
       "77829              1182.415251     15623.766720                908.910361   \n",
       "77830               661.035324     15234.077610                568.606554   \n",
       "77831               661.035324     15234.077610                568.606554   \n",
       "77832               573.471701     15246.853760                668.020144   \n",
       "77833               573.471701     15246.853760                668.020144   \n",
       "\n",
       "       isMatureEstate  cpi_adjusted_price_per_sqm  \n",
       "0                   1                 3619.754795  \n",
       "1                   1                 6695.082857  \n",
       "2                   1                 3141.673973  \n",
       "3                   1                 3824.646575  \n",
       "4                   1                 3226.041176  \n",
       "...               ...                         ...  \n",
       "77829               0                 6158.429452  \n",
       "77830               0                 5859.823380  \n",
       "77831               0                 5776.556939  \n",
       "77832               0                 5743.008767  \n",
       "77833               0                 5545.101408  \n",
       "\n",
       "[76233 rows x 10 columns]"
      ]
     },
     "execution_count": 39,
     "metadata": {},
     "output_type": "execute_result"
    }
   ],
   "source": [
    "# XGBoost does not support categorical variables natively, so it is necessary to encode them prior to training\n",
    "hdb_latest_df"
   ]
  },
  {
   "cell_type": "markdown",
   "id": "88beef29",
   "metadata": {},
   "source": [
    "# Model Tuning"
   ]
  },
  {
   "cell_type": "markdown",
   "id": "19e7164e",
   "metadata": {},
   "source": [
    "<h3>Booster</h3>"
   ]
  },
  {
   "cell_type": "markdown",
   "id": "100c952b",
   "metadata": {},
   "source": [
    "General Parameters\n",
    "\n",
    "[default=gbtree]\n",
    "\n",
    "Select the type of model to run at each iteration. It has 2 options:\n",
    "\n",
    "gbtree: tree-based models\n",
    "gblinear: linear models\n",
    "\n",
    "silent [default=0]:\n",
    "Silent mode is activated is set to 1, i.e. no running messages will be printed.\n",
    "It’s generally good to keep it 0 as the messages might help in understanding the model.\n",
    "\n",
    "nthread [default to maximum number of threads available if not set]\n",
    "This is used for parallel processing and number of cores in the system should be entered\n",
    "If you wish to run on all cores, value should not be entered and algorithm will detect automatically"
   ]
  },
  {
   "cell_type": "markdown",
   "id": "beeae598",
   "metadata": {},
   "source": [
    "# Train Test Split"
   ]
  },
  {
   "cell_type": "code",
   "execution_count": 40,
   "id": "bb1c92ac",
   "metadata": {},
   "outputs": [],
   "source": [
    "# using train_test_split\n",
    "# define dataset\n",
    "# scale the data \n",
    "\n",
    "X = hdb_latest_df.loc[:,~hdb_latest_df.columns.isin(['cpi_adjusted_price_per_sqm'])] \n",
    "y = hdb_latest_df[[\"cpi_adjusted_price_per_sqm\"]]\n",
    "\n",
    "X_train, X_test, y_train, y_test = train_test_split(X, y, test_size=0.2, random_state=123) \n",
    "\n",
    "\n",
    "# standardise the data\n",
    "scaler = StandardScaler()\n",
    "X_train= scaler.fit_transform(X_train)\n",
    "X_test= scaler.fit_transform(X_test)\n",
    "y_train = scaler.fit_transform(y_train)\n",
    "y_test = scaler.fit_transform(y_test)\n",
    "\n",
    "\n",
    "\n",
    "# rmse – root mean square error\n",
    "# mae – mean absolute error\n",
    "# logloss – negative log-likelihood\n",
    "# error – Binary classification error rate (0.5 thresholds)\n",
    "# merror – Multiclass classification error rate\n",
    "# mlogloss – Multiclass logloss\n",
    "# auc: Area under the curve\n",
    "\n"
   ]
  },
  {
   "cell_type": "code",
   "execution_count": 41,
   "id": "6ee9e9fb",
   "metadata": {},
   "outputs": [],
   "source": [
    "# find good K value for k-fold validation\n",
    "# evaluate the model using a given test condition\n",
    "def evaluate_model(cv,X_train_loo,y_train):\n",
    "  # get the dataset\n",
    "  ###  Independent And dependent features\n",
    "  # get the model\n",
    "  model = XGBRegressor(random_state=123)\n",
    "  # evaluate the model\n",
    "  scores = cross_val_score(model, X_train, y_train, scoring='neg_mean_squared_error', cv=cv, n_jobs=-1)\n",
    "  # return scores\n",
    "  return std(scores)\n"
   ]
  },
  {
   "cell_type": "code",
   "execution_count": 42,
   "id": "b4b6655c",
   "metadata": {},
   "outputs": [
    {
     "ename": "KeyboardInterrupt",
     "evalue": "",
     "output_type": "error",
     "traceback": [
      "\u001b[0;31m---------------------------------------------------------------------------\u001b[0m",
      "\u001b[0;31mKeyboardInterrupt\u001b[0m                         Traceback (most recent call last)",
      "\u001b[0;32m/var/folders/xk/05mnlwt50k19lbm41jbfty7w0000gn/T/ipykernel_47895/859588727.py\u001b[0m in \u001b[0;36m<module>\u001b[0;34m\u001b[0m\n\u001b[1;32m      5\u001b[0m     \u001b[0mcv\u001b[0m \u001b[0;34m=\u001b[0m \u001b[0mKFold\u001b[0m\u001b[0;34m(\u001b[0m\u001b[0mn_splits\u001b[0m\u001b[0;34m=\u001b[0m\u001b[0mk\u001b[0m\u001b[0;34m,\u001b[0m \u001b[0mshuffle\u001b[0m\u001b[0;34m=\u001b[0m\u001b[0;32mTrue\u001b[0m\u001b[0;34m,\u001b[0m \u001b[0mrandom_state\u001b[0m\u001b[0;34m=\u001b[0m\u001b[0;36m123\u001b[0m\u001b[0;34m)\u001b[0m\u001b[0;34m\u001b[0m\u001b[0;34m\u001b[0m\u001b[0m\n\u001b[1;32m      6\u001b[0m     \u001b[0;31m# record mean and min/max of each set of results\u001b[0m\u001b[0;34m\u001b[0m\u001b[0;34m\u001b[0m\u001b[0m\n\u001b[0;32m----> 7\u001b[0;31m     \u001b[0mstd_scores\u001b[0m \u001b[0;34m=\u001b[0m \u001b[0mevaluate_model\u001b[0m\u001b[0;34m(\u001b[0m\u001b[0mcv\u001b[0m\u001b[0;34m,\u001b[0m\u001b[0mX_train\u001b[0m\u001b[0;34m,\u001b[0m\u001b[0my_train\u001b[0m\u001b[0;34m)\u001b[0m\u001b[0;34m\u001b[0m\u001b[0;34m\u001b[0m\u001b[0m\n\u001b[0m\u001b[1;32m      8\u001b[0m     \u001b[0;31m# report performance\u001b[0m\u001b[0;34m\u001b[0m\u001b[0;34m\u001b[0m\u001b[0m\n\u001b[1;32m      9\u001b[0m     \u001b[0mresult\u001b[0m\u001b[0;34m.\u001b[0m\u001b[0mappend\u001b[0m\u001b[0;34m(\u001b[0m\u001b[0mstd_scores\u001b[0m\u001b[0;34m)\u001b[0m\u001b[0;34m\u001b[0m\u001b[0;34m\u001b[0m\u001b[0m\n",
      "\u001b[0;32m/var/folders/xk/05mnlwt50k19lbm41jbfty7w0000gn/T/ipykernel_47895/1076477975.py\u001b[0m in \u001b[0;36mevaluate_model\u001b[0;34m(cv, X_train_loo, y_train)\u001b[0m\n\u001b[1;32m      7\u001b[0m   \u001b[0mmodel\u001b[0m \u001b[0;34m=\u001b[0m \u001b[0mXGBRegressor\u001b[0m\u001b[0;34m(\u001b[0m\u001b[0mrandom_state\u001b[0m\u001b[0;34m=\u001b[0m\u001b[0;36m123\u001b[0m\u001b[0;34m)\u001b[0m\u001b[0;34m\u001b[0m\u001b[0;34m\u001b[0m\u001b[0m\n\u001b[1;32m      8\u001b[0m   \u001b[0;31m# evaluate the model\u001b[0m\u001b[0;34m\u001b[0m\u001b[0;34m\u001b[0m\u001b[0m\n\u001b[0;32m----> 9\u001b[0;31m   \u001b[0mscores\u001b[0m \u001b[0;34m=\u001b[0m \u001b[0mcross_val_score\u001b[0m\u001b[0;34m(\u001b[0m\u001b[0mmodel\u001b[0m\u001b[0;34m,\u001b[0m \u001b[0mX_train\u001b[0m\u001b[0;34m,\u001b[0m \u001b[0my_train\u001b[0m\u001b[0;34m,\u001b[0m \u001b[0mscoring\u001b[0m\u001b[0;34m=\u001b[0m\u001b[0;34m'neg_mean_squared_error'\u001b[0m\u001b[0;34m,\u001b[0m \u001b[0mcv\u001b[0m\u001b[0;34m=\u001b[0m\u001b[0mcv\u001b[0m\u001b[0;34m,\u001b[0m \u001b[0mn_jobs\u001b[0m\u001b[0;34m=\u001b[0m\u001b[0;34m-\u001b[0m\u001b[0;36m1\u001b[0m\u001b[0;34m)\u001b[0m\u001b[0;34m\u001b[0m\u001b[0;34m\u001b[0m\u001b[0m\n\u001b[0m\u001b[1;32m     10\u001b[0m   \u001b[0;31m# return scores\u001b[0m\u001b[0;34m\u001b[0m\u001b[0;34m\u001b[0m\u001b[0m\n\u001b[1;32m     11\u001b[0m   \u001b[0;32mreturn\u001b[0m \u001b[0mstd\u001b[0m\u001b[0;34m(\u001b[0m\u001b[0mscores\u001b[0m\u001b[0;34m)\u001b[0m\u001b[0;34m\u001b[0m\u001b[0;34m\u001b[0m\u001b[0m\n",
      "\u001b[0;32m~/opt/anaconda3/lib/python3.9/site-packages/sklearn/model_selection/_validation.py\u001b[0m in \u001b[0;36mcross_val_score\u001b[0;34m(estimator, X, y, groups, scoring, cv, n_jobs, verbose, fit_params, pre_dispatch, error_score)\u001b[0m\n\u001b[1;32m    507\u001b[0m     \u001b[0mscorer\u001b[0m \u001b[0;34m=\u001b[0m \u001b[0mcheck_scoring\u001b[0m\u001b[0;34m(\u001b[0m\u001b[0mestimator\u001b[0m\u001b[0;34m,\u001b[0m \u001b[0mscoring\u001b[0m\u001b[0;34m=\u001b[0m\u001b[0mscoring\u001b[0m\u001b[0;34m)\u001b[0m\u001b[0;34m\u001b[0m\u001b[0;34m\u001b[0m\u001b[0m\n\u001b[1;32m    508\u001b[0m \u001b[0;34m\u001b[0m\u001b[0m\n\u001b[0;32m--> 509\u001b[0;31m     cv_results = cross_validate(\n\u001b[0m\u001b[1;32m    510\u001b[0m         \u001b[0mestimator\u001b[0m\u001b[0;34m=\u001b[0m\u001b[0mestimator\u001b[0m\u001b[0;34m,\u001b[0m\u001b[0;34m\u001b[0m\u001b[0;34m\u001b[0m\u001b[0m\n\u001b[1;32m    511\u001b[0m         \u001b[0mX\u001b[0m\u001b[0;34m=\u001b[0m\u001b[0mX\u001b[0m\u001b[0;34m,\u001b[0m\u001b[0;34m\u001b[0m\u001b[0;34m\u001b[0m\u001b[0m\n",
      "\u001b[0;32m~/opt/anaconda3/lib/python3.9/site-packages/sklearn/model_selection/_validation.py\u001b[0m in \u001b[0;36mcross_validate\u001b[0;34m(estimator, X, y, groups, scoring, cv, n_jobs, verbose, fit_params, pre_dispatch, return_train_score, return_estimator, error_score)\u001b[0m\n\u001b[1;32m    265\u001b[0m     \u001b[0;31m# independent, and that it is pickle-able.\u001b[0m\u001b[0;34m\u001b[0m\u001b[0;34m\u001b[0m\u001b[0m\n\u001b[1;32m    266\u001b[0m     \u001b[0mparallel\u001b[0m \u001b[0;34m=\u001b[0m \u001b[0mParallel\u001b[0m\u001b[0;34m(\u001b[0m\u001b[0mn_jobs\u001b[0m\u001b[0;34m=\u001b[0m\u001b[0mn_jobs\u001b[0m\u001b[0;34m,\u001b[0m \u001b[0mverbose\u001b[0m\u001b[0;34m=\u001b[0m\u001b[0mverbose\u001b[0m\u001b[0;34m,\u001b[0m \u001b[0mpre_dispatch\u001b[0m\u001b[0;34m=\u001b[0m\u001b[0mpre_dispatch\u001b[0m\u001b[0;34m)\u001b[0m\u001b[0;34m\u001b[0m\u001b[0;34m\u001b[0m\u001b[0m\n\u001b[0;32m--> 267\u001b[0;31m     results = parallel(\n\u001b[0m\u001b[1;32m    268\u001b[0m         delayed(_fit_and_score)(\n\u001b[1;32m    269\u001b[0m             \u001b[0mclone\u001b[0m\u001b[0;34m(\u001b[0m\u001b[0mestimator\u001b[0m\u001b[0;34m)\u001b[0m\u001b[0;34m,\u001b[0m\u001b[0;34m\u001b[0m\u001b[0;34m\u001b[0m\u001b[0m\n",
      "\u001b[0;32m~/opt/anaconda3/lib/python3.9/site-packages/joblib/parallel.py\u001b[0m in \u001b[0;36m__call__\u001b[0;34m(self, iterable)\u001b[0m\n\u001b[1;32m   1054\u001b[0m \u001b[0;34m\u001b[0m\u001b[0m\n\u001b[1;32m   1055\u001b[0m             \u001b[0;32mwith\u001b[0m \u001b[0mself\u001b[0m\u001b[0;34m.\u001b[0m\u001b[0m_backend\u001b[0m\u001b[0;34m.\u001b[0m\u001b[0mretrieval_context\u001b[0m\u001b[0;34m(\u001b[0m\u001b[0;34m)\u001b[0m\u001b[0;34m:\u001b[0m\u001b[0;34m\u001b[0m\u001b[0;34m\u001b[0m\u001b[0m\n\u001b[0;32m-> 1056\u001b[0;31m                 \u001b[0mself\u001b[0m\u001b[0;34m.\u001b[0m\u001b[0mretrieve\u001b[0m\u001b[0;34m(\u001b[0m\u001b[0;34m)\u001b[0m\u001b[0;34m\u001b[0m\u001b[0;34m\u001b[0m\u001b[0m\n\u001b[0m\u001b[1;32m   1057\u001b[0m             \u001b[0;31m# Make sure that we get a last message telling us we are done\u001b[0m\u001b[0;34m\u001b[0m\u001b[0;34m\u001b[0m\u001b[0m\n\u001b[1;32m   1058\u001b[0m             \u001b[0melapsed_time\u001b[0m \u001b[0;34m=\u001b[0m \u001b[0mtime\u001b[0m\u001b[0;34m.\u001b[0m\u001b[0mtime\u001b[0m\u001b[0;34m(\u001b[0m\u001b[0;34m)\u001b[0m \u001b[0;34m-\u001b[0m \u001b[0mself\u001b[0m\u001b[0;34m.\u001b[0m\u001b[0m_start_time\u001b[0m\u001b[0;34m\u001b[0m\u001b[0;34m\u001b[0m\u001b[0m\n",
      "\u001b[0;32m~/opt/anaconda3/lib/python3.9/site-packages/joblib/parallel.py\u001b[0m in \u001b[0;36mretrieve\u001b[0;34m(self)\u001b[0m\n\u001b[1;32m    933\u001b[0m             \u001b[0;32mtry\u001b[0m\u001b[0;34m:\u001b[0m\u001b[0;34m\u001b[0m\u001b[0;34m\u001b[0m\u001b[0m\n\u001b[1;32m    934\u001b[0m                 \u001b[0;32mif\u001b[0m \u001b[0mgetattr\u001b[0m\u001b[0;34m(\u001b[0m\u001b[0mself\u001b[0m\u001b[0;34m.\u001b[0m\u001b[0m_backend\u001b[0m\u001b[0;34m,\u001b[0m \u001b[0;34m'supports_timeout'\u001b[0m\u001b[0;34m,\u001b[0m \u001b[0;32mFalse\u001b[0m\u001b[0;34m)\u001b[0m\u001b[0;34m:\u001b[0m\u001b[0;34m\u001b[0m\u001b[0;34m\u001b[0m\u001b[0m\n\u001b[0;32m--> 935\u001b[0;31m                     \u001b[0mself\u001b[0m\u001b[0;34m.\u001b[0m\u001b[0m_output\u001b[0m\u001b[0;34m.\u001b[0m\u001b[0mextend\u001b[0m\u001b[0;34m(\u001b[0m\u001b[0mjob\u001b[0m\u001b[0;34m.\u001b[0m\u001b[0mget\u001b[0m\u001b[0;34m(\u001b[0m\u001b[0mtimeout\u001b[0m\u001b[0;34m=\u001b[0m\u001b[0mself\u001b[0m\u001b[0;34m.\u001b[0m\u001b[0mtimeout\u001b[0m\u001b[0;34m)\u001b[0m\u001b[0;34m)\u001b[0m\u001b[0;34m\u001b[0m\u001b[0;34m\u001b[0m\u001b[0m\n\u001b[0m\u001b[1;32m    936\u001b[0m                 \u001b[0;32melse\u001b[0m\u001b[0;34m:\u001b[0m\u001b[0;34m\u001b[0m\u001b[0;34m\u001b[0m\u001b[0m\n\u001b[1;32m    937\u001b[0m                     \u001b[0mself\u001b[0m\u001b[0;34m.\u001b[0m\u001b[0m_output\u001b[0m\u001b[0;34m.\u001b[0m\u001b[0mextend\u001b[0m\u001b[0;34m(\u001b[0m\u001b[0mjob\u001b[0m\u001b[0;34m.\u001b[0m\u001b[0mget\u001b[0m\u001b[0;34m(\u001b[0m\u001b[0;34m)\u001b[0m\u001b[0;34m)\u001b[0m\u001b[0;34m\u001b[0m\u001b[0;34m\u001b[0m\u001b[0m\n",
      "\u001b[0;32m~/opt/anaconda3/lib/python3.9/site-packages/joblib/_parallel_backends.py\u001b[0m in \u001b[0;36mwrap_future_result\u001b[0;34m(future, timeout)\u001b[0m\n\u001b[1;32m    540\u001b[0m         AsyncResults.get from multiprocessing.\"\"\"\n\u001b[1;32m    541\u001b[0m         \u001b[0;32mtry\u001b[0m\u001b[0;34m:\u001b[0m\u001b[0;34m\u001b[0m\u001b[0;34m\u001b[0m\u001b[0m\n\u001b[0;32m--> 542\u001b[0;31m             \u001b[0;32mreturn\u001b[0m \u001b[0mfuture\u001b[0m\u001b[0;34m.\u001b[0m\u001b[0mresult\u001b[0m\u001b[0;34m(\u001b[0m\u001b[0mtimeout\u001b[0m\u001b[0;34m=\u001b[0m\u001b[0mtimeout\u001b[0m\u001b[0;34m)\u001b[0m\u001b[0;34m\u001b[0m\u001b[0;34m\u001b[0m\u001b[0m\n\u001b[0m\u001b[1;32m    543\u001b[0m         \u001b[0;32mexcept\u001b[0m \u001b[0mCfTimeoutError\u001b[0m \u001b[0;32mas\u001b[0m \u001b[0me\u001b[0m\u001b[0;34m:\u001b[0m\u001b[0;34m\u001b[0m\u001b[0;34m\u001b[0m\u001b[0m\n\u001b[1;32m    544\u001b[0m             \u001b[0;32mraise\u001b[0m \u001b[0mTimeoutError\u001b[0m \u001b[0;32mfrom\u001b[0m \u001b[0me\u001b[0m\u001b[0;34m\u001b[0m\u001b[0;34m\u001b[0m\u001b[0m\n",
      "\u001b[0;32m~/opt/anaconda3/lib/python3.9/concurrent/futures/_base.py\u001b[0m in \u001b[0;36mresult\u001b[0;34m(self, timeout)\u001b[0m\n\u001b[1;32m    439\u001b[0m                     \u001b[0;32mreturn\u001b[0m \u001b[0mself\u001b[0m\u001b[0;34m.\u001b[0m\u001b[0m__get_result\u001b[0m\u001b[0;34m(\u001b[0m\u001b[0;34m)\u001b[0m\u001b[0;34m\u001b[0m\u001b[0;34m\u001b[0m\u001b[0m\n\u001b[1;32m    440\u001b[0m \u001b[0;34m\u001b[0m\u001b[0m\n\u001b[0;32m--> 441\u001b[0;31m                 \u001b[0mself\u001b[0m\u001b[0;34m.\u001b[0m\u001b[0m_condition\u001b[0m\u001b[0;34m.\u001b[0m\u001b[0mwait\u001b[0m\u001b[0;34m(\u001b[0m\u001b[0mtimeout\u001b[0m\u001b[0;34m)\u001b[0m\u001b[0;34m\u001b[0m\u001b[0;34m\u001b[0m\u001b[0m\n\u001b[0m\u001b[1;32m    442\u001b[0m \u001b[0;34m\u001b[0m\u001b[0m\n\u001b[1;32m    443\u001b[0m                 \u001b[0;32mif\u001b[0m \u001b[0mself\u001b[0m\u001b[0;34m.\u001b[0m\u001b[0m_state\u001b[0m \u001b[0;32min\u001b[0m \u001b[0;34m[\u001b[0m\u001b[0mCANCELLED\u001b[0m\u001b[0;34m,\u001b[0m \u001b[0mCANCELLED_AND_NOTIFIED\u001b[0m\u001b[0;34m]\u001b[0m\u001b[0;34m:\u001b[0m\u001b[0;34m\u001b[0m\u001b[0;34m\u001b[0m\u001b[0m\n",
      "\u001b[0;32m~/opt/anaconda3/lib/python3.9/threading.py\u001b[0m in \u001b[0;36mwait\u001b[0;34m(self, timeout)\u001b[0m\n\u001b[1;32m    310\u001b[0m         \u001b[0;32mtry\u001b[0m\u001b[0;34m:\u001b[0m    \u001b[0;31m# restore state no matter what (e.g., KeyboardInterrupt)\u001b[0m\u001b[0;34m\u001b[0m\u001b[0;34m\u001b[0m\u001b[0m\n\u001b[1;32m    311\u001b[0m             \u001b[0;32mif\u001b[0m \u001b[0mtimeout\u001b[0m \u001b[0;32mis\u001b[0m \u001b[0;32mNone\u001b[0m\u001b[0;34m:\u001b[0m\u001b[0;34m\u001b[0m\u001b[0;34m\u001b[0m\u001b[0m\n\u001b[0;32m--> 312\u001b[0;31m                 \u001b[0mwaiter\u001b[0m\u001b[0;34m.\u001b[0m\u001b[0macquire\u001b[0m\u001b[0;34m(\u001b[0m\u001b[0;34m)\u001b[0m\u001b[0;34m\u001b[0m\u001b[0;34m\u001b[0m\u001b[0m\n\u001b[0m\u001b[1;32m    313\u001b[0m                 \u001b[0mgotit\u001b[0m \u001b[0;34m=\u001b[0m \u001b[0;32mTrue\u001b[0m\u001b[0;34m\u001b[0m\u001b[0;34m\u001b[0m\u001b[0m\n\u001b[1;32m    314\u001b[0m             \u001b[0;32melse\u001b[0m\u001b[0;34m:\u001b[0m\u001b[0;34m\u001b[0m\u001b[0;34m\u001b[0m\u001b[0m\n",
      "\u001b[0;31mKeyboardInterrupt\u001b[0m: "
     ]
    }
   ],
   "source": [
    "folds = range(2,12)\n",
    "result = []\n",
    "for k in folds:\n",
    "    # define the test condition\n",
    "    cv = KFold(n_splits=k, shuffle=True, random_state=123)\n",
    "    # record mean and min/max of each set of results\n",
    "    std_scores = evaluate_model(cv,X_train,y_train)\n",
    "    # report performance\n",
    "    result.append(std_scores)"
   ]
  },
  {
   "cell_type": "code",
   "execution_count": null,
   "id": "121533b2",
   "metadata": {},
   "outputs": [],
   "source": [
    "optimum_fold = result.index(max(result))+2"
   ]
  },
  {
   "cell_type": "code",
   "execution_count": 20,
   "id": "409df5f3",
   "metadata": {},
   "outputs": [],
   "source": [
    "optimum_fold=10"
   ]
  },
  {
   "cell_type": "markdown",
   "id": "b33eb7d5",
   "metadata": {},
   "source": [
    "# Parameters Tuning "
   ]
  },
  {
   "cell_type": "code",
   "execution_count": 43,
   "id": "b915fb06",
   "metadata": {},
   "outputs": [
    {
     "name": "stdout",
     "output_type": "stream",
     "text": [
      "R2 score: 0.9301159561608972\n",
      "RMSE: 0.06984052970845385\n",
      "MSE 0.26427358874555335\n"
     ]
    }
   ],
   "source": [
    "model = XGBRegressor(random_state=123)\n",
    "model.fit(X_train,y_train)\n",
    "y_predict = model.predict(X_test)\n",
    "\n",
    "from sklearn.metrics import r2_score\n",
    "r2_scores = cross_val_score(model, X_train, y_train, scoring='r2', cv=optimum_fold, n_jobs=-1)\n",
    "mean_squared_error = cross_val_score(model, X_train, y_train, scoring='neg_mean_squared_error', cv=optimum_fold, n_jobs=-1)\n",
    "print(\"R2 score:\", mean(r2_scores))\n",
    "print(\"RMSE:\", -mean(mean_squared_error))\n",
    "print(\"MSE\", np.sqrt(-mean(mean_squared_error)))    \n"
   ]
  },
  {
   "cell_type": "code",
   "execution_count": 44,
   "id": "8bfddec6",
   "metadata": {},
   "outputs": [
    {
     "name": "stdout",
     "output_type": "stream",
     "text": [
      "0.923385078545501\n",
      "0.07661492145449897\n",
      "0.27679400545260907\n"
     ]
    }
   ],
   "source": [
    "import sklearn.metrics as metrics\n",
    "\n",
    "\n",
    "print(metrics.r2_score(y_test, y_predict))\n",
    "print(metrics.mean_squared_error(y_test,y_predict))\n",
    "print(np.sqrt(metrics.mean_squared_error(y_test,y_predict)))\n"
   ]
  },
  {
   "cell_type": "code",
   "execution_count": 120,
   "id": "7abf495d",
   "metadata": {},
   "outputs": [
    {
     "data": {
      "text/plain": [
       "-0.08832205317183946"
      ]
     },
     "execution_count": 120,
     "metadata": {},
     "output_type": "execute_result"
    }
   ],
   "source": [
    "# The alpha parameter is the L1 regularization term on weights. Larger values means more conservative model, it helps to reduce overfitting by adding a penalty term to the loss function.\n",
    "\n",
    "from sklearn.model_selection import RandomizedSearchCV\n",
    "hyperparameter_grid = {\n",
    "'max_depth': [3, 5, 6],\n",
    "'learning_rate': [0.01, 0.1, 0.2, 0.3],\n",
    "'subsample': np.arange(0.5, 1.0, 0.1),\n",
    "'colsample_bytree': np.arange(0.4, 1.0, 0.1), \n",
    "'n_estimators': [100, 500, 1000],\n",
    "    }\n",
    "\n",
    "\n",
    "\n",
    "random_cv = RandomizedSearchCV(model, hyperparameter_grid, scoring=\"neg_mean_squared_error\", cv=optimum_fold,n_iter=25, n_jobs=-1,random_state=123)\n",
    "random_cv.fit(X_train, y_train)\n",
    "# Return set of parameters with the best performance\n",
    "random_cv.best_params_\n",
    "# Return the performance metric score\n",
    "random_cv.best_score_\n",
    "\n"
   ]
  },
  {
   "cell_type": "code",
   "execution_count": 121,
   "id": "c00e8426",
   "metadata": {},
   "outputs": [
    {
     "data": {
      "text/plain": [
       "{'subsample': 0.7,\n",
       " 'n_estimators': 1000,\n",
       " 'max_depth': 6,\n",
       " 'learning_rate': 0.3,\n",
       " 'colsample_bytree': 0.8999999999999999}"
      ]
     },
     "execution_count": 121,
     "metadata": {},
     "output_type": "execute_result"
    }
   ],
   "source": [
    "random_cv.best_params_"
   ]
  },
  {
   "cell_type": "code",
   "execution_count": 146,
   "id": "15bffd4c",
   "metadata": {},
   "outputs": [
    {
     "name": "stdout",
     "output_type": "stream",
     "text": [
      "R2 score: 0.8917899061963462\n",
      "MSE: 0.10816257719731297\n",
      "RMSE 0.32888079481373333\n"
     ]
    }
   ],
   "source": [
    "\n",
    "model = XGBRegressor(learning_rate=0.1,max_depth=6,subsample=0.5,n_estimators=800,colsample_bytree=0.899999,gamma=5,  random_state=123)\n",
    "model.fit(X_train,y_train)\n",
    "y_pred = model.predict(X_test)\n",
    "\n",
    "from sklearn.metrics import r2_score\n",
    "r2_scores = cross_val_score(model, X_train, y_train, scoring='r2', cv=optimum_fold, n_jobs=-1)\n",
    "mean_squared_error = cross_val_score(model, X_train, y_train, scoring='neg_mean_squared_error', cv=optimum_fold, n_jobs=-1)\n",
    "print(\"R2 score:\", mean(r2_scores))\n",
    "print(\"MSE:\", -mean(mean_squared_error))\n",
    "print(\"RMSE\", np.sqrt(-mean(mean_squared_error)))\n",
    "\n",
    "      "
   ]
  },
  {
   "cell_type": "code",
   "execution_count": 145,
   "id": "5c9ba5bd",
   "metadata": {},
   "outputs": [
    {
     "name": "stdout",
     "output_type": "stream",
     "text": [
      "0.9125630812720428\n",
      "0.08743691872795718\n",
      "0.29569734311954377\n"
     ]
    }
   ],
   "source": [
    "import sklearn.metrics as metrics\n",
    "\n",
    "\n",
    "print(metrics.r2_score(y_test, y_pred))\n",
    "print(metrics.mean_squared_error(y_test,y_pred))\n",
    "print(np.sqrt(metrics.mean_squared_error(y_test,y_pred)))"
   ]
  },
  {
   "cell_type": "code",
   "execution_count": null,
   "id": "899c9ed5",
   "metadata": {},
   "outputs": [],
   "source": [
    "# learning_rate=0.1,max_depth=6,subsample=0.5,n_estimators=800,colsample_bytree=0.899999,gamma=5, random_state=123\n",
    "# R2 score: 0.9117996945365572\n",
    "# MSE: 0.0881492183086394\n",
    "# RMSE 0.29689934036410287\n",
    "\n",
    "# 0.9125630812720428\n",
    "# 0.08743691872795718\n",
    "# 0.29569734311954377\n",
    "\n",
    "# \n",
    "\n"
   ]
  },
  {
   "cell_type": "code",
   "execution_count": 149,
   "id": "9216bd07",
   "metadata": {},
   "outputs": [
    {
     "ename": "XGBoostError",
     "evalue": "No evaluation result, `eval_set` is not used during training.",
     "output_type": "error",
     "traceback": [
      "\u001b[0;31m---------------------------------------------------------------------------\u001b[0m",
      "\u001b[0;31mXGBoostError\u001b[0m                              Traceback (most recent call last)",
      "\u001b[0;32m/var/folders/xk/05mnlwt50k19lbm41jbfty7w0000gn/T/ipykernel_19576/1508391987.py\u001b[0m in \u001b[0;36m<module>\u001b[0;34m\u001b[0m\n\u001b[1;32m      1\u001b[0m \u001b[0;31m# retrieve performance metrics\u001b[0m\u001b[0;34m\u001b[0m\u001b[0;34m\u001b[0m\u001b[0m\n\u001b[1;32m      2\u001b[0m \u001b[0meval_set\u001b[0m \u001b[0;34m=\u001b[0m \u001b[0;34m[\u001b[0m\u001b[0;34m(\u001b[0m\u001b[0mX_train\u001b[0m\u001b[0;34m,\u001b[0m \u001b[0my_train\u001b[0m\u001b[0;34m)\u001b[0m\u001b[0;34m,\u001b[0m \u001b[0;34m(\u001b[0m\u001b[0mX_test\u001b[0m\u001b[0;34m,\u001b[0m\u001b[0my_test\u001b[0m\u001b[0;34m)\u001b[0m\u001b[0;34m]\u001b[0m\u001b[0;34m\u001b[0m\u001b[0;34m\u001b[0m\u001b[0m\n\u001b[0;32m----> 3\u001b[0;31m \u001b[0mresults\u001b[0m \u001b[0;34m=\u001b[0m \u001b[0mmodel\u001b[0m\u001b[0;34m.\u001b[0m\u001b[0mevals_result\u001b[0m\u001b[0;34m(\u001b[0m\u001b[0;34m)\u001b[0m\u001b[0;34m\u001b[0m\u001b[0;34m\u001b[0m\u001b[0m\n\u001b[0m\u001b[1;32m      4\u001b[0m \u001b[0;31m# plot learning curves\u001b[0m\u001b[0;34m\u001b[0m\u001b[0;34m\u001b[0m\u001b[0m\n\u001b[1;32m      5\u001b[0m \u001b[0mpyplot\u001b[0m\u001b[0;34m.\u001b[0m\u001b[0mplot\u001b[0m\u001b[0;34m(\u001b[0m\u001b[0mresults\u001b[0m\u001b[0;34m[\u001b[0m\u001b[0;34m'validation_0'\u001b[0m\u001b[0;34m]\u001b[0m\u001b[0;34m[\u001b[0m\u001b[0;34m'logloss'\u001b[0m\u001b[0;34m]\u001b[0m\u001b[0;34m,\u001b[0m \u001b[0mlabel\u001b[0m\u001b[0;34m=\u001b[0m\u001b[0;34m'train'\u001b[0m\u001b[0;34m)\u001b[0m\u001b[0;34m\u001b[0m\u001b[0;34m\u001b[0m\u001b[0m\n",
      "\u001b[0;32m~/opt/anaconda3/lib/python3.9/site-packages/xgboost/sklearn.py\u001b[0m in \u001b[0;36mevals_result\u001b[0;34m(self)\u001b[0m\n\u001b[1;32m   1211\u001b[0m             \u001b[0mevals_result\u001b[0m \u001b[0;34m=\u001b[0m \u001b[0mself\u001b[0m\u001b[0;34m.\u001b[0m\u001b[0mevals_result_\u001b[0m\u001b[0;34m\u001b[0m\u001b[0;34m\u001b[0m\u001b[0m\n\u001b[1;32m   1212\u001b[0m         \u001b[0;32melse\u001b[0m\u001b[0;34m:\u001b[0m\u001b[0;34m\u001b[0m\u001b[0;34m\u001b[0m\u001b[0m\n\u001b[0;32m-> 1213\u001b[0;31m             raise XGBoostError(\n\u001b[0m\u001b[1;32m   1214\u001b[0m                 \u001b[0;34m\"No evaluation result, `eval_set` is not used during training.\"\u001b[0m\u001b[0;34m\u001b[0m\u001b[0;34m\u001b[0m\u001b[0m\n\u001b[1;32m   1215\u001b[0m             )\n",
      "\u001b[0;31mXGBoostError\u001b[0m: No evaluation result, `eval_set` is not used during training."
     ]
    }
   ],
   "source": [
    "# retrieve performance metrics\n",
    "evaluation_set = [(X_train, y_train), (X_test,y_test)]\n",
    "results = model.evals_result()\n",
    "# plot learning curves\n",
    "pyplot.plot(results['validation_0']['logloss'], label='train')\n",
    "pyplot.plot(results['validation_1']['logloss'], label='test')\n",
    "# show the legend\n",
    "pyplot.legend()\n",
    "# show the plot\n",
    "pyplot.show()"
   ]
  },
  {
   "cell_type": "code",
   "execution_count": null,
   "id": "10d46f1c",
   "metadata": {},
   "outputs": [],
   "source": []
  }
 ],
 "metadata": {
  "kernelspec": {
   "display_name": "Python 3 (ipykernel)",
   "language": "python",
   "name": "python3"
  },
  "language_info": {
   "codemirror_mode": {
    "name": "ipython",
    "version": 3
   },
   "file_extension": ".py",
   "mimetype": "text/x-python",
   "name": "python",
   "nbconvert_exporter": "python",
   "pygments_lexer": "ipython3",
   "version": "3.9.13"
  }
 },
 "nbformat": 4,
 "nbformat_minor": 5
}
